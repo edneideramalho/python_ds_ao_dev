{
 "cells": [
  {
   "cell_type": "markdown",
   "id": "ab445048",
   "metadata": {
    "heading_collapsed": true
   },
   "source": [
    "# <span style=\"color:#3399ff\">Beautiful Soup - Exemplos</span>"
   ]
  },
  {
   "cell_type": "code",
   "execution_count": null,
   "id": "e8aa7d87",
   "metadata": {
    "ExecuteTime": {
     "end_time": "2022-01-17T11:33:20.493880Z",
     "start_time": "2022-01-17T11:33:20.395371Z"
    },
    "hidden": true
   },
   "outputs": [],
   "source": [
    "from bs4 import BeautifulSoup\n",
    "import requests\n",
    "import pandas as pd\n",
    "from datetime import datetime \n",
    "import numpy as np"
   ]
  },
  {
   "cell_type": "code",
   "execution_count": null,
   "id": "ae1d3cae",
   "metadata": {
    "ExecuteTime": {
     "end_time": "2022-01-17T11:33:20.510111Z",
     "start_time": "2022-01-17T11:33:20.500135Z"
    },
    "hidden": true
   },
   "outputs": [],
   "source": [
    "html_doc = \"\"\"<html><head><title>The Dormouse's story</title></head>\n",
    "<body>\n",
    "<p class=\"title\"><b>The Dormouse's story</b></p>\n",
    "\n",
    "<p class=\"story\">Once upon a time there were three little sisters; and their names were\n",
    "<a href=\"http://example.com/elsie\" class=\"sister\" id=\"link1\">Elsie</a>,\n",
    "<a href=\"http://example.com/lacie\" class=\"sister\" id=\"link2\">Lacie</a> and\n",
    "<a href=\"http://example.com/tillie\" class=\"sister\" id=\"link3\">Tillie</a>;\n",
    "and they lived at the bottom of a well.</p>\n",
    "\n",
    "<p class=\"story\">...</p>\n",
    "\"\"\""
   ]
  },
  {
   "cell_type": "code",
   "execution_count": null,
   "id": "566e28d7",
   "metadata": {
    "ExecuteTime": {
     "end_time": "2022-01-17T11:33:20.646925Z",
     "start_time": "2022-01-17T11:33:20.615412Z"
    },
    "hidden": true
   },
   "outputs": [],
   "source": [
    "soup = BeautifulSoup(html_doc, 'html.parser')"
   ]
  },
  {
   "cell_type": "code",
   "execution_count": null,
   "id": "e40beb83",
   "metadata": {
    "ExecuteTime": {
     "end_time": "2022-01-17T11:33:20.858697Z",
     "start_time": "2022-01-17T11:33:20.839723Z"
    },
    "hidden": true
   },
   "outputs": [],
   "source": [
    "soup"
   ]
  },
  {
   "cell_type": "code",
   "execution_count": null,
   "id": "fb222f71",
   "metadata": {
    "ExecuteTime": {
     "end_time": "2022-01-17T11:33:21.052503Z",
     "start_time": "2022-01-17T11:33:21.044316Z"
    },
    "hidden": true
   },
   "outputs": [],
   "source": [
    "print(soup.title)"
   ]
  },
  {
   "cell_type": "code",
   "execution_count": null,
   "id": "5385b118",
   "metadata": {
    "ExecuteTime": {
     "end_time": "2022-01-17T11:33:21.271149Z",
     "start_time": "2022-01-17T11:33:21.267586Z"
    },
    "hidden": true
   },
   "outputs": [],
   "source": [
    "print(soup.head)"
   ]
  },
  {
   "cell_type": "code",
   "execution_count": null,
   "id": "3592fccf",
   "metadata": {
    "ExecuteTime": {
     "end_time": "2022-01-17T11:33:21.477765Z",
     "start_time": "2022-01-17T11:33:21.472964Z"
    },
    "hidden": true
   },
   "outputs": [],
   "source": [
    "print(soup.body.p)"
   ]
  },
  {
   "cell_type": "code",
   "execution_count": null,
   "id": "5ae7d0ac",
   "metadata": {
    "ExecuteTime": {
     "end_time": "2022-01-17T11:33:21.679204Z",
     "start_time": "2022-01-17T11:33:21.672081Z"
    },
    "hidden": true
   },
   "outputs": [],
   "source": [
    "soup.find_all('p')"
   ]
  },
  {
   "cell_type": "code",
   "execution_count": null,
   "id": "61367b18",
   "metadata": {
    "ExecuteTime": {
     "end_time": "2022-01-17T11:33:21.846762Z",
     "start_time": "2022-01-17T11:33:21.841475Z"
    },
    "hidden": true
   },
   "outputs": [],
   "source": [
    "soup.find_all('p', 'title')"
   ]
  },
  {
   "cell_type": "code",
   "execution_count": null,
   "id": "8cc5e5ef",
   "metadata": {
    "ExecuteTime": {
     "end_time": "2022-01-17T11:33:22.038523Z",
     "start_time": "2022-01-17T11:33:22.034247Z"
    },
    "hidden": true
   },
   "outputs": [],
   "source": [
    "soup.find_all('p', class_='story')"
   ]
  },
  {
   "cell_type": "code",
   "execution_count": null,
   "id": "7dcb4b6e",
   "metadata": {
    "ExecuteTime": {
     "end_time": "2022-01-17T11:33:22.229749Z",
     "start_time": "2022-01-17T11:33:22.224563Z"
    },
    "hidden": true
   },
   "outputs": [],
   "source": [
    "soup.find_all('a', class_='sister')"
   ]
  },
  {
   "cell_type": "code",
   "execution_count": null,
   "id": "033ed871",
   "metadata": {
    "ExecuteTime": {
     "end_time": "2022-01-17T11:33:22.447561Z",
     "start_time": "2022-01-17T11:33:22.440944Z"
    },
    "hidden": true
   },
   "outputs": [],
   "source": [
    "soup.find_all('a', id='link1')"
   ]
  },
  {
   "cell_type": "code",
   "execution_count": null,
   "id": "c44453f2",
   "metadata": {
    "ExecuteTime": {
     "end_time": "2022-01-17T11:33:22.712646Z",
     "start_time": "2022-01-17T11:33:22.708189Z"
    },
    "hidden": true
   },
   "outputs": [],
   "source": [
    "soup.find_all('a', id='link1')[0].string"
   ]
  },
  {
   "cell_type": "code",
   "execution_count": null,
   "id": "101c3276",
   "metadata": {
    "ExecuteTime": {
     "end_time": "2022-01-17T11:33:23.021011Z",
     "start_time": "2022-01-17T11:33:23.015617Z"
    },
    "hidden": true
   },
   "outputs": [],
   "source": [
    "soup.find_all('a', id='link1')[0].get_text()"
   ]
  },
  {
   "cell_type": "markdown",
   "id": "eaa7d94a",
   "metadata": {},
   "source": [
    "# <span style=\"color:#3399ff\">Beautiful Soup - Prática I</span>"
   ]
  },
  {
   "cell_type": "code",
   "execution_count": 6,
   "id": "d0b8b9cd",
   "metadata": {
    "ExecuteTime": {
     "end_time": "2022-01-19T18:07:21.541456Z",
     "start_time": "2022-01-19T18:07:21.539126Z"
    }
   },
   "outputs": [],
   "source": [
    "# id\n",
    "# product_name\n",
    "# product_type\n",
    "# product_composition\n",
    "# preco"
   ]
  },
  {
   "cell_type": "code",
   "execution_count": 7,
   "id": "5e466fe7",
   "metadata": {
    "ExecuteTime": {
     "end_time": "2022-01-19T18:07:22.430900Z",
     "start_time": "2022-01-19T18:07:21.692546Z"
    }
   },
   "outputs": [],
   "source": [
    "url = 'https://www2.hm.com/en_us/men/products/jeans.html'\n",
    "\n",
    "headers = {'User-Agent': 'Mozilla/5.0 (Macintosh; Intel Mac OS X 10_11_5) AppleWebKit/537.36 (KHTML, like Gecko) Chrome/50.0.2661.102 Safari/537.36'}\n",
    "page = requests.get(url, headers=headers)"
   ]
  },
  {
   "cell_type": "code",
   "execution_count": 8,
   "id": "a92bbfe6",
   "metadata": {
    "ExecuteTime": {
     "end_time": "2022-01-19T18:07:22.609631Z",
     "start_time": "2022-01-19T18:07:22.433322Z"
    }
   },
   "outputs": [],
   "source": [
    "soup = BeautifulSoup(page.text, 'html.parser')"
   ]
  },
  {
   "cell_type": "code",
   "execution_count": 9,
   "id": "6236c76c",
   "metadata": {
    "ExecuteTime": {
     "end_time": "2022-01-19T18:07:22.619380Z",
     "start_time": "2022-01-19T18:07:22.610882Z"
    }
   },
   "outputs": [],
   "source": [
    "products = soup.find('ul', class_='products-listing small')"
   ]
  },
  {
   "cell_type": "code",
   "execution_count": 10,
   "id": "a89bdae3",
   "metadata": {
    "ExecuteTime": {
     "end_time": "2022-01-19T18:07:22.625494Z",
     "start_time": "2022-01-19T18:07:22.621563Z"
    }
   },
   "outputs": [],
   "source": [
    "product_list = products.find_all('article', class_='hm-product-item')"
   ]
  },
  {
   "cell_type": "code",
   "execution_count": 11,
   "id": "1d3f0d41",
   "metadata": {
    "ExecuteTime": {
     "end_time": "2022-01-19T18:07:22.630240Z",
     "start_time": "2022-01-19T18:07:22.627110Z"
    }
   },
   "outputs": [
    {
     "data": {
      "text/plain": [
       "36"
      ]
     },
     "execution_count": 11,
     "metadata": {},
     "output_type": "execute_result"
    }
   ],
   "source": [
    "len(product_list)"
   ]
  },
  {
   "cell_type": "code",
   "execution_count": 12,
   "id": "13c07f27",
   "metadata": {
    "ExecuteTime": {
     "end_time": "2022-01-19T18:07:22.634523Z",
     "start_time": "2022-01-19T18:07:22.631399Z"
    }
   },
   "outputs": [],
   "source": [
    "# product_id\n",
    "product_id = [p.get('data-articlecode') for p in product_list]\n",
    "\n",
    "# product_category\n",
    "product_category = [p.get('data-category') for p in product_list]"
   ]
  },
  {
   "cell_type": "code",
   "execution_count": 13,
   "id": "6709fa10",
   "metadata": {
    "ExecuteTime": {
     "end_time": "2022-01-19T18:07:22.946077Z",
     "start_time": "2022-01-19T18:07:22.940405Z"
    }
   },
   "outputs": [],
   "source": [
    "# product_name\n",
    "product_list = products.find_all('a', class_='link')\n",
    "product_name = [p.get_text() for p in product_list] "
   ]
  },
  {
   "cell_type": "code",
   "execution_count": 14,
   "id": "d98e6bc7",
   "metadata": {
    "ExecuteTime": {
     "end_time": "2022-01-19T18:07:23.352322Z",
     "start_time": "2022-01-19T18:07:23.347102Z"
    }
   },
   "outputs": [],
   "source": [
    "# product_price\n",
    "product_list = products.find_all('span', class_='price regular')\n",
    "product_price = [p.get_text() for p in product_list]"
   ]
  },
  {
   "cell_type": "code",
   "execution_count": 15,
   "id": "3c2aff7a",
   "metadata": {
    "ExecuteTime": {
     "end_time": "2022-01-19T18:07:23.885156Z",
     "start_time": "2022-01-19T18:07:23.855473Z"
    }
   },
   "outputs": [
    {
     "data": {
      "text/html": [
       "<div>\n",
       "<style scoped>\n",
       "    .dataframe tbody tr th:only-of-type {\n",
       "        vertical-align: middle;\n",
       "    }\n",
       "\n",
       "    .dataframe tbody tr th {\n",
       "        vertical-align: top;\n",
       "    }\n",
       "\n",
       "    .dataframe thead th {\n",
       "        text-align: right;\n",
       "    }\n",
       "</style>\n",
       "<table border=\"1\" class=\"dataframe\">\n",
       "  <thead>\n",
       "    <tr style=\"text-align: right;\">\n",
       "      <th></th>\n",
       "      <th>product_id</th>\n",
       "      <th>product_category</th>\n",
       "      <th>product_name</th>\n",
       "      <th>product_price</th>\n",
       "    </tr>\n",
       "  </thead>\n",
       "  <tbody>\n",
       "    <tr>\n",
       "      <th>0</th>\n",
       "      <td>1024256001</td>\n",
       "      <td>men_jeans_slim</td>\n",
       "      <td>Slim Jeans</td>\n",
       "      <td>$ 19.99</td>\n",
       "    </tr>\n",
       "    <tr>\n",
       "      <th>1</th>\n",
       "      <td>0985159001</td>\n",
       "      <td>men_jeans_skinny</td>\n",
       "      <td>Skinny Jeans</td>\n",
       "      <td>$ 24.99</td>\n",
       "    </tr>\n",
       "    <tr>\n",
       "      <th>2</th>\n",
       "      <td>1024256003</td>\n",
       "      <td>men_jeans_slim</td>\n",
       "      <td>Slim Jeans</td>\n",
       "      <td>$ 19.99</td>\n",
       "    </tr>\n",
       "    <tr>\n",
       "      <th>3</th>\n",
       "      <td>0690449043</td>\n",
       "      <td>men_jeans_ripped</td>\n",
       "      <td>Skinny Jeans</td>\n",
       "      <td>$ 39.99</td>\n",
       "    </tr>\n",
       "    <tr>\n",
       "      <th>4</th>\n",
       "      <td>0690449036</td>\n",
       "      <td>men_jeans_ripped</td>\n",
       "      <td>Skinny Jeans</td>\n",
       "      <td>$ 39.99</td>\n",
       "    </tr>\n",
       "  </tbody>\n",
       "</table>\n",
       "</div>"
      ],
      "text/plain": [
       "   product_id  product_category  product_name product_price\n",
       "0  1024256001    men_jeans_slim    Slim Jeans       $ 19.99\n",
       "1  0985159001  men_jeans_skinny  Skinny Jeans       $ 24.99\n",
       "2  1024256003    men_jeans_slim    Slim Jeans       $ 19.99\n",
       "3  0690449043  men_jeans_ripped  Skinny Jeans       $ 39.99\n",
       "4  0690449036  men_jeans_ripped  Skinny Jeans       $ 39.99"
      ]
     },
     "execution_count": 15,
     "metadata": {},
     "output_type": "execute_result"
    }
   ],
   "source": [
    "data = pd.DataFrame([product_id , product_category, product_name, product_price]).T\n",
    "data.columns = ['product_id' , 'product_category', 'product_name', 'product_price']\n",
    "data.head()"
   ]
  },
  {
   "cell_type": "code",
   "execution_count": null,
   "id": "8371e161",
   "metadata": {
    "ExecuteTime": {
     "end_time": "2022-01-17T11:33:27.510165Z",
     "start_time": "2022-01-17T11:33:27.504451Z"
    }
   },
   "outputs": [],
   "source": [
    "# scrapy datetime\n",
    "data['scrapy_datetime'] = datetime.now().strftime('%Y-%m-%d %H:%M:%S')"
   ]
  },
  {
   "cell_type": "code",
   "execution_count": null,
   "id": "c5ad2dcb",
   "metadata": {
    "ExecuteTime": {
     "end_time": "2022-01-17T11:33:27.847210Z",
     "start_time": "2022-01-17T11:33:27.838935Z"
    }
   },
   "outputs": [],
   "source": [
    "data.head()"
   ]
  },
  {
   "cell_type": "markdown",
   "id": "5e238dcc",
   "metadata": {
    "heading_collapsed": true
   },
   "source": [
    "# <span style=\"color:#3399ff\">Beautiful Soup - Prática II</span>"
   ]
  },
  {
   "cell_type": "markdown",
   "id": "2d021627",
   "metadata": {
    "hidden": true
   },
   "source": [
    "- Sempre olhar a paginação na vitrine de produtos."
   ]
  },
  {
   "cell_type": "code",
   "execution_count": null,
   "id": "4c67492c",
   "metadata": {
    "ExecuteTime": {
     "end_time": "2022-01-17T11:33:29.965077Z",
     "start_time": "2022-01-17T11:33:29.325974Z"
    },
    "hidden": true
   },
   "outputs": [],
   "source": [
    "url = 'https://www2.hm.com/en_us/men/products/jeans.html'\n",
    "headers = {'User-Agent': 'Mozilla/5.0 (Macintosh; Intel Mac OS X 10_11_5) AppleWebKit/537.36 (KHTML, like Gecko) Chrome/50.0.2661.102 Safari/537.36'}\n",
    "page = requests.get(url, headers=headers)"
   ]
  },
  {
   "cell_type": "code",
   "execution_count": null,
   "id": "3c97e8f6",
   "metadata": {
    "ExecuteTime": {
     "end_time": "2022-01-17T11:33:30.142923Z",
     "start_time": "2022-01-17T11:33:29.967235Z"
    },
    "hidden": true
   },
   "outputs": [],
   "source": [
    "soup = BeautifulSoup(page.text, 'html.parser')"
   ]
  },
  {
   "cell_type": "code",
   "execution_count": null,
   "id": "280b92d6",
   "metadata": {
    "ExecuteTime": {
     "end_time": "2022-01-17T11:33:30.234418Z",
     "start_time": "2022-01-17T11:33:30.222402Z"
    },
    "hidden": true
   },
   "outputs": [],
   "source": [
    "total_item = soup.find_all('h2', class_='load-more-heading')[0].get('data-total')"
   ]
  },
  {
   "cell_type": "code",
   "execution_count": null,
   "id": "4a7e270c",
   "metadata": {
    "ExecuteTime": {
     "end_time": "2022-01-17T11:33:30.634974Z",
     "start_time": "2022-01-17T11:33:30.631143Z"
    },
    "hidden": true
   },
   "outputs": [],
   "source": [
    "total_item"
   ]
  },
  {
   "cell_type": "code",
   "execution_count": null,
   "id": "f0e16839",
   "metadata": {
    "ExecuteTime": {
     "end_time": "2022-01-17T11:33:31.105811Z",
     "start_time": "2022-01-17T11:33:31.100279Z"
    },
    "hidden": true
   },
   "outputs": [],
   "source": [
    "int(total_item)"
   ]
  },
  {
   "cell_type": "markdown",
   "id": "2f2600c1",
   "metadata": {
    "hidden": true
   },
   "source": [
    "- De quantas páginas preciso para capturar todos os itens?"
   ]
  },
  {
   "cell_type": "code",
   "execution_count": null,
   "id": "a3a49162",
   "metadata": {
    "ExecuteTime": {
     "end_time": "2022-01-17T11:33:32.376559Z",
     "start_time": "2022-01-17T11:33:32.368407Z"
    },
    "hidden": true
   },
   "outputs": [],
   "source": [
    "page_number = np.round(int(total_item)/36)\n",
    "page_number"
   ]
  },
  {
   "cell_type": "code",
   "execution_count": null,
   "id": "75907b2b",
   "metadata": {
    "ExecuteTime": {
     "end_time": "2022-01-17T11:33:33.125299Z",
     "start_time": "2022-01-17T11:33:33.121398Z"
    },
    "hidden": true
   },
   "outputs": [],
   "source": [
    "url02 = url + '?page-size=' + str(int(page_number*36))\n",
    "url02"
   ]
  },
  {
   "cell_type": "markdown",
   "id": "35dfce0d",
   "metadata": {
    "heading_collapsed": true
   },
   "source": [
    "# <span style=\"color:#3399ff\">Beautiful Soup - Prática III</span>"
   ]
  },
  {
   "cell_type": "markdown",
   "id": "83201ea0",
   "metadata": {
    "hidden": true
   },
   "source": [
    "- Aqui, vamos coletar as informações para cada produto."
   ]
  },
  {
   "cell_type": "markdown",
   "id": "7c184d3e",
   "metadata": {
    "hidden": true
   },
   "source": [
    "- Fazendo para um produto para testar:"
   ]
  },
  {
   "cell_type": "code",
   "execution_count": null,
   "id": "5ad9215d",
   "metadata": {
    "ExecuteTime": {
     "end_time": "2022-01-17T14:17:12.653100Z",
     "start_time": "2022-01-17T14:17:10.618273Z"
    },
    "hidden": true
   },
   "outputs": [],
   "source": [
    "url = 'https://www2.hm.com/en_us/productpage.1024256001.html'\n",
    "    \n",
    "headers = {'User-Agent': 'Mozilla/5.0 (Macintosh; Intel Mac OS X 10_11_5) AppleWebKit/537.36 (KHTML, like Gecko) Chrome/50.0.2661.102 Safari/537.36'}\n",
    "page = requests.get(url, headers=headers)"
   ]
  },
  {
   "cell_type": "code",
   "execution_count": null,
   "id": "f8658620",
   "metadata": {
    "ExecuteTime": {
     "end_time": "2022-01-17T14:17:12.760442Z",
     "start_time": "2022-01-17T14:17:12.655031Z"
    },
    "hidden": true
   },
   "outputs": [],
   "source": [
    "soup = BeautifulSoup(page.text, 'html.parser')"
   ]
  },
  {
   "cell_type": "code",
   "execution_count": null,
   "id": "3f8039d2",
   "metadata": {
    "ExecuteTime": {
     "end_time": "2022-01-17T14:17:12.765356Z",
     "start_time": "2022-01-17T14:17:12.762006Z"
    },
    "hidden": true
   },
   "outputs": [],
   "source": [
    "type(soup)"
   ]
  },
  {
   "cell_type": "code",
   "execution_count": null,
   "id": "66592c50",
   "metadata": {
    "ExecuteTime": {
     "end_time": "2022-01-17T14:17:12.777363Z",
     "start_time": "2022-01-17T14:17:12.767488Z"
    },
    "hidden": true
   },
   "outputs": [],
   "source": [
    "# color name - primeira posição\n",
    "soup.find_all('a', class_='filter-option miniature')[0].get('data-color')"
   ]
  },
  {
   "cell_type": "code",
   "execution_count": null,
   "id": "17eba038",
   "metadata": {
    "ExecuteTime": {
     "end_time": "2022-01-17T14:17:12.795602Z",
     "start_time": "2022-01-17T14:17:12.778463Z"
    },
    "hidden": true
   },
   "outputs": [],
   "source": [
    "# color name\n",
    "product_color_list = soup.find_all('a', class_='filter-option miniature')\n",
    "color_name = [p.get('data-color') for p in product_color_list]\n",
    "\n",
    "# product_id\n",
    "product_id = [p.get('data-articlecode') for p in product_color_list]\n",
    "\n",
    "df_color = pd.DataFrame([product_id, color_name]).T\n",
    "df_color.columns = ['product_id', 'color_name']\n",
    "df_color"
   ]
  },
  {
   "cell_type": "code",
   "execution_count": null,
   "id": "4a53c5e3",
   "metadata": {
    "ExecuteTime": {
     "end_time": "2022-01-17T14:17:12.801020Z",
     "start_time": "2022-01-17T14:17:12.796953Z"
    },
    "hidden": true
   },
   "outputs": [],
   "source": [
    "product_color_list[0]"
   ]
  },
  {
   "cell_type": "code",
   "execution_count": null,
   "id": "43258381",
   "metadata": {
    "ExecuteTime": {
     "end_time": "2022-01-17T14:17:12.805516Z",
     "start_time": "2022-01-17T14:17:12.802418Z"
    },
    "hidden": true
   },
   "outputs": [],
   "source": [
    "color_name"
   ]
  },
  {
   "cell_type": "code",
   "execution_count": null,
   "id": "74b24ff4",
   "metadata": {
    "ExecuteTime": {
     "end_time": "2022-01-17T14:17:12.809778Z",
     "start_time": "2022-01-17T14:17:12.806779Z"
    },
    "hidden": true
   },
   "outputs": [],
   "source": [
    "product_id"
   ]
  },
  {
   "cell_type": "code",
   "execution_count": null,
   "id": "3f501423",
   "metadata": {
    "ExecuteTime": {
     "end_time": "2022-01-17T14:17:12.820068Z",
     "start_time": "2022-01-17T14:17:12.811160Z"
    },
    "hidden": true
   },
   "outputs": [],
   "source": [
    "# composition\n",
    "soup.find_all('div', class_='pdp-description-list-item')"
   ]
  },
  {
   "cell_type": "code",
   "execution_count": null,
   "id": "5fe500a8",
   "metadata": {
    "ExecuteTime": {
     "end_time": "2022-01-17T14:17:12.831667Z",
     "start_time": "2022-01-17T14:17:12.823325Z"
    },
    "hidden": true
   },
   "outputs": [],
   "source": [
    "type(soup.find_all('div', class_='pdp-description-list-item')[1])"
   ]
  },
  {
   "cell_type": "code",
   "execution_count": null,
   "id": "b99346b7",
   "metadata": {
    "ExecuteTime": {
     "end_time": "2022-01-17T14:17:12.903800Z",
     "start_time": "2022-01-17T14:17:12.894374Z"
    },
    "hidden": true
   },
   "outputs": [],
   "source": [
    "soup.find_all('div', class_='pdp-description-list-item')[1].get_text().split('\\n')"
   ]
  },
  {
   "cell_type": "markdown",
   "id": "796ef4af",
   "metadata": {
    "hidden": true
   },
   "source": [
    "- **Retirando essas posições vazias:**"
   ]
  },
  {
   "cell_type": "code",
   "execution_count": null,
   "id": "5ae5f168",
   "metadata": {
    "ExecuteTime": {
     "end_time": "2022-01-17T14:17:13.688793Z",
     "start_time": "2022-01-17T14:17:13.678500Z"
    },
    "hidden": true
   },
   "outputs": [],
   "source": [
    "list(filter(None, soup.find_all('div', class_='pdp-description-list-item')[1].get_text().split('\\n')))"
   ]
  },
  {
   "cell_type": "markdown",
   "id": "3df9ca16",
   "metadata": {
    "hidden": true
   },
   "source": [
    "- **Construindo linha e coluna:**"
   ]
  },
  {
   "cell_type": "code",
   "execution_count": 3,
   "id": "57094f6e",
   "metadata": {
    "ExecuteTime": {
     "end_time": "2022-01-17T14:49:47.723054Z",
     "start_time": "2022-01-17T14:49:47.699877Z"
    },
    "hidden": true
   },
   "outputs": [
    {
     "data": {
      "text/html": [
       "<div>\n",
       "<style scoped>\n",
       "    .dataframe tbody tr th:only-of-type {\n",
       "        vertical-align: middle;\n",
       "    }\n",
       "\n",
       "    .dataframe tbody tr th {\n",
       "        vertical-align: top;\n",
       "    }\n",
       "\n",
       "    .dataframe thead th {\n",
       "        text-align: right;\n",
       "    }\n",
       "</style>\n",
       "<table border=\"1\" class=\"dataframe\">\n",
       "  <thead>\n",
       "    <tr style=\"text-align: right;\">\n",
       "      <th></th>\n",
       "      <th>0</th>\n",
       "      <th>1</th>\n",
       "      <th>2</th>\n",
       "      <th>3</th>\n",
       "    </tr>\n",
       "  </thead>\n",
       "  <tbody>\n",
       "    <tr>\n",
       "      <th>0</th>\n",
       "      <td>Size</td>\n",
       "      <td>Fit</td>\n",
       "      <td>Composition</td>\n",
       "      <td>Art. No.</td>\n",
       "    </tr>\n",
       "    <tr>\n",
       "      <th>1</th>\n",
       "      <td>The model is 185cm/6'1\" and wears a size 31/32</td>\n",
       "      <td>Slim fit</td>\n",
       "      <td>Pocket lining: Polyester 65%, Cotton 35%</td>\n",
       "      <td>1024256001</td>\n",
       "    </tr>\n",
       "    <tr>\n",
       "      <th>2</th>\n",
       "      <td>None</td>\n",
       "      <td>None</td>\n",
       "      <td>Shell: Cotton 99%, Spandex 1%</td>\n",
       "      <td>None</td>\n",
       "    </tr>\n",
       "  </tbody>\n",
       "</table>\n",
       "</div>"
      ],
      "text/plain": [
       "                                                0         1  \\\n",
       "0                                            Size       Fit   \n",
       "1  The model is 185cm/6'1\" and wears a size 31/32  Slim fit   \n",
       "2                                            None      None   \n",
       "\n",
       "                                          2           3  \n",
       "0                               Composition    Art. No.  \n",
       "1  Pocket lining: Polyester 65%, Cotton 35%  1024256001  \n",
       "2             Shell: Cotton 99%, Spandex 1%        None  "
      ]
     },
     "execution_count": 3,
     "metadata": {},
     "output_type": "execute_result"
    }
   ],
   "source": [
    "product_composition_list = soup.find_all('div', class_='pdp-description-list-item')\n",
    "product_composition = [list(filter(None, p.get_text().split('\\n'))) for p in product_composition_list]\n",
    "df_aux = pd.DataFrame(product_composition).T\n",
    "df_aux"
   ]
  },
  {
   "cell_type": "code",
   "execution_count": null,
   "id": "bba89ef3",
   "metadata": {
    "ExecuteTime": {
     "end_time": "2022-01-17T14:17:14.667593Z",
     "start_time": "2022-01-17T14:17:14.662674Z"
    },
    "hidden": true
   },
   "outputs": [],
   "source": [
    "df_aux.iloc[0]"
   ]
  },
  {
   "cell_type": "code",
   "execution_count": null,
   "id": "ae5d3be5",
   "metadata": {
    "ExecuteTime": {
     "end_time": "2022-01-17T14:17:16.634534Z",
     "start_time": "2022-01-17T14:17:16.627313Z"
    },
    "hidden": true
   },
   "outputs": [],
   "source": [
    "# rename data frame\n",
    "df_aux.columns = df_aux.iloc[0]\n",
    "df_aux"
   ]
  },
  {
   "cell_type": "code",
   "execution_count": null,
   "id": "62f3d65e",
   "metadata": {
    "ExecuteTime": {
     "end_time": "2022-01-17T14:17:16.930714Z",
     "start_time": "2022-01-17T14:17:16.921628Z"
    },
    "hidden": true
   },
   "outputs": [],
   "source": [
    "# delete first row\n",
    "df_aux = df_aux.iloc[1:].copy().reset_index()\n",
    "df_aux"
   ]
  },
  {
   "cell_type": "code",
   "execution_count": null,
   "id": "bcca59da",
   "metadata": {
    "ExecuteTime": {
     "end_time": "2022-01-17T14:17:17.649940Z",
     "start_time": "2022-01-17T14:17:17.641997Z"
    },
    "hidden": true
   },
   "outputs": [],
   "source": [
    "df_aux = df_aux[['Fit', 'Composition', 'Art. No.']]\n",
    "df_aux"
   ]
  },
  {
   "cell_type": "markdown",
   "id": "7c451d26",
   "metadata": {
    "hidden": true
   },
   "source": [
    "- **Substituindo o None:**"
   ]
  },
  {
   "cell_type": "code",
   "execution_count": null,
   "id": "6177d42c",
   "metadata": {
    "ExecuteTime": {
     "end_time": "2022-01-17T14:17:23.807198Z",
     "start_time": "2022-01-17T14:17:23.799689Z"
    },
    "hidden": true
   },
   "outputs": [],
   "source": [
    "df_aux"
   ]
  },
  {
   "cell_type": "code",
   "execution_count": null,
   "id": "d6f15bbf",
   "metadata": {
    "ExecuteTime": {
     "end_time": "2022-01-17T14:17:42.602393Z",
     "start_time": "2022-01-17T14:17:42.594484Z"
    },
    "hidden": true
   },
   "outputs": [],
   "source": [
    "df_aux = df_aux.fillna(method='ffill')\n",
    "df_aux"
   ]
  },
  {
   "cell_type": "code",
   "execution_count": null,
   "id": "9e88df7b",
   "metadata": {
    "ExecuteTime": {
     "end_time": "2022-01-17T14:22:07.694963Z",
     "start_time": "2022-01-17T14:22:07.687669Z"
    },
    "hidden": true
   },
   "outputs": [],
   "source": [
    "df_composition = df_aux\n",
    "df_composition"
   ]
  },
  {
   "cell_type": "code",
   "execution_count": null,
   "id": "f98651b2",
   "metadata": {
    "ExecuteTime": {
     "end_time": "2022-01-17T14:26:02.376030Z",
     "start_time": "2022-01-17T14:26:02.360504Z"
    },
    "hidden": true
   },
   "outputs": [],
   "source": [
    "# generate style id + color id\n",
    "df_composition['style_id'] = df_composition['Art. No.'].apply(lambda x: x[:-3])\n",
    "df_composition['color_id'] = df_composition['Art. No.'].apply(lambda x: x[-3:])\n",
    "df_composition"
   ]
  },
  {
   "cell_type": "code",
   "execution_count": null,
   "id": "1b77c695",
   "metadata": {
    "ExecuteTime": {
     "end_time": "2022-01-17T14:28:03.590749Z",
     "start_time": "2022-01-17T14:28:03.581262Z"
    },
    "hidden": true
   },
   "outputs": [],
   "source": [
    "# generate style id + color id\n",
    "df_color['style_id'] = df_color['product_id'].apply(lambda x: x[:-3])\n",
    "df_color['color_id'] = df_color['product_id'].apply(lambda x: x[-3:])\n",
    "df_color"
   ]
  },
  {
   "cell_type": "code",
   "execution_count": null,
   "id": "7c6ade74",
   "metadata": {
    "ExecuteTime": {
     "end_time": "2022-01-17T14:30:29.458890Z",
     "start_time": "2022-01-17T14:30:29.447534Z"
    },
    "hidden": true
   },
   "outputs": [],
   "source": [
    "# Join\n",
    "pd.merge(df_color, df_composition[['style_id', 'Fit', 'Composition']], how='left', on='style_id')"
   ]
  },
  {
   "cell_type": "markdown",
   "id": "f4abb47e",
   "metadata": {},
   "source": [
    "# <span style=\"color:#3399ff\">Juntando todos os passos anteriores </span>"
   ]
  },
  {
   "cell_type": "markdown",
   "id": "bfb2cfa3",
   "metadata": {},
   "source": [
    "## <span style=\"color:#ff8000\">0. Packages </span>"
   ]
  },
  {
   "cell_type": "code",
   "execution_count": 1,
   "id": "ce6a2169",
   "metadata": {
    "ExecuteTime": {
     "end_time": "2022-01-19T13:10:59.135725Z",
     "start_time": "2022-01-19T13:10:58.302637Z"
    }
   },
   "outputs": [],
   "source": [
    "import requests\n",
    "import pandas as pd\n",
    "from datetime import datetime\n",
    "from bs4 import BeautifulSoup"
   ]
  },
  {
   "cell_type": "markdown",
   "id": "5a85b612",
   "metadata": {},
   "source": [
    "## <span style=\"color:#ff8000\">1. One Product </span>"
   ]
  },
  {
   "cell_type": "code",
   "execution_count": 3,
   "id": "2c3c1d40",
   "metadata": {
    "ExecuteTime": {
     "end_time": "2022-01-19T13:11:10.029836Z",
     "start_time": "2022-01-19T13:11:08.913592Z"
    }
   },
   "outputs": [],
   "source": [
    "# API Requests\n",
    "url = 'https://www2.hm.com/en_us/productpage.1024256001.html'\n",
    "headers = {'User-Agent': 'Mozilla/5.0 (Macintosh; Intel Mac OS X 10_11_5)AppleWebKit/537.36 (KHTML, like Gecko) Chrome/50.0.2661.102 Safari/537.36'}\n",
    "page = requests.get( url, headers=headers )\n",
    "\n",
    "\n",
    "# Beautiful Soup object\n",
    "soup = BeautifulSoup(page.text, 'html.parser')\n",
    "\n",
    "# ================== color name =====================================\n",
    "product_list = soup.find_all('a', class_='filter-option miniature')\n",
    "color_name = [p.get('data-color') for p in product_list]\n",
    "\n",
    "# color name\n",
    "product_color_list = soup.find_all('a', class_='filter-option miniature')\n",
    "color_name = [p.get('data-color') for p in product_color_list]\n",
    "\n",
    "# product_id\n",
    "product_id = [p.get('data-articlecode') for p in product_color_list]\n",
    "\n",
    "df_color = pd.DataFrame([product_id, color_name]).T\n",
    "df_color.columns = ['product_id', 'color_name']\n",
    "\n",
    "# generate style id + color id\n",
    "df_color['style_id'] = df_color['product_id'].apply(lambda x: x[:-3])\n",
    "df_color['color_id'] = df_color['product_id'].apply(lambda x: x[-3:])\n",
    "\n",
    "# ================== composition =====================================\n",
    "product_composition_list = soup.find_all('div', class_='pdp-description-list-item')\n",
    "product_composition = [list(filter(None, p.get_text().split('\\n'))) for p in product_composition_list]\n",
    "\n",
    "\n",
    "# rename dataframe\n",
    "df_composition = pd.DataFrame(product_composition).T\n",
    "df_composition.columns = df_composition.iloc[0]\n",
    "\n",
    "\n",
    "# delete first row\n",
    "df_composition = df_composition.iloc[1:].fillna(method='ffill')\n",
    "df_composition = df_composition[['Fit', 'Composition', 'Art. No.']]\n",
    "\n",
    "# generate style id + color id\n",
    "df_composition['style_id'] = df_composition['Art. No.'].apply(lambda x: x[:-3])\n",
    "df_composition['color_id'] = df_composition['Art. No.'].apply(lambda x: x[-3:])\n",
    "\n",
    "# Merge data color + composition\n",
    "data_sku = pd.merge(df_color, df_composition[['style_id', 'Fit', 'Composition']], how='left', on='style_id')\n"
   ]
  },
  {
   "cell_type": "code",
   "execution_count": 4,
   "id": "7c75f616",
   "metadata": {
    "ExecuteTime": {
     "end_time": "2022-01-19T13:11:12.763258Z",
     "start_time": "2022-01-19T13:11:12.722715Z"
    }
   },
   "outputs": [
    {
     "data": {
      "text/html": [
       "<div>\n",
       "<style scoped>\n",
       "    .dataframe tbody tr th:only-of-type {\n",
       "        vertical-align: middle;\n",
       "    }\n",
       "\n",
       "    .dataframe tbody tr th {\n",
       "        vertical-align: top;\n",
       "    }\n",
       "\n",
       "    .dataframe thead th {\n",
       "        text-align: right;\n",
       "    }\n",
       "</style>\n",
       "<table border=\"1\" class=\"dataframe\">\n",
       "  <thead>\n",
       "    <tr style=\"text-align: right;\">\n",
       "      <th></th>\n",
       "      <th>product_id</th>\n",
       "      <th>color_name</th>\n",
       "      <th>style_id</th>\n",
       "      <th>color_id</th>\n",
       "      <th>Fit</th>\n",
       "      <th>Composition</th>\n",
       "    </tr>\n",
       "  </thead>\n",
       "  <tbody>\n",
       "    <tr>\n",
       "      <th>0</th>\n",
       "      <td>1024256002</td>\n",
       "      <td>Light denim blue</td>\n",
       "      <td>1024256</td>\n",
       "      <td>002</td>\n",
       "      <td>Slim fit</td>\n",
       "      <td>Pocket lining: Polyester 65%, Cotton 35%</td>\n",
       "    </tr>\n",
       "    <tr>\n",
       "      <th>1</th>\n",
       "      <td>1024256002</td>\n",
       "      <td>Light denim blue</td>\n",
       "      <td>1024256</td>\n",
       "      <td>002</td>\n",
       "      <td>Slim fit</td>\n",
       "      <td>Shell: Cotton 99%, Spandex 1%</td>\n",
       "    </tr>\n",
       "    <tr>\n",
       "      <th>2</th>\n",
       "      <td>1024256003</td>\n",
       "      <td>Light denim blue</td>\n",
       "      <td>1024256</td>\n",
       "      <td>003</td>\n",
       "      <td>Slim fit</td>\n",
       "      <td>Pocket lining: Polyester 65%, Cotton 35%</td>\n",
       "    </tr>\n",
       "    <tr>\n",
       "      <th>3</th>\n",
       "      <td>1024256003</td>\n",
       "      <td>Light denim blue</td>\n",
       "      <td>1024256</td>\n",
       "      <td>003</td>\n",
       "      <td>Slim fit</td>\n",
       "      <td>Shell: Cotton 99%, Spandex 1%</td>\n",
       "    </tr>\n",
       "    <tr>\n",
       "      <th>4</th>\n",
       "      <td>1024256004</td>\n",
       "      <td>Denim blue</td>\n",
       "      <td>1024256</td>\n",
       "      <td>004</td>\n",
       "      <td>Slim fit</td>\n",
       "      <td>Pocket lining: Polyester 65%, Cotton 35%</td>\n",
       "    </tr>\n",
       "    <tr>\n",
       "      <th>5</th>\n",
       "      <td>1024256004</td>\n",
       "      <td>Denim blue</td>\n",
       "      <td>1024256</td>\n",
       "      <td>004</td>\n",
       "      <td>Slim fit</td>\n",
       "      <td>Shell: Cotton 99%, Spandex 1%</td>\n",
       "    </tr>\n",
       "    <tr>\n",
       "      <th>6</th>\n",
       "      <td>1024256005</td>\n",
       "      <td>Dark blue</td>\n",
       "      <td>1024256</td>\n",
       "      <td>005</td>\n",
       "      <td>Slim fit</td>\n",
       "      <td>Pocket lining: Polyester 65%, Cotton 35%</td>\n",
       "    </tr>\n",
       "    <tr>\n",
       "      <th>7</th>\n",
       "      <td>1024256005</td>\n",
       "      <td>Dark blue</td>\n",
       "      <td>1024256</td>\n",
       "      <td>005</td>\n",
       "      <td>Slim fit</td>\n",
       "      <td>Shell: Cotton 99%, Spandex 1%</td>\n",
       "    </tr>\n",
       "    <tr>\n",
       "      <th>8</th>\n",
       "      <td>1024256006</td>\n",
       "      <td>Dark denim blue</td>\n",
       "      <td>1024256</td>\n",
       "      <td>006</td>\n",
       "      <td>Slim fit</td>\n",
       "      <td>Pocket lining: Polyester 65%, Cotton 35%</td>\n",
       "    </tr>\n",
       "    <tr>\n",
       "      <th>9</th>\n",
       "      <td>1024256006</td>\n",
       "      <td>Dark denim blue</td>\n",
       "      <td>1024256</td>\n",
       "      <td>006</td>\n",
       "      <td>Slim fit</td>\n",
       "      <td>Shell: Cotton 99%, Spandex 1%</td>\n",
       "    </tr>\n",
       "    <tr>\n",
       "      <th>10</th>\n",
       "      <td>1024256007</td>\n",
       "      <td>Dark gray</td>\n",
       "      <td>1024256</td>\n",
       "      <td>007</td>\n",
       "      <td>Slim fit</td>\n",
       "      <td>Pocket lining: Polyester 65%, Cotton 35%</td>\n",
       "    </tr>\n",
       "    <tr>\n",
       "      <th>11</th>\n",
       "      <td>1024256007</td>\n",
       "      <td>Dark gray</td>\n",
       "      <td>1024256</td>\n",
       "      <td>007</td>\n",
       "      <td>Slim fit</td>\n",
       "      <td>Shell: Cotton 99%, Spandex 1%</td>\n",
       "    </tr>\n",
       "  </tbody>\n",
       "</table>\n",
       "</div>"
      ],
      "text/plain": [
       "    product_id        color_name style_id color_id       Fit  \\\n",
       "0   1024256002  Light denim blue  1024256      002  Slim fit   \n",
       "1   1024256002  Light denim blue  1024256      002  Slim fit   \n",
       "2   1024256003  Light denim blue  1024256      003  Slim fit   \n",
       "3   1024256003  Light denim blue  1024256      003  Slim fit   \n",
       "4   1024256004        Denim blue  1024256      004  Slim fit   \n",
       "5   1024256004        Denim blue  1024256      004  Slim fit   \n",
       "6   1024256005         Dark blue  1024256      005  Slim fit   \n",
       "7   1024256005         Dark blue  1024256      005  Slim fit   \n",
       "8   1024256006   Dark denim blue  1024256      006  Slim fit   \n",
       "9   1024256006   Dark denim blue  1024256      006  Slim fit   \n",
       "10  1024256007         Dark gray  1024256      007  Slim fit   \n",
       "11  1024256007         Dark gray  1024256      007  Slim fit   \n",
       "\n",
       "                                 Composition  \n",
       "0   Pocket lining: Polyester 65%, Cotton 35%  \n",
       "1              Shell: Cotton 99%, Spandex 1%  \n",
       "2   Pocket lining: Polyester 65%, Cotton 35%  \n",
       "3              Shell: Cotton 99%, Spandex 1%  \n",
       "4   Pocket lining: Polyester 65%, Cotton 35%  \n",
       "5              Shell: Cotton 99%, Spandex 1%  \n",
       "6   Pocket lining: Polyester 65%, Cotton 35%  \n",
       "7              Shell: Cotton 99%, Spandex 1%  \n",
       "8   Pocket lining: Polyester 65%, Cotton 35%  \n",
       "9              Shell: Cotton 99%, Spandex 1%  \n",
       "10  Pocket lining: Polyester 65%, Cotton 35%  \n",
       "11             Shell: Cotton 99%, Spandex 1%  "
      ]
     },
     "execution_count": 4,
     "metadata": {},
     "output_type": "execute_result"
    }
   ],
   "source": [
    "data_sku"
   ]
  },
  {
   "cell_type": "markdown",
   "id": "16aa4a1c",
   "metadata": {},
   "source": [
    "## <span style=\"color:#ff8000\">2. Multiple Products </span>"
   ]
  },
  {
   "cell_type": "code",
   "execution_count": 16,
   "id": "f35e101b",
   "metadata": {
    "ExecuteTime": {
     "end_time": "2022-01-19T18:07:38.541900Z",
     "start_time": "2022-01-19T18:07:38.534274Z"
    }
   },
   "outputs": [
    {
     "data": {
      "text/html": [
       "<div>\n",
       "<style scoped>\n",
       "    .dataframe tbody tr th:only-of-type {\n",
       "        vertical-align: middle;\n",
       "    }\n",
       "\n",
       "    .dataframe tbody tr th {\n",
       "        vertical-align: top;\n",
       "    }\n",
       "\n",
       "    .dataframe thead th {\n",
       "        text-align: right;\n",
       "    }\n",
       "</style>\n",
       "<table border=\"1\" class=\"dataframe\">\n",
       "  <thead>\n",
       "    <tr style=\"text-align: right;\">\n",
       "      <th></th>\n",
       "      <th>product_id</th>\n",
       "      <th>product_category</th>\n",
       "      <th>product_name</th>\n",
       "      <th>product_price</th>\n",
       "    </tr>\n",
       "  </thead>\n",
       "  <tbody>\n",
       "    <tr>\n",
       "      <th>0</th>\n",
       "      <td>1024256001</td>\n",
       "      <td>men_jeans_slim</td>\n",
       "      <td>Slim Jeans</td>\n",
       "      <td>$ 19.99</td>\n",
       "    </tr>\n",
       "    <tr>\n",
       "      <th>1</th>\n",
       "      <td>0985159001</td>\n",
       "      <td>men_jeans_skinny</td>\n",
       "      <td>Skinny Jeans</td>\n",
       "      <td>$ 24.99</td>\n",
       "    </tr>\n",
       "    <tr>\n",
       "      <th>2</th>\n",
       "      <td>1024256003</td>\n",
       "      <td>men_jeans_slim</td>\n",
       "      <td>Slim Jeans</td>\n",
       "      <td>$ 19.99</td>\n",
       "    </tr>\n",
       "    <tr>\n",
       "      <th>3</th>\n",
       "      <td>0690449043</td>\n",
       "      <td>men_jeans_ripped</td>\n",
       "      <td>Skinny Jeans</td>\n",
       "      <td>$ 39.99</td>\n",
       "    </tr>\n",
       "    <tr>\n",
       "      <th>4</th>\n",
       "      <td>0690449036</td>\n",
       "      <td>men_jeans_ripped</td>\n",
       "      <td>Skinny Jeans</td>\n",
       "      <td>$ 39.99</td>\n",
       "    </tr>\n",
       "  </tbody>\n",
       "</table>\n",
       "</div>"
      ],
      "text/plain": [
       "   product_id  product_category  product_name product_price\n",
       "0  1024256001    men_jeans_slim    Slim Jeans       $ 19.99\n",
       "1  0985159001  men_jeans_skinny  Skinny Jeans       $ 24.99\n",
       "2  1024256003    men_jeans_slim    Slim Jeans       $ 19.99\n",
       "3  0690449043  men_jeans_ripped  Skinny Jeans       $ 39.99\n",
       "4  0690449036  men_jeans_ripped  Skinny Jeans       $ 39.99"
      ]
     },
     "execution_count": 16,
     "metadata": {},
     "output_type": "execute_result"
    }
   ],
   "source": [
    "data.head()"
   ]
  },
  {
   "cell_type": "code",
   "execution_count": 20,
   "id": "e512a3d4",
   "metadata": {
    "ExecuteTime": {
     "end_time": "2022-01-19T18:11:09.180322Z",
     "start_time": "2022-01-19T18:11:09.168188Z"
    }
   },
   "outputs": [
    {
     "name": "stdout",
     "output_type": "stream",
     "text": [
      "https://www2.hm.com/en_us/productpage.1024256001.html\n",
      "https://www2.hm.com/en_us/productpage.0985159001.html\n",
      "https://www2.hm.com/en_us/productpage.1024256003.html\n",
      "https://www2.hm.com/en_us/productpage.0690449043.html\n",
      "https://www2.hm.com/en_us/productpage.0690449036.html\n",
      "https://www2.hm.com/en_us/productpage.0690449056.html\n",
      "https://www2.hm.com/en_us/productpage.1024256004.html\n",
      "https://www2.hm.com/en_us/productpage.0690449022.html\n",
      "https://www2.hm.com/en_us/productpage.0690449051.html\n",
      "https://www2.hm.com/en_us/productpage.1004199002.html\n",
      "https://www2.hm.com/en_us/productpage.1004199005.html\n",
      "https://www2.hm.com/en_us/productpage.0985159004.html\n",
      "https://www2.hm.com/en_us/productpage.1024256007.html\n",
      "https://www2.hm.com/en_us/productpage.1008110001.html\n",
      "https://www2.hm.com/en_us/productpage.0985159002.html\n",
      "https://www2.hm.com/en_us/productpage.0985159005.html\n",
      "https://www2.hm.com/en_us/productpage.0875105023.html\n",
      "https://www2.hm.com/en_us/productpage.1004199001.html\n",
      "https://www2.hm.com/en_us/productpage.0875105024.html\n",
      "https://www2.hm.com/en_us/productpage.1013317008.html\n",
      "https://www2.hm.com/en_us/productpage.0938875007.html\n",
      "https://www2.hm.com/en_us/productpage.1013317001.html\n",
      "https://www2.hm.com/en_us/productpage.0875105016.html\n",
      "https://www2.hm.com/en_us/productpage.0427159006.html\n",
      "https://www2.hm.com/en_us/productpage.1024256006.html\n",
      "https://www2.hm.com/en_us/productpage.1013317006.html\n",
      "https://www2.hm.com/en_us/productpage.0985159008.html\n",
      "https://www2.hm.com/en_us/productpage.0985197001.html\n",
      "https://www2.hm.com/en_us/productpage.1008110002.html\n",
      "https://www2.hm.com/en_us/productpage.0974597006.html\n",
      "https://www2.hm.com/en_us/productpage.1013317010.html\n",
      "https://www2.hm.com/en_us/productpage.0751994024.html\n",
      "https://www2.hm.com/en_us/productpage.0985159006.html\n",
      "https://www2.hm.com/en_us/productpage.0938875010.html\n",
      "https://www2.hm.com/en_us/productpage.1028865001.html\n",
      "https://www2.hm.com/en_us/productpage.1024256005.html\n"
     ]
    }
   ],
   "source": [
    "# ===================================== TESTES ====================================\n",
    "for i in range(len(data)):\n",
    "\n",
    "    # API Requests\n",
    "    url = 'https://www2.hm.com/en_us/productpage.' + data.loc[i, 'product_id'] + '.html'\n",
    "    print(url)"
   ]
  },
  {
   "cell_type": "code",
   "execution_count": 30,
   "id": "e12dec44",
   "metadata": {
    "ExecuteTime": {
     "end_time": "2022-01-19T19:08:44.154321Z",
     "start_time": "2022-01-19T19:08:15.091036Z"
    }
   },
   "outputs": [],
   "source": [
    "headers = {'User-Agent': 'Mozilla/5.0 (Macintosh; Intel Mac OS X 10_11_5)AppleWebKit/537.36 (KHTML, like Gecko) Chrome/50.0.2661.102 Safari/537.36'}\n",
    "\n",
    "# empty data frame to store all the needed information\n",
    "df_details = pd.DataFrame()\n",
    "\n",
    "\n",
    "for i in range(len(data)):\n",
    "\n",
    "    # API Requests\n",
    "    url = 'https://www2.hm.com/en_us/productpage.' + data.loc[i, 'product_id'] + '.html'\n",
    "    page = requests.get( url, headers=headers )\n",
    "\n",
    "\n",
    "    # Beautiful Soup object\n",
    "    soup = BeautifulSoup(page.text, 'html.parser')\n",
    "\n",
    "    # ================== color name =====================================\n",
    "    product_list = soup.find_all('a', class_='filter-option miniature')\n",
    "    color_name = [p.get('data-color') for p in product_list]\n",
    "\n",
    "    # color name\n",
    "    product_color_list = soup.find_all('a', class_='filter-option miniature')\n",
    "    color_name = [p.get('data-color') for p in product_color_list]\n",
    "\n",
    "    # product_id\n",
    "    product_id = [p.get('data-articlecode') for p in product_color_list]\n",
    "\n",
    "    df_color = pd.DataFrame([product_id, color_name]).T\n",
    "    df_color.columns = ['product_id', 'color_name']\n",
    "\n",
    "    # generate style id + color id\n",
    "    df_color['style_id'] = df_color['product_id'].apply(lambda x: x[:-3])\n",
    "    df_color['color_id'] = df_color['product_id'].apply(lambda x: x[-3:])\n",
    "\n",
    "    # ================== composition =====================================\n",
    "    product_composition_list = soup.find_all('div', class_='pdp-description-list-item')\n",
    "    product_composition = [list(filter(None, p.get_text().split('\\n'))) for p in product_composition_list]\n",
    "\n",
    "\n",
    "    # rename dataframe\n",
    "    df_composition = pd.DataFrame(product_composition).T\n",
    "    df_composition.columns = df_composition.iloc[0]\n",
    "\n",
    "\n",
    "    # delete first row\n",
    "    df_composition = df_composition.iloc[1:].fillna(method='ffill')\n",
    "    df_composition = df_composition[['Fit', 'Composition', 'Art. No.']]\n",
    "\n",
    "    # generate style id + color id\n",
    "    df_composition['style_id'] = df_composition['Art. No.'].apply(lambda x: x[:-3])\n",
    "    df_composition['color_id'] = df_composition['Art. No.'].apply(lambda x: x[-3:])\n",
    "\n",
    "    # Merge data color + composition\n",
    "    data_sku = pd.merge(df_color, df_composition[['style_id', 'Fit', 'Composition']], how='left', on='style_id')\n",
    "    \n",
    "    # Products' details\n",
    "    df_details = pd.concat([df_details, data_sku], axis=0)\n",
    "    \n",
    "# Join showroom data + details\n",
    "data['style_id'] = data['product_id'].apply(lambda x: x[:-3])\n",
    "data['color_id'] = data['product_id'].apply(lambda x: x[-3:])\n",
    "\n",
    "data_raw = pd.merge(data, df_details[['style_id', 'color_name', 'Fit', 'Composition']], how='left', on='style_id')\n"
   ]
  },
  {
   "cell_type": "code",
   "execution_count": 29,
   "id": "f7fa2d3b",
   "metadata": {
    "ExecuteTime": {
     "end_time": "2022-01-19T19:08:15.089536Z",
     "start_time": "2022-01-19T19:08:15.080354Z"
    }
   },
   "outputs": [
    {
     "data": {
      "text/html": [
       "<div>\n",
       "<style scoped>\n",
       "    .dataframe tbody tr th:only-of-type {\n",
       "        vertical-align: middle;\n",
       "    }\n",
       "\n",
       "    .dataframe tbody tr th {\n",
       "        vertical-align: top;\n",
       "    }\n",
       "\n",
       "    .dataframe thead th {\n",
       "        text-align: right;\n",
       "    }\n",
       "</style>\n",
       "<table border=\"1\" class=\"dataframe\">\n",
       "  <thead>\n",
       "    <tr style=\"text-align: right;\">\n",
       "      <th></th>\n",
       "      <th>product_id</th>\n",
       "      <th>product_category</th>\n",
       "      <th>product_name</th>\n",
       "      <th>product_price</th>\n",
       "      <th>style_id</th>\n",
       "      <th>color_id</th>\n",
       "      <th>color_name</th>\n",
       "      <th>Fit</th>\n",
       "      <th>Composition</th>\n",
       "    </tr>\n",
       "  </thead>\n",
       "  <tbody>\n",
       "    <tr>\n",
       "      <th>0</th>\n",
       "      <td>1024256001</td>\n",
       "      <td>men_jeans_slim</td>\n",
       "      <td>Slim Jeans</td>\n",
       "      <td>$ 19.99</td>\n",
       "      <td>1024256</td>\n",
       "      <td>001</td>\n",
       "      <td>Light denim blue</td>\n",
       "      <td>Slim fit</td>\n",
       "      <td>Pocket lining: Polyester 65%, Cotton 35%</td>\n",
       "    </tr>\n",
       "    <tr>\n",
       "      <th>1</th>\n",
       "      <td>1024256001</td>\n",
       "      <td>men_jeans_slim</td>\n",
       "      <td>Slim Jeans</td>\n",
       "      <td>$ 19.99</td>\n",
       "      <td>1024256</td>\n",
       "      <td>001</td>\n",
       "      <td>Light denim blue</td>\n",
       "      <td>Slim fit</td>\n",
       "      <td>Shell: Cotton 99%, Spandex 1%</td>\n",
       "    </tr>\n",
       "    <tr>\n",
       "      <th>2</th>\n",
       "      <td>1024256001</td>\n",
       "      <td>men_jeans_slim</td>\n",
       "      <td>Slim Jeans</td>\n",
       "      <td>$ 19.99</td>\n",
       "      <td>1024256</td>\n",
       "      <td>001</td>\n",
       "      <td>Light denim blue</td>\n",
       "      <td>Slim fit</td>\n",
       "      <td>Pocket lining: Polyester 65%, Cotton 35%</td>\n",
       "    </tr>\n",
       "    <tr>\n",
       "      <th>3</th>\n",
       "      <td>1024256001</td>\n",
       "      <td>men_jeans_slim</td>\n",
       "      <td>Slim Jeans</td>\n",
       "      <td>$ 19.99</td>\n",
       "      <td>1024256</td>\n",
       "      <td>001</td>\n",
       "      <td>Light denim blue</td>\n",
       "      <td>Slim fit</td>\n",
       "      <td>Shell: Cotton 99%, Spandex 1%</td>\n",
       "    </tr>\n",
       "    <tr>\n",
       "      <th>4</th>\n",
       "      <td>1024256001</td>\n",
       "      <td>men_jeans_slim</td>\n",
       "      <td>Slim Jeans</td>\n",
       "      <td>$ 19.99</td>\n",
       "      <td>1024256</td>\n",
       "      <td>001</td>\n",
       "      <td>Denim blue</td>\n",
       "      <td>Slim fit</td>\n",
       "      <td>Pocket lining: Polyester 65%, Cotton 35%</td>\n",
       "    </tr>\n",
       "  </tbody>\n",
       "</table>\n",
       "</div>"
      ],
      "text/plain": [
       "   product_id product_category product_name product_price style_id color_id  \\\n",
       "0  1024256001   men_jeans_slim   Slim Jeans       $ 19.99  1024256      001   \n",
       "1  1024256001   men_jeans_slim   Slim Jeans       $ 19.99  1024256      001   \n",
       "2  1024256001   men_jeans_slim   Slim Jeans       $ 19.99  1024256      001   \n",
       "3  1024256001   men_jeans_slim   Slim Jeans       $ 19.99  1024256      001   \n",
       "4  1024256001   men_jeans_slim   Slim Jeans       $ 19.99  1024256      001   \n",
       "\n",
       "         color_name       Fit                               Composition  \n",
       "0  Light denim blue  Slim fit  Pocket lining: Polyester 65%, Cotton 35%  \n",
       "1  Light denim blue  Slim fit             Shell: Cotton 99%, Spandex 1%  \n",
       "2  Light denim blue  Slim fit  Pocket lining: Polyester 65%, Cotton 35%  \n",
       "3  Light denim blue  Slim fit             Shell: Cotton 99%, Spandex 1%  \n",
       "4        Denim blue  Slim fit  Pocket lining: Polyester 65%, Cotton 35%  "
      ]
     },
     "execution_count": 29,
     "metadata": {},
     "output_type": "execute_result"
    }
   ],
   "source": [
    "data_raw.head()"
   ]
  },
  {
   "cell_type": "markdown",
   "id": "3211a4ed",
   "metadata": {},
   "source": [
    "# <span style=\"color:#0066ff\">Exercícios Práticos<span>"
   ]
  },
  {
   "cell_type": "markdown",
   "id": "5b137074",
   "metadata": {},
   "source": [
    "**1. Coletar os seguintes dados da página: https://books.toscrape.com**\n",
    "- Catálogo:\n",
    "    + Classics\n",
    "    + Science Fiction\n",
    "    + Humor\n",
    "    + Business\n",
    "\n",
    "- Coletar os seguintes dados de cada livro:\n",
    "    + Nome do livro\n",
    "    + Preço em libras\n",
    "    + Avaliação dos consumidores\n",
    "    + Disponível em estoque\n",
    "\n",
    "**2. Entregável:**\n",
    "\n",
    "- Faça um plano escrito para cada uma das perguntas de negócio, contendo:\n",
    "    - Saída: A simulação da tabela e gráfico final.\n",
    "    - Processo: A sequência de passos organizada pela lógica de execução\n",
    "    - Entrada: O link para as fontes de dados.\n",
    "    \n",
    "\n",
    "- Uma csv com todas as informação de todos os catálogos."
   ]
  }
 ],
 "metadata": {
  "kernelspec": {
   "display_name": "Python 3 (ipykernel)",
   "language": "python",
   "name": "python3"
  },
  "language_info": {
   "codemirror_mode": {
    "name": "ipython",
    "version": 3
   },
   "file_extension": ".py",
   "mimetype": "text/x-python",
   "name": "python",
   "nbconvert_exporter": "python",
   "pygments_lexer": "ipython3",
   "version": "3.9.7"
  }
 },
 "nbformat": 4,
 "nbformat_minor": 5
}
