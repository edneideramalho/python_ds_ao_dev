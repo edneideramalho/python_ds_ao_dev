{
 "cells": [
  {
   "cell_type": "markdown",
   "id": "ab445048",
   "metadata": {},
   "source": [
    "# <span style=\"color:#3399ff\">Beautiful Soup - Exemplos</span>"
   ]
  },
  {
   "cell_type": "code",
   "execution_count": 38,
   "id": "e8aa7d87",
   "metadata": {
    "ExecuteTime": {
     "end_time": "2022-01-13T12:09:49.020206Z",
     "start_time": "2022-01-13T12:09:49.017362Z"
    }
   },
   "outputs": [],
   "source": [
    "from bs4 import BeautifulSoup\n",
    "import requests\n",
    "import pandas as pd\n",
    "from datetime import datetime \n",
    "import numpy as np"
   ]
  },
  {
   "cell_type": "code",
   "execution_count": 3,
   "id": "ae1d3cae",
   "metadata": {
    "ExecuteTime": {
     "end_time": "2022-01-13T11:44:58.169500Z",
     "start_time": "2022-01-13T11:44:58.166446Z"
    }
   },
   "outputs": [],
   "source": [
    "html_doc = \"\"\"<html><head><title>The Dormouse's story</title></head>\n",
    "<body>\n",
    "<p class=\"title\"><b>The Dormouse's story</b></p>\n",
    "\n",
    "<p class=\"story\">Once upon a time there were three little sisters; and their names were\n",
    "<a href=\"http://example.com/elsie\" class=\"sister\" id=\"link1\">Elsie</a>,\n",
    "<a href=\"http://example.com/lacie\" class=\"sister\" id=\"link2\">Lacie</a> and\n",
    "<a href=\"http://example.com/tillie\" class=\"sister\" id=\"link3\">Tillie</a>;\n",
    "and they lived at the bottom of a well.</p>\n",
    "\n",
    "<p class=\"story\">...</p>\n",
    "\"\"\""
   ]
  },
  {
   "cell_type": "code",
   "execution_count": 4,
   "id": "566e28d7",
   "metadata": {
    "ExecuteTime": {
     "end_time": "2022-01-13T11:44:58.798835Z",
     "start_time": "2022-01-13T11:44:58.795066Z"
    }
   },
   "outputs": [],
   "source": [
    "soup = BeautifulSoup(html_doc, 'html.parser')"
   ]
  },
  {
   "cell_type": "code",
   "execution_count": 5,
   "id": "e40beb83",
   "metadata": {
    "ExecuteTime": {
     "end_time": "2022-01-13T11:44:59.504286Z",
     "start_time": "2022-01-13T11:44:59.493121Z"
    }
   },
   "outputs": [
    {
     "data": {
      "text/plain": [
       "<html><head><title>The Dormouse's story</title></head>\n",
       "<body>\n",
       "<p class=\"title\"><b>The Dormouse's story</b></p>\n",
       "<p class=\"story\">Once upon a time there were three little sisters; and their names were\n",
       "<a class=\"sister\" href=\"http://example.com/elsie\" id=\"link1\">Elsie</a>,\n",
       "<a class=\"sister\" href=\"http://example.com/lacie\" id=\"link2\">Lacie</a> and\n",
       "<a class=\"sister\" href=\"http://example.com/tillie\" id=\"link3\">Tillie</a>;\n",
       "and they lived at the bottom of a well.</p>\n",
       "<p class=\"story\">...</p>\n",
       "</body></html>"
      ]
     },
     "execution_count": 5,
     "metadata": {},
     "output_type": "execute_result"
    }
   ],
   "source": [
    "soup"
   ]
  },
  {
   "cell_type": "code",
   "execution_count": 6,
   "id": "fb222f71",
   "metadata": {
    "ExecuteTime": {
     "end_time": "2022-01-13T11:45:00.104435Z",
     "start_time": "2022-01-13T11:45:00.100958Z"
    }
   },
   "outputs": [
    {
     "name": "stdout",
     "output_type": "stream",
     "text": [
      "<title>The Dormouse's story</title>\n"
     ]
    }
   ],
   "source": [
    "print(soup.title)"
   ]
  },
  {
   "cell_type": "code",
   "execution_count": 7,
   "id": "5385b118",
   "metadata": {
    "ExecuteTime": {
     "end_time": "2022-01-13T11:45:00.621248Z",
     "start_time": "2022-01-13T11:45:00.617875Z"
    }
   },
   "outputs": [
    {
     "name": "stdout",
     "output_type": "stream",
     "text": [
      "<head><title>The Dormouse's story</title></head>\n"
     ]
    }
   ],
   "source": [
    "print(soup.head)"
   ]
  },
  {
   "cell_type": "code",
   "execution_count": 8,
   "id": "3592fccf",
   "metadata": {
    "ExecuteTime": {
     "end_time": "2022-01-13T11:45:01.049720Z",
     "start_time": "2022-01-13T11:45:01.046536Z"
    }
   },
   "outputs": [
    {
     "name": "stdout",
     "output_type": "stream",
     "text": [
      "<p class=\"title\"><b>The Dormouse's story</b></p>\n"
     ]
    }
   ],
   "source": [
    "print(soup.body.p)"
   ]
  },
  {
   "cell_type": "code",
   "execution_count": 9,
   "id": "5ae7d0ac",
   "metadata": {
    "ExecuteTime": {
     "end_time": "2022-01-13T11:45:01.475870Z",
     "start_time": "2022-01-13T11:45:01.471926Z"
    }
   },
   "outputs": [
    {
     "data": {
      "text/plain": [
       "[<p class=\"title\"><b>The Dormouse's story</b></p>,\n",
       " <p class=\"story\">Once upon a time there were three little sisters; and their names were\n",
       " <a class=\"sister\" href=\"http://example.com/elsie\" id=\"link1\">Elsie</a>,\n",
       " <a class=\"sister\" href=\"http://example.com/lacie\" id=\"link2\">Lacie</a> and\n",
       " <a class=\"sister\" href=\"http://example.com/tillie\" id=\"link3\">Tillie</a>;\n",
       " and they lived at the bottom of a well.</p>,\n",
       " <p class=\"story\">...</p>]"
      ]
     },
     "execution_count": 9,
     "metadata": {},
     "output_type": "execute_result"
    }
   ],
   "source": [
    "soup.find_all('p')"
   ]
  },
  {
   "cell_type": "code",
   "execution_count": 10,
   "id": "61367b18",
   "metadata": {
    "ExecuteTime": {
     "end_time": "2022-01-13T11:45:02.053241Z",
     "start_time": "2022-01-13T11:45:02.048471Z"
    }
   },
   "outputs": [
    {
     "data": {
      "text/plain": [
       "[<p class=\"title\"><b>The Dormouse's story</b></p>]"
      ]
     },
     "execution_count": 10,
     "metadata": {},
     "output_type": "execute_result"
    }
   ],
   "source": [
    "soup.find_all('p', 'title')"
   ]
  },
  {
   "cell_type": "code",
   "execution_count": 11,
   "id": "8cc5e5ef",
   "metadata": {
    "ExecuteTime": {
     "end_time": "2022-01-13T11:45:02.522965Z",
     "start_time": "2022-01-13T11:45:02.518655Z"
    }
   },
   "outputs": [
    {
     "data": {
      "text/plain": [
       "[<p class=\"story\">Once upon a time there were three little sisters; and their names were\n",
       " <a class=\"sister\" href=\"http://example.com/elsie\" id=\"link1\">Elsie</a>,\n",
       " <a class=\"sister\" href=\"http://example.com/lacie\" id=\"link2\">Lacie</a> and\n",
       " <a class=\"sister\" href=\"http://example.com/tillie\" id=\"link3\">Tillie</a>;\n",
       " and they lived at the bottom of a well.</p>,\n",
       " <p class=\"story\">...</p>]"
      ]
     },
     "execution_count": 11,
     "metadata": {},
     "output_type": "execute_result"
    }
   ],
   "source": [
    "soup.find_all('p', class_='story')"
   ]
  },
  {
   "cell_type": "code",
   "execution_count": 12,
   "id": "7dcb4b6e",
   "metadata": {
    "ExecuteTime": {
     "end_time": "2022-01-13T11:45:02.908264Z",
     "start_time": "2022-01-13T11:45:02.903858Z"
    }
   },
   "outputs": [
    {
     "data": {
      "text/plain": [
       "[<a class=\"sister\" href=\"http://example.com/elsie\" id=\"link1\">Elsie</a>,\n",
       " <a class=\"sister\" href=\"http://example.com/lacie\" id=\"link2\">Lacie</a>,\n",
       " <a class=\"sister\" href=\"http://example.com/tillie\" id=\"link3\">Tillie</a>]"
      ]
     },
     "execution_count": 12,
     "metadata": {},
     "output_type": "execute_result"
    }
   ],
   "source": [
    "soup.find_all('a', class_='sister')"
   ]
  },
  {
   "cell_type": "code",
   "execution_count": 13,
   "id": "033ed871",
   "metadata": {
    "ExecuteTime": {
     "end_time": "2022-01-13T11:45:03.291517Z",
     "start_time": "2022-01-13T11:45:03.287514Z"
    }
   },
   "outputs": [
    {
     "data": {
      "text/plain": [
       "[<a class=\"sister\" href=\"http://example.com/elsie\" id=\"link1\">Elsie</a>]"
      ]
     },
     "execution_count": 13,
     "metadata": {},
     "output_type": "execute_result"
    }
   ],
   "source": [
    "soup.find_all('a', id='link1')"
   ]
  },
  {
   "cell_type": "code",
   "execution_count": 14,
   "id": "c44453f2",
   "metadata": {
    "ExecuteTime": {
     "end_time": "2022-01-13T11:45:03.773889Z",
     "start_time": "2022-01-13T11:45:03.769086Z"
    }
   },
   "outputs": [
    {
     "data": {
      "text/plain": [
       "'Elsie'"
      ]
     },
     "execution_count": 14,
     "metadata": {},
     "output_type": "execute_result"
    }
   ],
   "source": [
    "soup.find_all('a', id='link1')[0].string"
   ]
  },
  {
   "cell_type": "code",
   "execution_count": 15,
   "id": "101c3276",
   "metadata": {
    "ExecuteTime": {
     "end_time": "2022-01-13T11:45:04.662483Z",
     "start_time": "2022-01-13T11:45:04.658346Z"
    }
   },
   "outputs": [
    {
     "data": {
      "text/plain": [
       "'Elsie'"
      ]
     },
     "execution_count": 15,
     "metadata": {},
     "output_type": "execute_result"
    }
   ],
   "source": [
    "soup.find_all('a', id='link1')[0].get_text()"
   ]
  },
  {
   "cell_type": "markdown",
   "id": "eaa7d94a",
   "metadata": {},
   "source": [
    "# <span style=\"color:#3399ff\">Beautiful Soup - Prática I</span>"
   ]
  },
  {
   "cell_type": "code",
   "execution_count": 16,
   "id": "d0b8b9cd",
   "metadata": {
    "ExecuteTime": {
     "end_time": "2022-01-13T11:45:06.493639Z",
     "start_time": "2022-01-13T11:45:06.491191Z"
    }
   },
   "outputs": [],
   "source": [
    "# id\n",
    "# product_name\n",
    "# product_type\n",
    "# product_composition\n",
    "# preco"
   ]
  },
  {
   "cell_type": "code",
   "execution_count": 17,
   "id": "5e466fe7",
   "metadata": {
    "ExecuteTime": {
     "end_time": "2022-01-13T11:45:10.848505Z",
     "start_time": "2022-01-13T11:45:09.011738Z"
    }
   },
   "outputs": [],
   "source": [
    "url = 'https://www2.hm.com/en_us/men/products/jeans.html'\n",
    "\n",
    "headers = {'User-Agent': 'Mozilla/5.0 (Macintosh; Intel Mac OS X 10_11_5) AppleWebKit/537.36 (KHTML, like Gecko) Chrome/50.0.2661.102 Safari/537.36'}\n",
    "page = requests.get(url, headers=headers)"
   ]
  },
  {
   "cell_type": "code",
   "execution_count": 18,
   "id": "a92bbfe6",
   "metadata": {
    "ExecuteTime": {
     "end_time": "2022-01-13T11:45:11.016167Z",
     "start_time": "2022-01-13T11:45:10.851334Z"
    }
   },
   "outputs": [],
   "source": [
    "soup = BeautifulSoup(page.text, 'html.parser')"
   ]
  },
  {
   "cell_type": "code",
   "execution_count": 19,
   "id": "6236c76c",
   "metadata": {
    "ExecuteTime": {
     "end_time": "2022-01-13T11:45:11.025830Z",
     "start_time": "2022-01-13T11:45:11.017686Z"
    }
   },
   "outputs": [],
   "source": [
    "products = soup.find('ul', class_='products-listing small')"
   ]
  },
  {
   "cell_type": "code",
   "execution_count": 20,
   "id": "a89bdae3",
   "metadata": {
    "ExecuteTime": {
     "end_time": "2022-01-13T11:45:11.874935Z",
     "start_time": "2022-01-13T11:45:11.869841Z"
    }
   },
   "outputs": [],
   "source": [
    "product_list = products.find_all('article', class_='hm-product-item')"
   ]
  },
  {
   "cell_type": "code",
   "execution_count": 21,
   "id": "1d3f0d41",
   "metadata": {
    "ExecuteTime": {
     "end_time": "2022-01-13T11:45:12.750198Z",
     "start_time": "2022-01-13T11:45:12.745920Z"
    }
   },
   "outputs": [
    {
     "data": {
      "text/plain": [
       "36"
      ]
     },
     "execution_count": 21,
     "metadata": {},
     "output_type": "execute_result"
    }
   ],
   "source": [
    "len(product_list)"
   ]
  },
  {
   "cell_type": "code",
   "execution_count": 22,
   "id": "13c07f27",
   "metadata": {
    "ExecuteTime": {
     "end_time": "2022-01-13T11:45:18.689722Z",
     "start_time": "2022-01-13T11:45:18.686520Z"
    }
   },
   "outputs": [],
   "source": [
    "# product_id\n",
    "product_id = [p.get('data-articlecode') for p in product_list]\n",
    "\n",
    "# product_category\n",
    "product_category = [p.get('data-category') for p in product_list]"
   ]
  },
  {
   "cell_type": "code",
   "execution_count": 23,
   "id": "6709fa10",
   "metadata": {
    "ExecuteTime": {
     "end_time": "2022-01-13T11:45:19.570783Z",
     "start_time": "2022-01-13T11:45:19.564071Z"
    }
   },
   "outputs": [],
   "source": [
    "# product_name\n",
    "product_list = products.find_all('a', class_='link')\n",
    "product_name = [p.get_text() for p in product_list] "
   ]
  },
  {
   "cell_type": "code",
   "execution_count": 24,
   "id": "d98e6bc7",
   "metadata": {
    "ExecuteTime": {
     "end_time": "2022-01-13T11:45:22.944501Z",
     "start_time": "2022-01-13T11:45:22.938840Z"
    }
   },
   "outputs": [],
   "source": [
    "# product_price\n",
    "product_list = products.find_all('span', class_='price regular')\n",
    "product_price = [p.get_text() for p in product_list]"
   ]
  },
  {
   "cell_type": "code",
   "execution_count": 25,
   "id": "3c2aff7a",
   "metadata": {
    "ExecuteTime": {
     "end_time": "2022-01-13T11:45:23.975883Z",
     "start_time": "2022-01-13T11:45:23.961487Z"
    }
   },
   "outputs": [
    {
     "data": {
      "text/html": [
       "<div>\n",
       "<style scoped>\n",
       "    .dataframe tbody tr th:only-of-type {\n",
       "        vertical-align: middle;\n",
       "    }\n",
       "\n",
       "    .dataframe tbody tr th {\n",
       "        vertical-align: top;\n",
       "    }\n",
       "\n",
       "    .dataframe thead th {\n",
       "        text-align: right;\n",
       "    }\n",
       "</style>\n",
       "<table border=\"1\" class=\"dataframe\">\n",
       "  <thead>\n",
       "    <tr style=\"text-align: right;\">\n",
       "      <th></th>\n",
       "      <th>product_id</th>\n",
       "      <th>product_category</th>\n",
       "      <th>product_name</th>\n",
       "      <th>product_price</th>\n",
       "    </tr>\n",
       "  </thead>\n",
       "  <tbody>\n",
       "    <tr>\n",
       "      <th>0</th>\n",
       "      <td>1024256001</td>\n",
       "      <td>men_jeans_slim</td>\n",
       "      <td>Slim Jeans</td>\n",
       "      <td>$ 19.99</td>\n",
       "    </tr>\n",
       "    <tr>\n",
       "      <th>1</th>\n",
       "      <td>0985159001</td>\n",
       "      <td>men_jeans_skinny</td>\n",
       "      <td>Skinny Jeans</td>\n",
       "      <td>$ 24.99</td>\n",
       "    </tr>\n",
       "    <tr>\n",
       "      <th>2</th>\n",
       "      <td>0690449036</td>\n",
       "      <td>men_jeans_ripped</td>\n",
       "      <td>Skinny Jeans</td>\n",
       "      <td>$ 39.99</td>\n",
       "    </tr>\n",
       "    <tr>\n",
       "      <th>3</th>\n",
       "      <td>0690449022</td>\n",
       "      <td>men_jeans_ripped</td>\n",
       "      <td>Skinny Jeans</td>\n",
       "      <td>$ 39.99</td>\n",
       "    </tr>\n",
       "    <tr>\n",
       "      <th>4</th>\n",
       "      <td>0690449056</td>\n",
       "      <td>men_jeans_ripped</td>\n",
       "      <td>Skinny Jeans</td>\n",
       "      <td>$ 39.99</td>\n",
       "    </tr>\n",
       "  </tbody>\n",
       "</table>\n",
       "</div>"
      ],
      "text/plain": [
       "   product_id  product_category  product_name product_price\n",
       "0  1024256001    men_jeans_slim    Slim Jeans       $ 19.99\n",
       "1  0985159001  men_jeans_skinny  Skinny Jeans       $ 24.99\n",
       "2  0690449036  men_jeans_ripped  Skinny Jeans       $ 39.99\n",
       "3  0690449022  men_jeans_ripped  Skinny Jeans       $ 39.99\n",
       "4  0690449056  men_jeans_ripped  Skinny Jeans       $ 39.99"
      ]
     },
     "execution_count": 25,
     "metadata": {},
     "output_type": "execute_result"
    }
   ],
   "source": [
    "data = pd.DataFrame([product_id , product_category, product_name, product_price]).T\n",
    "data.columns = ['product_id' , 'product_category', 'product_name', 'product_price']\n",
    "data.head()"
   ]
  },
  {
   "cell_type": "code",
   "execution_count": 26,
   "id": "8371e161",
   "metadata": {
    "ExecuteTime": {
     "end_time": "2022-01-13T11:45:28.149169Z",
     "start_time": "2022-01-13T11:45:28.146039Z"
    }
   },
   "outputs": [],
   "source": [
    "# scrapy datetime\n",
    "data['scrapy_datetime'] = datetime.now().strftime('%Y-%m-%d %H:%M:%S')"
   ]
  },
  {
   "cell_type": "code",
   "execution_count": 27,
   "id": "c5ad2dcb",
   "metadata": {
    "ExecuteTime": {
     "end_time": "2022-01-13T11:45:29.035005Z",
     "start_time": "2022-01-13T11:45:29.026402Z"
    }
   },
   "outputs": [
    {
     "data": {
      "text/html": [
       "<div>\n",
       "<style scoped>\n",
       "    .dataframe tbody tr th:only-of-type {\n",
       "        vertical-align: middle;\n",
       "    }\n",
       "\n",
       "    .dataframe tbody tr th {\n",
       "        vertical-align: top;\n",
       "    }\n",
       "\n",
       "    .dataframe thead th {\n",
       "        text-align: right;\n",
       "    }\n",
       "</style>\n",
       "<table border=\"1\" class=\"dataframe\">\n",
       "  <thead>\n",
       "    <tr style=\"text-align: right;\">\n",
       "      <th></th>\n",
       "      <th>product_id</th>\n",
       "      <th>product_category</th>\n",
       "      <th>product_name</th>\n",
       "      <th>product_price</th>\n",
       "      <th>scrapy_datetime</th>\n",
       "    </tr>\n",
       "  </thead>\n",
       "  <tbody>\n",
       "    <tr>\n",
       "      <th>0</th>\n",
       "      <td>1024256001</td>\n",
       "      <td>men_jeans_slim</td>\n",
       "      <td>Slim Jeans</td>\n",
       "      <td>$ 19.99</td>\n",
       "      <td>2022-01-13 08:45:28</td>\n",
       "    </tr>\n",
       "    <tr>\n",
       "      <th>1</th>\n",
       "      <td>0985159001</td>\n",
       "      <td>men_jeans_skinny</td>\n",
       "      <td>Skinny Jeans</td>\n",
       "      <td>$ 24.99</td>\n",
       "      <td>2022-01-13 08:45:28</td>\n",
       "    </tr>\n",
       "    <tr>\n",
       "      <th>2</th>\n",
       "      <td>0690449036</td>\n",
       "      <td>men_jeans_ripped</td>\n",
       "      <td>Skinny Jeans</td>\n",
       "      <td>$ 39.99</td>\n",
       "      <td>2022-01-13 08:45:28</td>\n",
       "    </tr>\n",
       "    <tr>\n",
       "      <th>3</th>\n",
       "      <td>0690449022</td>\n",
       "      <td>men_jeans_ripped</td>\n",
       "      <td>Skinny Jeans</td>\n",
       "      <td>$ 39.99</td>\n",
       "      <td>2022-01-13 08:45:28</td>\n",
       "    </tr>\n",
       "    <tr>\n",
       "      <th>4</th>\n",
       "      <td>0690449056</td>\n",
       "      <td>men_jeans_ripped</td>\n",
       "      <td>Skinny Jeans</td>\n",
       "      <td>$ 39.99</td>\n",
       "      <td>2022-01-13 08:45:28</td>\n",
       "    </tr>\n",
       "  </tbody>\n",
       "</table>\n",
       "</div>"
      ],
      "text/plain": [
       "   product_id  product_category  product_name product_price  \\\n",
       "0  1024256001    men_jeans_slim    Slim Jeans       $ 19.99   \n",
       "1  0985159001  men_jeans_skinny  Skinny Jeans       $ 24.99   \n",
       "2  0690449036  men_jeans_ripped  Skinny Jeans       $ 39.99   \n",
       "3  0690449022  men_jeans_ripped  Skinny Jeans       $ 39.99   \n",
       "4  0690449056  men_jeans_ripped  Skinny Jeans       $ 39.99   \n",
       "\n",
       "       scrapy_datetime  \n",
       "0  2022-01-13 08:45:28  \n",
       "1  2022-01-13 08:45:28  \n",
       "2  2022-01-13 08:45:28  \n",
       "3  2022-01-13 08:45:28  \n",
       "4  2022-01-13 08:45:28  "
      ]
     },
     "execution_count": 27,
     "metadata": {},
     "output_type": "execute_result"
    }
   ],
   "source": [
    "data.head()"
   ]
  },
  {
   "cell_type": "markdown",
   "id": "5e238dcc",
   "metadata": {},
   "source": [
    "# <span style=\"color:#3399ff\">Beautiful Soup - Prática II</span>"
   ]
  },
  {
   "cell_type": "markdown",
   "id": "2d021627",
   "metadata": {},
   "source": [
    "- Sempre olhar a paginação na vitrine de produtos."
   ]
  },
  {
   "cell_type": "code",
   "execution_count": 28,
   "id": "4c67492c",
   "metadata": {
    "ExecuteTime": {
     "end_time": "2022-01-13T11:57:33.951071Z",
     "start_time": "2022-01-13T11:57:33.146830Z"
    }
   },
   "outputs": [],
   "source": [
    "url = 'https://www2.hm.com/en_us/men/products/jeans.html'\n",
    "headers = {'User-Agent': 'Mozilla/5.0 (Macintosh; Intel Mac OS X 10_11_5) AppleWebKit/537.36 (KHTML, like Gecko) Chrome/50.0.2661.102 Safari/537.36'}\n",
    "page = requests.get(url, headers=headers)"
   ]
  },
  {
   "cell_type": "code",
   "execution_count": 30,
   "id": "3c97e8f6",
   "metadata": {
    "ExecuteTime": {
     "end_time": "2022-01-13T11:58:13.868506Z",
     "start_time": "2022-01-13T11:58:13.635379Z"
    }
   },
   "outputs": [],
   "source": [
    "soup = BeautifulSoup(page.text, 'html.parser')"
   ]
  },
  {
   "cell_type": "code",
   "execution_count": 32,
   "id": "280b92d6",
   "metadata": {
    "ExecuteTime": {
     "end_time": "2022-01-13T12:00:39.257505Z",
     "start_time": "2022-01-13T12:00:39.245950Z"
    }
   },
   "outputs": [],
   "source": [
    "total_item = soup.find_all('h2', class_='load-more-heading')[0].get('data-total')"
   ]
  },
  {
   "cell_type": "code",
   "execution_count": 33,
   "id": "4a7e270c",
   "metadata": {
    "ExecuteTime": {
     "end_time": "2022-01-13T12:00:43.647322Z",
     "start_time": "2022-01-13T12:00:43.643798Z"
    }
   },
   "outputs": [
    {
     "data": {
      "text/plain": [
       "'58'"
      ]
     },
     "execution_count": 33,
     "metadata": {},
     "output_type": "execute_result"
    }
   ],
   "source": [
    "total_item"
   ]
  },
  {
   "cell_type": "code",
   "execution_count": 35,
   "id": "f0e16839",
   "metadata": {
    "ExecuteTime": {
     "end_time": "2022-01-13T12:01:50.891224Z",
     "start_time": "2022-01-13T12:01:50.887054Z"
    }
   },
   "outputs": [
    {
     "data": {
      "text/plain": [
       "58"
      ]
     },
     "execution_count": 35,
     "metadata": {},
     "output_type": "execute_result"
    }
   ],
   "source": [
    "int(total_item)"
   ]
  },
  {
   "cell_type": "markdown",
   "id": "2f2600c1",
   "metadata": {},
   "source": [
    "- De quantas páginas preciso para capturar todos os itens?"
   ]
  },
  {
   "cell_type": "code",
   "execution_count": 42,
   "id": "a3a49162",
   "metadata": {
    "ExecuteTime": {
     "end_time": "2022-01-13T12:10:20.725657Z",
     "start_time": "2022-01-13T12:10:20.721853Z"
    }
   },
   "outputs": [
    {
     "data": {
      "text/plain": [
       "2.0"
      ]
     },
     "execution_count": 42,
     "metadata": {},
     "output_type": "execute_result"
    }
   ],
   "source": [
    "page_number = np.round(int(total_item)/36)\n",
    "page_number"
   ]
  },
  {
   "cell_type": "code",
   "execution_count": 43,
   "id": "75907b2b",
   "metadata": {
    "ExecuteTime": {
     "end_time": "2022-01-13T12:11:30.071350Z",
     "start_time": "2022-01-13T12:11:30.067282Z"
    }
   },
   "outputs": [
    {
     "data": {
      "text/plain": [
       "'https://www2.hm.com/en_us/men/products/jeans.html?page-size=72'"
      ]
     },
     "execution_count": 43,
     "metadata": {},
     "output_type": "execute_result"
    }
   ],
   "source": [
    "url02 = url + '?page-size=' + str(int(page_number*36))\n",
    "url02"
   ]
  },
  {
   "cell_type": "code",
   "execution_count": null,
   "id": "301e8540",
   "metadata": {},
   "outputs": [],
   "source": []
  },
  {
   "cell_type": "code",
   "execution_count": null,
   "id": "c5f30b05",
   "metadata": {},
   "outputs": [],
   "source": []
  },
  {
   "cell_type": "code",
   "execution_count": null,
   "id": "5ad9215d",
   "metadata": {},
   "outputs": [],
   "source": []
  }
 ],
 "metadata": {
  "kernelspec": {
   "display_name": "Python 3 (ipykernel)",
   "language": "python",
   "name": "python3"
  },
  "language_info": {
   "codemirror_mode": {
    "name": "ipython",
    "version": 3
   },
   "file_extension": ".py",
   "mimetype": "text/x-python",
   "name": "python",
   "nbconvert_exporter": "python",
   "pygments_lexer": "ipython3",
   "version": "3.9.7"
  }
 },
 "nbformat": 4,
 "nbformat_minor": 5
}
