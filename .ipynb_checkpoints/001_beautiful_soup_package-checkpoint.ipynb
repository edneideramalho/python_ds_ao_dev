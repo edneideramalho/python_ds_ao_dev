{
 "cells": [
  {
   "cell_type": "markdown",
   "id": "ab445048",
   "metadata": {},
   "source": [
    "# <span style=\"color:#3399ff\">Beautiful Soup - Exemplos</span>"
   ]
  },
  {
   "cell_type": "code",
   "execution_count": 63,
   "id": "e8aa7d87",
   "metadata": {
    "ExecuteTime": {
     "end_time": "2022-01-12T10:03:07.551715Z",
     "start_time": "2022-01-12T10:03:07.548932Z"
    }
   },
   "outputs": [],
   "source": [
    "from bs4 import BeautifulSoup\n",
    "import requests\n",
    "import pandas as pd\n",
    "from datetime import datetime "
   ]
  },
  {
   "cell_type": "code",
   "execution_count": 2,
   "id": "ae1d3cae",
   "metadata": {
    "ExecuteTime": {
     "end_time": "2022-01-12T09:24:41.805870Z",
     "start_time": "2022-01-12T09:24:41.802984Z"
    }
   },
   "outputs": [],
   "source": [
    "html_doc = \"\"\"<html><head><title>The Dormouse's story</title></head>\n",
    "<body>\n",
    "<p class=\"title\"><b>The Dormouse's story</b></p>\n",
    "\n",
    "<p class=\"story\">Once upon a time there were three little sisters; and their names were\n",
    "<a href=\"http://example.com/elsie\" class=\"sister\" id=\"link1\">Elsie</a>,\n",
    "<a href=\"http://example.com/lacie\" class=\"sister\" id=\"link2\">Lacie</a> and\n",
    "<a href=\"http://example.com/tillie\" class=\"sister\" id=\"link3\">Tillie</a>;\n",
    "and they lived at the bottom of a well.</p>\n",
    "\n",
    "<p class=\"story\">...</p>\n",
    "\"\"\""
   ]
  },
  {
   "cell_type": "code",
   "execution_count": 3,
   "id": "566e28d7",
   "metadata": {
    "ExecuteTime": {
     "end_time": "2022-01-12T09:24:42.242987Z",
     "start_time": "2022-01-12T09:24:42.239715Z"
    }
   },
   "outputs": [],
   "source": [
    "soup = BeautifulSoup(html_doc, 'html.parser')"
   ]
  },
  {
   "cell_type": "code",
   "execution_count": 4,
   "id": "e40beb83",
   "metadata": {
    "ExecuteTime": {
     "end_time": "2022-01-12T09:24:42.632332Z",
     "start_time": "2022-01-12T09:24:42.621766Z"
    }
   },
   "outputs": [
    {
     "data": {
      "text/plain": [
       "<html><head><title>The Dormouse's story</title></head>\n",
       "<body>\n",
       "<p class=\"title\"><b>The Dormouse's story</b></p>\n",
       "<p class=\"story\">Once upon a time there were three little sisters; and their names were\n",
       "<a class=\"sister\" href=\"http://example.com/elsie\" id=\"link1\">Elsie</a>,\n",
       "<a class=\"sister\" href=\"http://example.com/lacie\" id=\"link2\">Lacie</a> and\n",
       "<a class=\"sister\" href=\"http://example.com/tillie\" id=\"link3\">Tillie</a>;\n",
       "and they lived at the bottom of a well.</p>\n",
       "<p class=\"story\">...</p>\n",
       "</body></html>"
      ]
     },
     "execution_count": 4,
     "metadata": {},
     "output_type": "execute_result"
    }
   ],
   "source": [
    "soup"
   ]
  },
  {
   "cell_type": "code",
   "execution_count": 5,
   "id": "fb222f71",
   "metadata": {
    "ExecuteTime": {
     "end_time": "2022-01-12T09:24:43.088593Z",
     "start_time": "2022-01-12T09:24:43.085131Z"
    }
   },
   "outputs": [
    {
     "name": "stdout",
     "output_type": "stream",
     "text": [
      "<title>The Dormouse's story</title>\n"
     ]
    }
   ],
   "source": [
    "print(soup.title)"
   ]
  },
  {
   "cell_type": "code",
   "execution_count": 6,
   "id": "5385b118",
   "metadata": {
    "ExecuteTime": {
     "end_time": "2022-01-12T09:24:43.571389Z",
     "start_time": "2022-01-12T09:24:43.568349Z"
    }
   },
   "outputs": [
    {
     "name": "stdout",
     "output_type": "stream",
     "text": [
      "<head><title>The Dormouse's story</title></head>\n"
     ]
    }
   ],
   "source": [
    "print(soup.head)"
   ]
  },
  {
   "cell_type": "code",
   "execution_count": 7,
   "id": "3592fccf",
   "metadata": {
    "ExecuteTime": {
     "end_time": "2022-01-12T09:24:44.056625Z",
     "start_time": "2022-01-12T09:24:44.053744Z"
    }
   },
   "outputs": [
    {
     "name": "stdout",
     "output_type": "stream",
     "text": [
      "<p class=\"title\"><b>The Dormouse's story</b></p>\n"
     ]
    }
   ],
   "source": [
    "print(soup.body.p)"
   ]
  },
  {
   "cell_type": "code",
   "execution_count": 8,
   "id": "5ae7d0ac",
   "metadata": {
    "ExecuteTime": {
     "end_time": "2022-01-12T09:24:44.507424Z",
     "start_time": "2022-01-12T09:24:44.501386Z"
    }
   },
   "outputs": [
    {
     "data": {
      "text/plain": [
       "[<p class=\"title\"><b>The Dormouse's story</b></p>,\n",
       " <p class=\"story\">Once upon a time there were three little sisters; and their names were\n",
       " <a class=\"sister\" href=\"http://example.com/elsie\" id=\"link1\">Elsie</a>,\n",
       " <a class=\"sister\" href=\"http://example.com/lacie\" id=\"link2\">Lacie</a> and\n",
       " <a class=\"sister\" href=\"http://example.com/tillie\" id=\"link3\">Tillie</a>;\n",
       " and they lived at the bottom of a well.</p>,\n",
       " <p class=\"story\">...</p>]"
      ]
     },
     "execution_count": 8,
     "metadata": {},
     "output_type": "execute_result"
    }
   ],
   "source": [
    "soup.find_all('p')"
   ]
  },
  {
   "cell_type": "code",
   "execution_count": 9,
   "id": "61367b18",
   "metadata": {
    "ExecuteTime": {
     "end_time": "2022-01-12T09:24:47.163119Z",
     "start_time": "2022-01-12T09:24:47.158377Z"
    }
   },
   "outputs": [
    {
     "data": {
      "text/plain": [
       "[<p class=\"title\"><b>The Dormouse's story</b></p>]"
      ]
     },
     "execution_count": 9,
     "metadata": {},
     "output_type": "execute_result"
    }
   ],
   "source": [
    "soup.find_all('p', 'title')"
   ]
  },
  {
   "cell_type": "code",
   "execution_count": 10,
   "id": "8cc5e5ef",
   "metadata": {
    "ExecuteTime": {
     "end_time": "2022-01-12T09:24:47.511753Z",
     "start_time": "2022-01-12T09:24:47.507441Z"
    }
   },
   "outputs": [
    {
     "data": {
      "text/plain": [
       "[<p class=\"story\">Once upon a time there were three little sisters; and their names were\n",
       " <a class=\"sister\" href=\"http://example.com/elsie\" id=\"link1\">Elsie</a>,\n",
       " <a class=\"sister\" href=\"http://example.com/lacie\" id=\"link2\">Lacie</a> and\n",
       " <a class=\"sister\" href=\"http://example.com/tillie\" id=\"link3\">Tillie</a>;\n",
       " and they lived at the bottom of a well.</p>,\n",
       " <p class=\"story\">...</p>]"
      ]
     },
     "execution_count": 10,
     "metadata": {},
     "output_type": "execute_result"
    }
   ],
   "source": [
    "soup.find_all('p', class_='story')"
   ]
  },
  {
   "cell_type": "code",
   "execution_count": 11,
   "id": "7dcb4b6e",
   "metadata": {
    "ExecuteTime": {
     "end_time": "2022-01-12T09:24:47.970049Z",
     "start_time": "2022-01-12T09:24:47.965724Z"
    }
   },
   "outputs": [
    {
     "data": {
      "text/plain": [
       "[<a class=\"sister\" href=\"http://example.com/elsie\" id=\"link1\">Elsie</a>,\n",
       " <a class=\"sister\" href=\"http://example.com/lacie\" id=\"link2\">Lacie</a>,\n",
       " <a class=\"sister\" href=\"http://example.com/tillie\" id=\"link3\">Tillie</a>]"
      ]
     },
     "execution_count": 11,
     "metadata": {},
     "output_type": "execute_result"
    }
   ],
   "source": [
    "soup.find_all('a', class_='sister')"
   ]
  },
  {
   "cell_type": "code",
   "execution_count": 12,
   "id": "033ed871",
   "metadata": {
    "ExecuteTime": {
     "end_time": "2022-01-12T09:24:48.386269Z",
     "start_time": "2022-01-12T09:24:48.382303Z"
    }
   },
   "outputs": [
    {
     "data": {
      "text/plain": [
       "[<a class=\"sister\" href=\"http://example.com/elsie\" id=\"link1\">Elsie</a>]"
      ]
     },
     "execution_count": 12,
     "metadata": {},
     "output_type": "execute_result"
    }
   ],
   "source": [
    "soup.find_all('a', id='link1')"
   ]
  },
  {
   "cell_type": "code",
   "execution_count": 13,
   "id": "c44453f2",
   "metadata": {
    "ExecuteTime": {
     "end_time": "2022-01-12T09:24:50.515099Z",
     "start_time": "2022-01-12T09:24:50.510816Z"
    }
   },
   "outputs": [
    {
     "data": {
      "text/plain": [
       "'Elsie'"
      ]
     },
     "execution_count": 13,
     "metadata": {},
     "output_type": "execute_result"
    }
   ],
   "source": [
    "soup.find_all('a', id='link1')[0].string"
   ]
  },
  {
   "cell_type": "code",
   "execution_count": 14,
   "id": "101c3276",
   "metadata": {
    "ExecuteTime": {
     "end_time": "2022-01-12T09:24:51.103194Z",
     "start_time": "2022-01-12T09:24:51.070481Z"
    }
   },
   "outputs": [
    {
     "data": {
      "text/plain": [
       "'Elsie'"
      ]
     },
     "execution_count": 14,
     "metadata": {},
     "output_type": "execute_result"
    }
   ],
   "source": [
    "soup.find_all('a', id='link1')[0].get_text()"
   ]
  },
  {
   "cell_type": "markdown",
   "id": "eaa7d94a",
   "metadata": {},
   "source": [
    "# <span style=\"color:#3399ff\">Beautiful Soup - Prática I</span>"
   ]
  },
  {
   "cell_type": "code",
   "execution_count": 50,
   "id": "d0b8b9cd",
   "metadata": {
    "ExecuteTime": {
     "end_time": "2022-01-12T10:00:06.034414Z",
     "start_time": "2022-01-12T10:00:06.032045Z"
    }
   },
   "outputs": [],
   "source": [
    "# id\n",
    "# product_name\n",
    "# product_type\n",
    "# product_composition\n",
    "# preco"
   ]
  },
  {
   "cell_type": "code",
   "execution_count": 51,
   "id": "5e466fe7",
   "metadata": {
    "ExecuteTime": {
     "end_time": "2022-01-12T10:00:08.250587Z",
     "start_time": "2022-01-12T10:00:06.591571Z"
    }
   },
   "outputs": [],
   "source": [
    "url = 'https://www2.hm.com/en_us/men/products/jeans.html'\n",
    "\n",
    "headers = {'User-Agent': 'Mozilla/5.0 (Macintosh; Intel Mac OS X 10_11_5) AppleWebKit/537.36 (KHTML, like Gecko) Chrome/50.0.2661.102 Safari/537.36'}\n",
    "page = requests.get(url, headers=headers)"
   ]
  },
  {
   "cell_type": "code",
   "execution_count": 52,
   "id": "a92bbfe6",
   "metadata": {
    "ExecuteTime": {
     "end_time": "2022-01-12T10:00:08.491462Z",
     "start_time": "2022-01-12T10:00:08.253396Z"
    }
   },
   "outputs": [],
   "source": [
    "soup = BeautifulSoup(page.text, 'html.parser')"
   ]
  },
  {
   "cell_type": "code",
   "execution_count": 53,
   "id": "6236c76c",
   "metadata": {
    "ExecuteTime": {
     "end_time": "2022-01-12T10:00:08.501209Z",
     "start_time": "2022-01-12T10:00:08.493257Z"
    }
   },
   "outputs": [],
   "source": [
    "products = soup.find('ul', class_='products-listing small')"
   ]
  },
  {
   "cell_type": "code",
   "execution_count": 54,
   "id": "a89bdae3",
   "metadata": {
    "ExecuteTime": {
     "end_time": "2022-01-12T10:00:17.442942Z",
     "start_time": "2022-01-12T10:00:17.438303Z"
    }
   },
   "outputs": [],
   "source": [
    "product_list = products.find_all('article', class_='hm-product-item')"
   ]
  },
  {
   "cell_type": "code",
   "execution_count": 55,
   "id": "1d3f0d41",
   "metadata": {
    "ExecuteTime": {
     "end_time": "2022-01-12T10:00:18.949796Z",
     "start_time": "2022-01-12T10:00:18.945819Z"
    }
   },
   "outputs": [
    {
     "data": {
      "text/plain": [
       "36"
      ]
     },
     "execution_count": 55,
     "metadata": {},
     "output_type": "execute_result"
    }
   ],
   "source": [
    "len(product_list)"
   ]
  },
  {
   "cell_type": "code",
   "execution_count": 56,
   "id": "13c07f27",
   "metadata": {
    "ExecuteTime": {
     "end_time": "2022-01-12T10:00:33.068123Z",
     "start_time": "2022-01-12T10:00:33.064867Z"
    }
   },
   "outputs": [],
   "source": [
    "# product_id\n",
    "product_id = [p.get('data-articlecode') for p in product_list]\n",
    "\n",
    "# product_category\n",
    "product_category = [p.get('data-category') for p in product_list]"
   ]
  },
  {
   "cell_type": "code",
   "execution_count": 59,
   "id": "6709fa10",
   "metadata": {
    "ExecuteTime": {
     "end_time": "2022-01-12T10:00:49.901342Z",
     "start_time": "2022-01-12T10:00:49.894768Z"
    }
   },
   "outputs": [],
   "source": [
    "# product_name\n",
    "product_list = products.find_all('a', class_='link')\n",
    "product_name = [p.get_text() for p in product_list] "
   ]
  },
  {
   "cell_type": "code",
   "execution_count": 60,
   "id": "d98e6bc7",
   "metadata": {
    "ExecuteTime": {
     "end_time": "2022-01-12T10:00:51.092094Z",
     "start_time": "2022-01-12T10:00:51.086547Z"
    }
   },
   "outputs": [],
   "source": [
    "# product_price\n",
    "product_list = products.find_all('span', class_='price regular')\n",
    "product_price = [p.get_text() for p in product_list]"
   ]
  },
  {
   "cell_type": "code",
   "execution_count": 62,
   "id": "3c2aff7a",
   "metadata": {
    "ExecuteTime": {
     "end_time": "2022-01-12T10:01:53.531898Z",
     "start_time": "2022-01-12T10:01:53.514515Z"
    }
   },
   "outputs": [
    {
     "data": {
      "text/html": [
       "<div>\n",
       "<style scoped>\n",
       "    .dataframe tbody tr th:only-of-type {\n",
       "        vertical-align: middle;\n",
       "    }\n",
       "\n",
       "    .dataframe tbody tr th {\n",
       "        vertical-align: top;\n",
       "    }\n",
       "\n",
       "    .dataframe thead th {\n",
       "        text-align: right;\n",
       "    }\n",
       "</style>\n",
       "<table border=\"1\" class=\"dataframe\">\n",
       "  <thead>\n",
       "    <tr style=\"text-align: right;\">\n",
       "      <th></th>\n",
       "      <th>product_id</th>\n",
       "      <th>product_category</th>\n",
       "      <th>product_name</th>\n",
       "      <th>product_price</th>\n",
       "    </tr>\n",
       "  </thead>\n",
       "  <tbody>\n",
       "    <tr>\n",
       "      <th>0</th>\n",
       "      <td>1024256001</td>\n",
       "      <td>men_jeans_slim</td>\n",
       "      <td>Slim Jeans</td>\n",
       "      <td>$ 19.99</td>\n",
       "    </tr>\n",
       "    <tr>\n",
       "      <th>1</th>\n",
       "      <td>0985159001</td>\n",
       "      <td>men_jeans_skinny</td>\n",
       "      <td>Skinny Jeans</td>\n",
       "      <td>$ 24.99</td>\n",
       "    </tr>\n",
       "    <tr>\n",
       "      <th>2</th>\n",
       "      <td>0690449036</td>\n",
       "      <td>men_jeans_ripped</td>\n",
       "      <td>Skinny Jeans</td>\n",
       "      <td>$ 39.99</td>\n",
       "    </tr>\n",
       "    <tr>\n",
       "      <th>3</th>\n",
       "      <td>0690449051</td>\n",
       "      <td>men_jeans_ripped</td>\n",
       "      <td>Skinny Jeans</td>\n",
       "      <td>$ 39.99</td>\n",
       "    </tr>\n",
       "    <tr>\n",
       "      <th>4</th>\n",
       "      <td>1024256003</td>\n",
       "      <td>men_jeans_slim</td>\n",
       "      <td>Slim Jeans</td>\n",
       "      <td>$ 19.99</td>\n",
       "    </tr>\n",
       "  </tbody>\n",
       "</table>\n",
       "</div>"
      ],
      "text/plain": [
       "   product_id  product_category  product_name product_price\n",
       "0  1024256001    men_jeans_slim    Slim Jeans       $ 19.99\n",
       "1  0985159001  men_jeans_skinny  Skinny Jeans       $ 24.99\n",
       "2  0690449036  men_jeans_ripped  Skinny Jeans       $ 39.99\n",
       "3  0690449051  men_jeans_ripped  Skinny Jeans       $ 39.99\n",
       "4  1024256003    men_jeans_slim    Slim Jeans       $ 19.99"
      ]
     },
     "execution_count": 62,
     "metadata": {},
     "output_type": "execute_result"
    }
   ],
   "source": [
    "data = pd.DataFrame([product_id , product_category, product_name, product_price]).T\n",
    "data.columns = ['product_id' , 'product_category', 'product_name', 'product_price']\n",
    "data.head()"
   ]
  },
  {
   "cell_type": "code",
   "execution_count": 66,
   "id": "8371e161",
   "metadata": {
    "ExecuteTime": {
     "end_time": "2022-01-12T10:04:14.104418Z",
     "start_time": "2022-01-12T10:04:14.100311Z"
    }
   },
   "outputs": [],
   "source": [
    "# scrapy datetime\n",
    "data['scrapy_datetime'] = datetime.now().strftime('%Y-%m-%d %H:%M:%S')"
   ]
  },
  {
   "cell_type": "code",
   "execution_count": 67,
   "id": "c5ad2dcb",
   "metadata": {
    "ExecuteTime": {
     "end_time": "2022-01-12T10:04:14.635542Z",
     "start_time": "2022-01-12T10:04:14.628555Z"
    }
   },
   "outputs": [
    {
     "data": {
      "text/html": [
       "<div>\n",
       "<style scoped>\n",
       "    .dataframe tbody tr th:only-of-type {\n",
       "        vertical-align: middle;\n",
       "    }\n",
       "\n",
       "    .dataframe tbody tr th {\n",
       "        vertical-align: top;\n",
       "    }\n",
       "\n",
       "    .dataframe thead th {\n",
       "        text-align: right;\n",
       "    }\n",
       "</style>\n",
       "<table border=\"1\" class=\"dataframe\">\n",
       "  <thead>\n",
       "    <tr style=\"text-align: right;\">\n",
       "      <th></th>\n",
       "      <th>product_id</th>\n",
       "      <th>product_category</th>\n",
       "      <th>product_name</th>\n",
       "      <th>product_price</th>\n",
       "      <th>scrapy_datetime</th>\n",
       "    </tr>\n",
       "  </thead>\n",
       "  <tbody>\n",
       "    <tr>\n",
       "      <th>0</th>\n",
       "      <td>1024256001</td>\n",
       "      <td>men_jeans_slim</td>\n",
       "      <td>Slim Jeans</td>\n",
       "      <td>$ 19.99</td>\n",
       "      <td>2022-01-12 07:04:14</td>\n",
       "    </tr>\n",
       "    <tr>\n",
       "      <th>1</th>\n",
       "      <td>0985159001</td>\n",
       "      <td>men_jeans_skinny</td>\n",
       "      <td>Skinny Jeans</td>\n",
       "      <td>$ 24.99</td>\n",
       "      <td>2022-01-12 07:04:14</td>\n",
       "    </tr>\n",
       "    <tr>\n",
       "      <th>2</th>\n",
       "      <td>0690449036</td>\n",
       "      <td>men_jeans_ripped</td>\n",
       "      <td>Skinny Jeans</td>\n",
       "      <td>$ 39.99</td>\n",
       "      <td>2022-01-12 07:04:14</td>\n",
       "    </tr>\n",
       "    <tr>\n",
       "      <th>3</th>\n",
       "      <td>0690449051</td>\n",
       "      <td>men_jeans_ripped</td>\n",
       "      <td>Skinny Jeans</td>\n",
       "      <td>$ 39.99</td>\n",
       "      <td>2022-01-12 07:04:14</td>\n",
       "    </tr>\n",
       "    <tr>\n",
       "      <th>4</th>\n",
       "      <td>1024256003</td>\n",
       "      <td>men_jeans_slim</td>\n",
       "      <td>Slim Jeans</td>\n",
       "      <td>$ 19.99</td>\n",
       "      <td>2022-01-12 07:04:14</td>\n",
       "    </tr>\n",
       "  </tbody>\n",
       "</table>\n",
       "</div>"
      ],
      "text/plain": [
       "   product_id  product_category  product_name product_price  \\\n",
       "0  1024256001    men_jeans_slim    Slim Jeans       $ 19.99   \n",
       "1  0985159001  men_jeans_skinny  Skinny Jeans       $ 24.99   \n",
       "2  0690449036  men_jeans_ripped  Skinny Jeans       $ 39.99   \n",
       "3  0690449051  men_jeans_ripped  Skinny Jeans       $ 39.99   \n",
       "4  1024256003    men_jeans_slim    Slim Jeans       $ 19.99   \n",
       "\n",
       "       scrapy_datetime  \n",
       "0  2022-01-12 07:04:14  \n",
       "1  2022-01-12 07:04:14  \n",
       "2  2022-01-12 07:04:14  \n",
       "3  2022-01-12 07:04:14  \n",
       "4  2022-01-12 07:04:14  "
      ]
     },
     "execution_count": 67,
     "metadata": {},
     "output_type": "execute_result"
    }
   ],
   "source": [
    "data.head()"
   ]
  },
  {
   "cell_type": "code",
   "execution_count": null,
   "id": "e2420f5b",
   "metadata": {},
   "outputs": [],
   "source": []
  }
 ],
 "metadata": {
  "kernelspec": {
   "display_name": "Python 3 (ipykernel)",
   "language": "python",
   "name": "python3"
  },
  "language_info": {
   "codemirror_mode": {
    "name": "ipython",
    "version": 3
   },
   "file_extension": ".py",
   "mimetype": "text/x-python",
   "name": "python",
   "nbconvert_exporter": "python",
   "pygments_lexer": "ipython3",
   "version": "3.9.7"
  }
 },
 "nbformat": 4,
 "nbformat_minor": 5
}
