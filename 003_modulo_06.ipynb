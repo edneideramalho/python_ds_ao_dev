{
 "cells": [
  {
   "cell_type": "markdown",
   "id": "11d72122",
   "metadata": {
    "heading_collapsed": true
   },
   "source": [
    "#  <span style=\"color:#0077b3\">Relembrando onde estamos no ciclo CRISP</span>"
   ]
  },
  {
   "cell_type": "markdown",
   "id": "9311667c",
   "metadata": {
    "hidden": true
   },
   "source": [
    "**Questões de negócio**\n",
    "1. Qual o melhor preço de venda para as calças?\n",
    "2. Quantos tupos e suas cores para o produto inicial?\n",
    "3. Quais as matérias primas necessárias para confeccionar as calças?\n",
    "\n",
    "Neste momento, estamos na etapa de **limpeza de dados**. Antes de partirmos para esta estapa efetivamente, vamos ver algumas funções importantes. "
   ]
  },
  {
   "cell_type": "markdown",
   "id": "200b15e3",
   "metadata": {
    "heading_collapsed": true
   },
   "source": [
    "#  <span style=\"color:#e67300\">Apply, Map, Lambda</span>"
   ]
  },
  {
   "cell_type": "markdown",
   "id": "fae96715",
   "metadata": {
    "heading_collapsed": true,
    "hidden": true
   },
   "source": [
    "## 1.0. A função Lambda"
   ]
  },
  {
   "cell_type": "markdown",
   "id": "c5dd3cc4",
   "metadata": {
    "hidden": true
   },
   "source": [
    "- É uma maneira de escrever uma função, de forma mais simples. Essa função não necessariamente é usada de forma repetitiva no seu código. \n",
    "- Nunca usar Lambda quando é muito complexa ou quando se quer generalizar algo no código.\n",
    "- Em geral, usada localmente. "
   ]
  },
  {
   "cell_type": "markdown",
   "id": "88bfcc6f",
   "metadata": {
    "hidden": true
   },
   "source": [
    "### Usando `def`"
   ]
  },
  {
   "cell_type": "code",
   "execution_count": 1,
   "id": "646d5cb8",
   "metadata": {
    "ExecuteTime": {
     "end_time": "2022-01-29T14:53:04.450991Z",
     "start_time": "2022-01-29T14:53:04.434308Z"
    },
    "hidden": true
   },
   "outputs": [],
   "source": [
    "def calculation(a, b):\n",
    "    c = a + b\n",
    "    return c"
   ]
  },
  {
   "cell_type": "code",
   "execution_count": 2,
   "id": "fea62903",
   "metadata": {
    "ExecuteTime": {
     "end_time": "2022-01-29T14:53:10.819245Z",
     "start_time": "2022-01-29T14:53:10.808269Z"
    },
    "hidden": true
   },
   "outputs": [
    {
     "data": {
      "text/plain": [
       "65"
      ]
     },
     "execution_count": 2,
     "metadata": {},
     "output_type": "execute_result"
    }
   ],
   "source": [
    "calculation(10, 55)"
   ]
  },
  {
   "cell_type": "markdown",
   "id": "baa0586c",
   "metadata": {
    "hidden": true
   },
   "source": [
    "### Usando Lambda"
   ]
  },
  {
   "cell_type": "code",
   "execution_count": 3,
   "id": "fde4e752",
   "metadata": {
    "ExecuteTime": {
     "end_time": "2022-01-29T14:53:34.593585Z",
     "start_time": "2022-01-29T14:53:34.590724Z"
    },
    "hidden": true
   },
   "outputs": [],
   "source": [
    "f_calc = lambda a, b: a + b"
   ]
  },
  {
   "cell_type": "code",
   "execution_count": 4,
   "id": "9706a785",
   "metadata": {
    "ExecuteTime": {
     "end_time": "2022-01-29T14:53:43.101640Z",
     "start_time": "2022-01-29T14:53:43.096729Z"
    },
    "hidden": true
   },
   "outputs": [
    {
     "data": {
      "text/plain": [
       "40"
      ]
     },
     "execution_count": 4,
     "metadata": {},
     "output_type": "execute_result"
    }
   ],
   "source": [
    "f_calc()"
   ]
  },
  {
   "cell_type": "markdown",
   "id": "1ee3842b",
   "metadata": {
    "heading_collapsed": true,
    "hidden": true
   },
   "source": [
    "## 2.0. A função Map"
   ]
  },
  {
   "cell_type": "markdown",
   "id": "5f10f405",
   "metadata": {
    "hidden": true
   },
   "source": [
    "- Aplica a função em todos os elementos da estrutura de dados: \n",
    "   + pode ser uma lista\n",
    "   + dataframe"
   ]
  },
  {
   "cell_type": "markdown",
   "id": "f3016b75",
   "metadata": {
    "hidden": true
   },
   "source": [
    "map(funcao, estrutura_de_dados)\n",
    "\n",
    "- lista: [10, 330, 40, 50, 60]\n",
    "- dataframe: por linha ou coluna"
   ]
  },
  {
   "cell_type": "code",
   "execution_count": 6,
   "id": "654fd6a0",
   "metadata": {
    "ExecuteTime": {
     "end_time": "2022-01-29T16:00:06.892356Z",
     "start_time": "2022-01-29T16:00:06.878248Z"
    },
    "hidden": true
   },
   "outputs": [
    {
     "data": {
      "text/plain": [
       "['store',\n",
       " 'dayofweek',\n",
       " 'date',\n",
       " 'sales',\n",
       " 'customers',\n",
       " 'open',\n",
       " 'promo',\n",
       " 'stateholiday',\n",
       " 'schoolholiday',\n",
       " 'storetype',\n",
       " 'assortment',\n",
       " 'competitiondistance',\n",
       " 'competitionopensincemonth',\n",
       " 'competitionopensinceyear',\n",
       " 'promo2',\n",
       " 'promo2sinceweek',\n",
       " 'promo2sinceyear',\n",
       " 'promointerval']"
      ]
     },
     "execution_count": 6,
     "metadata": {},
     "output_type": "execute_result"
    }
   ],
   "source": [
    "cols_old = ['Store', 'DayOfWeek', 'Date', 'Sales', 'Customers', 'Open',\n",
    "            'Promo', 'StateHoliday', 'SchoolHoliday','StoreType', 'Assortment', \n",
    "            'CompetitionDistance','CompetitionOpenSinceMonth','CompetitionOpenSinceYear', \n",
    "            'Promo2', 'Promo2SinceWeek', 'Promo2SinceYear', 'PromoInterval']\n",
    "\n",
    "# function\n",
    "snakecase = lambda x: x.lower()\n",
    "\n",
    "# map\n",
    "list(map(snakecase, cols_old))"
   ]
  },
  {
   "cell_type": "code",
   "execution_count": 14,
   "id": "ec5eb04e",
   "metadata": {
    "ExecuteTime": {
     "end_time": "2022-01-29T16:05:03.438175Z",
     "start_time": "2022-01-29T16:05:03.425410Z"
    },
    "hidden": true
   },
   "outputs": [
    {
     "data": {
      "text/html": [
       "<div>\n",
       "<style scoped>\n",
       "    .dataframe tbody tr th:only-of-type {\n",
       "        vertical-align: middle;\n",
       "    }\n",
       "\n",
       "    .dataframe tbody tr th {\n",
       "        vertical-align: top;\n",
       "    }\n",
       "\n",
       "    .dataframe thead th {\n",
       "        text-align: right;\n",
       "    }\n",
       "</style>\n",
       "<table border=\"1\" class=\"dataframe\">\n",
       "  <thead>\n",
       "    <tr style=\"text-align: right;\">\n",
       "      <th></th>\n",
       "      <th>nome</th>\n",
       "      <th>idade</th>\n",
       "      <th>altura</th>\n",
       "    </tr>\n",
       "  </thead>\n",
       "  <tbody>\n",
       "    <tr>\n",
       "      <th>0</th>\n",
       "      <td>Neide</td>\n",
       "      <td>31</td>\n",
       "      <td>1.60</td>\n",
       "    </tr>\n",
       "    <tr>\n",
       "      <th>1</th>\n",
       "      <td>Maria</td>\n",
       "      <td>41</td>\n",
       "      <td>1.55</td>\n",
       "    </tr>\n",
       "    <tr>\n",
       "      <th>2</th>\n",
       "      <td>Claudia</td>\n",
       "      <td>46</td>\n",
       "      <td>1.58</td>\n",
       "    </tr>\n",
       "    <tr>\n",
       "      <th>3</th>\n",
       "      <td>Ines</td>\n",
       "      <td>65</td>\n",
       "      <td>1.65</td>\n",
       "    </tr>\n",
       "  </tbody>\n",
       "</table>\n",
       "</div>"
      ],
      "text/plain": [
       "      nome  idade  altura\n",
       "0    Neide     31    1.60\n",
       "1    Maria     41    1.55\n",
       "2  Claudia     46    1.58\n",
       "3     Ines     65    1.65"
      ]
     },
     "execution_count": 14,
     "metadata": {},
     "output_type": "execute_result"
    }
   ],
   "source": [
    "# Para data frame\n",
    "import pandas as pd\n",
    "\n",
    "data = {'nome': ['Neide', 'Maria', 'Claudia', 'Ines'],\n",
    "       'idade': [31, 41, 46, 65],\n",
    "       'altura': [1.60, 1.55, 1.58, 1.65]}\n",
    "\n",
    "data = pd.DataFrame(data)\n",
    "data"
   ]
  },
  {
   "cell_type": "code",
   "execution_count": 15,
   "id": "5a0b5d81",
   "metadata": {
    "ExecuteTime": {
     "end_time": "2022-01-29T16:05:04.089845Z",
     "start_time": "2022-01-29T16:05:04.085403Z"
    },
    "hidden": true
   },
   "outputs": [
    {
     "data": {
      "text/plain": [
       "[160.0, 155.0, 158.0, 165.0]"
      ]
     },
     "execution_count": 15,
     "metadata": {},
     "output_type": "execute_result"
    }
   ],
   "source": [
    "decimal = lambda x: x*100\n",
    "\n",
    "list(map(decimal, data['altura']))"
   ]
  },
  {
   "cell_type": "markdown",
   "id": "3f57439c",
   "metadata": {
    "heading_collapsed": true,
    "hidden": true
   },
   "source": [
    "## 3.0. Apply"
   ]
  },
  {
   "cell_type": "markdown",
   "id": "6e6b904b",
   "metadata": {
    "hidden": true
   },
   "source": [
    "- map: é genérica e está na library base do python\n",
    "- apply: faz a mesma coisa, só que é do pandas"
   ]
  },
  {
   "cell_type": "code",
   "execution_count": 17,
   "id": "e0dce909",
   "metadata": {
    "ExecuteTime": {
     "end_time": "2022-01-29T16:10:42.141075Z",
     "start_time": "2022-01-29T16:10:42.127750Z"
    },
    "hidden": true
   },
   "outputs": [
    {
     "data": {
      "text/html": [
       "<div>\n",
       "<style scoped>\n",
       "    .dataframe tbody tr th:only-of-type {\n",
       "        vertical-align: middle;\n",
       "    }\n",
       "\n",
       "    .dataframe tbody tr th {\n",
       "        vertical-align: top;\n",
       "    }\n",
       "\n",
       "    .dataframe thead th {\n",
       "        text-align: right;\n",
       "    }\n",
       "</style>\n",
       "<table border=\"1\" class=\"dataframe\">\n",
       "  <thead>\n",
       "    <tr style=\"text-align: right;\">\n",
       "      <th></th>\n",
       "      <th>nome</th>\n",
       "      <th>idade</th>\n",
       "      <th>altura</th>\n",
       "      <th>nova_altura</th>\n",
       "    </tr>\n",
       "  </thead>\n",
       "  <tbody>\n",
       "    <tr>\n",
       "      <th>0</th>\n",
       "      <td>Neide</td>\n",
       "      <td>31</td>\n",
       "      <td>1.60</td>\n",
       "      <td>160.0</td>\n",
       "    </tr>\n",
       "    <tr>\n",
       "      <th>1</th>\n",
       "      <td>Maria</td>\n",
       "      <td>41</td>\n",
       "      <td>1.55</td>\n",
       "      <td>155.0</td>\n",
       "    </tr>\n",
       "    <tr>\n",
       "      <th>2</th>\n",
       "      <td>Claudia</td>\n",
       "      <td>46</td>\n",
       "      <td>1.58</td>\n",
       "      <td>158.0</td>\n",
       "    </tr>\n",
       "    <tr>\n",
       "      <th>3</th>\n",
       "      <td>Ines</td>\n",
       "      <td>65</td>\n",
       "      <td>1.65</td>\n",
       "      <td>165.0</td>\n",
       "    </tr>\n",
       "  </tbody>\n",
       "</table>\n",
       "</div>"
      ],
      "text/plain": [
       "      nome  idade  altura  nova_altura\n",
       "0    Neide     31    1.60        160.0\n",
       "1    Maria     41    1.55        155.0\n",
       "2  Claudia     46    1.58        158.0\n",
       "3     Ines     65    1.65        165.0"
      ]
     },
     "execution_count": 17,
     "metadata": {},
     "output_type": "execute_result"
    }
   ],
   "source": [
    "function_exp = lambda x: x*100\n",
    "\n",
    "data['nova_altura'] = data['altura'].apply(function_exp)\n",
    "\n",
    "data"
   ]
  },
  {
   "cell_type": "markdown",
   "id": "c3a6b2af",
   "metadata": {
    "heading_collapsed": true
   },
   "source": [
    "#  <span style=\"color:#e67300\">Apply, Map, Lambda - Parte II</span>"
   ]
  },
  {
   "cell_type": "code",
   "execution_count": 53,
   "id": "50c87b20",
   "metadata": {
    "ExecuteTime": {
     "end_time": "2022-01-29T21:51:12.342956Z",
     "start_time": "2022-01-29T21:51:12.305093Z"
    },
    "hidden": true
   },
   "outputs": [],
   "source": [
    "import pandas as pd\n",
    "\n",
    "df = pd.read_csv('products_hm.csv')"
   ]
  },
  {
   "cell_type": "code",
   "execution_count": 54,
   "id": "f8eccb31",
   "metadata": {
    "ExecuteTime": {
     "end_time": "2022-01-29T21:51:12.874932Z",
     "start_time": "2022-01-29T21:51:12.857208Z"
    },
    "hidden": true
   },
   "outputs": [
    {
     "data": {
      "text/html": [
       "<div>\n",
       "<style scoped>\n",
       "    .dataframe tbody tr th:only-of-type {\n",
       "        vertical-align: middle;\n",
       "    }\n",
       "\n",
       "    .dataframe tbody tr th {\n",
       "        vertical-align: top;\n",
       "    }\n",
       "\n",
       "    .dataframe thead th {\n",
       "        text-align: right;\n",
       "    }\n",
       "</style>\n",
       "<table border=\"1\" class=\"dataframe\">\n",
       "  <thead>\n",
       "    <tr style=\"text-align: right;\">\n",
       "      <th></th>\n",
       "      <th>Unnamed: 0</th>\n",
       "      <th>product_id</th>\n",
       "      <th>product_category</th>\n",
       "      <th>product_name</th>\n",
       "      <th>product_price</th>\n",
       "      <th>scrapy_datetime</th>\n",
       "      <th>style_id</th>\n",
       "      <th>color_id</th>\n",
       "      <th>color_name</th>\n",
       "      <th>Fit</th>\n",
       "      <th>Composition</th>\n",
       "    </tr>\n",
       "  </thead>\n",
       "  <tbody>\n",
       "    <tr>\n",
       "      <th>0</th>\n",
       "      <td>0</td>\n",
       "      <td>1008549001</td>\n",
       "      <td>men_jeans_regular</td>\n",
       "      <td>Regular Jeans</td>\n",
       "      <td>$ 19.99</td>\n",
       "      <td>2022-01-29 13:15:13</td>\n",
       "      <td>1008549</td>\n",
       "      <td>1</td>\n",
       "      <td>Denim blue</td>\n",
       "      <td>Regular fit</td>\n",
       "      <td>Shell: Cotton 98%, Spandex 2%</td>\n",
       "    </tr>\n",
       "    <tr>\n",
       "      <th>1</th>\n",
       "      <td>1</td>\n",
       "      <td>1008549001</td>\n",
       "      <td>men_jeans_regular</td>\n",
       "      <td>Regular Jeans</td>\n",
       "      <td>$ 19.99</td>\n",
       "      <td>2022-01-29 13:15:13</td>\n",
       "      <td>1008549</td>\n",
       "      <td>1</td>\n",
       "      <td>Denim blue</td>\n",
       "      <td>Regular fit</td>\n",
       "      <td>Pocket lining: Polyester 65%, Cotton 35%</td>\n",
       "    </tr>\n",
       "    <tr>\n",
       "      <th>2</th>\n",
       "      <td>2</td>\n",
       "      <td>1008549001</td>\n",
       "      <td>men_jeans_regular</td>\n",
       "      <td>Regular Jeans</td>\n",
       "      <td>$ 19.99</td>\n",
       "      <td>2022-01-29 13:15:13</td>\n",
       "      <td>1008549</td>\n",
       "      <td>1</td>\n",
       "      <td>Dark blue</td>\n",
       "      <td>Regular fit</td>\n",
       "      <td>Shell: Cotton 98%, Spandex 2%</td>\n",
       "    </tr>\n",
       "    <tr>\n",
       "      <th>3</th>\n",
       "      <td>3</td>\n",
       "      <td>1008549001</td>\n",
       "      <td>men_jeans_regular</td>\n",
       "      <td>Regular Jeans</td>\n",
       "      <td>$ 19.99</td>\n",
       "      <td>2022-01-29 13:15:13</td>\n",
       "      <td>1008549</td>\n",
       "      <td>1</td>\n",
       "      <td>Dark blue</td>\n",
       "      <td>Regular fit</td>\n",
       "      <td>Pocket lining: Polyester 65%, Cotton 35%</td>\n",
       "    </tr>\n",
       "    <tr>\n",
       "      <th>4</th>\n",
       "      <td>4</td>\n",
       "      <td>1008549001</td>\n",
       "      <td>men_jeans_regular</td>\n",
       "      <td>Regular Jeans</td>\n",
       "      <td>$ 19.99</td>\n",
       "      <td>2022-01-29 13:15:13</td>\n",
       "      <td>1008549</td>\n",
       "      <td>1</td>\n",
       "      <td>Black</td>\n",
       "      <td>Regular fit</td>\n",
       "      <td>Shell: Cotton 98%, Spandex 2%</td>\n",
       "    </tr>\n",
       "  </tbody>\n",
       "</table>\n",
       "</div>"
      ],
      "text/plain": [
       "   Unnamed: 0  ...                               Composition\n",
       "0           0  ...             Shell: Cotton 98%, Spandex 2%\n",
       "1           1  ...  Pocket lining: Polyester 65%, Cotton 35%\n",
       "2           2  ...             Shell: Cotton 98%, Spandex 2%\n",
       "3           3  ...  Pocket lining: Polyester 65%, Cotton 35%\n",
       "4           4  ...             Shell: Cotton 98%, Spandex 2%\n",
       "\n",
       "[5 rows x 11 columns]"
      ]
     },
     "execution_count": 54,
     "metadata": {},
     "output_type": "execute_result"
    }
   ],
   "source": [
    "df.head()"
   ]
  },
  {
   "cell_type": "code",
   "execution_count": 55,
   "id": "6d4ac430",
   "metadata": {
    "ExecuteTime": {
     "end_time": "2022-01-29T21:51:13.396907Z",
     "start_time": "2022-01-29T21:51:13.393636Z"
    },
    "hidden": true
   },
   "outputs": [
    {
     "data": {
      "text/plain": [
       "(1965, 11)"
      ]
     },
     "execution_count": 55,
     "metadata": {},
     "output_type": "execute_result"
    }
   ],
   "source": [
    "df.shape"
   ]
  },
  {
   "cell_type": "code",
   "execution_count": 56,
   "id": "19bb3d4b",
   "metadata": {
    "ExecuteTime": {
     "end_time": "2022-01-29T21:51:14.140250Z",
     "start_time": "2022-01-29T21:51:14.136341Z"
    },
    "hidden": true
   },
   "outputs": [],
   "source": [
    "# Remove price - $\n",
    "df['product_price_new'] = df['product_price'].apply(lambda x: x.replace('$', ''))"
   ]
  },
  {
   "cell_type": "code",
   "execution_count": 57,
   "id": "f08ba7b3",
   "metadata": {
    "ExecuteTime": {
     "end_time": "2022-01-29T21:51:14.827938Z",
     "start_time": "2022-01-29T21:51:14.823514Z"
    },
    "hidden": true
   },
   "outputs": [
    {
     "data": {
      "text/plain": [
       "0     19.99\n",
       "1     19.99\n",
       "2     19.99\n",
       "3     19.99\n",
       "4     19.99\n",
       "Name: product_price_new, dtype: object"
      ]
     },
     "execution_count": 57,
     "metadata": {},
     "output_type": "execute_result"
    }
   ],
   "source": [
    "df['product_price_new'].head()"
   ]
  },
  {
   "cell_type": "code",
   "execution_count": 58,
   "id": "f6247b74",
   "metadata": {
    "ExecuteTime": {
     "end_time": "2022-01-29T21:51:15.480995Z",
     "start_time": "2022-01-29T21:51:15.476523Z"
    },
    "hidden": true
   },
   "outputs": [
    {
     "data": {
      "text/plain": [
       "0"
      ]
     },
     "execution_count": 58,
     "metadata": {},
     "output_type": "execute_result"
    }
   ],
   "source": [
    "df['product_price'].isna().sum()"
   ]
  },
  {
   "cell_type": "markdown",
   "id": "4573f55b",
   "metadata": {
    "hidden": true
   },
   "source": [
    "- No caso de termos NA, faríamos um condicional:"
   ]
  },
  {
   "cell_type": "markdown",
   "id": "1c0159e5",
   "metadata": {
    "hidden": true
   },
   "source": [
    "`df['prodcut_price'] = df['product_price'].apply(lambda x: x.replace('$', '') if pd.notnull(x) else x)`"
   ]
  },
  {
   "cell_type": "code",
   "execution_count": 64,
   "id": "66c3bfe6",
   "metadata": {
    "ExecuteTime": {
     "end_time": "2022-01-29T21:53:51.753091Z",
     "start_time": "2022-01-29T21:53:51.641084Z"
    },
    "hidden": true
   },
   "outputs": [
    {
     "data": {
      "text/html": [
       "<div>\n",
       "<style scoped>\n",
       "    .dataframe tbody tr th:only-of-type {\n",
       "        vertical-align: middle;\n",
       "    }\n",
       "\n",
       "    .dataframe tbody tr th {\n",
       "        vertical-align: top;\n",
       "    }\n",
       "\n",
       "    .dataframe thead th {\n",
       "        text-align: right;\n",
       "    }\n",
       "</style>\n",
       "<table border=\"1\" class=\"dataframe\">\n",
       "  <thead>\n",
       "    <tr style=\"text-align: right;\">\n",
       "      <th></th>\n",
       "      <th>Unnamed: 0</th>\n",
       "      <th>product_id</th>\n",
       "      <th>product_category</th>\n",
       "      <th>product_name</th>\n",
       "      <th>product_price</th>\n",
       "      <th>scrapy_datetime</th>\n",
       "      <th>style_id</th>\n",
       "      <th>color_id</th>\n",
       "      <th>color_name</th>\n",
       "      <th>Fit</th>\n",
       "      <th>Composition</th>\n",
       "      <th>product_price_new</th>\n",
       "    </tr>\n",
       "  </thead>\n",
       "  <tbody>\n",
       "    <tr>\n",
       "      <th>0</th>\n",
       "      <td>0</td>\n",
       "      <td>1008549001</td>\n",
       "      <td>men_jeans_regular</td>\n",
       "      <td>Regular Jeans</td>\n",
       "      <td>$ 19.99</td>\n",
       "      <td>2022-01-29 13:15:13</td>\n",
       "      <td>1008549</td>\n",
       "      <td>1</td>\n",
       "      <td>Denim blue</td>\n",
       "      <td>Regular fit</td>\n",
       "      <td>Shell: Cotton 98%, Spandex 2%</td>\n",
       "      <td>19.99</td>\n",
       "    </tr>\n",
       "    <tr>\n",
       "      <th>1</th>\n",
       "      <td>1</td>\n",
       "      <td>1008549001</td>\n",
       "      <td>men_jeans_regular</td>\n",
       "      <td>Regular Jeans</td>\n",
       "      <td>$ 19.99</td>\n",
       "      <td>2022-01-29 13:15:13</td>\n",
       "      <td>1008549</td>\n",
       "      <td>1</td>\n",
       "      <td>Denim blue</td>\n",
       "      <td>Regular fit</td>\n",
       "      <td>Pocket lining: Polyester 65%, Cotton 35%</td>\n",
       "      <td>19.99</td>\n",
       "    </tr>\n",
       "    <tr>\n",
       "      <th>2</th>\n",
       "      <td>2</td>\n",
       "      <td>1008549001</td>\n",
       "      <td>men_jeans_regular</td>\n",
       "      <td>Regular Jeans</td>\n",
       "      <td>$ 19.99</td>\n",
       "      <td>2022-01-29 13:15:13</td>\n",
       "      <td>1008549</td>\n",
       "      <td>1</td>\n",
       "      <td>Dark blue</td>\n",
       "      <td>Regular fit</td>\n",
       "      <td>Shell: Cotton 98%, Spandex 2%</td>\n",
       "      <td>19.99</td>\n",
       "    </tr>\n",
       "    <tr>\n",
       "      <th>3</th>\n",
       "      <td>3</td>\n",
       "      <td>1008549001</td>\n",
       "      <td>men_jeans_regular</td>\n",
       "      <td>Regular Jeans</td>\n",
       "      <td>$ 19.99</td>\n",
       "      <td>2022-01-29 13:15:13</td>\n",
       "      <td>1008549</td>\n",
       "      <td>1</td>\n",
       "      <td>Dark blue</td>\n",
       "      <td>Regular fit</td>\n",
       "      <td>Pocket lining: Polyester 65%, Cotton 35%</td>\n",
       "      <td>19.99</td>\n",
       "    </tr>\n",
       "    <tr>\n",
       "      <th>4</th>\n",
       "      <td>4</td>\n",
       "      <td>1008549001</td>\n",
       "      <td>men_jeans_regular</td>\n",
       "      <td>Regular Jeans</td>\n",
       "      <td>19.99</td>\n",
       "      <td>2022-01-29 13:15:13</td>\n",
       "      <td>1008549</td>\n",
       "      <td>1</td>\n",
       "      <td>Black</td>\n",
       "      <td>Regular fit</td>\n",
       "      <td>Shell: Cotton 98%, Spandex 2%</td>\n",
       "      <td>19.99</td>\n",
       "    </tr>\n",
       "  </tbody>\n",
       "</table>\n",
       "</div>"
      ],
      "text/plain": [
       "   Unnamed: 0  ...  product_price_new\n",
       "0           0  ...              19.99\n",
       "1           1  ...              19.99\n",
       "2           2  ...              19.99\n",
       "3           3  ...              19.99\n",
       "4           4  ...              19.99\n",
       "\n",
       "[5 rows x 12 columns]"
      ]
     },
     "execution_count": 64,
     "metadata": {},
     "output_type": "execute_result"
    }
   ],
   "source": [
    "# Duas condicionais\n",
    "df['product_price'] = df[['product_price', 'color_name']].apply(lambda x: x['product_price'].replace('$', '') \n",
    "                                          if (pd.notnull(x['product_price'])) & (x['color_name']=='Black')\n",
    "                                          else x, axis = 1)['product_price']\n",
    "\n",
    "\n",
    "df.head()"
   ]
  },
  {
   "cell_type": "markdown",
   "id": "3fe1e61a",
   "metadata": {},
   "source": [
    "#  <span style=\"color:#e67300\">Introdução ao Regex (Expressões regulares) - Parte I</span>"
   ]
  },
  {
   "cell_type": "markdown",
   "id": "bafd0d65",
   "metadata": {},
   "source": [
    "- Máscaras para acomodar strings dentro de um texto (maneira mais genérica)"
   ]
  },
  {
   "cell_type": "code",
   "execution_count": 10,
   "id": "9578c7a3",
   "metadata": {
    "ExecuteTime": {
     "end_time": "2022-02-01T20:52:51.105970Z",
     "start_time": "2022-02-01T20:52:51.058676Z"
    }
   },
   "outputs": [],
   "source": [
    "import re"
   ]
  },
  {
   "cell_type": "code",
   "execution_count": 11,
   "id": "d20da1f3",
   "metadata": {
    "ExecuteTime": {
     "end_time": "2022-02-01T20:52:51.266306Z",
     "start_time": "2022-02-01T20:52:51.259678Z"
    }
   },
   "outputs": [],
   "source": [
    "text00 = '134.745.735-89'\n",
    "text01 = '134.745.735-859'\n",
    "\n",
    "#texto00 = 'numero ponto numero ponto traço numero' # \"fôrma\" esperada dos dados\n",
    "\n",
    "regex = '^\\d{3}\\.\\d{3}\\.\\d{3}\\-\\d{2}$'"
   ]
  },
  {
   "cell_type": "code",
   "execution_count": 12,
   "id": "ca820bbb",
   "metadata": {
    "ExecuteTime": {
     "end_time": "2022-02-01T20:52:51.755743Z",
     "start_time": "2022-02-01T20:52:51.736632Z"
    }
   },
   "outputs": [
    {
     "data": {
      "text/plain": [
       "True"
      ]
     },
     "execution_count": 12,
     "metadata": {},
     "output_type": "execute_result"
    }
   ],
   "source": [
    "bool(re.match(regex, text00))"
   ]
  },
  {
   "cell_type": "code",
   "execution_count": 13,
   "id": "ecfc2f94",
   "metadata": {
    "ExecuteTime": {
     "end_time": "2022-02-01T20:52:52.212982Z",
     "start_time": "2022-02-01T20:52:52.207482Z"
    }
   },
   "outputs": [
    {
     "data": {
      "text/plain": [
       "False"
      ]
     },
     "execution_count": 13,
     "metadata": {},
     "output_type": "execute_result"
    }
   ],
   "source": [
    "bool(re.match(regex, text01)) # Não obedece o padrão determinado pela regex"
   ]
  },
  {
   "cell_type": "markdown",
   "id": "4345dd18",
   "metadata": {
    "heading_collapsed": true
   },
   "source": [
    "### Utilização\n",
    "- Governança de dados\n",
    "- Detecção de padrão\n",
    "- Extrair informação de textos"
   ]
  },
  {
   "cell_type": "markdown",
   "id": "ec0857e5",
   "metadata": {},
   "source": [
    "## Máscaras do Regex"
   ]
  },
  {
   "cell_type": "markdown",
   "id": "01fa8f11",
   "metadata": {},
   "source": [
    "Créditos: https://blog.geekhunter.com.br/python-regex/"
   ]
  },
  {
   "cell_type": "markdown",
   "id": "131d1e85",
   "metadata": {},
   "source": [
    "### Marcadores de início e fim de linha\n"
   ]
  },
  {
   "cell_type": "markdown",
   "id": "b0b04b58",
   "metadata": {},
   "source": [
    "**^Python** - Encontra qualquer string que esteja em início de linha e contenha os caracteres \"Python\"\n",
    "\n",
    "**Python$** - Encontra qualquer string que esteja em fim de linha e contenha os caracteres \"Python\""
   ]
  },
  {
   "cell_type": "markdown",
   "id": "f66db097",
   "metadata": {},
   "source": [
    "### Marcadores de quantidade "
   ]
  },
  {
   "cell_type": "markdown",
   "id": "f67a3c2e",
   "metadata": {},
   "source": [
    "**Pyt*** - Encontra strings com sequência de caracteres \"Py\", seguida de zero ou mais ocorrências do caracter \"t\".\n",
    "\n",
    "**Pyt+** - Encontra strings com sequência de caracteres \"Py\", seguida de uma ou mais ocorrências do caracter \"t\".\n",
    "\n",
    "**Pyt?** - Encontra strings com sequência de caracteres \"Py\", seguida de zero ou uma ocorrência do caracter \"t\".\n",
    "\n",
    "**Pyt{3}** - Encontra strings com sequência de caracteres \"Py\", seguida de exatamente 3 ocorrências do caracter \"t\".\n",
    "\n",
    "**Pyt{2,4}** - Encontra strings com sequência de caracteres \"Py\", seguida de 2 a 4 ocorrências do caracter \"t\".\n",
    "\n",
    "**Pyt{3,}** - Encontra strings com sequência de caracteres \"Py\", seguida de 3 ou mais ocorrências do caracter \"t\".\n",
    "\n",
    "**Py(th)*** - Encontra strings com sequência de caracteres \"Py\", seguida de zero ou mais ocorrências da sequência \"th\""
   ]
  },
  {
   "cell_type": "markdown",
   "id": "3b642bf6",
   "metadata": {},
   "source": [
    "### Marcadores de alternativa ou operador OR \n"
   ]
  },
  {
   "cell_type": "markdown",
   "id": "e1e6423d",
   "metadata": {},
   "source": [
    "**Pyt|hon** - Encontra strings com a sequência de caracteres \"Pyt\" ou strings com a sequência de caracteres \"hon\"\n",
    "\n",
    "**Py(t|h)** - Encontra strings com a sequência de caracteres \"Py\", seguida do caracter \"t\" ou caracter \"h\".\n",
    "\n",
    "**Py(t|h|o)** - Encontra strings com a sequência de caracteres \"Py\", seguida do caracter \"t\" ou caracter \"h\" ou do caracter \"o\"."
   ]
  },
  {
   "cell_type": "markdown",
   "id": "b82692a8",
   "metadata": {},
   "source": [
    "### Marcadores de definição de conjuntos ( [] )\n"
   ]
  },
  {
   "cell_type": "markdown",
   "id": "a0566440",
   "metadata": {},
   "source": [
    "**Py[tho]** - Encontra strings com a sequência de caracteres \"Py\", seguida de um caracter pertencente ao conjunto ( t, h, o )\n",
    "\n",
    "\n",
    "**Py[0-9]** - Encontra strings com a sequência de caracteres \"Py\", seguida do caracter pertencente ao conjunto de dígitos de 0 a 9.\n",
    "\n",
    "**Py[a-z]** - Encontra strings com a sequência de caracteres \"Py\", seguida do caracter pertencente ao conjunto de caracteres alfabéticos de \"a\" a \"z\""
   ]
  },
  {
   "cell_type": "markdown",
   "id": "84712eb9",
   "metadata": {},
   "source": [
    "### Marcadores de classe de caracteres "
   ]
  },
  {
   "cell_type": "markdown",
   "id": "bf2bc204",
   "metadata": {},
   "source": [
    "**\\w** - Representa um caractere alfanumérico, incluindo ocorrências maiúsculas e minúsculas das letras e o caractere \"_\".\n",
    "\n",
    "**\\d** - Representa um caractere numérico e equivale a definição do conjunto [0-9]\n",
    "\n",
    "**\\s** - Representa um espaço em branco, incluindo tabulações e quebras de linha\n",
    "\n",
    "**.** - Este caracter é utilizado como coringa e representa qualquer caractere"
   ]
  },
  {
   "cell_type": "markdown",
   "id": "ab764485",
   "metadata": {},
   "source": [
    "## Exercícios com Regex"
   ]
  },
  {
   "cell_type": "markdown",
   "id": "8a4e4f36",
   "metadata": {},
   "source": [
    "Site: https://regex101.com/"
   ]
  },
  {
   "cell_type": "code",
   "execution_count": 14,
   "id": "8ccc2b82",
   "metadata": {
    "ExecuteTime": {
     "end_time": "2022-02-01T20:53:29.404764Z",
     "start_time": "2022-02-01T20:53:29.402362Z"
    }
   },
   "outputs": [],
   "source": [
    "import re"
   ]
  },
  {
   "cell_type": "code",
   "execution_count": 36,
   "id": "cb82f179",
   "metadata": {
    "ExecuteTime": {
     "end_time": "2022-02-01T22:16:18.623767Z",
     "start_time": "2022-02-01T22:16:18.617448Z"
    }
   },
   "outputs": [],
   "source": [
    "text00 = '234.567.890-25'\n",
    "text01 = 'Rua Armando Shibata, 97 - Vila Leopoldina, São Paulo'\n",
    "text02 = 'Av. dos Trabalhadores, 403 - Centro, Mogi Guaçu'\n",
    "text03 = 'Al. Moraes, 405 - Vila Gomes, Recife'\n",
    "\n",
    "text = [text01, text02, text03]\n",
    "# Nome da rua\n",
    "# Número da residência\n",
    "# Bairro\n",
    "# Nome da Cidade"
   ]
  },
  {
   "cell_type": "markdown",
   "id": "502952fb",
   "metadata": {},
   "source": [
    "### Função Match"
   ]
  },
  {
   "cell_type": "markdown",
   "id": "4800f442",
   "metadata": {},
   "source": [
    "- Validar se uma string contém determinado padrão, porém o \"match\" encontra somente o início da string."
   ]
  },
  {
   "cell_type": "code",
   "execution_count": 16,
   "id": "ddce266e",
   "metadata": {
    "ExecuteTime": {
     "end_time": "2022-02-01T21:09:37.824331Z",
     "start_time": "2022-02-01T21:09:37.806215Z"
    }
   },
   "outputs": [
    {
     "data": {
      "text/plain": [
       "True"
      ]
     },
     "execution_count": 16,
     "metadata": {},
     "output_type": "execute_result"
    }
   ],
   "source": [
    "# Nome da rua\n",
    "regex = '(.+?),'\n",
    "\n",
    "bool(re.match(regex, text01))"
   ]
  },
  {
   "cell_type": "code",
   "execution_count": 20,
   "id": "6c18c0b1",
   "metadata": {
    "ExecuteTime": {
     "end_time": "2022-02-01T21:10:41.466171Z",
     "start_time": "2022-02-01T21:10:41.458567Z"
    }
   },
   "outputs": [
    {
     "data": {
      "text/plain": [
       "'Rua Armando Shibata'"
      ]
     },
     "execution_count": 20,
     "metadata": {},
     "output_type": "execute_result"
    }
   ],
   "source": [
    "re.match(regex, text01).group(1) # Recuperando informação"
   ]
  },
  {
   "cell_type": "code",
   "execution_count": 25,
   "id": "3d4335de",
   "metadata": {
    "ExecuteTime": {
     "end_time": "2022-02-01T21:12:40.683943Z",
     "start_time": "2022-02-01T21:12:40.676338Z"
    }
   },
   "outputs": [
    {
     "data": {
      "text/plain": [
       "['Rua Armando Shibata, 97 - Vila Leopoldina, São Paulo',\n",
       " 'Av. dos Trabalhadores, 403 - Centro, Mogi Guaçu',\n",
       " 'Al. Moraes, 403 - Vila Gomes, Pernambuco']"
      ]
     },
     "execution_count": 25,
     "metadata": {},
     "output_type": "execute_result"
    }
   ],
   "source": [
    "text"
   ]
  },
  {
   "cell_type": "code",
   "execution_count": 28,
   "id": "ced0be9b",
   "metadata": {
    "ExecuteTime": {
     "end_time": "2022-02-01T21:14:29.090663Z",
     "start_time": "2022-02-01T21:14:29.085506Z"
    }
   },
   "outputs": [
    {
     "name": "stdout",
     "output_type": "stream",
     "text": [
      "Rua Armando Shibata\n",
      "Av. dos Trabalhadores\n",
      "Al. Moraes\n"
     ]
    }
   ],
   "source": [
    "for t in text:\n",
    "    print(re.match(regex, t).group(1))"
   ]
  },
  {
   "cell_type": "code",
   "execution_count": 34,
   "id": "887523db",
   "metadata": {
    "ExecuteTime": {
     "end_time": "2022-02-01T21:21:09.120390Z",
     "start_time": "2022-02-01T21:21:09.117173Z"
    }
   },
   "outputs": [
    {
     "name": "stdout",
     "output_type": "stream",
     "text": [
      "97\n",
      "403\n",
      "405\n"
     ]
    }
   ],
   "source": [
    "# Número da residência\n",
    "regex = '\\d+'\n",
    "\n",
    "for t in text:\n",
    "    print(re.search(regex, t).group(0))"
   ]
  },
  {
   "cell_type": "code",
   "execution_count": 35,
   "id": "abafe18f",
   "metadata": {
    "ExecuteTime": {
     "end_time": "2022-02-01T22:15:17.016511Z",
     "start_time": "2022-02-01T22:15:17.007978Z"
    }
   },
   "outputs": [
    {
     "name": "stdout",
     "output_type": "stream",
     "text": [
      " Vila Leopoldina\n",
      " Centro\n",
      " Vila Gomes\n"
     ]
    }
   ],
   "source": [
    "# Nome do Bairro\n",
    "regex = '-(.+),'\n",
    "\n",
    "for t in text:\n",
    "    print(re.search(regex, t).group(1))"
   ]
  },
  {
   "cell_type": "code",
   "execution_count": 37,
   "id": "eb26f791",
   "metadata": {
    "ExecuteTime": {
     "end_time": "2022-02-01T22:17:33.977244Z",
     "start_time": "2022-02-01T22:17:33.972334Z"
    }
   },
   "outputs": [
    {
     "name": "stdout",
     "output_type": "stream",
     "text": [
      "São Paulo\n",
      "Mogi Guaçu\n",
      "Recife\n"
     ]
    }
   ],
   "source": [
    "#Cidade\n",
    "regex = ',.([a-zA-Z].+)'\n",
    "\n",
    "for t in text:\n",
    "    print(re.search(regex, t).group(1))"
   ]
  },
  {
   "cell_type": "markdown",
   "id": "ea023a6c",
   "metadata": {},
   "source": [
    "curso online de Regex: https://regexone.com/lesson/introduction_abcs"
   ]
  }
 ],
 "metadata": {
  "kernelspec": {
   "display_name": "Python 3 (ipykernel)",
   "language": "python",
   "name": "python3"
  },
  "language_info": {
   "codemirror_mode": {
    "name": "ipython",
    "version": 3
   },
   "file_extension": ".py",
   "mimetype": "text/x-python",
   "name": "python",
   "nbconvert_exporter": "python",
   "pygments_lexer": "ipython3",
   "version": "3.9.7"
  }
 },
 "nbformat": 4,
 "nbformat_minor": 5
}
