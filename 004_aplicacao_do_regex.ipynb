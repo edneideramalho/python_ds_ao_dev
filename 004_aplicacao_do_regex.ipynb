{
 "cells": [
  {
   "cell_type": "markdown",
   "id": "4191fd8b",
   "metadata": {},
   "source": [
    "# Aplicação do Regex"
   ]
  },
  {
   "cell_type": "code",
   "execution_count": 47,
   "id": "7a846264",
   "metadata": {
    "ExecuteTime": {
     "end_time": "2022-02-03T01:13:37.508800Z",
     "start_time": "2022-02-03T01:13:37.504791Z"
    }
   },
   "outputs": [],
   "source": [
    "import pandas as pd "
   ]
  },
  {
   "cell_type": "code",
   "execution_count": 48,
   "id": "b310ae29",
   "metadata": {
    "ExecuteTime": {
     "end_time": "2022-02-03T01:13:37.892292Z",
     "start_time": "2022-02-03T01:13:37.863177Z"
    }
   },
   "outputs": [
    {
     "data": {
      "text/html": [
       "<div>\n",
       "<style scoped>\n",
       "    .dataframe tbody tr th:only-of-type {\n",
       "        vertical-align: middle;\n",
       "    }\n",
       "\n",
       "    .dataframe tbody tr th {\n",
       "        vertical-align: top;\n",
       "    }\n",
       "\n",
       "    .dataframe thead th {\n",
       "        text-align: right;\n",
       "    }\n",
       "</style>\n",
       "<table border=\"1\" class=\"dataframe\">\n",
       "  <thead>\n",
       "    <tr style=\"text-align: right;\">\n",
       "      <th></th>\n",
       "      <th>Unnamed: 0</th>\n",
       "      <th>product_id</th>\n",
       "      <th>product_category</th>\n",
       "      <th>product_name</th>\n",
       "      <th>product_price</th>\n",
       "      <th>scrapy_datetime</th>\n",
       "      <th>style_id</th>\n",
       "      <th>color_id</th>\n",
       "      <th>color_name</th>\n",
       "      <th>Fit</th>\n",
       "      <th>Composition</th>\n",
       "    </tr>\n",
       "  </thead>\n",
       "  <tbody>\n",
       "    <tr>\n",
       "      <th>0</th>\n",
       "      <td>0</td>\n",
       "      <td>1008549001</td>\n",
       "      <td>men_jeans_regular</td>\n",
       "      <td>Regular Jeans</td>\n",
       "      <td>$ 19.99</td>\n",
       "      <td>2022-01-29 13:15:13</td>\n",
       "      <td>1008549</td>\n",
       "      <td>1</td>\n",
       "      <td>Denim blue</td>\n",
       "      <td>Regular fit</td>\n",
       "      <td>Shell: Cotton 98%, Spandex 2%</td>\n",
       "    </tr>\n",
       "    <tr>\n",
       "      <th>1</th>\n",
       "      <td>1</td>\n",
       "      <td>1008549001</td>\n",
       "      <td>men_jeans_regular</td>\n",
       "      <td>Regular Jeans</td>\n",
       "      <td>$ 19.99</td>\n",
       "      <td>2022-01-29 13:15:13</td>\n",
       "      <td>1008549</td>\n",
       "      <td>1</td>\n",
       "      <td>Denim blue</td>\n",
       "      <td>Regular fit</td>\n",
       "      <td>Pocket lining: Polyester 65%, Cotton 35%</td>\n",
       "    </tr>\n",
       "    <tr>\n",
       "      <th>2</th>\n",
       "      <td>2</td>\n",
       "      <td>1008549001</td>\n",
       "      <td>men_jeans_regular</td>\n",
       "      <td>Regular Jeans</td>\n",
       "      <td>$ 19.99</td>\n",
       "      <td>2022-01-29 13:15:13</td>\n",
       "      <td>1008549</td>\n",
       "      <td>1</td>\n",
       "      <td>Dark blue</td>\n",
       "      <td>Regular fit</td>\n",
       "      <td>Shell: Cotton 98%, Spandex 2%</td>\n",
       "    </tr>\n",
       "    <tr>\n",
       "      <th>3</th>\n",
       "      <td>3</td>\n",
       "      <td>1008549001</td>\n",
       "      <td>men_jeans_regular</td>\n",
       "      <td>Regular Jeans</td>\n",
       "      <td>$ 19.99</td>\n",
       "      <td>2022-01-29 13:15:13</td>\n",
       "      <td>1008549</td>\n",
       "      <td>1</td>\n",
       "      <td>Dark blue</td>\n",
       "      <td>Regular fit</td>\n",
       "      <td>Pocket lining: Polyester 65%, Cotton 35%</td>\n",
       "    </tr>\n",
       "    <tr>\n",
       "      <th>4</th>\n",
       "      <td>4</td>\n",
       "      <td>1008549001</td>\n",
       "      <td>men_jeans_regular</td>\n",
       "      <td>Regular Jeans</td>\n",
       "      <td>$ 19.99</td>\n",
       "      <td>2022-01-29 13:15:13</td>\n",
       "      <td>1008549</td>\n",
       "      <td>1</td>\n",
       "      <td>Black</td>\n",
       "      <td>Regular fit</td>\n",
       "      <td>Shell: Cotton 98%, Spandex 2%</td>\n",
       "    </tr>\n",
       "  </tbody>\n",
       "</table>\n",
       "</div>"
      ],
      "text/plain": [
       "   Unnamed: 0  product_id   product_category   product_name product_price  \\\n",
       "0           0  1008549001  men_jeans_regular  Regular Jeans       $ 19.99   \n",
       "1           1  1008549001  men_jeans_regular  Regular Jeans       $ 19.99   \n",
       "2           2  1008549001  men_jeans_regular  Regular Jeans       $ 19.99   \n",
       "3           3  1008549001  men_jeans_regular  Regular Jeans       $ 19.99   \n",
       "4           4  1008549001  men_jeans_regular  Regular Jeans       $ 19.99   \n",
       "\n",
       "       scrapy_datetime  style_id  color_id  color_name          Fit  \\\n",
       "0  2022-01-29 13:15:13   1008549         1  Denim blue  Regular fit   \n",
       "1  2022-01-29 13:15:13   1008549         1  Denim blue  Regular fit   \n",
       "2  2022-01-29 13:15:13   1008549         1   Dark blue  Regular fit   \n",
       "3  2022-01-29 13:15:13   1008549         1   Dark blue  Regular fit   \n",
       "4  2022-01-29 13:15:13   1008549         1       Black  Regular fit   \n",
       "\n",
       "                                Composition  \n",
       "0             Shell: Cotton 98%, Spandex 2%  \n",
       "1  Pocket lining: Polyester 65%, Cotton 35%  \n",
       "2             Shell: Cotton 98%, Spandex 2%  \n",
       "3  Pocket lining: Polyester 65%, Cotton 35%  \n",
       "4             Shell: Cotton 98%, Spandex 2%  "
      ]
     },
     "execution_count": 48,
     "metadata": {},
     "output_type": "execute_result"
    }
   ],
   "source": [
    "data = pd.read_csv('products_hm.csv')\n",
    "data.head()"
   ]
  },
  {
   "cell_type": "code",
   "execution_count": 49,
   "id": "e9d7cb89",
   "metadata": {
    "ExecuteTime": {
     "end_time": "2022-02-03T01:13:38.533219Z",
     "start_time": "2022-02-03T01:13:38.514688Z"
    }
   },
   "outputs": [
    {
     "data": {
      "text/html": [
       "<div>\n",
       "<style scoped>\n",
       "    .dataframe tbody tr th:only-of-type {\n",
       "        vertical-align: middle;\n",
       "    }\n",
       "\n",
       "    .dataframe tbody tr th {\n",
       "        vertical-align: top;\n",
       "    }\n",
       "\n",
       "    .dataframe thead th {\n",
       "        text-align: right;\n",
       "    }\n",
       "</style>\n",
       "<table border=\"1\" class=\"dataframe\">\n",
       "  <thead>\n",
       "    <tr style=\"text-align: right;\">\n",
       "      <th></th>\n",
       "      <th>product_id</th>\n",
       "      <th>product_category</th>\n",
       "      <th>product_name</th>\n",
       "      <th>product_price</th>\n",
       "      <th>scrapy_datetime</th>\n",
       "      <th>style_id</th>\n",
       "      <th>color_id</th>\n",
       "      <th>color_name</th>\n",
       "      <th>Fit</th>\n",
       "      <th>Composition</th>\n",
       "    </tr>\n",
       "  </thead>\n",
       "  <tbody>\n",
       "    <tr>\n",
       "      <th>0</th>\n",
       "      <td>1008549001</td>\n",
       "      <td>men_jeans_regular</td>\n",
       "      <td>Regular Jeans</td>\n",
       "      <td>$ 19.99</td>\n",
       "      <td>2022-01-29 13:15:13</td>\n",
       "      <td>1008549</td>\n",
       "      <td>1</td>\n",
       "      <td>Denim blue</td>\n",
       "      <td>Regular fit</td>\n",
       "      <td>Shell: Cotton 98%, Spandex 2%</td>\n",
       "    </tr>\n",
       "    <tr>\n",
       "      <th>1</th>\n",
       "      <td>1008549001</td>\n",
       "      <td>men_jeans_regular</td>\n",
       "      <td>Regular Jeans</td>\n",
       "      <td>$ 19.99</td>\n",
       "      <td>2022-01-29 13:15:13</td>\n",
       "      <td>1008549</td>\n",
       "      <td>1</td>\n",
       "      <td>Denim blue</td>\n",
       "      <td>Regular fit</td>\n",
       "      <td>Pocket lining: Polyester 65%, Cotton 35%</td>\n",
       "    </tr>\n",
       "    <tr>\n",
       "      <th>2</th>\n",
       "      <td>1008549001</td>\n",
       "      <td>men_jeans_regular</td>\n",
       "      <td>Regular Jeans</td>\n",
       "      <td>$ 19.99</td>\n",
       "      <td>2022-01-29 13:15:13</td>\n",
       "      <td>1008549</td>\n",
       "      <td>1</td>\n",
       "      <td>Dark blue</td>\n",
       "      <td>Regular fit</td>\n",
       "      <td>Shell: Cotton 98%, Spandex 2%</td>\n",
       "    </tr>\n",
       "    <tr>\n",
       "      <th>3</th>\n",
       "      <td>1008549001</td>\n",
       "      <td>men_jeans_regular</td>\n",
       "      <td>Regular Jeans</td>\n",
       "      <td>$ 19.99</td>\n",
       "      <td>2022-01-29 13:15:13</td>\n",
       "      <td>1008549</td>\n",
       "      <td>1</td>\n",
       "      <td>Dark blue</td>\n",
       "      <td>Regular fit</td>\n",
       "      <td>Pocket lining: Polyester 65%, Cotton 35%</td>\n",
       "    </tr>\n",
       "    <tr>\n",
       "      <th>4</th>\n",
       "      <td>1008549001</td>\n",
       "      <td>men_jeans_regular</td>\n",
       "      <td>Regular Jeans</td>\n",
       "      <td>$ 19.99</td>\n",
       "      <td>2022-01-29 13:15:13</td>\n",
       "      <td>1008549</td>\n",
       "      <td>1</td>\n",
       "      <td>Black</td>\n",
       "      <td>Regular fit</td>\n",
       "      <td>Shell: Cotton 98%, Spandex 2%</td>\n",
       "    </tr>\n",
       "  </tbody>\n",
       "</table>\n",
       "</div>"
      ],
      "text/plain": [
       "   product_id   product_category   product_name product_price  \\\n",
       "0  1008549001  men_jeans_regular  Regular Jeans       $ 19.99   \n",
       "1  1008549001  men_jeans_regular  Regular Jeans       $ 19.99   \n",
       "2  1008549001  men_jeans_regular  Regular Jeans       $ 19.99   \n",
       "3  1008549001  men_jeans_regular  Regular Jeans       $ 19.99   \n",
       "4  1008549001  men_jeans_regular  Regular Jeans       $ 19.99   \n",
       "\n",
       "       scrapy_datetime  style_id  color_id  color_name          Fit  \\\n",
       "0  2022-01-29 13:15:13   1008549         1  Denim blue  Regular fit   \n",
       "1  2022-01-29 13:15:13   1008549         1  Denim blue  Regular fit   \n",
       "2  2022-01-29 13:15:13   1008549         1   Dark blue  Regular fit   \n",
       "3  2022-01-29 13:15:13   1008549         1   Dark blue  Regular fit   \n",
       "4  2022-01-29 13:15:13   1008549         1       Black  Regular fit   \n",
       "\n",
       "                                Composition  \n",
       "0             Shell: Cotton 98%, Spandex 2%  \n",
       "1  Pocket lining: Polyester 65%, Cotton 35%  \n",
       "2             Shell: Cotton 98%, Spandex 2%  \n",
       "3  Pocket lining: Polyester 65%, Cotton 35%  \n",
       "4             Shell: Cotton 98%, Spandex 2%  "
      ]
     },
     "execution_count": 49,
     "metadata": {},
     "output_type": "execute_result"
    }
   ],
   "source": [
    "data = data.drop(['Unnamed: 0'], axis=1)\n",
    "data.head()"
   ]
  },
  {
   "cell_type": "code",
   "execution_count": 50,
   "id": "5810c270",
   "metadata": {
    "ExecuteTime": {
     "end_time": "2022-02-03T01:13:39.741319Z",
     "start_time": "2022-02-03T01:13:39.730436Z"
    }
   },
   "outputs": [
    {
     "data": {
      "text/plain": [
       "product_id          0\n",
       "product_category    0\n",
       "product_name        0\n",
       "product_price       0\n",
       "scrapy_datetime     0\n",
       "style_id            0\n",
       "color_id            0\n",
       "color_name          0\n",
       "Fit                 0\n",
       "Composition         0\n",
       "dtype: int64"
      ]
     },
     "execution_count": 50,
     "metadata": {},
     "output_type": "execute_result"
    }
   ],
   "source": [
    "# Checando NAs\n",
    "data.isna().sum()"
   ]
  },
  {
   "cell_type": "markdown",
   "id": "84cdae36",
   "metadata": {},
   "source": [
    "- No caso de existir NA, e não estivermos usando nenhuma técnica de substituição, podemos simplesmente ignorar, usando o comando abaixo."
   ]
  },
  {
   "cell_type": "markdown",
   "id": "ac86c805",
   "metadata": {},
   "source": [
    "`data = data.dropna(subset=['product_id'])`"
   ]
  },
  {
   "cell_type": "markdown",
   "id": "e1c4a469",
   "metadata": {
    "ExecuteTime": {
     "end_time": "2022-02-03T00:48:35.077089Z",
     "start_time": "2022-02-03T00:48:35.070974Z"
    }
   },
   "source": [
    "- Neste caso, estaríamos removendo todos os NAs da coluna `product_id`."
   ]
  },
  {
   "cell_type": "code",
   "execution_count": 51,
   "id": "1aefdf6b",
   "metadata": {
    "ExecuteTime": {
     "end_time": "2022-02-03T01:13:42.619541Z",
     "start_time": "2022-02-03T01:13:42.578424Z"
    }
   },
   "outputs": [
    {
     "data": {
      "text/html": [
       "<div>\n",
       "<style scoped>\n",
       "    .dataframe tbody tr th:only-of-type {\n",
       "        vertical-align: middle;\n",
       "    }\n",
       "\n",
       "    .dataframe tbody tr th {\n",
       "        vertical-align: top;\n",
       "    }\n",
       "\n",
       "    .dataframe thead th {\n",
       "        text-align: right;\n",
       "    }\n",
       "</style>\n",
       "<table border=\"1\" class=\"dataframe\">\n",
       "  <thead>\n",
       "    <tr style=\"text-align: right;\">\n",
       "      <th></th>\n",
       "      <th>product_id</th>\n",
       "      <th>product_category</th>\n",
       "      <th>product_name</th>\n",
       "      <th>product_price</th>\n",
       "      <th>scrapy_datetime</th>\n",
       "      <th>style_id</th>\n",
       "      <th>color_id</th>\n",
       "      <th>color_name</th>\n",
       "      <th>Fit</th>\n",
       "      <th>Composition</th>\n",
       "    </tr>\n",
       "  </thead>\n",
       "  <tbody>\n",
       "    <tr>\n",
       "      <th>0</th>\n",
       "      <td>1008549001</td>\n",
       "      <td>men_jeans_regular</td>\n",
       "      <td>regular_jeans</td>\n",
       "      <td>19.99</td>\n",
       "      <td>2022-01-29 13:15:13</td>\n",
       "      <td>1008549</td>\n",
       "      <td>1</td>\n",
       "      <td>denim_blue</td>\n",
       "      <td>regular_fit</td>\n",
       "      <td>Shell: Cotton 98%, Spandex 2%</td>\n",
       "    </tr>\n",
       "    <tr>\n",
       "      <th>1</th>\n",
       "      <td>1008549001</td>\n",
       "      <td>men_jeans_regular</td>\n",
       "      <td>regular_jeans</td>\n",
       "      <td>19.99</td>\n",
       "      <td>2022-01-29 13:15:13</td>\n",
       "      <td>1008549</td>\n",
       "      <td>1</td>\n",
       "      <td>denim_blue</td>\n",
       "      <td>regular_fit</td>\n",
       "      <td>Pocket lining: Polyester 65%, Cotton 35%</td>\n",
       "    </tr>\n",
       "    <tr>\n",
       "      <th>2</th>\n",
       "      <td>1008549001</td>\n",
       "      <td>men_jeans_regular</td>\n",
       "      <td>regular_jeans</td>\n",
       "      <td>19.99</td>\n",
       "      <td>2022-01-29 13:15:13</td>\n",
       "      <td>1008549</td>\n",
       "      <td>1</td>\n",
       "      <td>dark_blue</td>\n",
       "      <td>regular_fit</td>\n",
       "      <td>Shell: Cotton 98%, Spandex 2%</td>\n",
       "    </tr>\n",
       "    <tr>\n",
       "      <th>3</th>\n",
       "      <td>1008549001</td>\n",
       "      <td>men_jeans_regular</td>\n",
       "      <td>regular_jeans</td>\n",
       "      <td>19.99</td>\n",
       "      <td>2022-01-29 13:15:13</td>\n",
       "      <td>1008549</td>\n",
       "      <td>1</td>\n",
       "      <td>dark_blue</td>\n",
       "      <td>regular_fit</td>\n",
       "      <td>Pocket lining: Polyester 65%, Cotton 35%</td>\n",
       "    </tr>\n",
       "    <tr>\n",
       "      <th>4</th>\n",
       "      <td>1008549001</td>\n",
       "      <td>men_jeans_regular</td>\n",
       "      <td>regular_jeans</td>\n",
       "      <td>19.99</td>\n",
       "      <td>2022-01-29 13:15:13</td>\n",
       "      <td>1008549</td>\n",
       "      <td>1</td>\n",
       "      <td>black</td>\n",
       "      <td>regular_fit</td>\n",
       "      <td>Shell: Cotton 98%, Spandex 2%</td>\n",
       "    </tr>\n",
       "  </tbody>\n",
       "</table>\n",
       "</div>"
      ],
      "text/plain": [
       "   product_id   product_category   product_name  product_price  \\\n",
       "0  1008549001  men_jeans_regular  regular_jeans          19.99   \n",
       "1  1008549001  men_jeans_regular  regular_jeans          19.99   \n",
       "2  1008549001  men_jeans_regular  regular_jeans          19.99   \n",
       "3  1008549001  men_jeans_regular  regular_jeans          19.99   \n",
       "4  1008549001  men_jeans_regular  regular_jeans          19.99   \n",
       "\n",
       "      scrapy_datetime  style_id  color_id  color_name          Fit  \\\n",
       "0 2022-01-29 13:15:13   1008549         1  denim_blue  regular_fit   \n",
       "1 2022-01-29 13:15:13   1008549         1  denim_blue  regular_fit   \n",
       "2 2022-01-29 13:15:13   1008549         1   dark_blue  regular_fit   \n",
       "3 2022-01-29 13:15:13   1008549         1   dark_blue  regular_fit   \n",
       "4 2022-01-29 13:15:13   1008549         1       black  regular_fit   \n",
       "\n",
       "                                Composition  \n",
       "0             Shell: Cotton 98%, Spandex 2%  \n",
       "1  Pocket lining: Polyester 65%, Cotton 35%  \n",
       "2             Shell: Cotton 98%, Spandex 2%  \n",
       "3  Pocket lining: Polyester 65%, Cotton 35%  \n",
       "4             Shell: Cotton 98%, Spandex 2%  "
      ]
     },
     "execution_count": 51,
     "metadata": {},
     "output_type": "execute_result"
    }
   ],
   "source": [
    "# product_name\n",
    "data['product_name'] = data['product_name'].apply(lambda x: x.replace(' ', '_').lower())\n",
    "\n",
    "# product_price\n",
    "data['product_price'] = data['product_price'].apply(lambda x: x.replace('$ ', '')).astype(float)\n",
    "\n",
    "# scrapy_datetime\n",
    "data['scrapy_datetime'] = pd.to_datetime(data['scrapy_datetime'], format='%Y-%m-%d %H:%M:%S')\n",
    "\n",
    "# style_id\n",
    "data['style_id'] = data['style_id'].astype(int)\n",
    "\n",
    "\n",
    "# color_id\n",
    "data['color_id'] = data['color_id'].astype(int)\n",
    "\n",
    "# color_name\n",
    "data['color_name'] = data['color_name'].apply(lambda x: x.replace(' ', '_').lower())\n",
    "\n",
    "# Fit\n",
    "data['Fit'] = data['Fit'].apply(lambda x: x.replace(' ', '_').lower())\n",
    "\n",
    "data.head()"
   ]
  },
  {
   "cell_type": "code",
   "execution_count": 52,
   "id": "f0d804ee",
   "metadata": {
    "ExecuteTime": {
     "end_time": "2022-02-03T01:13:47.365427Z",
     "start_time": "2022-02-03T01:13:47.358832Z"
    }
   },
   "outputs": [
    {
     "data": {
      "text/plain": [
       "product_id                   int64\n",
       "product_category            object\n",
       "product_name                object\n",
       "product_price              float64\n",
       "scrapy_datetime     datetime64[ns]\n",
       "style_id                     int64\n",
       "color_id                     int64\n",
       "color_name                  object\n",
       "Fit                         object\n",
       "Composition                 object\n",
       "dtype: object"
      ]
     },
     "execution_count": 52,
     "metadata": {},
     "output_type": "execute_result"
    }
   ],
   "source": [
    "data.dtypes"
   ]
  },
  {
   "cell_type": "code",
   "execution_count": null,
   "id": "fe2d8098",
   "metadata": {},
   "outputs": [],
   "source": []
  },
  {
   "cell_type": "code",
   "execution_count": null,
   "id": "c3c39a9d",
   "metadata": {},
   "outputs": [],
   "source": []
  }
 ],
 "metadata": {
  "kernelspec": {
   "display_name": "Python 3 (ipykernel)",
   "language": "python",
   "name": "python3"
  },
  "language_info": {
   "codemirror_mode": {
    "name": "ipython",
    "version": 3
   },
   "file_extension": ".py",
   "mimetype": "text/x-python",
   "name": "python",
   "nbconvert_exporter": "python",
   "pygments_lexer": "ipython3",
   "version": "3.9.7"
  }
 },
 "nbformat": 4,
 "nbformat_minor": 5
}
