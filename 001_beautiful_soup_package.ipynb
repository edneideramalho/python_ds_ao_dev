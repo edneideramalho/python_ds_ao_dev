{
 "cells": [
  {
   "cell_type": "markdown",
   "id": "ab445048",
   "metadata": {
    "heading_collapsed": true
   },
   "source": [
    "# <span style=\"color:#3399ff\">Beautiful Soup - Exemplos</span>"
   ]
  },
  {
   "cell_type": "code",
   "execution_count": 5,
   "id": "e8aa7d87",
   "metadata": {
    "ExecuteTime": {
     "end_time": "2022-02-03T01:17:41.844475Z",
     "start_time": "2022-02-03T01:17:40.814383Z"
    },
    "hidden": true
   },
   "outputs": [],
   "source": [
    "from bs4 import BeautifulSoup\n",
    "import requests\n",
    "import pandas as pd\n",
    "from datetime import datetime \n",
    "import numpy as np"
   ]
  },
  {
   "cell_type": "code",
   "execution_count": 2,
   "id": "ae1d3cae",
   "metadata": {
    "ExecuteTime": {
     "end_time": "2022-01-29T16:15:08.955885Z",
     "start_time": "2022-01-29T16:15:08.951913Z"
    },
    "hidden": true
   },
   "outputs": [],
   "source": [
    "html_doc = \"\"\"<html><head><title>The Dormouse's story</title></head>\n",
    "<body>\n",
    "<p class=\"title\"><b>The Dormouse's story</b></p>\n",
    "\n",
    "<p class=\"story\">Once upon a time there were three little sisters; and their names were\n",
    "<a href=\"http://example.com/elsie\" class=\"sister\" id=\"link1\">Elsie</a>,\n",
    "<a href=\"http://example.com/lacie\" class=\"sister\" id=\"link2\">Lacie</a> and\n",
    "<a href=\"http://example.com/tillie\" class=\"sister\" id=\"link3\">Tillie</a>;\n",
    "and they lived at the bottom of a well.</p>\n",
    "\n",
    "<p class=\"story\">...</p>\n",
    "\"\"\""
   ]
  },
  {
   "cell_type": "code",
   "execution_count": 3,
   "id": "566e28d7",
   "metadata": {
    "ExecuteTime": {
     "end_time": "2022-01-29T16:15:09.597168Z",
     "start_time": "2022-01-29T16:15:09.593356Z"
    },
    "hidden": true
   },
   "outputs": [],
   "source": [
    "soup = BeautifulSoup(html_doc, 'html.parser')"
   ]
  },
  {
   "cell_type": "code",
   "execution_count": 4,
   "id": "e40beb83",
   "metadata": {
    "ExecuteTime": {
     "end_time": "2022-01-29T16:15:09.953290Z",
     "start_time": "2022-01-29T16:15:09.942300Z"
    },
    "hidden": true
   },
   "outputs": [
    {
     "data": {
      "text/plain": [
       "<html><head><title>The Dormouse's story</title></head>\n",
       "<body>\n",
       "<p class=\"title\"><b>The Dormouse's story</b></p>\n",
       "<p class=\"story\">Once upon a time there were three little sisters; and their names were\n",
       "<a class=\"sister\" href=\"http://example.com/elsie\" id=\"link1\">Elsie</a>,\n",
       "<a class=\"sister\" href=\"http://example.com/lacie\" id=\"link2\">Lacie</a> and\n",
       "<a class=\"sister\" href=\"http://example.com/tillie\" id=\"link3\">Tillie</a>;\n",
       "and they lived at the bottom of a well.</p>\n",
       "<p class=\"story\">...</p>\n",
       "</body></html>"
      ]
     },
     "execution_count": 4,
     "metadata": {},
     "output_type": "execute_result"
    }
   ],
   "source": [
    "soup"
   ]
  },
  {
   "cell_type": "code",
   "execution_count": 5,
   "id": "fb222f71",
   "metadata": {
    "ExecuteTime": {
     "end_time": "2022-01-29T16:15:10.169211Z",
     "start_time": "2022-01-29T16:15:10.166116Z"
    },
    "hidden": true
   },
   "outputs": [
    {
     "name": "stdout",
     "output_type": "stream",
     "text": [
      "<title>The Dormouse's story</title>\n"
     ]
    }
   ],
   "source": [
    "print(soup.title)"
   ]
  },
  {
   "cell_type": "code",
   "execution_count": 6,
   "id": "5385b118",
   "metadata": {
    "ExecuteTime": {
     "end_time": "2022-01-29T16:15:10.392970Z",
     "start_time": "2022-01-29T16:15:10.390082Z"
    },
    "hidden": true
   },
   "outputs": [
    {
     "name": "stdout",
     "output_type": "stream",
     "text": [
      "<head><title>The Dormouse's story</title></head>\n"
     ]
    }
   ],
   "source": [
    "print(soup.head)"
   ]
  },
  {
   "cell_type": "code",
   "execution_count": 7,
   "id": "3592fccf",
   "metadata": {
    "ExecuteTime": {
     "end_time": "2022-01-29T16:15:10.607043Z",
     "start_time": "2022-01-29T16:15:10.603893Z"
    },
    "hidden": true
   },
   "outputs": [
    {
     "name": "stdout",
     "output_type": "stream",
     "text": [
      "<p class=\"title\"><b>The Dormouse's story</b></p>\n"
     ]
    }
   ],
   "source": [
    "print(soup.body.p)"
   ]
  },
  {
   "cell_type": "code",
   "execution_count": 8,
   "id": "5ae7d0ac",
   "metadata": {
    "ExecuteTime": {
     "end_time": "2022-01-29T16:15:10.812311Z",
     "start_time": "2022-01-29T16:15:10.808415Z"
    },
    "hidden": true
   },
   "outputs": [
    {
     "data": {
      "text/plain": [
       "[<p class=\"title\"><b>The Dormouse's story</b></p>,\n",
       " <p class=\"story\">Once upon a time there were three little sisters; and their names were\n",
       " <a class=\"sister\" href=\"http://example.com/elsie\" id=\"link1\">Elsie</a>,\n",
       " <a class=\"sister\" href=\"http://example.com/lacie\" id=\"link2\">Lacie</a> and\n",
       " <a class=\"sister\" href=\"http://example.com/tillie\" id=\"link3\">Tillie</a>;\n",
       " and they lived at the bottom of a well.</p>,\n",
       " <p class=\"story\">...</p>]"
      ]
     },
     "execution_count": 8,
     "metadata": {},
     "output_type": "execute_result"
    }
   ],
   "source": [
    "soup.find_all('p')"
   ]
  },
  {
   "cell_type": "code",
   "execution_count": 9,
   "id": "61367b18",
   "metadata": {
    "ExecuteTime": {
     "end_time": "2022-01-29T16:15:11.003475Z",
     "start_time": "2022-01-29T16:15:10.999469Z"
    },
    "hidden": true
   },
   "outputs": [
    {
     "data": {
      "text/plain": [
       "[<p class=\"title\"><b>The Dormouse's story</b></p>]"
      ]
     },
     "execution_count": 9,
     "metadata": {},
     "output_type": "execute_result"
    }
   ],
   "source": [
    "soup.find_all('p', 'title')"
   ]
  },
  {
   "cell_type": "code",
   "execution_count": 10,
   "id": "8cc5e5ef",
   "metadata": {
    "ExecuteTime": {
     "end_time": "2022-01-29T16:15:11.159477Z",
     "start_time": "2022-01-29T16:15:11.155315Z"
    },
    "hidden": true
   },
   "outputs": [
    {
     "data": {
      "text/plain": [
       "[<p class=\"story\">Once upon a time there were three little sisters; and their names were\n",
       " <a class=\"sister\" href=\"http://example.com/elsie\" id=\"link1\">Elsie</a>,\n",
       " <a class=\"sister\" href=\"http://example.com/lacie\" id=\"link2\">Lacie</a> and\n",
       " <a class=\"sister\" href=\"http://example.com/tillie\" id=\"link3\">Tillie</a>;\n",
       " and they lived at the bottom of a well.</p>,\n",
       " <p class=\"story\">...</p>]"
      ]
     },
     "execution_count": 10,
     "metadata": {},
     "output_type": "execute_result"
    }
   ],
   "source": [
    "soup.find_all('p', class_='story')"
   ]
  },
  {
   "cell_type": "code",
   "execution_count": 11,
   "id": "7dcb4b6e",
   "metadata": {
    "ExecuteTime": {
     "end_time": "2022-01-29T16:15:11.320177Z",
     "start_time": "2022-01-29T16:15:11.315889Z"
    },
    "hidden": true
   },
   "outputs": [
    {
     "data": {
      "text/plain": [
       "[<a class=\"sister\" href=\"http://example.com/elsie\" id=\"link1\">Elsie</a>,\n",
       " <a class=\"sister\" href=\"http://example.com/lacie\" id=\"link2\">Lacie</a>,\n",
       " <a class=\"sister\" href=\"http://example.com/tillie\" id=\"link3\">Tillie</a>]"
      ]
     },
     "execution_count": 11,
     "metadata": {},
     "output_type": "execute_result"
    }
   ],
   "source": [
    "soup.find_all('a', class_='sister')"
   ]
  },
  {
   "cell_type": "code",
   "execution_count": 12,
   "id": "033ed871",
   "metadata": {
    "ExecuteTime": {
     "end_time": "2022-01-29T16:15:11.503096Z",
     "start_time": "2022-01-29T16:15:11.498891Z"
    },
    "hidden": true
   },
   "outputs": [
    {
     "data": {
      "text/plain": [
       "[<a class=\"sister\" href=\"http://example.com/elsie\" id=\"link1\">Elsie</a>]"
      ]
     },
     "execution_count": 12,
     "metadata": {},
     "output_type": "execute_result"
    }
   ],
   "source": [
    "soup.find_all('a', id='link1')"
   ]
  },
  {
   "cell_type": "code",
   "execution_count": 13,
   "id": "c44453f2",
   "metadata": {
    "ExecuteTime": {
     "end_time": "2022-01-29T16:15:11.669636Z",
     "start_time": "2022-01-29T16:15:11.665864Z"
    },
    "hidden": true
   },
   "outputs": [
    {
     "data": {
      "text/plain": [
       "'Elsie'"
      ]
     },
     "execution_count": 13,
     "metadata": {},
     "output_type": "execute_result"
    }
   ],
   "source": [
    "soup.find_all('a', id='link1')[0].string"
   ]
  },
  {
   "cell_type": "code",
   "execution_count": 14,
   "id": "101c3276",
   "metadata": {
    "ExecuteTime": {
     "end_time": "2022-01-29T16:15:11.835383Z",
     "start_time": "2022-01-29T16:15:11.831522Z"
    },
    "hidden": true
   },
   "outputs": [
    {
     "data": {
      "text/plain": [
       "'Elsie'"
      ]
     },
     "execution_count": 14,
     "metadata": {},
     "output_type": "execute_result"
    }
   ],
   "source": [
    "soup.find_all('a', id='link1')[0].get_text()"
   ]
  },
  {
   "cell_type": "markdown",
   "id": "eaa7d94a",
   "metadata": {},
   "source": [
    "# <span style=\"color:#3399ff\">Beautiful Soup - Prática I</span>"
   ]
  },
  {
   "cell_type": "code",
   "execution_count": 3,
   "id": "d0b8b9cd",
   "metadata": {
    "ExecuteTime": {
     "end_time": "2022-02-03T01:17:33.932047Z",
     "start_time": "2022-02-03T01:17:33.926738Z"
    }
   },
   "outputs": [],
   "source": [
    "# id\n",
    "# product_name\n",
    "# product_type\n",
    "# product_composition\n",
    "# preco"
   ]
  },
  {
   "cell_type": "code",
   "execution_count": 45,
   "id": "5e466fe7",
   "metadata": {
    "ExecuteTime": {
     "end_time": "2022-02-03T01:30:47.162664Z",
     "start_time": "2022-02-03T01:30:46.369391Z"
    }
   },
   "outputs": [],
   "source": [
    "url = 'https://www2.hm.com/en_us/men/products/jeans.html'\n",
    "\n",
    "headers = {'User-Agent': 'Mozilla/5.0 (Macintosh; Intel Mac OS X 10_11_5) AppleWebKit/537.36 (KHTML, like Gecko) Chrome/50.0.2661.102 Safari/537.36'}\n",
    "page = requests.get(url, headers=headers)"
   ]
  },
  {
   "cell_type": "code",
   "execution_count": 46,
   "id": "a92bbfe6",
   "metadata": {
    "ExecuteTime": {
     "end_time": "2022-02-03T01:30:47.574179Z",
     "start_time": "2022-02-03T01:30:47.167149Z"
    }
   },
   "outputs": [],
   "source": [
    "soup = BeautifulSoup(page.text, 'html.parser')"
   ]
  },
  {
   "cell_type": "code",
   "execution_count": 47,
   "id": "6236c76c",
   "metadata": {
    "ExecuteTime": {
     "end_time": "2022-02-03T01:30:47.833541Z",
     "start_time": "2022-02-03T01:30:47.813635Z"
    }
   },
   "outputs": [],
   "source": [
    "products = soup.find('ul', class_='products-listing small')"
   ]
  },
  {
   "cell_type": "code",
   "execution_count": 48,
   "id": "a89bdae3",
   "metadata": {
    "ExecuteTime": {
     "end_time": "2022-02-03T01:30:48.280654Z",
     "start_time": "2022-02-03T01:30:48.270181Z"
    }
   },
   "outputs": [],
   "source": [
    "product_list = products.find_all('article', class_='hm-product-item')"
   ]
  },
  {
   "cell_type": "code",
   "execution_count": 49,
   "id": "1d3f0d41",
   "metadata": {
    "ExecuteTime": {
     "end_time": "2022-02-03T01:30:48.674469Z",
     "start_time": "2022-02-03T01:30:48.665316Z"
    }
   },
   "outputs": [
    {
     "data": {
      "text/plain": [
       "36"
      ]
     },
     "execution_count": 49,
     "metadata": {},
     "output_type": "execute_result"
    }
   ],
   "source": [
    "len(product_list)"
   ]
  },
  {
   "cell_type": "code",
   "execution_count": 50,
   "id": "13c07f27",
   "metadata": {
    "ExecuteTime": {
     "end_time": "2022-02-03T01:30:49.698113Z",
     "start_time": "2022-02-03T01:30:49.677879Z"
    }
   },
   "outputs": [],
   "source": [
    "# product_id\n",
    "product_id = [p.get('data-articlecode') for p in product_list]\n",
    "\n",
    "# product_category\n",
    "product_category = [p.get('data-category') for p in product_list]\n",
    "\n",
    "# product_name\n",
    "product_list = products.find_all('a', class_='link')\n",
    "product_name = [p.get_text() for p in product_list] \n",
    "\n",
    "# product_price\n",
    "product_list = products.find_all('span', class_='price regular')\n",
    "product_price = [p.get_text() for p in product_list]\n"
   ]
  },
  {
   "cell_type": "code",
   "execution_count": 51,
   "id": "3c2aff7a",
   "metadata": {
    "ExecuteTime": {
     "end_time": "2022-02-03T01:30:50.636974Z",
     "start_time": "2022-02-03T01:30:50.610585Z"
    }
   },
   "outputs": [
    {
     "data": {
      "text/html": [
       "<div>\n",
       "<style scoped>\n",
       "    .dataframe tbody tr th:only-of-type {\n",
       "        vertical-align: middle;\n",
       "    }\n",
       "\n",
       "    .dataframe tbody tr th {\n",
       "        vertical-align: top;\n",
       "    }\n",
       "\n",
       "    .dataframe thead th {\n",
       "        text-align: right;\n",
       "    }\n",
       "</style>\n",
       "<table border=\"1\" class=\"dataframe\">\n",
       "  <thead>\n",
       "    <tr style=\"text-align: right;\">\n",
       "      <th></th>\n",
       "      <th>product_id</th>\n",
       "      <th>product_category</th>\n",
       "      <th>product_name</th>\n",
       "      <th>product_price</th>\n",
       "    </tr>\n",
       "  </thead>\n",
       "  <tbody>\n",
       "    <tr>\n",
       "      <th>0</th>\n",
       "      <td>1013317006</td>\n",
       "      <td>men_jeans_regular</td>\n",
       "      <td>Hybrid Regular Tapered Joggers</td>\n",
       "      <td>$ 39.99</td>\n",
       "    </tr>\n",
       "    <tr>\n",
       "      <th>1</th>\n",
       "      <td>1008549001</td>\n",
       "      <td>men_jeans_regular</td>\n",
       "      <td>Regular Jeans</td>\n",
       "      <td>$ 19.99</td>\n",
       "    </tr>\n",
       "    <tr>\n",
       "      <th>2</th>\n",
       "      <td>0811993040</td>\n",
       "      <td>men_jeans_regular</td>\n",
       "      <td>Regular Jeans</td>\n",
       "      <td>$ 29.99</td>\n",
       "    </tr>\n",
       "    <tr>\n",
       "      <th>3</th>\n",
       "      <td>1013317002</td>\n",
       "      <td>men_jeans_regular</td>\n",
       "      <td>Hybrid Regular Tapered Joggers</td>\n",
       "      <td>$ 39.99</td>\n",
       "    </tr>\n",
       "    <tr>\n",
       "      <th>4</th>\n",
       "      <td>0979945001</td>\n",
       "      <td>men_jeans_loose</td>\n",
       "      <td>Loose Jeans</td>\n",
       "      <td>$ 29.99</td>\n",
       "    </tr>\n",
       "  </tbody>\n",
       "</table>\n",
       "</div>"
      ],
      "text/plain": [
       "   product_id   product_category                    product_name product_price\n",
       "0  1013317006  men_jeans_regular  Hybrid Regular Tapered Joggers       $ 39.99\n",
       "1  1008549001  men_jeans_regular                   Regular Jeans       $ 19.99\n",
       "2  0811993040  men_jeans_regular                   Regular Jeans       $ 29.99\n",
       "3  1013317002  men_jeans_regular  Hybrid Regular Tapered Joggers       $ 39.99\n",
       "4  0979945001    men_jeans_loose                     Loose Jeans       $ 29.99"
      ]
     },
     "execution_count": 51,
     "metadata": {},
     "output_type": "execute_result"
    }
   ],
   "source": [
    "data = pd.DataFrame([product_id , product_category, product_name, product_price]).T\n",
    "data.columns = ['product_id' , 'product_category', 'product_name', 'product_price']\n",
    "data.head()"
   ]
  },
  {
   "cell_type": "code",
   "execution_count": 52,
   "id": "8371e161",
   "metadata": {
    "ExecuteTime": {
     "end_time": "2022-02-03T01:30:51.797810Z",
     "start_time": "2022-02-03T01:30:51.792075Z"
    }
   },
   "outputs": [],
   "source": [
    "# scrapy datetime\n",
    "data['scrapy_datetime'] = datetime.now().strftime('%Y-%m-%d %H:%M:%S')"
   ]
  },
  {
   "cell_type": "code",
   "execution_count": 53,
   "id": "c5ad2dcb",
   "metadata": {
    "ExecuteTime": {
     "end_time": "2022-02-03T01:30:52.524662Z",
     "start_time": "2022-02-03T01:30:52.506449Z"
    }
   },
   "outputs": [
    {
     "data": {
      "text/html": [
       "<div>\n",
       "<style scoped>\n",
       "    .dataframe tbody tr th:only-of-type {\n",
       "        vertical-align: middle;\n",
       "    }\n",
       "\n",
       "    .dataframe tbody tr th {\n",
       "        vertical-align: top;\n",
       "    }\n",
       "\n",
       "    .dataframe thead th {\n",
       "        text-align: right;\n",
       "    }\n",
       "</style>\n",
       "<table border=\"1\" class=\"dataframe\">\n",
       "  <thead>\n",
       "    <tr style=\"text-align: right;\">\n",
       "      <th></th>\n",
       "      <th>product_id</th>\n",
       "      <th>product_category</th>\n",
       "      <th>product_name</th>\n",
       "      <th>product_price</th>\n",
       "      <th>scrapy_datetime</th>\n",
       "    </tr>\n",
       "  </thead>\n",
       "  <tbody>\n",
       "    <tr>\n",
       "      <th>0</th>\n",
       "      <td>1013317006</td>\n",
       "      <td>men_jeans_regular</td>\n",
       "      <td>Hybrid Regular Tapered Joggers</td>\n",
       "      <td>$ 39.99</td>\n",
       "      <td>2022-02-02 22:30:51</td>\n",
       "    </tr>\n",
       "    <tr>\n",
       "      <th>1</th>\n",
       "      <td>1008549001</td>\n",
       "      <td>men_jeans_regular</td>\n",
       "      <td>Regular Jeans</td>\n",
       "      <td>$ 19.99</td>\n",
       "      <td>2022-02-02 22:30:51</td>\n",
       "    </tr>\n",
       "    <tr>\n",
       "      <th>2</th>\n",
       "      <td>0811993040</td>\n",
       "      <td>men_jeans_regular</td>\n",
       "      <td>Regular Jeans</td>\n",
       "      <td>$ 29.99</td>\n",
       "      <td>2022-02-02 22:30:51</td>\n",
       "    </tr>\n",
       "    <tr>\n",
       "      <th>3</th>\n",
       "      <td>1013317002</td>\n",
       "      <td>men_jeans_regular</td>\n",
       "      <td>Hybrid Regular Tapered Joggers</td>\n",
       "      <td>$ 39.99</td>\n",
       "      <td>2022-02-02 22:30:51</td>\n",
       "    </tr>\n",
       "    <tr>\n",
       "      <th>4</th>\n",
       "      <td>0979945001</td>\n",
       "      <td>men_jeans_loose</td>\n",
       "      <td>Loose Jeans</td>\n",
       "      <td>$ 29.99</td>\n",
       "      <td>2022-02-02 22:30:51</td>\n",
       "    </tr>\n",
       "  </tbody>\n",
       "</table>\n",
       "</div>"
      ],
      "text/plain": [
       "   product_id   product_category                    product_name  \\\n",
       "0  1013317006  men_jeans_regular  Hybrid Regular Tapered Joggers   \n",
       "1  1008549001  men_jeans_regular                   Regular Jeans   \n",
       "2  0811993040  men_jeans_regular                   Regular Jeans   \n",
       "3  1013317002  men_jeans_regular  Hybrid Regular Tapered Joggers   \n",
       "4  0979945001    men_jeans_loose                     Loose Jeans   \n",
       "\n",
       "  product_price      scrapy_datetime  \n",
       "0       $ 39.99  2022-02-02 22:30:51  \n",
       "1       $ 19.99  2022-02-02 22:30:51  \n",
       "2       $ 29.99  2022-02-02 22:30:51  \n",
       "3       $ 39.99  2022-02-02 22:30:51  \n",
       "4       $ 29.99  2022-02-02 22:30:51  "
      ]
     },
     "execution_count": 53,
     "metadata": {},
     "output_type": "execute_result"
    }
   ],
   "source": [
    "data.head()"
   ]
  },
  {
   "cell_type": "markdown",
   "id": "5e238dcc",
   "metadata": {},
   "source": [
    "# <span style=\"color:#3399ff\">Beautiful Soup - Prática II</span>"
   ]
  },
  {
   "cell_type": "markdown",
   "id": "2d021627",
   "metadata": {},
   "source": [
    "- Sempre olhar a paginação na vitrine de produtos."
   ]
  },
  {
   "cell_type": "code",
   "execution_count": 54,
   "id": "4c67492c",
   "metadata": {
    "ExecuteTime": {
     "end_time": "2022-02-03T01:30:56.029718Z",
     "start_time": "2022-02-03T01:30:55.707500Z"
    }
   },
   "outputs": [],
   "source": [
    "url = 'https://www2.hm.com/en_us/men/products/jeans.html'\n",
    "headers = {'User-Agent': 'Mozilla/5.0 (Macintosh; Intel Mac OS X 10_11_5) AppleWebKit/537.36 (KHTML, like Gecko) Chrome/50.0.2661.102 Safari/537.36'}\n",
    "page = requests.get(url, headers=headers)"
   ]
  },
  {
   "cell_type": "code",
   "execution_count": 55,
   "id": "3c97e8f6",
   "metadata": {
    "ExecuteTime": {
     "end_time": "2022-02-03T01:30:56.881414Z",
     "start_time": "2022-02-03T01:30:56.507426Z"
    }
   },
   "outputs": [],
   "source": [
    "soup = BeautifulSoup(page.text, 'html.parser')"
   ]
  },
  {
   "cell_type": "code",
   "execution_count": 56,
   "id": "280b92d6",
   "metadata": {
    "ExecuteTime": {
     "end_time": "2022-02-03T01:30:57.494058Z",
     "start_time": "2022-02-03T01:30:57.473728Z"
    }
   },
   "outputs": [],
   "source": [
    "total_item = soup.find_all('h2', class_='load-more-heading')[0].get('data-total')"
   ]
  },
  {
   "cell_type": "code",
   "execution_count": 57,
   "id": "4a7e270c",
   "metadata": {
    "ExecuteTime": {
     "end_time": "2022-02-03T01:30:58.244336Z",
     "start_time": "2022-02-03T01:30:58.237390Z"
    }
   },
   "outputs": [
    {
     "data": {
      "text/plain": [
       "'67'"
      ]
     },
     "execution_count": 57,
     "metadata": {},
     "output_type": "execute_result"
    }
   ],
   "source": [
    "total_item"
   ]
  },
  {
   "cell_type": "code",
   "execution_count": 58,
   "id": "f0e16839",
   "metadata": {
    "ExecuteTime": {
     "end_time": "2022-02-03T01:31:00.687524Z",
     "start_time": "2022-02-03T01:31:00.680378Z"
    }
   },
   "outputs": [
    {
     "data": {
      "text/plain": [
       "67"
      ]
     },
     "execution_count": 58,
     "metadata": {},
     "output_type": "execute_result"
    }
   ],
   "source": [
    "int(total_item)"
   ]
  },
  {
   "cell_type": "markdown",
   "id": "2f2600c1",
   "metadata": {},
   "source": [
    "- De quantas páginas preciso para capturar todos os itens?"
   ]
  },
  {
   "cell_type": "code",
   "execution_count": 59,
   "id": "a3a49162",
   "metadata": {
    "ExecuteTime": {
     "end_time": "2022-02-03T01:31:02.075843Z",
     "start_time": "2022-02-03T01:31:02.061917Z"
    }
   },
   "outputs": [
    {
     "data": {
      "text/plain": [
       "2.0"
      ]
     },
     "execution_count": 59,
     "metadata": {},
     "output_type": "execute_result"
    }
   ],
   "source": [
    "page_number = np.round(int(total_item)/36)\n",
    "page_number"
   ]
  },
  {
   "cell_type": "code",
   "execution_count": 60,
   "id": "75907b2b",
   "metadata": {
    "ExecuteTime": {
     "end_time": "2022-02-03T01:31:02.771862Z",
     "start_time": "2022-02-03T01:31:02.761236Z"
    }
   },
   "outputs": [
    {
     "data": {
      "text/plain": [
       "'https://www2.hm.com/en_us/men/products/jeans.html?page-size=72'"
      ]
     },
     "execution_count": 60,
     "metadata": {},
     "output_type": "execute_result"
    }
   ],
   "source": [
    "url02 = url + '?page-size=' + str(int(page_number*36))\n",
    "url02"
   ]
  },
  {
   "cell_type": "markdown",
   "id": "35dfce0d",
   "metadata": {},
   "source": [
    "# <span style=\"color:#3399ff\">Beautiful Soup - Prática III</span>"
   ]
  },
  {
   "cell_type": "markdown",
   "id": "83201ea0",
   "metadata": {},
   "source": [
    "- Aqui, vamos coletar as informações para cada produto."
   ]
  },
  {
   "cell_type": "markdown",
   "id": "7c184d3e",
   "metadata": {},
   "source": [
    "- Fazendo para um produto para testar:"
   ]
  },
  {
   "cell_type": "code",
   "execution_count": 61,
   "id": "5ad9215d",
   "metadata": {
    "ExecuteTime": {
     "end_time": "2022-02-03T01:31:06.275796Z",
     "start_time": "2022-02-03T01:31:05.910197Z"
    }
   },
   "outputs": [],
   "source": [
    "url = 'https://www2.hm.com/en_us/productpage.1024256001.html'\n",
    "    \n",
    "headers = {'User-Agent': 'Mozilla/5.0 (Macintosh; Intel Mac OS X 10_11_5) AppleWebKit/537.36 (KHTML, like Gecko) Chrome/50.0.2661.102 Safari/537.36'}\n",
    "page = requests.get(url, headers=headers)"
   ]
  },
  {
   "cell_type": "code",
   "execution_count": 62,
   "id": "f8658620",
   "metadata": {
    "ExecuteTime": {
     "end_time": "2022-02-03T01:31:07.982634Z",
     "start_time": "2022-02-03T01:31:07.745827Z"
    }
   },
   "outputs": [],
   "source": [
    "soup = BeautifulSoup(page.text, 'html.parser')"
   ]
  },
  {
   "cell_type": "code",
   "execution_count": 63,
   "id": "3f8039d2",
   "metadata": {
    "ExecuteTime": {
     "end_time": "2022-02-03T01:31:08.662017Z",
     "start_time": "2022-02-03T01:31:08.655354Z"
    }
   },
   "outputs": [
    {
     "data": {
      "text/plain": [
       "bs4.BeautifulSoup"
      ]
     },
     "execution_count": 63,
     "metadata": {},
     "output_type": "execute_result"
    }
   ],
   "source": [
    "type(soup)"
   ]
  },
  {
   "cell_type": "code",
   "execution_count": 64,
   "id": "66592c50",
   "metadata": {
    "ExecuteTime": {
     "end_time": "2022-02-03T01:31:09.303181Z",
     "start_time": "2022-02-03T01:31:09.268897Z"
    }
   },
   "outputs": [
    {
     "data": {
      "text/plain": [
       "'Light denim blue'"
      ]
     },
     "execution_count": 64,
     "metadata": {},
     "output_type": "execute_result"
    }
   ],
   "source": [
    "# color name - primeira posição\n",
    "soup.find_all('a', class_='filter-option miniature')[0].get('data-color')"
   ]
  },
  {
   "cell_type": "code",
   "execution_count": 65,
   "id": "17eba038",
   "metadata": {
    "ExecuteTime": {
     "end_time": "2022-02-03T01:31:11.135819Z",
     "start_time": "2022-02-03T01:31:11.098881Z"
    }
   },
   "outputs": [
    {
     "data": {
      "text/html": [
       "<div>\n",
       "<style scoped>\n",
       "    .dataframe tbody tr th:only-of-type {\n",
       "        vertical-align: middle;\n",
       "    }\n",
       "\n",
       "    .dataframe tbody tr th {\n",
       "        vertical-align: top;\n",
       "    }\n",
       "\n",
       "    .dataframe thead th {\n",
       "        text-align: right;\n",
       "    }\n",
       "</style>\n",
       "<table border=\"1\" class=\"dataframe\">\n",
       "  <thead>\n",
       "    <tr style=\"text-align: right;\">\n",
       "      <th></th>\n",
       "      <th>product_id</th>\n",
       "      <th>color_name</th>\n",
       "    </tr>\n",
       "  </thead>\n",
       "  <tbody>\n",
       "    <tr>\n",
       "      <th>0</th>\n",
       "      <td>1024256002</td>\n",
       "      <td>Light denim blue</td>\n",
       "    </tr>\n",
       "    <tr>\n",
       "      <th>1</th>\n",
       "      <td>1024256003</td>\n",
       "      <td>Light denim blue</td>\n",
       "    </tr>\n",
       "    <tr>\n",
       "      <th>2</th>\n",
       "      <td>1024256004</td>\n",
       "      <td>Denim blue</td>\n",
       "    </tr>\n",
       "    <tr>\n",
       "      <th>3</th>\n",
       "      <td>1024256005</td>\n",
       "      <td>Dark blue</td>\n",
       "    </tr>\n",
       "    <tr>\n",
       "      <th>4</th>\n",
       "      <td>1024256006</td>\n",
       "      <td>Dark denim blue</td>\n",
       "    </tr>\n",
       "    <tr>\n",
       "      <th>5</th>\n",
       "      <td>1024256007</td>\n",
       "      <td>Dark gray</td>\n",
       "    </tr>\n",
       "  </tbody>\n",
       "</table>\n",
       "</div>"
      ],
      "text/plain": [
       "   product_id        color_name\n",
       "0  1024256002  Light denim blue\n",
       "1  1024256003  Light denim blue\n",
       "2  1024256004        Denim blue\n",
       "3  1024256005         Dark blue\n",
       "4  1024256006   Dark denim blue\n",
       "5  1024256007         Dark gray"
      ]
     },
     "execution_count": 65,
     "metadata": {},
     "output_type": "execute_result"
    }
   ],
   "source": [
    "# color name\n",
    "product_color_list = soup.find_all('a', class_='filter-option miniature')\n",
    "color_name = [p.get('data-color') for p in product_color_list]\n",
    "\n",
    "# product_id\n",
    "product_id = [p.get('data-articlecode') for p in product_color_list]\n",
    "\n",
    "df_color = pd.DataFrame([product_id, color_name]).T\n",
    "df_color.columns = ['product_id', 'color_name']\n",
    "df_color"
   ]
  },
  {
   "cell_type": "code",
   "execution_count": 66,
   "id": "4a53c5e3",
   "metadata": {
    "ExecuteTime": {
     "end_time": "2022-02-03T01:31:13.887813Z",
     "start_time": "2022-02-03T01:31:13.878244Z"
    }
   },
   "outputs": [
    {
     "data": {
      "text/plain": [
       "<a aria-checked=\"false\" class=\"filter-option miniature\" data-articlecode=\"1024256002\" data-color=\"Light denim blue\" data-sizes=\"\" href=\"/en_us/productpage.1024256002.html\" id=\"filter-colour-1024256002\" role=\"radio\" title=\"Light denim blue\">\n",
       "<noscript data-alt=\"Light denim blue\" data-src=\"//lp2.hm.com/hmgoepprod?set=quality%5B79%5D%2Csource%5B%2Fda%2Fba%2Fdabaf3f73477f46b068e2e02033aa0222206ef7f.jpg%5D%2Corigin%5Bdam%5D%2Ccategory%5B%5D%2Ctype%5BDESCRIPTIVESTILLLIFE%5D%2Cres%5Bm%5D%2Chmver%5B2%5D&amp;call=url[file:/product/miniature]\">\n",
       "<img alt=\"Light denim blue\" src=\"//lp2.hm.com/hmgoepprod?set=quality%5B79%5D%2Csource%5B%2Fda%2Fba%2Fdabaf3f73477f46b068e2e02033aa0222206ef7f.jpg%5D%2Corigin%5Bdam%5D%2Ccategory%5B%5D%2Ctype%5BDESCRIPTIVESTILLLIFE%5D%2Cres%5Bm%5D%2Chmver%5B2%5D&amp;call=url[file:/product/miniature]\"/>\n",
       "</noscript>\n",
       "<span></span>\n",
       "</a>"
      ]
     },
     "execution_count": 66,
     "metadata": {},
     "output_type": "execute_result"
    }
   ],
   "source": [
    "product_color_list[0]"
   ]
  },
  {
   "cell_type": "code",
   "execution_count": 67,
   "id": "43258381",
   "metadata": {
    "ExecuteTime": {
     "end_time": "2022-02-03T01:31:18.081144Z",
     "start_time": "2022-02-03T01:31:18.072675Z"
    }
   },
   "outputs": [
    {
     "data": {
      "text/plain": [
       "['Light denim blue',\n",
       " 'Light denim blue',\n",
       " 'Denim blue',\n",
       " 'Dark blue',\n",
       " 'Dark denim blue',\n",
       " 'Dark gray']"
      ]
     },
     "execution_count": 67,
     "metadata": {},
     "output_type": "execute_result"
    }
   ],
   "source": [
    "color_name"
   ]
  },
  {
   "cell_type": "code",
   "execution_count": 68,
   "id": "74b24ff4",
   "metadata": {
    "ExecuteTime": {
     "end_time": "2022-02-03T01:31:21.601308Z",
     "start_time": "2022-02-03T01:31:21.593944Z"
    }
   },
   "outputs": [
    {
     "data": {
      "text/plain": [
       "['1024256002',\n",
       " '1024256003',\n",
       " '1024256004',\n",
       " '1024256005',\n",
       " '1024256006',\n",
       " '1024256007']"
      ]
     },
     "execution_count": 68,
     "metadata": {},
     "output_type": "execute_result"
    }
   ],
   "source": [
    "product_id"
   ]
  },
  {
   "cell_type": "code",
   "execution_count": 69,
   "id": "3f501423",
   "metadata": {
    "ExecuteTime": {
     "end_time": "2022-02-03T01:31:24.504460Z",
     "start_time": "2022-02-03T01:31:24.485435Z"
    }
   },
   "outputs": [
    {
     "data": {
      "text/plain": [
       "[<div class=\"pdp-description-list-item\">\n",
       " <dt>Size</dt>\n",
       " <dd>The model is 185cm/6'1\" and wears a size 31/32</dd>\n",
       " </div>,\n",
       " <div class=\"pdp-description-list-item\">\n",
       " <dt>Fit</dt>\n",
       " <dd>\n",
       " <ul>\n",
       " <li>Slim fit</li>\n",
       " </ul>\n",
       " </dd>\n",
       " </div>,\n",
       " <div class=\"pdp-description-list-item\">\n",
       " <dt>Composition</dt>\n",
       " <dd>\n",
       " <ul>\n",
       " <li>Pocket lining: Polyester 65%, Cotton 35%</li>\n",
       " <li>Shell: Cotton 99%, Spandex 1%</li>\n",
       " </ul>\n",
       " </dd>\n",
       " </div>,\n",
       " <div class=\"pdp-description-list-item\">\n",
       " <dt>Art. No.</dt>\n",
       " <dd>1024256001</dd>\n",
       " </div>]"
      ]
     },
     "execution_count": 69,
     "metadata": {},
     "output_type": "execute_result"
    }
   ],
   "source": [
    "# composition\n",
    "soup.find_all('div', class_='pdp-description-list-item')"
   ]
  },
  {
   "cell_type": "code",
   "execution_count": 70,
   "id": "5fe500a8",
   "metadata": {
    "ExecuteTime": {
     "end_time": "2022-02-03T01:31:27.779203Z",
     "start_time": "2022-02-03T01:31:27.760285Z"
    }
   },
   "outputs": [
    {
     "data": {
      "text/plain": [
       "bs4.element.Tag"
      ]
     },
     "execution_count": 70,
     "metadata": {},
     "output_type": "execute_result"
    }
   ],
   "source": [
    "type(soup.find_all('div', class_='pdp-description-list-item')[1])"
   ]
  },
  {
   "cell_type": "code",
   "execution_count": 71,
   "id": "b99346b7",
   "metadata": {
    "ExecuteTime": {
     "end_time": "2022-02-03T01:31:29.904843Z",
     "start_time": "2022-02-03T01:31:29.886520Z"
    }
   },
   "outputs": [
    {
     "data": {
      "text/plain": [
       "['', 'Fit', '', '', 'Slim fit', '', '', '']"
      ]
     },
     "execution_count": 71,
     "metadata": {},
     "output_type": "execute_result"
    }
   ],
   "source": [
    "soup.find_all('div', class_='pdp-description-list-item')[1].get_text().split('\\n')"
   ]
  },
  {
   "cell_type": "markdown",
   "id": "796ef4af",
   "metadata": {},
   "source": [
    "- **Retirando essas posições vazias:**"
   ]
  },
  {
   "cell_type": "code",
   "execution_count": 72,
   "id": "5ae5f168",
   "metadata": {
    "ExecuteTime": {
     "end_time": "2022-02-03T01:31:32.672227Z",
     "start_time": "2022-02-03T01:31:32.652461Z"
    }
   },
   "outputs": [
    {
     "data": {
      "text/plain": [
       "['Fit', 'Slim fit']"
      ]
     },
     "execution_count": 72,
     "metadata": {},
     "output_type": "execute_result"
    }
   ],
   "source": [
    "list(filter(None, soup.find_all('div', class_='pdp-description-list-item')[1].get_text().split('\\n')))"
   ]
  },
  {
   "cell_type": "markdown",
   "id": "3df9ca16",
   "metadata": {},
   "source": [
    "- **Construindo linha e coluna:**"
   ]
  },
  {
   "cell_type": "code",
   "execution_count": 83,
   "id": "57094f6e",
   "metadata": {
    "ExecuteTime": {
     "end_time": "2022-02-03T01:32:50.551978Z",
     "start_time": "2022-02-03T01:32:50.527076Z"
    }
   },
   "outputs": [
    {
     "data": {
      "text/html": [
       "<div>\n",
       "<style scoped>\n",
       "    .dataframe tbody tr th:only-of-type {\n",
       "        vertical-align: middle;\n",
       "    }\n",
       "\n",
       "    .dataframe tbody tr th {\n",
       "        vertical-align: top;\n",
       "    }\n",
       "\n",
       "    .dataframe thead th {\n",
       "        text-align: right;\n",
       "    }\n",
       "</style>\n",
       "<table border=\"1\" class=\"dataframe\">\n",
       "  <thead>\n",
       "    <tr style=\"text-align: right;\">\n",
       "      <th></th>\n",
       "      <th>0</th>\n",
       "      <th>1</th>\n",
       "      <th>2</th>\n",
       "      <th>3</th>\n",
       "    </tr>\n",
       "  </thead>\n",
       "  <tbody>\n",
       "    <tr>\n",
       "      <th>0</th>\n",
       "      <td>Size</td>\n",
       "      <td>Fit</td>\n",
       "      <td>Composition</td>\n",
       "      <td>Art. No.</td>\n",
       "    </tr>\n",
       "    <tr>\n",
       "      <th>1</th>\n",
       "      <td>The model is 185cm/6'1\" and wears a size 31/32</td>\n",
       "      <td>Slim fit</td>\n",
       "      <td>Pocket lining: Polyester 65%, Cotton 35%</td>\n",
       "      <td>1024256001</td>\n",
       "    </tr>\n",
       "    <tr>\n",
       "      <th>2</th>\n",
       "      <td>None</td>\n",
       "      <td>None</td>\n",
       "      <td>Shell: Cotton 99%, Spandex 1%</td>\n",
       "      <td>None</td>\n",
       "    </tr>\n",
       "  </tbody>\n",
       "</table>\n",
       "</div>"
      ],
      "text/plain": [
       "                                                0         1  \\\n",
       "0                                            Size       Fit   \n",
       "1  The model is 185cm/6'1\" and wears a size 31/32  Slim fit   \n",
       "2                                            None      None   \n",
       "\n",
       "                                          2           3  \n",
       "0                               Composition    Art. No.  \n",
       "1  Pocket lining: Polyester 65%, Cotton 35%  1024256001  \n",
       "2             Shell: Cotton 99%, Spandex 1%        None  "
      ]
     },
     "execution_count": 83,
     "metadata": {},
     "output_type": "execute_result"
    }
   ],
   "source": [
    "product_composition_list = soup.find_all('div', class_='pdp-description-list-item')\n",
    "product_composition = [list(filter(None, p.get_text().split('\\n'))) for p in product_composition_list]\n",
    "df_aux = pd.DataFrame(product_composition).T\n",
    "df_aux"
   ]
  },
  {
   "cell_type": "code",
   "execution_count": 84,
   "id": "bba89ef3",
   "metadata": {
    "ExecuteTime": {
     "end_time": "2022-02-03T01:32:51.808599Z",
     "start_time": "2022-02-03T01:32:51.800887Z"
    }
   },
   "outputs": [
    {
     "data": {
      "text/plain": [
       "0           Size\n",
       "1            Fit\n",
       "2    Composition\n",
       "3       Art. No.\n",
       "Name: 0, dtype: object"
      ]
     },
     "execution_count": 84,
     "metadata": {},
     "output_type": "execute_result"
    }
   ],
   "source": [
    "df_aux.iloc[0]"
   ]
  },
  {
   "cell_type": "code",
   "execution_count": 85,
   "id": "ae5d3be5",
   "metadata": {
    "ExecuteTime": {
     "end_time": "2022-02-03T01:32:52.949927Z",
     "start_time": "2022-02-03T01:32:52.935080Z"
    }
   },
   "outputs": [
    {
     "data": {
      "text/html": [
       "<div>\n",
       "<style scoped>\n",
       "    .dataframe tbody tr th:only-of-type {\n",
       "        vertical-align: middle;\n",
       "    }\n",
       "\n",
       "    .dataframe tbody tr th {\n",
       "        vertical-align: top;\n",
       "    }\n",
       "\n",
       "    .dataframe thead th {\n",
       "        text-align: right;\n",
       "    }\n",
       "</style>\n",
       "<table border=\"1\" class=\"dataframe\">\n",
       "  <thead>\n",
       "    <tr style=\"text-align: right;\">\n",
       "      <th></th>\n",
       "      <th>Size</th>\n",
       "      <th>Fit</th>\n",
       "      <th>Composition</th>\n",
       "      <th>Art. No.</th>\n",
       "    </tr>\n",
       "  </thead>\n",
       "  <tbody>\n",
       "    <tr>\n",
       "      <th>0</th>\n",
       "      <td>Size</td>\n",
       "      <td>Fit</td>\n",
       "      <td>Composition</td>\n",
       "      <td>Art. No.</td>\n",
       "    </tr>\n",
       "    <tr>\n",
       "      <th>1</th>\n",
       "      <td>The model is 185cm/6'1\" and wears a size 31/32</td>\n",
       "      <td>Slim fit</td>\n",
       "      <td>Pocket lining: Polyester 65%, Cotton 35%</td>\n",
       "      <td>1024256001</td>\n",
       "    </tr>\n",
       "    <tr>\n",
       "      <th>2</th>\n",
       "      <td>None</td>\n",
       "      <td>None</td>\n",
       "      <td>Shell: Cotton 99%, Spandex 1%</td>\n",
       "      <td>None</td>\n",
       "    </tr>\n",
       "  </tbody>\n",
       "</table>\n",
       "</div>"
      ],
      "text/plain": [
       "0                                            Size       Fit  \\\n",
       "0                                            Size       Fit   \n",
       "1  The model is 185cm/6'1\" and wears a size 31/32  Slim fit   \n",
       "2                                            None      None   \n",
       "\n",
       "0                               Composition    Art. No.  \n",
       "0                               Composition    Art. No.  \n",
       "1  Pocket lining: Polyester 65%, Cotton 35%  1024256001  \n",
       "2             Shell: Cotton 99%, Spandex 1%        None  "
      ]
     },
     "execution_count": 85,
     "metadata": {},
     "output_type": "execute_result"
    }
   ],
   "source": [
    "# rename data frame\n",
    "df_aux.columns = df_aux.iloc[0]\n",
    "df_aux"
   ]
  },
  {
   "cell_type": "code",
   "execution_count": 89,
   "id": "62f3d65e",
   "metadata": {
    "ExecuteTime": {
     "end_time": "2022-02-03T01:34:29.613063Z",
     "start_time": "2022-02-03T01:34:29.607159Z"
    }
   },
   "outputs": [],
   "source": [
    "# # delete first row\n",
    "df_aux = df_aux.iloc[1:].copy().reset_index()\n",
    "# df_aux"
   ]
  },
  {
   "cell_type": "markdown",
   "id": "7c451d26",
   "metadata": {},
   "source": [
    "- **Substituindo o None:**"
   ]
  },
  {
   "cell_type": "code",
   "execution_count": 90,
   "id": "6177d42c",
   "metadata": {
    "ExecuteTime": {
     "end_time": "2022-02-03T01:34:32.639977Z",
     "start_time": "2022-02-03T01:34:32.623124Z"
    }
   },
   "outputs": [
    {
     "data": {
      "text/html": [
       "<div>\n",
       "<style scoped>\n",
       "    .dataframe tbody tr th:only-of-type {\n",
       "        vertical-align: middle;\n",
       "    }\n",
       "\n",
       "    .dataframe tbody tr th {\n",
       "        vertical-align: top;\n",
       "    }\n",
       "\n",
       "    .dataframe thead th {\n",
       "        text-align: right;\n",
       "    }\n",
       "</style>\n",
       "<table border=\"1\" class=\"dataframe\">\n",
       "  <thead>\n",
       "    <tr style=\"text-align: right;\">\n",
       "      <th></th>\n",
       "      <th>index</th>\n",
       "      <th>Size</th>\n",
       "      <th>Fit</th>\n",
       "      <th>Composition</th>\n",
       "      <th>Art. No.</th>\n",
       "    </tr>\n",
       "  </thead>\n",
       "  <tbody>\n",
       "    <tr>\n",
       "      <th>0</th>\n",
       "      <td>1</td>\n",
       "      <td>The model is 185cm/6'1\" and wears a size 31/32</td>\n",
       "      <td>Slim fit</td>\n",
       "      <td>Pocket lining: Polyester 65%, Cotton 35%</td>\n",
       "      <td>1024256001</td>\n",
       "    </tr>\n",
       "    <tr>\n",
       "      <th>1</th>\n",
       "      <td>2</td>\n",
       "      <td>The model is 185cm/6'1\" and wears a size 31/32</td>\n",
       "      <td>Slim fit</td>\n",
       "      <td>Shell: Cotton 99%, Spandex 1%</td>\n",
       "      <td>1024256001</td>\n",
       "    </tr>\n",
       "  </tbody>\n",
       "</table>\n",
       "</div>"
      ],
      "text/plain": [
       "0  index                                            Size       Fit  \\\n",
       "0      1  The model is 185cm/6'1\" and wears a size 31/32  Slim fit   \n",
       "1      2  The model is 185cm/6'1\" and wears a size 31/32  Slim fit   \n",
       "\n",
       "0                               Composition    Art. No.  \n",
       "0  Pocket lining: Polyester 65%, Cotton 35%  1024256001  \n",
       "1             Shell: Cotton 99%, Spandex 1%  1024256001  "
      ]
     },
     "execution_count": 90,
     "metadata": {},
     "output_type": "execute_result"
    }
   ],
   "source": [
    "df_aux"
   ]
  },
  {
   "cell_type": "code",
   "execution_count": 91,
   "id": "d6f15bbf",
   "metadata": {
    "ExecuteTime": {
     "end_time": "2022-02-03T01:34:35.441813Z",
     "start_time": "2022-02-03T01:34:35.423939Z"
    }
   },
   "outputs": [
    {
     "data": {
      "text/html": [
       "<div>\n",
       "<style scoped>\n",
       "    .dataframe tbody tr th:only-of-type {\n",
       "        vertical-align: middle;\n",
       "    }\n",
       "\n",
       "    .dataframe tbody tr th {\n",
       "        vertical-align: top;\n",
       "    }\n",
       "\n",
       "    .dataframe thead th {\n",
       "        text-align: right;\n",
       "    }\n",
       "</style>\n",
       "<table border=\"1\" class=\"dataframe\">\n",
       "  <thead>\n",
       "    <tr style=\"text-align: right;\">\n",
       "      <th></th>\n",
       "      <th>index</th>\n",
       "      <th>Size</th>\n",
       "      <th>Fit</th>\n",
       "      <th>Composition</th>\n",
       "      <th>Art. No.</th>\n",
       "    </tr>\n",
       "  </thead>\n",
       "  <tbody>\n",
       "    <tr>\n",
       "      <th>0</th>\n",
       "      <td>1</td>\n",
       "      <td>The model is 185cm/6'1\" and wears a size 31/32</td>\n",
       "      <td>Slim fit</td>\n",
       "      <td>Pocket lining: Polyester 65%, Cotton 35%</td>\n",
       "      <td>1024256001</td>\n",
       "    </tr>\n",
       "    <tr>\n",
       "      <th>1</th>\n",
       "      <td>2</td>\n",
       "      <td>The model is 185cm/6'1\" and wears a size 31/32</td>\n",
       "      <td>Slim fit</td>\n",
       "      <td>Shell: Cotton 99%, Spandex 1%</td>\n",
       "      <td>1024256001</td>\n",
       "    </tr>\n",
       "  </tbody>\n",
       "</table>\n",
       "</div>"
      ],
      "text/plain": [
       "0  index                                            Size       Fit  \\\n",
       "0      1  The model is 185cm/6'1\" and wears a size 31/32  Slim fit   \n",
       "1      2  The model is 185cm/6'1\" and wears a size 31/32  Slim fit   \n",
       "\n",
       "0                               Composition    Art. No.  \n",
       "0  Pocket lining: Polyester 65%, Cotton 35%  1024256001  \n",
       "1             Shell: Cotton 99%, Spandex 1%  1024256001  "
      ]
     },
     "execution_count": 91,
     "metadata": {},
     "output_type": "execute_result"
    }
   ],
   "source": [
    "df_aux = df_aux.fillna(method='ffill')\n",
    "df_aux"
   ]
  },
  {
   "cell_type": "code",
   "execution_count": 92,
   "id": "9e88df7b",
   "metadata": {
    "ExecuteTime": {
     "end_time": "2022-02-03T01:34:38.791615Z",
     "start_time": "2022-02-03T01:34:38.775948Z"
    }
   },
   "outputs": [
    {
     "data": {
      "text/html": [
       "<div>\n",
       "<style scoped>\n",
       "    .dataframe tbody tr th:only-of-type {\n",
       "        vertical-align: middle;\n",
       "    }\n",
       "\n",
       "    .dataframe tbody tr th {\n",
       "        vertical-align: top;\n",
       "    }\n",
       "\n",
       "    .dataframe thead th {\n",
       "        text-align: right;\n",
       "    }\n",
       "</style>\n",
       "<table border=\"1\" class=\"dataframe\">\n",
       "  <thead>\n",
       "    <tr style=\"text-align: right;\">\n",
       "      <th></th>\n",
       "      <th>index</th>\n",
       "      <th>Size</th>\n",
       "      <th>Fit</th>\n",
       "      <th>Composition</th>\n",
       "      <th>Art. No.</th>\n",
       "    </tr>\n",
       "  </thead>\n",
       "  <tbody>\n",
       "    <tr>\n",
       "      <th>0</th>\n",
       "      <td>1</td>\n",
       "      <td>The model is 185cm/6'1\" and wears a size 31/32</td>\n",
       "      <td>Slim fit</td>\n",
       "      <td>Pocket lining: Polyester 65%, Cotton 35%</td>\n",
       "      <td>1024256001</td>\n",
       "    </tr>\n",
       "    <tr>\n",
       "      <th>1</th>\n",
       "      <td>2</td>\n",
       "      <td>The model is 185cm/6'1\" and wears a size 31/32</td>\n",
       "      <td>Slim fit</td>\n",
       "      <td>Shell: Cotton 99%, Spandex 1%</td>\n",
       "      <td>1024256001</td>\n",
       "    </tr>\n",
       "  </tbody>\n",
       "</table>\n",
       "</div>"
      ],
      "text/plain": [
       "0  index                                            Size       Fit  \\\n",
       "0      1  The model is 185cm/6'1\" and wears a size 31/32  Slim fit   \n",
       "1      2  The model is 185cm/6'1\" and wears a size 31/32  Slim fit   \n",
       "\n",
       "0                               Composition    Art. No.  \n",
       "0  Pocket lining: Polyester 65%, Cotton 35%  1024256001  \n",
       "1             Shell: Cotton 99%, Spandex 1%  1024256001  "
      ]
     },
     "execution_count": 92,
     "metadata": {},
     "output_type": "execute_result"
    }
   ],
   "source": [
    "df_composition = df_aux\n",
    "df_composition"
   ]
  },
  {
   "cell_type": "code",
   "execution_count": 93,
   "id": "f98651b2",
   "metadata": {
    "ExecuteTime": {
     "end_time": "2022-02-03T01:34:44.645945Z",
     "start_time": "2022-02-03T01:34:44.625159Z"
    }
   },
   "outputs": [
    {
     "data": {
      "text/html": [
       "<div>\n",
       "<style scoped>\n",
       "    .dataframe tbody tr th:only-of-type {\n",
       "        vertical-align: middle;\n",
       "    }\n",
       "\n",
       "    .dataframe tbody tr th {\n",
       "        vertical-align: top;\n",
       "    }\n",
       "\n",
       "    .dataframe thead th {\n",
       "        text-align: right;\n",
       "    }\n",
       "</style>\n",
       "<table border=\"1\" class=\"dataframe\">\n",
       "  <thead>\n",
       "    <tr style=\"text-align: right;\">\n",
       "      <th></th>\n",
       "      <th>index</th>\n",
       "      <th>Size</th>\n",
       "      <th>Fit</th>\n",
       "      <th>Composition</th>\n",
       "      <th>Art. No.</th>\n",
       "      <th>style_id</th>\n",
       "      <th>color_id</th>\n",
       "    </tr>\n",
       "  </thead>\n",
       "  <tbody>\n",
       "    <tr>\n",
       "      <th>0</th>\n",
       "      <td>1</td>\n",
       "      <td>The model is 185cm/6'1\" and wears a size 31/32</td>\n",
       "      <td>Slim fit</td>\n",
       "      <td>Pocket lining: Polyester 65%, Cotton 35%</td>\n",
       "      <td>1024256001</td>\n",
       "      <td>1024256</td>\n",
       "      <td>001</td>\n",
       "    </tr>\n",
       "    <tr>\n",
       "      <th>1</th>\n",
       "      <td>2</td>\n",
       "      <td>The model is 185cm/6'1\" and wears a size 31/32</td>\n",
       "      <td>Slim fit</td>\n",
       "      <td>Shell: Cotton 99%, Spandex 1%</td>\n",
       "      <td>1024256001</td>\n",
       "      <td>1024256</td>\n",
       "      <td>001</td>\n",
       "    </tr>\n",
       "  </tbody>\n",
       "</table>\n",
       "</div>"
      ],
      "text/plain": [
       "0  index                                            Size       Fit  \\\n",
       "0      1  The model is 185cm/6'1\" and wears a size 31/32  Slim fit   \n",
       "1      2  The model is 185cm/6'1\" and wears a size 31/32  Slim fit   \n",
       "\n",
       "0                               Composition    Art. No. style_id color_id  \n",
       "0  Pocket lining: Polyester 65%, Cotton 35%  1024256001  1024256      001  \n",
       "1             Shell: Cotton 99%, Spandex 1%  1024256001  1024256      001  "
      ]
     },
     "execution_count": 93,
     "metadata": {},
     "output_type": "execute_result"
    }
   ],
   "source": [
    "# generate style id + color id\n",
    "df_composition['style_id'] = df_composition['Art. No.'].apply(lambda x: x[:-3])\n",
    "df_composition['color_id'] = df_composition['Art. No.'].apply(lambda x: x[-3:])\n",
    "df_composition"
   ]
  },
  {
   "cell_type": "code",
   "execution_count": 94,
   "id": "1b77c695",
   "metadata": {
    "ExecuteTime": {
     "end_time": "2022-02-03T01:34:48.850517Z",
     "start_time": "2022-02-03T01:34:48.834004Z"
    }
   },
   "outputs": [
    {
     "data": {
      "text/html": [
       "<div>\n",
       "<style scoped>\n",
       "    .dataframe tbody tr th:only-of-type {\n",
       "        vertical-align: middle;\n",
       "    }\n",
       "\n",
       "    .dataframe tbody tr th {\n",
       "        vertical-align: top;\n",
       "    }\n",
       "\n",
       "    .dataframe thead th {\n",
       "        text-align: right;\n",
       "    }\n",
       "</style>\n",
       "<table border=\"1\" class=\"dataframe\">\n",
       "  <thead>\n",
       "    <tr style=\"text-align: right;\">\n",
       "      <th></th>\n",
       "      <th>product_id</th>\n",
       "      <th>color_name</th>\n",
       "      <th>style_id</th>\n",
       "      <th>color_id</th>\n",
       "    </tr>\n",
       "  </thead>\n",
       "  <tbody>\n",
       "    <tr>\n",
       "      <th>0</th>\n",
       "      <td>1024256002</td>\n",
       "      <td>Light denim blue</td>\n",
       "      <td>1024256</td>\n",
       "      <td>002</td>\n",
       "    </tr>\n",
       "    <tr>\n",
       "      <th>1</th>\n",
       "      <td>1024256003</td>\n",
       "      <td>Light denim blue</td>\n",
       "      <td>1024256</td>\n",
       "      <td>003</td>\n",
       "    </tr>\n",
       "    <tr>\n",
       "      <th>2</th>\n",
       "      <td>1024256004</td>\n",
       "      <td>Denim blue</td>\n",
       "      <td>1024256</td>\n",
       "      <td>004</td>\n",
       "    </tr>\n",
       "    <tr>\n",
       "      <th>3</th>\n",
       "      <td>1024256005</td>\n",
       "      <td>Dark blue</td>\n",
       "      <td>1024256</td>\n",
       "      <td>005</td>\n",
       "    </tr>\n",
       "    <tr>\n",
       "      <th>4</th>\n",
       "      <td>1024256006</td>\n",
       "      <td>Dark denim blue</td>\n",
       "      <td>1024256</td>\n",
       "      <td>006</td>\n",
       "    </tr>\n",
       "    <tr>\n",
       "      <th>5</th>\n",
       "      <td>1024256007</td>\n",
       "      <td>Dark gray</td>\n",
       "      <td>1024256</td>\n",
       "      <td>007</td>\n",
       "    </tr>\n",
       "  </tbody>\n",
       "</table>\n",
       "</div>"
      ],
      "text/plain": [
       "   product_id        color_name style_id color_id\n",
       "0  1024256002  Light denim blue  1024256      002\n",
       "1  1024256003  Light denim blue  1024256      003\n",
       "2  1024256004        Denim blue  1024256      004\n",
       "3  1024256005         Dark blue  1024256      005\n",
       "4  1024256006   Dark denim blue  1024256      006\n",
       "5  1024256007         Dark gray  1024256      007"
      ]
     },
     "execution_count": 94,
     "metadata": {},
     "output_type": "execute_result"
    }
   ],
   "source": [
    "# generate style id + color id\n",
    "df_color['style_id'] = df_color['product_id'].apply(lambda x: x[:-3])\n",
    "df_color['color_id'] = df_color['product_id'].apply(lambda x: x[-3:])\n",
    "df_color"
   ]
  },
  {
   "cell_type": "code",
   "execution_count": 95,
   "id": "7c6ade74",
   "metadata": {
    "ExecuteTime": {
     "end_time": "2022-02-03T01:35:03.825629Z",
     "start_time": "2022-02-03T01:35:03.795835Z"
    }
   },
   "outputs": [
    {
     "data": {
      "text/html": [
       "<div>\n",
       "<style scoped>\n",
       "    .dataframe tbody tr th:only-of-type {\n",
       "        vertical-align: middle;\n",
       "    }\n",
       "\n",
       "    .dataframe tbody tr th {\n",
       "        vertical-align: top;\n",
       "    }\n",
       "\n",
       "    .dataframe thead th {\n",
       "        text-align: right;\n",
       "    }\n",
       "</style>\n",
       "<table border=\"1\" class=\"dataframe\">\n",
       "  <thead>\n",
       "    <tr style=\"text-align: right;\">\n",
       "      <th></th>\n",
       "      <th>product_id</th>\n",
       "      <th>color_name</th>\n",
       "      <th>style_id</th>\n",
       "      <th>color_id</th>\n",
       "      <th>Size</th>\n",
       "      <th>Fit</th>\n",
       "      <th>Composition</th>\n",
       "    </tr>\n",
       "  </thead>\n",
       "  <tbody>\n",
       "    <tr>\n",
       "      <th>0</th>\n",
       "      <td>1024256002</td>\n",
       "      <td>Light denim blue</td>\n",
       "      <td>1024256</td>\n",
       "      <td>002</td>\n",
       "      <td>The model is 185cm/6'1\" and wears a size 31/32</td>\n",
       "      <td>Slim fit</td>\n",
       "      <td>Pocket lining: Polyester 65%, Cotton 35%</td>\n",
       "    </tr>\n",
       "    <tr>\n",
       "      <th>1</th>\n",
       "      <td>1024256002</td>\n",
       "      <td>Light denim blue</td>\n",
       "      <td>1024256</td>\n",
       "      <td>002</td>\n",
       "      <td>The model is 185cm/6'1\" and wears a size 31/32</td>\n",
       "      <td>Slim fit</td>\n",
       "      <td>Shell: Cotton 99%, Spandex 1%</td>\n",
       "    </tr>\n",
       "    <tr>\n",
       "      <th>2</th>\n",
       "      <td>1024256003</td>\n",
       "      <td>Light denim blue</td>\n",
       "      <td>1024256</td>\n",
       "      <td>003</td>\n",
       "      <td>The model is 185cm/6'1\" and wears a size 31/32</td>\n",
       "      <td>Slim fit</td>\n",
       "      <td>Pocket lining: Polyester 65%, Cotton 35%</td>\n",
       "    </tr>\n",
       "    <tr>\n",
       "      <th>3</th>\n",
       "      <td>1024256003</td>\n",
       "      <td>Light denim blue</td>\n",
       "      <td>1024256</td>\n",
       "      <td>003</td>\n",
       "      <td>The model is 185cm/6'1\" and wears a size 31/32</td>\n",
       "      <td>Slim fit</td>\n",
       "      <td>Shell: Cotton 99%, Spandex 1%</td>\n",
       "    </tr>\n",
       "    <tr>\n",
       "      <th>4</th>\n",
       "      <td>1024256004</td>\n",
       "      <td>Denim blue</td>\n",
       "      <td>1024256</td>\n",
       "      <td>004</td>\n",
       "      <td>The model is 185cm/6'1\" and wears a size 31/32</td>\n",
       "      <td>Slim fit</td>\n",
       "      <td>Pocket lining: Polyester 65%, Cotton 35%</td>\n",
       "    </tr>\n",
       "    <tr>\n",
       "      <th>5</th>\n",
       "      <td>1024256004</td>\n",
       "      <td>Denim blue</td>\n",
       "      <td>1024256</td>\n",
       "      <td>004</td>\n",
       "      <td>The model is 185cm/6'1\" and wears a size 31/32</td>\n",
       "      <td>Slim fit</td>\n",
       "      <td>Shell: Cotton 99%, Spandex 1%</td>\n",
       "    </tr>\n",
       "    <tr>\n",
       "      <th>6</th>\n",
       "      <td>1024256005</td>\n",
       "      <td>Dark blue</td>\n",
       "      <td>1024256</td>\n",
       "      <td>005</td>\n",
       "      <td>The model is 185cm/6'1\" and wears a size 31/32</td>\n",
       "      <td>Slim fit</td>\n",
       "      <td>Pocket lining: Polyester 65%, Cotton 35%</td>\n",
       "    </tr>\n",
       "    <tr>\n",
       "      <th>7</th>\n",
       "      <td>1024256005</td>\n",
       "      <td>Dark blue</td>\n",
       "      <td>1024256</td>\n",
       "      <td>005</td>\n",
       "      <td>The model is 185cm/6'1\" and wears a size 31/32</td>\n",
       "      <td>Slim fit</td>\n",
       "      <td>Shell: Cotton 99%, Spandex 1%</td>\n",
       "    </tr>\n",
       "    <tr>\n",
       "      <th>8</th>\n",
       "      <td>1024256006</td>\n",
       "      <td>Dark denim blue</td>\n",
       "      <td>1024256</td>\n",
       "      <td>006</td>\n",
       "      <td>The model is 185cm/6'1\" and wears a size 31/32</td>\n",
       "      <td>Slim fit</td>\n",
       "      <td>Pocket lining: Polyester 65%, Cotton 35%</td>\n",
       "    </tr>\n",
       "    <tr>\n",
       "      <th>9</th>\n",
       "      <td>1024256006</td>\n",
       "      <td>Dark denim blue</td>\n",
       "      <td>1024256</td>\n",
       "      <td>006</td>\n",
       "      <td>The model is 185cm/6'1\" and wears a size 31/32</td>\n",
       "      <td>Slim fit</td>\n",
       "      <td>Shell: Cotton 99%, Spandex 1%</td>\n",
       "    </tr>\n",
       "    <tr>\n",
       "      <th>10</th>\n",
       "      <td>1024256007</td>\n",
       "      <td>Dark gray</td>\n",
       "      <td>1024256</td>\n",
       "      <td>007</td>\n",
       "      <td>The model is 185cm/6'1\" and wears a size 31/32</td>\n",
       "      <td>Slim fit</td>\n",
       "      <td>Pocket lining: Polyester 65%, Cotton 35%</td>\n",
       "    </tr>\n",
       "    <tr>\n",
       "      <th>11</th>\n",
       "      <td>1024256007</td>\n",
       "      <td>Dark gray</td>\n",
       "      <td>1024256</td>\n",
       "      <td>007</td>\n",
       "      <td>The model is 185cm/6'1\" and wears a size 31/32</td>\n",
       "      <td>Slim fit</td>\n",
       "      <td>Shell: Cotton 99%, Spandex 1%</td>\n",
       "    </tr>\n",
       "  </tbody>\n",
       "</table>\n",
       "</div>"
      ],
      "text/plain": [
       "    product_id        color_name style_id color_id  \\\n",
       "0   1024256002  Light denim blue  1024256      002   \n",
       "1   1024256002  Light denim blue  1024256      002   \n",
       "2   1024256003  Light denim blue  1024256      003   \n",
       "3   1024256003  Light denim blue  1024256      003   \n",
       "4   1024256004        Denim blue  1024256      004   \n",
       "5   1024256004        Denim blue  1024256      004   \n",
       "6   1024256005         Dark blue  1024256      005   \n",
       "7   1024256005         Dark blue  1024256      005   \n",
       "8   1024256006   Dark denim blue  1024256      006   \n",
       "9   1024256006   Dark denim blue  1024256      006   \n",
       "10  1024256007         Dark gray  1024256      007   \n",
       "11  1024256007         Dark gray  1024256      007   \n",
       "\n",
       "                                              Size       Fit  \\\n",
       "0   The model is 185cm/6'1\" and wears a size 31/32  Slim fit   \n",
       "1   The model is 185cm/6'1\" and wears a size 31/32  Slim fit   \n",
       "2   The model is 185cm/6'1\" and wears a size 31/32  Slim fit   \n",
       "3   The model is 185cm/6'1\" and wears a size 31/32  Slim fit   \n",
       "4   The model is 185cm/6'1\" and wears a size 31/32  Slim fit   \n",
       "5   The model is 185cm/6'1\" and wears a size 31/32  Slim fit   \n",
       "6   The model is 185cm/6'1\" and wears a size 31/32  Slim fit   \n",
       "7   The model is 185cm/6'1\" and wears a size 31/32  Slim fit   \n",
       "8   The model is 185cm/6'1\" and wears a size 31/32  Slim fit   \n",
       "9   The model is 185cm/6'1\" and wears a size 31/32  Slim fit   \n",
       "10  The model is 185cm/6'1\" and wears a size 31/32  Slim fit   \n",
       "11  The model is 185cm/6'1\" and wears a size 31/32  Slim fit   \n",
       "\n",
       "                                 Composition  \n",
       "0   Pocket lining: Polyester 65%, Cotton 35%  \n",
       "1              Shell: Cotton 99%, Spandex 1%  \n",
       "2   Pocket lining: Polyester 65%, Cotton 35%  \n",
       "3              Shell: Cotton 99%, Spandex 1%  \n",
       "4   Pocket lining: Polyester 65%, Cotton 35%  \n",
       "5              Shell: Cotton 99%, Spandex 1%  \n",
       "6   Pocket lining: Polyester 65%, Cotton 35%  \n",
       "7              Shell: Cotton 99%, Spandex 1%  \n",
       "8   Pocket lining: Polyester 65%, Cotton 35%  \n",
       "9              Shell: Cotton 99%, Spandex 1%  \n",
       "10  Pocket lining: Polyester 65%, Cotton 35%  \n",
       "11             Shell: Cotton 99%, Spandex 1%  "
      ]
     },
     "execution_count": 95,
     "metadata": {},
     "output_type": "execute_result"
    }
   ],
   "source": [
    "# Join\n",
    "pd.merge(df_color, df_composition[['style_id', 'Size', 'Fit', 'Composition']], how='left', on='style_id')"
   ]
  },
  {
   "cell_type": "markdown",
   "id": "f4abb47e",
   "metadata": {},
   "source": [
    "# <span style=\"color:#3399ff\">Juntando todos os passos anteriores </span>"
   ]
  },
  {
   "cell_type": "markdown",
   "id": "bfb2cfa3",
   "metadata": {},
   "source": [
    "## <span style=\"color:#ff8000\">0. Packages </span>"
   ]
  },
  {
   "cell_type": "code",
   "execution_count": 96,
   "id": "ce6a2169",
   "metadata": {
    "ExecuteTime": {
     "end_time": "2022-02-03T01:35:09.458939Z",
     "start_time": "2022-02-03T01:35:09.454819Z"
    }
   },
   "outputs": [],
   "source": [
    "import requests\n",
    "import pandas as pd\n",
    "from datetime import datetime\n",
    "from bs4 import BeautifulSoup"
   ]
  },
  {
   "cell_type": "markdown",
   "id": "5a85b612",
   "metadata": {},
   "source": [
    "## <span style=\"color:#ff8000\">1. One Product </span>"
   ]
  },
  {
   "cell_type": "code",
   "execution_count": 97,
   "id": "2c3c1d40",
   "metadata": {
    "ExecuteTime": {
     "end_time": "2022-02-03T01:35:44.418396Z",
     "start_time": "2022-02-03T01:35:42.855356Z"
    }
   },
   "outputs": [],
   "source": [
    "# API Requests\n",
    "url = 'https://www2.hm.com/en_us/productpage.1024256001.html'\n",
    "headers = {'User-Agent': 'Mozilla/5.0 (Macintosh; Intel Mac OS X 10_11_5)AppleWebKit/537.36 (KHTML, like Gecko) Chrome/50.0.2661.102 Safari/537.36'}\n",
    "page = requests.get( url, headers=headers )\n",
    "\n",
    "\n",
    "# Beautiful Soup object\n",
    "soup = BeautifulSoup(page.text, 'html.parser')\n",
    "\n",
    "# ================== color name =====================================\n",
    "product_list = soup.find_all('a', class_='filter-option miniature')\n",
    "color_name = [p.get('data-color') for p in product_list]\n",
    "\n",
    "# color name\n",
    "product_color_list = soup.find_all('a', class_='filter-option miniature')\n",
    "color_name = [p.get('data-color') for p in product_color_list]\n",
    "\n",
    "# product_id\n",
    "product_id = [p.get('data-articlecode') for p in product_color_list]\n",
    "\n",
    "df_color = pd.DataFrame([product_id, color_name]).T\n",
    "df_color.columns = ['product_id', 'color_name']\n",
    "\n",
    "# generate style id + color id\n",
    "df_color['style_id'] = df_color['product_id'].apply(lambda x: x[:-3])\n",
    "df_color['color_id'] = df_color['product_id'].apply(lambda x: x[-3:])\n",
    "\n",
    "# ================== composition =====================================\n",
    "product_composition_list = soup.find_all('div', class_='pdp-description-list-item')\n",
    "product_composition = [list(filter(None, p.get_text().split('\\n'))) for p in product_composition_list]\n",
    "\n",
    "\n",
    "# rename dataframe\n",
    "df_composition = pd.DataFrame(product_composition).T\n",
    "df_composition.columns = df_composition.iloc[0]\n",
    "\n",
    "\n",
    "# delete first row\n",
    "df_composition = df_composition.iloc[1:].fillna(method='ffill')\n",
    "df_composition = df_composition[['Size','Fit', 'Composition', 'Art. No.']]\n",
    "\n",
    "# generate style id + color id\n",
    "df_composition['style_id'] = df_composition['Art. No.'].apply(lambda x: x[:-3])\n",
    "df_composition['color_id'] = df_composition['Art. No.'].apply(lambda x: x[-3:])\n",
    "\n",
    "# Merge data color + composition\n",
    "data_sku = pd.merge(df_color, df_composition[['style_id', 'Size', 'Fit', 'Composition']], how='left', on='style_id')\n"
   ]
  },
  {
   "cell_type": "code",
   "execution_count": 98,
   "id": "7c75f616",
   "metadata": {
    "ExecuteTime": {
     "end_time": "2022-02-03T01:35:45.549192Z",
     "start_time": "2022-02-03T01:35:45.533744Z"
    }
   },
   "outputs": [
    {
     "data": {
      "text/html": [
       "<div>\n",
       "<style scoped>\n",
       "    .dataframe tbody tr th:only-of-type {\n",
       "        vertical-align: middle;\n",
       "    }\n",
       "\n",
       "    .dataframe tbody tr th {\n",
       "        vertical-align: top;\n",
       "    }\n",
       "\n",
       "    .dataframe thead th {\n",
       "        text-align: right;\n",
       "    }\n",
       "</style>\n",
       "<table border=\"1\" class=\"dataframe\">\n",
       "  <thead>\n",
       "    <tr style=\"text-align: right;\">\n",
       "      <th></th>\n",
       "      <th>product_id</th>\n",
       "      <th>color_name</th>\n",
       "      <th>style_id</th>\n",
       "      <th>color_id</th>\n",
       "      <th>Size</th>\n",
       "      <th>Fit</th>\n",
       "      <th>Composition</th>\n",
       "    </tr>\n",
       "  </thead>\n",
       "  <tbody>\n",
       "    <tr>\n",
       "      <th>0</th>\n",
       "      <td>1024256002</td>\n",
       "      <td>Light denim blue</td>\n",
       "      <td>1024256</td>\n",
       "      <td>002</td>\n",
       "      <td>The model is 185cm/6'1\" and wears a size 31/32</td>\n",
       "      <td>Slim fit</td>\n",
       "      <td>Pocket lining: Polyester 65%, Cotton 35%</td>\n",
       "    </tr>\n",
       "    <tr>\n",
       "      <th>1</th>\n",
       "      <td>1024256002</td>\n",
       "      <td>Light denim blue</td>\n",
       "      <td>1024256</td>\n",
       "      <td>002</td>\n",
       "      <td>The model is 185cm/6'1\" and wears a size 31/32</td>\n",
       "      <td>Slim fit</td>\n",
       "      <td>Shell: Cotton 99%, Spandex 1%</td>\n",
       "    </tr>\n",
       "    <tr>\n",
       "      <th>2</th>\n",
       "      <td>1024256003</td>\n",
       "      <td>Light denim blue</td>\n",
       "      <td>1024256</td>\n",
       "      <td>003</td>\n",
       "      <td>The model is 185cm/6'1\" and wears a size 31/32</td>\n",
       "      <td>Slim fit</td>\n",
       "      <td>Pocket lining: Polyester 65%, Cotton 35%</td>\n",
       "    </tr>\n",
       "    <tr>\n",
       "      <th>3</th>\n",
       "      <td>1024256003</td>\n",
       "      <td>Light denim blue</td>\n",
       "      <td>1024256</td>\n",
       "      <td>003</td>\n",
       "      <td>The model is 185cm/6'1\" and wears a size 31/32</td>\n",
       "      <td>Slim fit</td>\n",
       "      <td>Shell: Cotton 99%, Spandex 1%</td>\n",
       "    </tr>\n",
       "    <tr>\n",
       "      <th>4</th>\n",
       "      <td>1024256004</td>\n",
       "      <td>Denim blue</td>\n",
       "      <td>1024256</td>\n",
       "      <td>004</td>\n",
       "      <td>The model is 185cm/6'1\" and wears a size 31/32</td>\n",
       "      <td>Slim fit</td>\n",
       "      <td>Pocket lining: Polyester 65%, Cotton 35%</td>\n",
       "    </tr>\n",
       "    <tr>\n",
       "      <th>5</th>\n",
       "      <td>1024256004</td>\n",
       "      <td>Denim blue</td>\n",
       "      <td>1024256</td>\n",
       "      <td>004</td>\n",
       "      <td>The model is 185cm/6'1\" and wears a size 31/32</td>\n",
       "      <td>Slim fit</td>\n",
       "      <td>Shell: Cotton 99%, Spandex 1%</td>\n",
       "    </tr>\n",
       "    <tr>\n",
       "      <th>6</th>\n",
       "      <td>1024256005</td>\n",
       "      <td>Dark blue</td>\n",
       "      <td>1024256</td>\n",
       "      <td>005</td>\n",
       "      <td>The model is 185cm/6'1\" and wears a size 31/32</td>\n",
       "      <td>Slim fit</td>\n",
       "      <td>Pocket lining: Polyester 65%, Cotton 35%</td>\n",
       "    </tr>\n",
       "    <tr>\n",
       "      <th>7</th>\n",
       "      <td>1024256005</td>\n",
       "      <td>Dark blue</td>\n",
       "      <td>1024256</td>\n",
       "      <td>005</td>\n",
       "      <td>The model is 185cm/6'1\" and wears a size 31/32</td>\n",
       "      <td>Slim fit</td>\n",
       "      <td>Shell: Cotton 99%, Spandex 1%</td>\n",
       "    </tr>\n",
       "    <tr>\n",
       "      <th>8</th>\n",
       "      <td>1024256006</td>\n",
       "      <td>Dark denim blue</td>\n",
       "      <td>1024256</td>\n",
       "      <td>006</td>\n",
       "      <td>The model is 185cm/6'1\" and wears a size 31/32</td>\n",
       "      <td>Slim fit</td>\n",
       "      <td>Pocket lining: Polyester 65%, Cotton 35%</td>\n",
       "    </tr>\n",
       "    <tr>\n",
       "      <th>9</th>\n",
       "      <td>1024256006</td>\n",
       "      <td>Dark denim blue</td>\n",
       "      <td>1024256</td>\n",
       "      <td>006</td>\n",
       "      <td>The model is 185cm/6'1\" and wears a size 31/32</td>\n",
       "      <td>Slim fit</td>\n",
       "      <td>Shell: Cotton 99%, Spandex 1%</td>\n",
       "    </tr>\n",
       "    <tr>\n",
       "      <th>10</th>\n",
       "      <td>1024256007</td>\n",
       "      <td>Dark gray</td>\n",
       "      <td>1024256</td>\n",
       "      <td>007</td>\n",
       "      <td>The model is 185cm/6'1\" and wears a size 31/32</td>\n",
       "      <td>Slim fit</td>\n",
       "      <td>Pocket lining: Polyester 65%, Cotton 35%</td>\n",
       "    </tr>\n",
       "    <tr>\n",
       "      <th>11</th>\n",
       "      <td>1024256007</td>\n",
       "      <td>Dark gray</td>\n",
       "      <td>1024256</td>\n",
       "      <td>007</td>\n",
       "      <td>The model is 185cm/6'1\" and wears a size 31/32</td>\n",
       "      <td>Slim fit</td>\n",
       "      <td>Shell: Cotton 99%, Spandex 1%</td>\n",
       "    </tr>\n",
       "  </tbody>\n",
       "</table>\n",
       "</div>"
      ],
      "text/plain": [
       "    product_id        color_name style_id color_id  \\\n",
       "0   1024256002  Light denim blue  1024256      002   \n",
       "1   1024256002  Light denim blue  1024256      002   \n",
       "2   1024256003  Light denim blue  1024256      003   \n",
       "3   1024256003  Light denim blue  1024256      003   \n",
       "4   1024256004        Denim blue  1024256      004   \n",
       "5   1024256004        Denim blue  1024256      004   \n",
       "6   1024256005         Dark blue  1024256      005   \n",
       "7   1024256005         Dark blue  1024256      005   \n",
       "8   1024256006   Dark denim blue  1024256      006   \n",
       "9   1024256006   Dark denim blue  1024256      006   \n",
       "10  1024256007         Dark gray  1024256      007   \n",
       "11  1024256007         Dark gray  1024256      007   \n",
       "\n",
       "                                              Size       Fit  \\\n",
       "0   The model is 185cm/6'1\" and wears a size 31/32  Slim fit   \n",
       "1   The model is 185cm/6'1\" and wears a size 31/32  Slim fit   \n",
       "2   The model is 185cm/6'1\" and wears a size 31/32  Slim fit   \n",
       "3   The model is 185cm/6'1\" and wears a size 31/32  Slim fit   \n",
       "4   The model is 185cm/6'1\" and wears a size 31/32  Slim fit   \n",
       "5   The model is 185cm/6'1\" and wears a size 31/32  Slim fit   \n",
       "6   The model is 185cm/6'1\" and wears a size 31/32  Slim fit   \n",
       "7   The model is 185cm/6'1\" and wears a size 31/32  Slim fit   \n",
       "8   The model is 185cm/6'1\" and wears a size 31/32  Slim fit   \n",
       "9   The model is 185cm/6'1\" and wears a size 31/32  Slim fit   \n",
       "10  The model is 185cm/6'1\" and wears a size 31/32  Slim fit   \n",
       "11  The model is 185cm/6'1\" and wears a size 31/32  Slim fit   \n",
       "\n",
       "                                 Composition  \n",
       "0   Pocket lining: Polyester 65%, Cotton 35%  \n",
       "1              Shell: Cotton 99%, Spandex 1%  \n",
       "2   Pocket lining: Polyester 65%, Cotton 35%  \n",
       "3              Shell: Cotton 99%, Spandex 1%  \n",
       "4   Pocket lining: Polyester 65%, Cotton 35%  \n",
       "5              Shell: Cotton 99%, Spandex 1%  \n",
       "6   Pocket lining: Polyester 65%, Cotton 35%  \n",
       "7              Shell: Cotton 99%, Spandex 1%  \n",
       "8   Pocket lining: Polyester 65%, Cotton 35%  \n",
       "9              Shell: Cotton 99%, Spandex 1%  \n",
       "10  Pocket lining: Polyester 65%, Cotton 35%  \n",
       "11             Shell: Cotton 99%, Spandex 1%  "
      ]
     },
     "execution_count": 98,
     "metadata": {},
     "output_type": "execute_result"
    }
   ],
   "source": [
    "data_sku"
   ]
  },
  {
   "cell_type": "markdown",
   "id": "16aa4a1c",
   "metadata": {},
   "source": [
    "## <span style=\"color:#ff8000\">2. Multiple Products </span>"
   ]
  },
  {
   "cell_type": "code",
   "execution_count": 99,
   "id": "f35e101b",
   "metadata": {
    "ExecuteTime": {
     "end_time": "2022-02-03T01:35:51.490334Z",
     "start_time": "2022-02-03T01:35:51.473865Z"
    }
   },
   "outputs": [
    {
     "data": {
      "text/html": [
       "<div>\n",
       "<style scoped>\n",
       "    .dataframe tbody tr th:only-of-type {\n",
       "        vertical-align: middle;\n",
       "    }\n",
       "\n",
       "    .dataframe tbody tr th {\n",
       "        vertical-align: top;\n",
       "    }\n",
       "\n",
       "    .dataframe thead th {\n",
       "        text-align: right;\n",
       "    }\n",
       "</style>\n",
       "<table border=\"1\" class=\"dataframe\">\n",
       "  <thead>\n",
       "    <tr style=\"text-align: right;\">\n",
       "      <th></th>\n",
       "      <th>product_id</th>\n",
       "      <th>product_category</th>\n",
       "      <th>product_name</th>\n",
       "      <th>product_price</th>\n",
       "      <th>scrapy_datetime</th>\n",
       "    </tr>\n",
       "  </thead>\n",
       "  <tbody>\n",
       "    <tr>\n",
       "      <th>0</th>\n",
       "      <td>1013317006</td>\n",
       "      <td>men_jeans_regular</td>\n",
       "      <td>Hybrid Regular Tapered Joggers</td>\n",
       "      <td>$ 39.99</td>\n",
       "      <td>2022-02-02 22:30:51</td>\n",
       "    </tr>\n",
       "    <tr>\n",
       "      <th>1</th>\n",
       "      <td>1008549001</td>\n",
       "      <td>men_jeans_regular</td>\n",
       "      <td>Regular Jeans</td>\n",
       "      <td>$ 19.99</td>\n",
       "      <td>2022-02-02 22:30:51</td>\n",
       "    </tr>\n",
       "    <tr>\n",
       "      <th>2</th>\n",
       "      <td>0811993040</td>\n",
       "      <td>men_jeans_regular</td>\n",
       "      <td>Regular Jeans</td>\n",
       "      <td>$ 29.99</td>\n",
       "      <td>2022-02-02 22:30:51</td>\n",
       "    </tr>\n",
       "    <tr>\n",
       "      <th>3</th>\n",
       "      <td>1013317002</td>\n",
       "      <td>men_jeans_regular</td>\n",
       "      <td>Hybrid Regular Tapered Joggers</td>\n",
       "      <td>$ 39.99</td>\n",
       "      <td>2022-02-02 22:30:51</td>\n",
       "    </tr>\n",
       "    <tr>\n",
       "      <th>4</th>\n",
       "      <td>0979945001</td>\n",
       "      <td>men_jeans_loose</td>\n",
       "      <td>Loose Jeans</td>\n",
       "      <td>$ 29.99</td>\n",
       "      <td>2022-02-02 22:30:51</td>\n",
       "    </tr>\n",
       "  </tbody>\n",
       "</table>\n",
       "</div>"
      ],
      "text/plain": [
       "   product_id   product_category                    product_name  \\\n",
       "0  1013317006  men_jeans_regular  Hybrid Regular Tapered Joggers   \n",
       "1  1008549001  men_jeans_regular                   Regular Jeans   \n",
       "2  0811993040  men_jeans_regular                   Regular Jeans   \n",
       "3  1013317002  men_jeans_regular  Hybrid Regular Tapered Joggers   \n",
       "4  0979945001    men_jeans_loose                     Loose Jeans   \n",
       "\n",
       "  product_price      scrapy_datetime  \n",
       "0       $ 39.99  2022-02-02 22:30:51  \n",
       "1       $ 19.99  2022-02-02 22:30:51  \n",
       "2       $ 29.99  2022-02-02 22:30:51  \n",
       "3       $ 39.99  2022-02-02 22:30:51  \n",
       "4       $ 29.99  2022-02-02 22:30:51  "
      ]
     },
     "execution_count": 99,
     "metadata": {},
     "output_type": "execute_result"
    }
   ],
   "source": [
    "data.head()"
   ]
  },
  {
   "cell_type": "code",
   "execution_count": 100,
   "id": "e512a3d4",
   "metadata": {
    "ExecuteTime": {
     "end_time": "2022-02-03T01:35:55.806410Z",
     "start_time": "2022-02-03T01:35:55.793862Z"
    }
   },
   "outputs": [
    {
     "name": "stdout",
     "output_type": "stream",
     "text": [
      "https://www2.hm.com/en_us/productpage.1013317006.html\n",
      "https://www2.hm.com/en_us/productpage.1008549001.html\n",
      "https://www2.hm.com/en_us/productpage.0811993040.html\n",
      "https://www2.hm.com/en_us/productpage.1013317002.html\n",
      "https://www2.hm.com/en_us/productpage.0979945001.html\n",
      "https://www2.hm.com/en_us/productpage.0875105016.html\n",
      "https://www2.hm.com/en_us/productpage.0875105018.html\n",
      "https://www2.hm.com/en_us/productpage.1008549004.html\n",
      "https://www2.hm.com/en_us/productpage.0979945002.html\n",
      "https://www2.hm.com/en_us/productpage.1025726002.html\n",
      "https://www2.hm.com/en_us/productpage.1025726003.html\n",
      "https://www2.hm.com/en_us/productpage.1024256001.html\n",
      "https://www2.hm.com/en_us/productpage.0690449022.html\n",
      "https://www2.hm.com/en_us/productpage.0985159001.html\n",
      "https://www2.hm.com/en_us/productpage.1008549006.html\n",
      "https://www2.hm.com/en_us/productpage.0690449043.html\n",
      "https://www2.hm.com/en_us/productpage.1024256003.html\n",
      "https://www2.hm.com/en_us/productpage.0985159004.html\n",
      "https://www2.hm.com/en_us/productpage.1024256006.html\n",
      "https://www2.hm.com/en_us/productpage.1004199005.html\n",
      "https://www2.hm.com/en_us/productpage.1024256007.html\n",
      "https://www2.hm.com/en_us/productpage.0690449051.html\n",
      "https://www2.hm.com/en_us/productpage.0690449036.html\n",
      "https://www2.hm.com/en_us/productpage.0985159008.html\n",
      "https://www2.hm.com/en_us/productpage.0985159005.html\n",
      "https://www2.hm.com/en_us/productpage.1024256005.html\n",
      "https://www2.hm.com/en_us/productpage.0690449056.html\n",
      "https://www2.hm.com/en_us/productpage.0985159006.html\n",
      "https://www2.hm.com/en_us/productpage.0979945003.html\n",
      "https://www2.hm.com/en_us/productpage.1004199002.html\n",
      "https://www2.hm.com/en_us/productpage.0985159002.html\n",
      "https://www2.hm.com/en_us/productpage.1024256004.html\n",
      "https://www2.hm.com/en_us/productpage.1008110002.html\n",
      "https://www2.hm.com/en_us/productpage.1008549002.html\n",
      "https://www2.hm.com/en_us/productpage.0875105023.html\n",
      "https://www2.hm.com/en_us/productpage.1024711001.html\n"
     ]
    }
   ],
   "source": [
    "# ===================================== TESTES ====================================\n",
    "for i in range(len(data)):\n",
    "\n",
    "    # API Requests\n",
    "    url = 'https://www2.hm.com/en_us/productpage.' + data.loc[i, 'product_id'] + '.html'\n",
    "    print(url)"
   ]
  },
  {
   "cell_type": "code",
   "execution_count": 102,
   "id": "e12dec44",
   "metadata": {
    "ExecuteTime": {
     "end_time": "2022-02-03T01:36:55.778046Z",
     "start_time": "2022-02-03T01:36:54.363707Z"
    }
   },
   "outputs": [
    {
     "ename": "KeyError",
     "evalue": "\"['Product safety'] not in index\"",
     "output_type": "error",
     "traceback": [
      "\u001b[0;31m---------------------------------------------------------------------------\u001b[0m",
      "\u001b[0;31mKeyError\u001b[0m                                  Traceback (most recent call last)",
      "\u001b[0;32m/var/folders/8c/4qj1vrpn4zv0v54qptvr3fjr0000gn/T/ipykernel_16540/3090650101.py\u001b[0m in \u001b[0;36m<module>\u001b[0;34m\u001b[0m\n\u001b[1;32m     52\u001b[0m \u001b[0;34m\u001b[0m\u001b[0m\n\u001b[1;32m     53\u001b[0m     \u001b[0;31m# Merge data color + composition\u001b[0m\u001b[0;34m\u001b[0m\u001b[0;34m\u001b[0m\u001b[0m\n\u001b[0;32m---> 54\u001b[0;31m     \u001b[0mdata_sku\u001b[0m \u001b[0;34m=\u001b[0m \u001b[0mpd\u001b[0m\u001b[0;34m.\u001b[0m\u001b[0mmerge\u001b[0m\u001b[0;34m(\u001b[0m\u001b[0mdf_color\u001b[0m\u001b[0;34m,\u001b[0m \u001b[0mdf_composition\u001b[0m\u001b[0;34m[\u001b[0m\u001b[0;34m[\u001b[0m\u001b[0;34m'style_id'\u001b[0m\u001b[0;34m,\u001b[0m \u001b[0;34m'Fit'\u001b[0m\u001b[0;34m,\u001b[0m \u001b[0;34m'Composition'\u001b[0m\u001b[0;34m,\u001b[0m \u001b[0;34m'Size'\u001b[0m\u001b[0;34m,\u001b[0m \u001b[0;34m'Product safety'\u001b[0m\u001b[0;34m]\u001b[0m\u001b[0;34m]\u001b[0m\u001b[0;34m,\u001b[0m \u001b[0mhow\u001b[0m\u001b[0;34m=\u001b[0m\u001b[0;34m'left'\u001b[0m\u001b[0;34m,\u001b[0m \u001b[0mon\u001b[0m\u001b[0;34m=\u001b[0m\u001b[0;34m'style_id'\u001b[0m\u001b[0;34m)\u001b[0m\u001b[0;34m\u001b[0m\u001b[0;34m\u001b[0m\u001b[0m\n\u001b[0m\u001b[1;32m     55\u001b[0m \u001b[0;34m\u001b[0m\u001b[0m\n\u001b[1;32m     56\u001b[0m     \u001b[0;31m# Products' details\u001b[0m\u001b[0;34m\u001b[0m\u001b[0;34m\u001b[0m\u001b[0m\n",
      "\u001b[0;32m/usr/local/lib/python3.9/site-packages/pandas/core/frame.py\u001b[0m in \u001b[0;36m__getitem__\u001b[0;34m(self, key)\u001b[0m\n\u001b[1;32m   3459\u001b[0m             \u001b[0;32mif\u001b[0m \u001b[0mis_iterator\u001b[0m\u001b[0;34m(\u001b[0m\u001b[0mkey\u001b[0m\u001b[0;34m)\u001b[0m\u001b[0;34m:\u001b[0m\u001b[0;34m\u001b[0m\u001b[0;34m\u001b[0m\u001b[0m\n\u001b[1;32m   3460\u001b[0m                 \u001b[0mkey\u001b[0m \u001b[0;34m=\u001b[0m \u001b[0mlist\u001b[0m\u001b[0;34m(\u001b[0m\u001b[0mkey\u001b[0m\u001b[0;34m)\u001b[0m\u001b[0;34m\u001b[0m\u001b[0;34m\u001b[0m\u001b[0m\n\u001b[0;32m-> 3461\u001b[0;31m             \u001b[0mindexer\u001b[0m \u001b[0;34m=\u001b[0m \u001b[0mself\u001b[0m\u001b[0;34m.\u001b[0m\u001b[0mloc\u001b[0m\u001b[0;34m.\u001b[0m\u001b[0m_get_listlike_indexer\u001b[0m\u001b[0;34m(\u001b[0m\u001b[0mkey\u001b[0m\u001b[0;34m,\u001b[0m \u001b[0maxis\u001b[0m\u001b[0;34m=\u001b[0m\u001b[0;36m1\u001b[0m\u001b[0;34m)\u001b[0m\u001b[0;34m[\u001b[0m\u001b[0;36m1\u001b[0m\u001b[0;34m]\u001b[0m\u001b[0;34m\u001b[0m\u001b[0;34m\u001b[0m\u001b[0m\n\u001b[0m\u001b[1;32m   3462\u001b[0m \u001b[0;34m\u001b[0m\u001b[0m\n\u001b[1;32m   3463\u001b[0m         \u001b[0;31m# take() does not accept boolean indexers\u001b[0m\u001b[0;34m\u001b[0m\u001b[0;34m\u001b[0m\u001b[0m\n",
      "\u001b[0;32m/usr/local/lib/python3.9/site-packages/pandas/core/indexing.py\u001b[0m in \u001b[0;36m_get_listlike_indexer\u001b[0;34m(self, key, axis)\u001b[0m\n\u001b[1;32m   1312\u001b[0m             \u001b[0mkeyarr\u001b[0m\u001b[0;34m,\u001b[0m \u001b[0mindexer\u001b[0m\u001b[0;34m,\u001b[0m \u001b[0mnew_indexer\u001b[0m \u001b[0;34m=\u001b[0m \u001b[0max\u001b[0m\u001b[0;34m.\u001b[0m\u001b[0m_reindex_non_unique\u001b[0m\u001b[0;34m(\u001b[0m\u001b[0mkeyarr\u001b[0m\u001b[0;34m)\u001b[0m\u001b[0;34m\u001b[0m\u001b[0;34m\u001b[0m\u001b[0m\n\u001b[1;32m   1313\u001b[0m \u001b[0;34m\u001b[0m\u001b[0m\n\u001b[0;32m-> 1314\u001b[0;31m         \u001b[0mself\u001b[0m\u001b[0;34m.\u001b[0m\u001b[0m_validate_read_indexer\u001b[0m\u001b[0;34m(\u001b[0m\u001b[0mkeyarr\u001b[0m\u001b[0;34m,\u001b[0m \u001b[0mindexer\u001b[0m\u001b[0;34m,\u001b[0m \u001b[0maxis\u001b[0m\u001b[0;34m)\u001b[0m\u001b[0;34m\u001b[0m\u001b[0;34m\u001b[0m\u001b[0m\n\u001b[0m\u001b[1;32m   1315\u001b[0m \u001b[0;34m\u001b[0m\u001b[0m\n\u001b[1;32m   1316\u001b[0m         if needs_i8_conversion(ax.dtype) or isinstance(\n",
      "\u001b[0;32m/usr/local/lib/python3.9/site-packages/pandas/core/indexing.py\u001b[0m in \u001b[0;36m_validate_read_indexer\u001b[0;34m(self, key, indexer, axis)\u001b[0m\n\u001b[1;32m   1375\u001b[0m \u001b[0;34m\u001b[0m\u001b[0m\n\u001b[1;32m   1376\u001b[0m             \u001b[0mnot_found\u001b[0m \u001b[0;34m=\u001b[0m \u001b[0mlist\u001b[0m\u001b[0;34m(\u001b[0m\u001b[0mensure_index\u001b[0m\u001b[0;34m(\u001b[0m\u001b[0mkey\u001b[0m\u001b[0;34m)\u001b[0m\u001b[0;34m[\u001b[0m\u001b[0mmissing_mask\u001b[0m\u001b[0;34m.\u001b[0m\u001b[0mnonzero\u001b[0m\u001b[0;34m(\u001b[0m\u001b[0;34m)\u001b[0m\u001b[0;34m[\u001b[0m\u001b[0;36m0\u001b[0m\u001b[0;34m]\u001b[0m\u001b[0;34m]\u001b[0m\u001b[0;34m.\u001b[0m\u001b[0munique\u001b[0m\u001b[0;34m(\u001b[0m\u001b[0;34m)\u001b[0m\u001b[0;34m)\u001b[0m\u001b[0;34m\u001b[0m\u001b[0;34m\u001b[0m\u001b[0m\n\u001b[0;32m-> 1377\u001b[0;31m             \u001b[0;32mraise\u001b[0m \u001b[0mKeyError\u001b[0m\u001b[0;34m(\u001b[0m\u001b[0;34mf\"{not_found} not in index\"\u001b[0m\u001b[0;34m)\u001b[0m\u001b[0;34m\u001b[0m\u001b[0;34m\u001b[0m\u001b[0m\n\u001b[0m\u001b[1;32m   1378\u001b[0m \u001b[0;34m\u001b[0m\u001b[0m\n\u001b[1;32m   1379\u001b[0m \u001b[0;34m\u001b[0m\u001b[0m\n",
      "\u001b[0;31mKeyError\u001b[0m: \"['Product safety'] not in index\""
     ]
    }
   ],
   "source": [
    "headers = {'User-Agent': 'Mozilla/5.0 (Macintosh; Intel Mac OS X 10_11_5)AppleWebKit/537.36 (KHTML, like Gecko) Chrome/50.0.2661.102 Safari/537.36'}\n",
    "\n",
    "# empty data frame to store all the needed information\n",
    "df_details = pd.DataFrame()\n",
    "\n",
    "# unique columns for all products\n",
    "aux = []\n",
    "\n",
    "cols = ['Art. No.', 'Composition', 'Fit', 'Product safatey', 'Size']\n",
    "df_pattern = pd.DataFrame(columns=cols)\n",
    "\n",
    "for i in range(len(data)):\n",
    "\n",
    "    # API Requests\n",
    "    url = 'https://www2.hm.com/en_us/productpage.' + data.loc[i, 'product_id'] + '.html'\n",
    "    page = requests.get( url, headers=headers )\n",
    "\n",
    "\n",
    "    # Beautiful Soup object\n",
    "    soup = BeautifulSoup(page.text, 'html.parser')\n",
    "\n",
    "    # ================== color name =====================================\n",
    "    product_list = soup.find_all('a', class_='filter-option miniature')\n",
    "    color_name = [p.get('data-color') for p in product_list]\n",
    "\n",
    "    # color name\n",
    "    product_color_list = soup.find_all('a', class_='filter-option miniature')\n",
    "    color_name = [p.get('data-color') for p in product_color_list]\n",
    "\n",
    "    # product_id\n",
    "    product_id = [p.get('data-articlecode') for p in product_color_list]\n",
    "\n",
    "    df_color = pd.DataFrame([product_id, color_name]).T\n",
    "    df_color.columns = ['product_id', 'color_name']\n",
    "\n",
    "    # generate style id + color id\n",
    "    df_color['style_id'] = df_color['product_id'].apply(lambda x: x[:-3])\n",
    "    df_color['color_id'] = df_color['product_id'].apply(lambda x: x[-3:])\n",
    "\n",
    "    # ================== composition =====================================\n",
    "    product_composition_list = soup.find_all('div', class_='pdp-description-list-item')\n",
    "    product_composition = [list(filter(None, p.get_text().split('\\n'))) for p in product_composition_list]\n",
    "\n",
    "\n",
    "    # rename dataframe\n",
    "    df_composition = pd.DataFrame(product_composition).T\n",
    "    df_composition.columns = df_composition.iloc[0]\n",
    "\n",
    "\n",
    "    # delete first row\n",
    "    df_composition = df_composition.iloc[1:].fillna(method='ffill')\n",
    "    df_composition = df_composition[['Size', 'Fit', 'Composition', 'Art. No.']]\n",
    "\n",
    "    # generate style id + color id\n",
    "    df_composition['style_id'] = df_composition['Art. No.'].apply(lambda x: x[:-3])\n",
    "    df_composition['color_id'] = df_composition['Art. No.'].apply(lambda x: x[-3:])\n",
    "\n",
    "    # Merge data color + composition\n",
    "    data_sku = pd.merge(df_color, df_composition[['style_id', 'Fit', 'Composition', 'Size', 'Product safety']], how='left', on='style_id')\n",
    "    \n",
    "    # Products' details\n",
    "    df_details = pd.concat([df_details, data_sku], axis=0)\n",
    "    \n",
    "# Join showroom data + details\n",
    "data['style_id'] = data['product_id'].apply(lambda x: x[:-3])\n",
    "data['color_id'] = data['product_id'].apply(lambda x: x[-3:])\n",
    "\n",
    "data_raw = pd.merge(data, df_details[['style_id', 'color_name', 'Fit', 'Composition', 'Size', 'Product safety']], how='left', on='style_id')\n"
   ]
  },
  {
   "cell_type": "code",
   "execution_count": 64,
   "id": "f7fa2d3b",
   "metadata": {
    "ExecuteTime": {
     "end_time": "2022-01-29T16:19:47.638301Z",
     "start_time": "2022-01-29T16:19:47.609347Z"
    }
   },
   "outputs": [
    {
     "data": {
      "text/html": [
       "<div>\n",
       "<style scoped>\n",
       "    .dataframe tbody tr th:only-of-type {\n",
       "        vertical-align: middle;\n",
       "    }\n",
       "\n",
       "    .dataframe tbody tr th {\n",
       "        vertical-align: top;\n",
       "    }\n",
       "\n",
       "    .dataframe thead th {\n",
       "        text-align: right;\n",
       "    }\n",
       "</style>\n",
       "<table border=\"1\" class=\"dataframe\">\n",
       "  <thead>\n",
       "    <tr style=\"text-align: right;\">\n",
       "      <th></th>\n",
       "      <th>product_id</th>\n",
       "      <th>product_category</th>\n",
       "      <th>product_name</th>\n",
       "      <th>product_price</th>\n",
       "      <th>scrapy_datetime</th>\n",
       "      <th>style_id</th>\n",
       "      <th>color_id</th>\n",
       "      <th>color_name</th>\n",
       "      <th>Fit</th>\n",
       "      <th>Composition</th>\n",
       "    </tr>\n",
       "  </thead>\n",
       "  <tbody>\n",
       "    <tr>\n",
       "      <th>0</th>\n",
       "      <td>1008549001</td>\n",
       "      <td>men_jeans_regular</td>\n",
       "      <td>Regular Jeans</td>\n",
       "      <td>$ 19.99</td>\n",
       "      <td>2022-01-29 13:15:13</td>\n",
       "      <td>1008549</td>\n",
       "      <td>001</td>\n",
       "      <td>Denim blue</td>\n",
       "      <td>Regular fit</td>\n",
       "      <td>Shell: Cotton 98%, Spandex 2%</td>\n",
       "    </tr>\n",
       "    <tr>\n",
       "      <th>1</th>\n",
       "      <td>1008549001</td>\n",
       "      <td>men_jeans_regular</td>\n",
       "      <td>Regular Jeans</td>\n",
       "      <td>$ 19.99</td>\n",
       "      <td>2022-01-29 13:15:13</td>\n",
       "      <td>1008549</td>\n",
       "      <td>001</td>\n",
       "      <td>Denim blue</td>\n",
       "      <td>Regular fit</td>\n",
       "      <td>Pocket lining: Polyester 65%, Cotton 35%</td>\n",
       "    </tr>\n",
       "    <tr>\n",
       "      <th>2</th>\n",
       "      <td>1008549001</td>\n",
       "      <td>men_jeans_regular</td>\n",
       "      <td>Regular Jeans</td>\n",
       "      <td>$ 19.99</td>\n",
       "      <td>2022-01-29 13:15:13</td>\n",
       "      <td>1008549</td>\n",
       "      <td>001</td>\n",
       "      <td>Dark blue</td>\n",
       "      <td>Regular fit</td>\n",
       "      <td>Shell: Cotton 98%, Spandex 2%</td>\n",
       "    </tr>\n",
       "    <tr>\n",
       "      <th>3</th>\n",
       "      <td>1008549001</td>\n",
       "      <td>men_jeans_regular</td>\n",
       "      <td>Regular Jeans</td>\n",
       "      <td>$ 19.99</td>\n",
       "      <td>2022-01-29 13:15:13</td>\n",
       "      <td>1008549</td>\n",
       "      <td>001</td>\n",
       "      <td>Dark blue</td>\n",
       "      <td>Regular fit</td>\n",
       "      <td>Pocket lining: Polyester 65%, Cotton 35%</td>\n",
       "    </tr>\n",
       "    <tr>\n",
       "      <th>4</th>\n",
       "      <td>1008549001</td>\n",
       "      <td>men_jeans_regular</td>\n",
       "      <td>Regular Jeans</td>\n",
       "      <td>$ 19.99</td>\n",
       "      <td>2022-01-29 13:15:13</td>\n",
       "      <td>1008549</td>\n",
       "      <td>001</td>\n",
       "      <td>Black</td>\n",
       "      <td>Regular fit</td>\n",
       "      <td>Shell: Cotton 98%, Spandex 2%</td>\n",
       "    </tr>\n",
       "  </tbody>\n",
       "</table>\n",
       "</div>"
      ],
      "text/plain": [
       "   product_id   product_category   product_name product_price  \\\n",
       "0  1008549001  men_jeans_regular  Regular Jeans       $ 19.99   \n",
       "1  1008549001  men_jeans_regular  Regular Jeans       $ 19.99   \n",
       "2  1008549001  men_jeans_regular  Regular Jeans       $ 19.99   \n",
       "3  1008549001  men_jeans_regular  Regular Jeans       $ 19.99   \n",
       "4  1008549001  men_jeans_regular  Regular Jeans       $ 19.99   \n",
       "\n",
       "       scrapy_datetime style_id color_id  color_name          Fit  \\\n",
       "0  2022-01-29 13:15:13  1008549      001  Denim blue  Regular fit   \n",
       "1  2022-01-29 13:15:13  1008549      001  Denim blue  Regular fit   \n",
       "2  2022-01-29 13:15:13  1008549      001   Dark blue  Regular fit   \n",
       "3  2022-01-29 13:15:13  1008549      001   Dark blue  Regular fit   \n",
       "4  2022-01-29 13:15:13  1008549      001       Black  Regular fit   \n",
       "\n",
       "                                Composition  \n",
       "0             Shell: Cotton 98%, Spandex 2%  \n",
       "1  Pocket lining: Polyester 65%, Cotton 35%  \n",
       "2             Shell: Cotton 98%, Spandex 2%  \n",
       "3  Pocket lining: Polyester 65%, Cotton 35%  \n",
       "4             Shell: Cotton 98%, Spandex 2%  "
      ]
     },
     "execution_count": 64,
     "metadata": {},
     "output_type": "execute_result"
    }
   ],
   "source": [
    "data_raw.head()"
   ]
  },
  {
   "cell_type": "code",
   "execution_count": 65,
   "id": "f24d04e9",
   "metadata": {
    "ExecuteTime": {
     "end_time": "2022-01-29T16:20:19.876919Z",
     "start_time": "2022-01-29T16:20:19.815873Z"
    }
   },
   "outputs": [],
   "source": [
    "# Salvando a base de dados em csv\n",
    "data_raw.to_csv('products_hm.csv')"
   ]
  }
 ],
 "metadata": {
  "kernelspec": {
   "display_name": "Python 3 (ipykernel)",
   "language": "python",
   "name": "python3"
  },
  "language_info": {
   "codemirror_mode": {
    "name": "ipython",
    "version": 3
   },
   "file_extension": ".py",
   "mimetype": "text/x-python",
   "name": "python",
   "nbconvert_exporter": "python",
   "pygments_lexer": "ipython3",
   "version": "3.9.7"
  }
 },
 "nbformat": 4,
 "nbformat_minor": 5
}
