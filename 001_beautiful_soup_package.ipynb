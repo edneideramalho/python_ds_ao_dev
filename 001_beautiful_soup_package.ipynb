{
 "cells": [
  {
   "cell_type": "markdown",
   "id": "ab445048",
   "metadata": {},
   "source": [
    "# <span style=\"color:#3399ff\">Beautiful Soup - Exemplos</span>"
   ]
  },
  {
   "cell_type": "code",
   "execution_count": 1,
   "id": "e8aa7d87",
   "metadata": {
    "ExecuteTime": {
     "end_time": "2022-01-29T16:15:08.365675Z",
     "start_time": "2022-01-29T16:15:07.619631Z"
    }
   },
   "outputs": [],
   "source": [
    "from bs4 import BeautifulSoup\n",
    "import requests\n",
    "import pandas as pd\n",
    "from datetime import datetime \n",
    "import numpy as np"
   ]
  },
  {
   "cell_type": "code",
   "execution_count": 2,
   "id": "ae1d3cae",
   "metadata": {
    "ExecuteTime": {
     "end_time": "2022-01-29T16:15:08.955885Z",
     "start_time": "2022-01-29T16:15:08.951913Z"
    }
   },
   "outputs": [],
   "source": [
    "html_doc = \"\"\"<html><head><title>The Dormouse's story</title></head>\n",
    "<body>\n",
    "<p class=\"title\"><b>The Dormouse's story</b></p>\n",
    "\n",
    "<p class=\"story\">Once upon a time there were three little sisters; and their names were\n",
    "<a href=\"http://example.com/elsie\" class=\"sister\" id=\"link1\">Elsie</a>,\n",
    "<a href=\"http://example.com/lacie\" class=\"sister\" id=\"link2\">Lacie</a> and\n",
    "<a href=\"http://example.com/tillie\" class=\"sister\" id=\"link3\">Tillie</a>;\n",
    "and they lived at the bottom of a well.</p>\n",
    "\n",
    "<p class=\"story\">...</p>\n",
    "\"\"\""
   ]
  },
  {
   "cell_type": "code",
   "execution_count": 3,
   "id": "566e28d7",
   "metadata": {
    "ExecuteTime": {
     "end_time": "2022-01-29T16:15:09.597168Z",
     "start_time": "2022-01-29T16:15:09.593356Z"
    }
   },
   "outputs": [],
   "source": [
    "soup = BeautifulSoup(html_doc, 'html.parser')"
   ]
  },
  {
   "cell_type": "code",
   "execution_count": 4,
   "id": "e40beb83",
   "metadata": {
    "ExecuteTime": {
     "end_time": "2022-01-29T16:15:09.953290Z",
     "start_time": "2022-01-29T16:15:09.942300Z"
    }
   },
   "outputs": [
    {
     "data": {
      "text/plain": [
       "<html><head><title>The Dormouse's story</title></head>\n",
       "<body>\n",
       "<p class=\"title\"><b>The Dormouse's story</b></p>\n",
       "<p class=\"story\">Once upon a time there were three little sisters; and their names were\n",
       "<a class=\"sister\" href=\"http://example.com/elsie\" id=\"link1\">Elsie</a>,\n",
       "<a class=\"sister\" href=\"http://example.com/lacie\" id=\"link2\">Lacie</a> and\n",
       "<a class=\"sister\" href=\"http://example.com/tillie\" id=\"link3\">Tillie</a>;\n",
       "and they lived at the bottom of a well.</p>\n",
       "<p class=\"story\">...</p>\n",
       "</body></html>"
      ]
     },
     "execution_count": 4,
     "metadata": {},
     "output_type": "execute_result"
    }
   ],
   "source": [
    "soup"
   ]
  },
  {
   "cell_type": "code",
   "execution_count": 5,
   "id": "fb222f71",
   "metadata": {
    "ExecuteTime": {
     "end_time": "2022-01-29T16:15:10.169211Z",
     "start_time": "2022-01-29T16:15:10.166116Z"
    }
   },
   "outputs": [
    {
     "name": "stdout",
     "output_type": "stream",
     "text": [
      "<title>The Dormouse's story</title>\n"
     ]
    }
   ],
   "source": [
    "print(soup.title)"
   ]
  },
  {
   "cell_type": "code",
   "execution_count": 6,
   "id": "5385b118",
   "metadata": {
    "ExecuteTime": {
     "end_time": "2022-01-29T16:15:10.392970Z",
     "start_time": "2022-01-29T16:15:10.390082Z"
    }
   },
   "outputs": [
    {
     "name": "stdout",
     "output_type": "stream",
     "text": [
      "<head><title>The Dormouse's story</title></head>\n"
     ]
    }
   ],
   "source": [
    "print(soup.head)"
   ]
  },
  {
   "cell_type": "code",
   "execution_count": 7,
   "id": "3592fccf",
   "metadata": {
    "ExecuteTime": {
     "end_time": "2022-01-29T16:15:10.607043Z",
     "start_time": "2022-01-29T16:15:10.603893Z"
    }
   },
   "outputs": [
    {
     "name": "stdout",
     "output_type": "stream",
     "text": [
      "<p class=\"title\"><b>The Dormouse's story</b></p>\n"
     ]
    }
   ],
   "source": [
    "print(soup.body.p)"
   ]
  },
  {
   "cell_type": "code",
   "execution_count": 8,
   "id": "5ae7d0ac",
   "metadata": {
    "ExecuteTime": {
     "end_time": "2022-01-29T16:15:10.812311Z",
     "start_time": "2022-01-29T16:15:10.808415Z"
    }
   },
   "outputs": [
    {
     "data": {
      "text/plain": [
       "[<p class=\"title\"><b>The Dormouse's story</b></p>,\n",
       " <p class=\"story\">Once upon a time there were three little sisters; and their names were\n",
       " <a class=\"sister\" href=\"http://example.com/elsie\" id=\"link1\">Elsie</a>,\n",
       " <a class=\"sister\" href=\"http://example.com/lacie\" id=\"link2\">Lacie</a> and\n",
       " <a class=\"sister\" href=\"http://example.com/tillie\" id=\"link3\">Tillie</a>;\n",
       " and they lived at the bottom of a well.</p>,\n",
       " <p class=\"story\">...</p>]"
      ]
     },
     "execution_count": 8,
     "metadata": {},
     "output_type": "execute_result"
    }
   ],
   "source": [
    "soup.find_all('p')"
   ]
  },
  {
   "cell_type": "code",
   "execution_count": 9,
   "id": "61367b18",
   "metadata": {
    "ExecuteTime": {
     "end_time": "2022-01-29T16:15:11.003475Z",
     "start_time": "2022-01-29T16:15:10.999469Z"
    }
   },
   "outputs": [
    {
     "data": {
      "text/plain": [
       "[<p class=\"title\"><b>The Dormouse's story</b></p>]"
      ]
     },
     "execution_count": 9,
     "metadata": {},
     "output_type": "execute_result"
    }
   ],
   "source": [
    "soup.find_all('p', 'title')"
   ]
  },
  {
   "cell_type": "code",
   "execution_count": 10,
   "id": "8cc5e5ef",
   "metadata": {
    "ExecuteTime": {
     "end_time": "2022-01-29T16:15:11.159477Z",
     "start_time": "2022-01-29T16:15:11.155315Z"
    }
   },
   "outputs": [
    {
     "data": {
      "text/plain": [
       "[<p class=\"story\">Once upon a time there were three little sisters; and their names were\n",
       " <a class=\"sister\" href=\"http://example.com/elsie\" id=\"link1\">Elsie</a>,\n",
       " <a class=\"sister\" href=\"http://example.com/lacie\" id=\"link2\">Lacie</a> and\n",
       " <a class=\"sister\" href=\"http://example.com/tillie\" id=\"link3\">Tillie</a>;\n",
       " and they lived at the bottom of a well.</p>,\n",
       " <p class=\"story\">...</p>]"
      ]
     },
     "execution_count": 10,
     "metadata": {},
     "output_type": "execute_result"
    }
   ],
   "source": [
    "soup.find_all('p', class_='story')"
   ]
  },
  {
   "cell_type": "code",
   "execution_count": 11,
   "id": "7dcb4b6e",
   "metadata": {
    "ExecuteTime": {
     "end_time": "2022-01-29T16:15:11.320177Z",
     "start_time": "2022-01-29T16:15:11.315889Z"
    }
   },
   "outputs": [
    {
     "data": {
      "text/plain": [
       "[<a class=\"sister\" href=\"http://example.com/elsie\" id=\"link1\">Elsie</a>,\n",
       " <a class=\"sister\" href=\"http://example.com/lacie\" id=\"link2\">Lacie</a>,\n",
       " <a class=\"sister\" href=\"http://example.com/tillie\" id=\"link3\">Tillie</a>]"
      ]
     },
     "execution_count": 11,
     "metadata": {},
     "output_type": "execute_result"
    }
   ],
   "source": [
    "soup.find_all('a', class_='sister')"
   ]
  },
  {
   "cell_type": "code",
   "execution_count": 12,
   "id": "033ed871",
   "metadata": {
    "ExecuteTime": {
     "end_time": "2022-01-29T16:15:11.503096Z",
     "start_time": "2022-01-29T16:15:11.498891Z"
    }
   },
   "outputs": [
    {
     "data": {
      "text/plain": [
       "[<a class=\"sister\" href=\"http://example.com/elsie\" id=\"link1\">Elsie</a>]"
      ]
     },
     "execution_count": 12,
     "metadata": {},
     "output_type": "execute_result"
    }
   ],
   "source": [
    "soup.find_all('a', id='link1')"
   ]
  },
  {
   "cell_type": "code",
   "execution_count": 13,
   "id": "c44453f2",
   "metadata": {
    "ExecuteTime": {
     "end_time": "2022-01-29T16:15:11.669636Z",
     "start_time": "2022-01-29T16:15:11.665864Z"
    }
   },
   "outputs": [
    {
     "data": {
      "text/plain": [
       "'Elsie'"
      ]
     },
     "execution_count": 13,
     "metadata": {},
     "output_type": "execute_result"
    }
   ],
   "source": [
    "soup.find_all('a', id='link1')[0].string"
   ]
  },
  {
   "cell_type": "code",
   "execution_count": 14,
   "id": "101c3276",
   "metadata": {
    "ExecuteTime": {
     "end_time": "2022-01-29T16:15:11.835383Z",
     "start_time": "2022-01-29T16:15:11.831522Z"
    }
   },
   "outputs": [
    {
     "data": {
      "text/plain": [
       "'Elsie'"
      ]
     },
     "execution_count": 14,
     "metadata": {},
     "output_type": "execute_result"
    }
   ],
   "source": [
    "soup.find_all('a', id='link1')[0].get_text()"
   ]
  },
  {
   "cell_type": "markdown",
   "id": "eaa7d94a",
   "metadata": {},
   "source": [
    "# <span style=\"color:#3399ff\">Beautiful Soup - Prática I</span>"
   ]
  },
  {
   "cell_type": "code",
   "execution_count": 15,
   "id": "d0b8b9cd",
   "metadata": {
    "ExecuteTime": {
     "end_time": "2022-01-29T16:15:12.150750Z",
     "start_time": "2022-01-29T16:15:12.148582Z"
    }
   },
   "outputs": [],
   "source": [
    "# id\n",
    "# product_name\n",
    "# product_type\n",
    "# product_composition\n",
    "# preco"
   ]
  },
  {
   "cell_type": "code",
   "execution_count": 16,
   "id": "5e466fe7",
   "metadata": {
    "ExecuteTime": {
     "end_time": "2022-01-29T16:15:12.932721Z",
     "start_time": "2022-01-29T16:15:12.282065Z"
    }
   },
   "outputs": [],
   "source": [
    "url = 'https://www2.hm.com/en_us/men/products/jeans.html'\n",
    "\n",
    "headers = {'User-Agent': 'Mozilla/5.0 (Macintosh; Intel Mac OS X 10_11_5) AppleWebKit/537.36 (KHTML, like Gecko) Chrome/50.0.2661.102 Safari/537.36'}\n",
    "page = requests.get(url, headers=headers)"
   ]
  },
  {
   "cell_type": "code",
   "execution_count": 17,
   "id": "a92bbfe6",
   "metadata": {
    "ExecuteTime": {
     "end_time": "2022-01-29T16:15:13.110941Z",
     "start_time": "2022-01-29T16:15:12.935178Z"
    }
   },
   "outputs": [],
   "source": [
    "soup = BeautifulSoup(page.text, 'html.parser')"
   ]
  },
  {
   "cell_type": "code",
   "execution_count": 18,
   "id": "6236c76c",
   "metadata": {
    "ExecuteTime": {
     "end_time": "2022-01-29T16:15:13.119904Z",
     "start_time": "2022-01-29T16:15:13.112245Z"
    }
   },
   "outputs": [],
   "source": [
    "products = soup.find('ul', class_='products-listing small')"
   ]
  },
  {
   "cell_type": "code",
   "execution_count": 19,
   "id": "a89bdae3",
   "metadata": {
    "ExecuteTime": {
     "end_time": "2022-01-29T16:15:13.125977Z",
     "start_time": "2022-01-29T16:15:13.122005Z"
    }
   },
   "outputs": [],
   "source": [
    "product_list = products.find_all('article', class_='hm-product-item')"
   ]
  },
  {
   "cell_type": "code",
   "execution_count": 20,
   "id": "1d3f0d41",
   "metadata": {
    "ExecuteTime": {
     "end_time": "2022-01-29T16:15:13.135772Z",
     "start_time": "2022-01-29T16:15:13.132756Z"
    }
   },
   "outputs": [
    {
     "data": {
      "text/plain": [
       "36"
      ]
     },
     "execution_count": 20,
     "metadata": {},
     "output_type": "execute_result"
    }
   ],
   "source": [
    "len(product_list)"
   ]
  },
  {
   "cell_type": "code",
   "execution_count": 21,
   "id": "13c07f27",
   "metadata": {
    "ExecuteTime": {
     "end_time": "2022-01-29T16:15:13.307378Z",
     "start_time": "2022-01-29T16:15:13.304110Z"
    }
   },
   "outputs": [],
   "source": [
    "# product_id\n",
    "product_id = [p.get('data-articlecode') for p in product_list]\n",
    "\n",
    "# product_category\n",
    "product_category = [p.get('data-category') for p in product_list]"
   ]
  },
  {
   "cell_type": "code",
   "execution_count": 22,
   "id": "6709fa10",
   "metadata": {
    "ExecuteTime": {
     "end_time": "2022-01-29T16:15:13.489956Z",
     "start_time": "2022-01-29T16:15:13.483633Z"
    }
   },
   "outputs": [],
   "source": [
    "# product_name\n",
    "product_list = products.find_all('a', class_='link')\n",
    "product_name = [p.get_text() for p in product_list] "
   ]
  },
  {
   "cell_type": "code",
   "execution_count": 23,
   "id": "d98e6bc7",
   "metadata": {
    "ExecuteTime": {
     "end_time": "2022-01-29T16:15:13.655168Z",
     "start_time": "2022-01-29T16:15:13.650125Z"
    }
   },
   "outputs": [],
   "source": [
    "# product_price\n",
    "product_list = products.find_all('span', class_='price regular')\n",
    "product_price = [p.get_text() for p in product_list]"
   ]
  },
  {
   "cell_type": "code",
   "execution_count": 24,
   "id": "3c2aff7a",
   "metadata": {
    "ExecuteTime": {
     "end_time": "2022-01-29T16:15:13.835366Z",
     "start_time": "2022-01-29T16:15:13.822323Z"
    }
   },
   "outputs": [
    {
     "data": {
      "text/html": [
       "<div>\n",
       "<style scoped>\n",
       "    .dataframe tbody tr th:only-of-type {\n",
       "        vertical-align: middle;\n",
       "    }\n",
       "\n",
       "    .dataframe tbody tr th {\n",
       "        vertical-align: top;\n",
       "    }\n",
       "\n",
       "    .dataframe thead th {\n",
       "        text-align: right;\n",
       "    }\n",
       "</style>\n",
       "<table border=\"1\" class=\"dataframe\">\n",
       "  <thead>\n",
       "    <tr style=\"text-align: right;\">\n",
       "      <th></th>\n",
       "      <th>product_id</th>\n",
       "      <th>product_category</th>\n",
       "      <th>product_name</th>\n",
       "      <th>product_price</th>\n",
       "    </tr>\n",
       "  </thead>\n",
       "  <tbody>\n",
       "    <tr>\n",
       "      <th>0</th>\n",
       "      <td>1008549001</td>\n",
       "      <td>men_jeans_regular</td>\n",
       "      <td>Regular Jeans</td>\n",
       "      <td>$ 19.99</td>\n",
       "    </tr>\n",
       "    <tr>\n",
       "      <th>1</th>\n",
       "      <td>1013317006</td>\n",
       "      <td>men_jeans_regular</td>\n",
       "      <td>Hybrid Regular Tapered Joggers</td>\n",
       "      <td>$ 39.99</td>\n",
       "    </tr>\n",
       "    <tr>\n",
       "      <th>2</th>\n",
       "      <td>0811993040</td>\n",
       "      <td>men_jeans_regular</td>\n",
       "      <td>Regular Jeans</td>\n",
       "      <td>$ 29.99</td>\n",
       "    </tr>\n",
       "    <tr>\n",
       "      <th>3</th>\n",
       "      <td>1025726003</td>\n",
       "      <td>men_jeans_relaxed</td>\n",
       "      <td>Relaxed Jeans</td>\n",
       "      <td>$ 39.99</td>\n",
       "    </tr>\n",
       "    <tr>\n",
       "      <th>4</th>\n",
       "      <td>0979945001</td>\n",
       "      <td>men_jeans_loose</td>\n",
       "      <td>Loose Jeans</td>\n",
       "      <td>$ 29.99</td>\n",
       "    </tr>\n",
       "  </tbody>\n",
       "</table>\n",
       "</div>"
      ],
      "text/plain": [
       "   product_id   product_category                    product_name product_price\n",
       "0  1008549001  men_jeans_regular                   Regular Jeans       $ 19.99\n",
       "1  1013317006  men_jeans_regular  Hybrid Regular Tapered Joggers       $ 39.99\n",
       "2  0811993040  men_jeans_regular                   Regular Jeans       $ 29.99\n",
       "3  1025726003  men_jeans_relaxed                   Relaxed Jeans       $ 39.99\n",
       "4  0979945001    men_jeans_loose                     Loose Jeans       $ 29.99"
      ]
     },
     "execution_count": 24,
     "metadata": {},
     "output_type": "execute_result"
    }
   ],
   "source": [
    "data = pd.DataFrame([product_id , product_category, product_name, product_price]).T\n",
    "data.columns = ['product_id' , 'product_category', 'product_name', 'product_price']\n",
    "data.head()"
   ]
  },
  {
   "cell_type": "code",
   "execution_count": 25,
   "id": "8371e161",
   "metadata": {
    "ExecuteTime": {
     "end_time": "2022-01-29T16:15:13.994244Z",
     "start_time": "2022-01-29T16:15:13.990790Z"
    }
   },
   "outputs": [],
   "source": [
    "# scrapy datetime\n",
    "data['scrapy_datetime'] = datetime.now().strftime('%Y-%m-%d %H:%M:%S')"
   ]
  },
  {
   "cell_type": "code",
   "execution_count": 26,
   "id": "c5ad2dcb",
   "metadata": {
    "ExecuteTime": {
     "end_time": "2022-01-29T16:15:14.517392Z",
     "start_time": "2022-01-29T16:15:14.509115Z"
    }
   },
   "outputs": [
    {
     "data": {
      "text/html": [
       "<div>\n",
       "<style scoped>\n",
       "    .dataframe tbody tr th:only-of-type {\n",
       "        vertical-align: middle;\n",
       "    }\n",
       "\n",
       "    .dataframe tbody tr th {\n",
       "        vertical-align: top;\n",
       "    }\n",
       "\n",
       "    .dataframe thead th {\n",
       "        text-align: right;\n",
       "    }\n",
       "</style>\n",
       "<table border=\"1\" class=\"dataframe\">\n",
       "  <thead>\n",
       "    <tr style=\"text-align: right;\">\n",
       "      <th></th>\n",
       "      <th>product_id</th>\n",
       "      <th>product_category</th>\n",
       "      <th>product_name</th>\n",
       "      <th>product_price</th>\n",
       "      <th>scrapy_datetime</th>\n",
       "    </tr>\n",
       "  </thead>\n",
       "  <tbody>\n",
       "    <tr>\n",
       "      <th>0</th>\n",
       "      <td>1008549001</td>\n",
       "      <td>men_jeans_regular</td>\n",
       "      <td>Regular Jeans</td>\n",
       "      <td>$ 19.99</td>\n",
       "      <td>2022-01-29 13:15:13</td>\n",
       "    </tr>\n",
       "    <tr>\n",
       "      <th>1</th>\n",
       "      <td>1013317006</td>\n",
       "      <td>men_jeans_regular</td>\n",
       "      <td>Hybrid Regular Tapered Joggers</td>\n",
       "      <td>$ 39.99</td>\n",
       "      <td>2022-01-29 13:15:13</td>\n",
       "    </tr>\n",
       "    <tr>\n",
       "      <th>2</th>\n",
       "      <td>0811993040</td>\n",
       "      <td>men_jeans_regular</td>\n",
       "      <td>Regular Jeans</td>\n",
       "      <td>$ 29.99</td>\n",
       "      <td>2022-01-29 13:15:13</td>\n",
       "    </tr>\n",
       "    <tr>\n",
       "      <th>3</th>\n",
       "      <td>1025726003</td>\n",
       "      <td>men_jeans_relaxed</td>\n",
       "      <td>Relaxed Jeans</td>\n",
       "      <td>$ 39.99</td>\n",
       "      <td>2022-01-29 13:15:13</td>\n",
       "    </tr>\n",
       "    <tr>\n",
       "      <th>4</th>\n",
       "      <td>0979945001</td>\n",
       "      <td>men_jeans_loose</td>\n",
       "      <td>Loose Jeans</td>\n",
       "      <td>$ 29.99</td>\n",
       "      <td>2022-01-29 13:15:13</td>\n",
       "    </tr>\n",
       "  </tbody>\n",
       "</table>\n",
       "</div>"
      ],
      "text/plain": [
       "   product_id   product_category                    product_name  \\\n",
       "0  1008549001  men_jeans_regular                   Regular Jeans   \n",
       "1  1013317006  men_jeans_regular  Hybrid Regular Tapered Joggers   \n",
       "2  0811993040  men_jeans_regular                   Regular Jeans   \n",
       "3  1025726003  men_jeans_relaxed                   Relaxed Jeans   \n",
       "4  0979945001    men_jeans_loose                     Loose Jeans   \n",
       "\n",
       "  product_price      scrapy_datetime  \n",
       "0       $ 19.99  2022-01-29 13:15:13  \n",
       "1       $ 39.99  2022-01-29 13:15:13  \n",
       "2       $ 29.99  2022-01-29 13:15:13  \n",
       "3       $ 39.99  2022-01-29 13:15:13  \n",
       "4       $ 29.99  2022-01-29 13:15:13  "
      ]
     },
     "execution_count": 26,
     "metadata": {},
     "output_type": "execute_result"
    }
   ],
   "source": [
    "data.head()"
   ]
  },
  {
   "cell_type": "markdown",
   "id": "5e238dcc",
   "metadata": {},
   "source": [
    "# <span style=\"color:#3399ff\">Beautiful Soup - Prática II</span>"
   ]
  },
  {
   "cell_type": "markdown",
   "id": "2d021627",
   "metadata": {},
   "source": [
    "- Sempre olhar a paginação na vitrine de produtos."
   ]
  },
  {
   "cell_type": "code",
   "execution_count": 27,
   "id": "4c67492c",
   "metadata": {
    "ExecuteTime": {
     "end_time": "2022-01-29T16:15:18.797569Z",
     "start_time": "2022-01-29T16:15:18.514374Z"
    }
   },
   "outputs": [],
   "source": [
    "url = 'https://www2.hm.com/en_us/men/products/jeans.html'\n",
    "headers = {'User-Agent': 'Mozilla/5.0 (Macintosh; Intel Mac OS X 10_11_5) AppleWebKit/537.36 (KHTML, like Gecko) Chrome/50.0.2661.102 Safari/537.36'}\n",
    "page = requests.get(url, headers=headers)"
   ]
  },
  {
   "cell_type": "code",
   "execution_count": 28,
   "id": "3c97e8f6",
   "metadata": {
    "ExecuteTime": {
     "end_time": "2022-01-29T16:15:19.600549Z",
     "start_time": "2022-01-29T16:15:19.368713Z"
    }
   },
   "outputs": [],
   "source": [
    "soup = BeautifulSoup(page.text, 'html.parser')"
   ]
  },
  {
   "cell_type": "code",
   "execution_count": 29,
   "id": "280b92d6",
   "metadata": {
    "ExecuteTime": {
     "end_time": "2022-01-29T16:15:19.761428Z",
     "start_time": "2022-01-29T16:15:19.750605Z"
    }
   },
   "outputs": [],
   "source": [
    "total_item = soup.find_all('h2', class_='load-more-heading')[0].get('data-total')"
   ]
  },
  {
   "cell_type": "code",
   "execution_count": 30,
   "id": "4a7e270c",
   "metadata": {
    "ExecuteTime": {
     "end_time": "2022-01-29T16:15:19.923253Z",
     "start_time": "2022-01-29T16:15:19.919559Z"
    }
   },
   "outputs": [
    {
     "data": {
      "text/plain": [
       "'71'"
      ]
     },
     "execution_count": 30,
     "metadata": {},
     "output_type": "execute_result"
    }
   ],
   "source": [
    "total_item"
   ]
  },
  {
   "cell_type": "code",
   "execution_count": 31,
   "id": "f0e16839",
   "metadata": {
    "ExecuteTime": {
     "end_time": "2022-01-29T16:15:20.103822Z",
     "start_time": "2022-01-29T16:15:20.100104Z"
    }
   },
   "outputs": [
    {
     "data": {
      "text/plain": [
       "71"
      ]
     },
     "execution_count": 31,
     "metadata": {},
     "output_type": "execute_result"
    }
   ],
   "source": [
    "int(total_item)"
   ]
  },
  {
   "cell_type": "markdown",
   "id": "2f2600c1",
   "metadata": {},
   "source": [
    "- De quantas páginas preciso para capturar todos os itens?"
   ]
  },
  {
   "cell_type": "code",
   "execution_count": 32,
   "id": "a3a49162",
   "metadata": {
    "ExecuteTime": {
     "end_time": "2022-01-29T16:15:20.419753Z",
     "start_time": "2022-01-29T16:15:20.415404Z"
    }
   },
   "outputs": [
    {
     "data": {
      "text/plain": [
       "2.0"
      ]
     },
     "execution_count": 32,
     "metadata": {},
     "output_type": "execute_result"
    }
   ],
   "source": [
    "page_number = np.round(int(total_item)/36)\n",
    "page_number"
   ]
  },
  {
   "cell_type": "code",
   "execution_count": 33,
   "id": "75907b2b",
   "metadata": {
    "ExecuteTime": {
     "end_time": "2022-01-29T16:15:21.252695Z",
     "start_time": "2022-01-29T16:15:21.248431Z"
    }
   },
   "outputs": [
    {
     "data": {
      "text/plain": [
       "'https://www2.hm.com/en_us/men/products/jeans.html?page-size=72'"
      ]
     },
     "execution_count": 33,
     "metadata": {},
     "output_type": "execute_result"
    }
   ],
   "source": [
    "url02 = url + '?page-size=' + str(int(page_number*36))\n",
    "url02"
   ]
  },
  {
   "cell_type": "markdown",
   "id": "35dfce0d",
   "metadata": {},
   "source": [
    "# <span style=\"color:#3399ff\">Beautiful Soup - Prática III</span>"
   ]
  },
  {
   "cell_type": "markdown",
   "id": "83201ea0",
   "metadata": {},
   "source": [
    "- Aqui, vamos coletar as informações para cada produto."
   ]
  },
  {
   "cell_type": "markdown",
   "id": "7c184d3e",
   "metadata": {},
   "source": [
    "- Fazendo para um produto para testar:"
   ]
  },
  {
   "cell_type": "code",
   "execution_count": 34,
   "id": "5ad9215d",
   "metadata": {
    "ExecuteTime": {
     "end_time": "2022-01-29T16:15:26.761580Z",
     "start_time": "2022-01-29T16:15:25.881254Z"
    }
   },
   "outputs": [],
   "source": [
    "url = 'https://www2.hm.com/en_us/productpage.1024256001.html'\n",
    "    \n",
    "headers = {'User-Agent': 'Mozilla/5.0 (Macintosh; Intel Mac OS X 10_11_5) AppleWebKit/537.36 (KHTML, like Gecko) Chrome/50.0.2661.102 Safari/537.36'}\n",
    "page = requests.get(url, headers=headers)"
   ]
  },
  {
   "cell_type": "code",
   "execution_count": 35,
   "id": "f8658620",
   "metadata": {
    "ExecuteTime": {
     "end_time": "2022-01-29T16:15:26.859390Z",
     "start_time": "2022-01-29T16:15:26.763833Z"
    }
   },
   "outputs": [],
   "source": [
    "soup = BeautifulSoup(page.text, 'html.parser')"
   ]
  },
  {
   "cell_type": "code",
   "execution_count": 36,
   "id": "3f8039d2",
   "metadata": {
    "ExecuteTime": {
     "end_time": "2022-01-29T16:15:26.864044Z",
     "start_time": "2022-01-29T16:15:26.860789Z"
    }
   },
   "outputs": [
    {
     "data": {
      "text/plain": [
       "bs4.BeautifulSoup"
      ]
     },
     "execution_count": 36,
     "metadata": {},
     "output_type": "execute_result"
    }
   ],
   "source": [
    "type(soup)"
   ]
  },
  {
   "cell_type": "code",
   "execution_count": 37,
   "id": "66592c50",
   "metadata": {
    "ExecuteTime": {
     "end_time": "2022-01-29T16:15:26.983857Z",
     "start_time": "2022-01-29T16:15:26.972354Z"
    }
   },
   "outputs": [
    {
     "data": {
      "text/plain": [
       "'Light denim blue'"
      ]
     },
     "execution_count": 37,
     "metadata": {},
     "output_type": "execute_result"
    }
   ],
   "source": [
    "# color name - primeira posição\n",
    "soup.find_all('a', class_='filter-option miniature')[0].get('data-color')"
   ]
  },
  {
   "cell_type": "code",
   "execution_count": 38,
   "id": "17eba038",
   "metadata": {
    "ExecuteTime": {
     "end_time": "2022-01-29T16:15:27.337980Z",
     "start_time": "2022-01-29T16:15:27.321673Z"
    }
   },
   "outputs": [
    {
     "data": {
      "text/html": [
       "<div>\n",
       "<style scoped>\n",
       "    .dataframe tbody tr th:only-of-type {\n",
       "        vertical-align: middle;\n",
       "    }\n",
       "\n",
       "    .dataframe tbody tr th {\n",
       "        vertical-align: top;\n",
       "    }\n",
       "\n",
       "    .dataframe thead th {\n",
       "        text-align: right;\n",
       "    }\n",
       "</style>\n",
       "<table border=\"1\" class=\"dataframe\">\n",
       "  <thead>\n",
       "    <tr style=\"text-align: right;\">\n",
       "      <th></th>\n",
       "      <th>product_id</th>\n",
       "      <th>color_name</th>\n",
       "    </tr>\n",
       "  </thead>\n",
       "  <tbody>\n",
       "    <tr>\n",
       "      <th>0</th>\n",
       "      <td>1024256002</td>\n",
       "      <td>Light denim blue</td>\n",
       "    </tr>\n",
       "    <tr>\n",
       "      <th>1</th>\n",
       "      <td>1024256003</td>\n",
       "      <td>Light denim blue</td>\n",
       "    </tr>\n",
       "    <tr>\n",
       "      <th>2</th>\n",
       "      <td>1024256004</td>\n",
       "      <td>Denim blue</td>\n",
       "    </tr>\n",
       "    <tr>\n",
       "      <th>3</th>\n",
       "      <td>1024256005</td>\n",
       "      <td>Dark blue</td>\n",
       "    </tr>\n",
       "    <tr>\n",
       "      <th>4</th>\n",
       "      <td>1024256006</td>\n",
       "      <td>Dark denim blue</td>\n",
       "    </tr>\n",
       "    <tr>\n",
       "      <th>5</th>\n",
       "      <td>1024256007</td>\n",
       "      <td>Dark gray</td>\n",
       "    </tr>\n",
       "  </tbody>\n",
       "</table>\n",
       "</div>"
      ],
      "text/plain": [
       "   product_id        color_name\n",
       "0  1024256002  Light denim blue\n",
       "1  1024256003  Light denim blue\n",
       "2  1024256004        Denim blue\n",
       "3  1024256005         Dark blue\n",
       "4  1024256006   Dark denim blue\n",
       "5  1024256007         Dark gray"
      ]
     },
     "execution_count": 38,
     "metadata": {},
     "output_type": "execute_result"
    }
   ],
   "source": [
    "# color name\n",
    "product_color_list = soup.find_all('a', class_='filter-option miniature')\n",
    "color_name = [p.get('data-color') for p in product_color_list]\n",
    "\n",
    "# product_id\n",
    "product_id = [p.get('data-articlecode') for p in product_color_list]\n",
    "\n",
    "df_color = pd.DataFrame([product_id, color_name]).T\n",
    "df_color.columns = ['product_id', 'color_name']\n",
    "df_color"
   ]
  },
  {
   "cell_type": "code",
   "execution_count": 39,
   "id": "4a53c5e3",
   "metadata": {
    "ExecuteTime": {
     "end_time": "2022-01-29T16:15:27.789443Z",
     "start_time": "2022-01-29T16:15:27.784584Z"
    }
   },
   "outputs": [
    {
     "data": {
      "text/plain": [
       "<a aria-checked=\"false\" class=\"filter-option miniature\" data-articlecode=\"1024256002\" data-color=\"Light denim blue\" data-sizes=\"\" href=\"/en_us/productpage.1024256002.html\" id=\"filter-colour-1024256002\" role=\"radio\" title=\"Light denim blue\">\n",
       "<noscript data-alt=\"Light denim blue\" data-src=\"//lp2.hm.com/hmgoepprod?set=quality%5B79%5D%2Csource%5B%2Fda%2Fba%2Fdabaf3f73477f46b068e2e02033aa0222206ef7f.jpg%5D%2Corigin%5Bdam%5D%2Ccategory%5B%5D%2Ctype%5BDESCRIPTIVESTILLLIFE%5D%2Cres%5Bm%5D%2Chmver%5B2%5D&amp;call=url[file:/product/miniature]\">\n",
       "<img alt=\"Light denim blue\" src=\"//lp2.hm.com/hmgoepprod?set=quality%5B79%5D%2Csource%5B%2Fda%2Fba%2Fdabaf3f73477f46b068e2e02033aa0222206ef7f.jpg%5D%2Corigin%5Bdam%5D%2Ccategory%5B%5D%2Ctype%5BDESCRIPTIVESTILLLIFE%5D%2Cres%5Bm%5D%2Chmver%5B2%5D&amp;call=url[file:/product/miniature]\"/>\n",
       "</noscript>\n",
       "<span></span>\n",
       "</a>"
      ]
     },
     "execution_count": 39,
     "metadata": {},
     "output_type": "execute_result"
    }
   ],
   "source": [
    "product_color_list[0]"
   ]
  },
  {
   "cell_type": "code",
   "execution_count": 40,
   "id": "43258381",
   "metadata": {
    "ExecuteTime": {
     "end_time": "2022-01-29T16:15:30.388525Z",
     "start_time": "2022-01-29T16:15:30.384532Z"
    }
   },
   "outputs": [
    {
     "data": {
      "text/plain": [
       "['Light denim blue',\n",
       " 'Light denim blue',\n",
       " 'Denim blue',\n",
       " 'Dark blue',\n",
       " 'Dark denim blue',\n",
       " 'Dark gray']"
      ]
     },
     "execution_count": 40,
     "metadata": {},
     "output_type": "execute_result"
    }
   ],
   "source": [
    "color_name"
   ]
  },
  {
   "cell_type": "code",
   "execution_count": 41,
   "id": "74b24ff4",
   "metadata": {
    "ExecuteTime": {
     "end_time": "2022-01-29T16:15:30.537155Z",
     "start_time": "2022-01-29T16:15:30.533415Z"
    }
   },
   "outputs": [
    {
     "data": {
      "text/plain": [
       "['1024256002',\n",
       " '1024256003',\n",
       " '1024256004',\n",
       " '1024256005',\n",
       " '1024256006',\n",
       " '1024256007']"
      ]
     },
     "execution_count": 41,
     "metadata": {},
     "output_type": "execute_result"
    }
   ],
   "source": [
    "product_id"
   ]
  },
  {
   "cell_type": "code",
   "execution_count": 42,
   "id": "3f501423",
   "metadata": {
    "ExecuteTime": {
     "end_time": "2022-01-29T16:15:30.695606Z",
     "start_time": "2022-01-29T16:15:30.685023Z"
    }
   },
   "outputs": [
    {
     "data": {
      "text/plain": [
       "[<div class=\"pdp-description-list-item\">\n",
       " <dt>Size</dt>\n",
       " <dd>The model is 185cm/6'1\" and wears a size 31/32</dd>\n",
       " </div>,\n",
       " <div class=\"pdp-description-list-item\">\n",
       " <dt>Fit</dt>\n",
       " <dd>\n",
       " <ul>\n",
       " <li>Slim fit</li>\n",
       " </ul>\n",
       " </dd>\n",
       " </div>,\n",
       " <div class=\"pdp-description-list-item\">\n",
       " <dt>Composition</dt>\n",
       " <dd>\n",
       " <ul>\n",
       " <li>Pocket lining: Polyester 65%, Cotton 35%</li>\n",
       " <li>Shell: Cotton 99%, Spandex 1%</li>\n",
       " </ul>\n",
       " </dd>\n",
       " </div>,\n",
       " <div class=\"pdp-description-list-item\">\n",
       " <dt>Art. No.</dt>\n",
       " <dd>1024256001</dd>\n",
       " </div>]"
      ]
     },
     "execution_count": 42,
     "metadata": {},
     "output_type": "execute_result"
    }
   ],
   "source": [
    "# composition\n",
    "soup.find_all('div', class_='pdp-description-list-item')"
   ]
  },
  {
   "cell_type": "code",
   "execution_count": 43,
   "id": "5fe500a8",
   "metadata": {
    "ExecuteTime": {
     "end_time": "2022-01-29T16:15:30.863213Z",
     "start_time": "2022-01-29T16:15:30.853596Z"
    }
   },
   "outputs": [
    {
     "data": {
      "text/plain": [
       "bs4.element.Tag"
      ]
     },
     "execution_count": 43,
     "metadata": {},
     "output_type": "execute_result"
    }
   ],
   "source": [
    "type(soup.find_all('div', class_='pdp-description-list-item')[1])"
   ]
  },
  {
   "cell_type": "code",
   "execution_count": 44,
   "id": "b99346b7",
   "metadata": {
    "ExecuteTime": {
     "end_time": "2022-01-29T16:15:32.708310Z",
     "start_time": "2022-01-29T16:15:32.698297Z"
    }
   },
   "outputs": [
    {
     "data": {
      "text/plain": [
       "['', 'Fit', '', '', 'Slim fit', '', '', '']"
      ]
     },
     "execution_count": 44,
     "metadata": {},
     "output_type": "execute_result"
    }
   ],
   "source": [
    "soup.find_all('div', class_='pdp-description-list-item')[1].get_text().split('\\n')"
   ]
  },
  {
   "cell_type": "markdown",
   "id": "796ef4af",
   "metadata": {},
   "source": [
    "- **Retirando essas posições vazias:**"
   ]
  },
  {
   "cell_type": "code",
   "execution_count": 45,
   "id": "5ae5f168",
   "metadata": {
    "ExecuteTime": {
     "end_time": "2022-01-29T16:15:33.318141Z",
     "start_time": "2022-01-29T16:15:33.307820Z"
    }
   },
   "outputs": [
    {
     "data": {
      "text/plain": [
       "['Fit', 'Slim fit']"
      ]
     },
     "execution_count": 45,
     "metadata": {},
     "output_type": "execute_result"
    }
   ],
   "source": [
    "list(filter(None, soup.find_all('div', class_='pdp-description-list-item')[1].get_text().split('\\n')))"
   ]
  },
  {
   "cell_type": "markdown",
   "id": "3df9ca16",
   "metadata": {},
   "source": [
    "- **Construindo linha e coluna:**"
   ]
  },
  {
   "cell_type": "code",
   "execution_count": 46,
   "id": "57094f6e",
   "metadata": {
    "ExecuteTime": {
     "end_time": "2022-01-29T16:15:34.156941Z",
     "start_time": "2022-01-29T16:15:34.141828Z"
    }
   },
   "outputs": [
    {
     "data": {
      "text/html": [
       "<div>\n",
       "<style scoped>\n",
       "    .dataframe tbody tr th:only-of-type {\n",
       "        vertical-align: middle;\n",
       "    }\n",
       "\n",
       "    .dataframe tbody tr th {\n",
       "        vertical-align: top;\n",
       "    }\n",
       "\n",
       "    .dataframe thead th {\n",
       "        text-align: right;\n",
       "    }\n",
       "</style>\n",
       "<table border=\"1\" class=\"dataframe\">\n",
       "  <thead>\n",
       "    <tr style=\"text-align: right;\">\n",
       "      <th></th>\n",
       "      <th>0</th>\n",
       "      <th>1</th>\n",
       "      <th>2</th>\n",
       "      <th>3</th>\n",
       "    </tr>\n",
       "  </thead>\n",
       "  <tbody>\n",
       "    <tr>\n",
       "      <th>0</th>\n",
       "      <td>Size</td>\n",
       "      <td>Fit</td>\n",
       "      <td>Composition</td>\n",
       "      <td>Art. No.</td>\n",
       "    </tr>\n",
       "    <tr>\n",
       "      <th>1</th>\n",
       "      <td>The model is 185cm/6'1\" and wears a size 31/32</td>\n",
       "      <td>Slim fit</td>\n",
       "      <td>Pocket lining: Polyester 65%, Cotton 35%</td>\n",
       "      <td>1024256001</td>\n",
       "    </tr>\n",
       "    <tr>\n",
       "      <th>2</th>\n",
       "      <td>None</td>\n",
       "      <td>None</td>\n",
       "      <td>Shell: Cotton 99%, Spandex 1%</td>\n",
       "      <td>None</td>\n",
       "    </tr>\n",
       "  </tbody>\n",
       "</table>\n",
       "</div>"
      ],
      "text/plain": [
       "                                                0         1  \\\n",
       "0                                            Size       Fit   \n",
       "1  The model is 185cm/6'1\" and wears a size 31/32  Slim fit   \n",
       "2                                            None      None   \n",
       "\n",
       "                                          2           3  \n",
       "0                               Composition    Art. No.  \n",
       "1  Pocket lining: Polyester 65%, Cotton 35%  1024256001  \n",
       "2             Shell: Cotton 99%, Spandex 1%        None  "
      ]
     },
     "execution_count": 46,
     "metadata": {},
     "output_type": "execute_result"
    }
   ],
   "source": [
    "product_composition_list = soup.find_all('div', class_='pdp-description-list-item')\n",
    "product_composition = [list(filter(None, p.get_text().split('\\n'))) for p in product_composition_list]\n",
    "df_aux = pd.DataFrame(product_composition).T\n",
    "df_aux"
   ]
  },
  {
   "cell_type": "code",
   "execution_count": 47,
   "id": "bba89ef3",
   "metadata": {
    "ExecuteTime": {
     "end_time": "2022-01-29T16:15:36.113335Z",
     "start_time": "2022-01-29T16:15:36.108789Z"
    }
   },
   "outputs": [
    {
     "data": {
      "text/plain": [
       "0           Size\n",
       "1            Fit\n",
       "2    Composition\n",
       "3       Art. No.\n",
       "Name: 0, dtype: object"
      ]
     },
     "execution_count": 47,
     "metadata": {},
     "output_type": "execute_result"
    }
   ],
   "source": [
    "df_aux.iloc[0]"
   ]
  },
  {
   "cell_type": "code",
   "execution_count": 48,
   "id": "ae5d3be5",
   "metadata": {
    "ExecuteTime": {
     "end_time": "2022-01-29T16:15:36.430462Z",
     "start_time": "2022-01-29T16:15:36.422733Z"
    }
   },
   "outputs": [
    {
     "data": {
      "text/html": [
       "<div>\n",
       "<style scoped>\n",
       "    .dataframe tbody tr th:only-of-type {\n",
       "        vertical-align: middle;\n",
       "    }\n",
       "\n",
       "    .dataframe tbody tr th {\n",
       "        vertical-align: top;\n",
       "    }\n",
       "\n",
       "    .dataframe thead th {\n",
       "        text-align: right;\n",
       "    }\n",
       "</style>\n",
       "<table border=\"1\" class=\"dataframe\">\n",
       "  <thead>\n",
       "    <tr style=\"text-align: right;\">\n",
       "      <th></th>\n",
       "      <th>Size</th>\n",
       "      <th>Fit</th>\n",
       "      <th>Composition</th>\n",
       "      <th>Art. No.</th>\n",
       "    </tr>\n",
       "  </thead>\n",
       "  <tbody>\n",
       "    <tr>\n",
       "      <th>0</th>\n",
       "      <td>Size</td>\n",
       "      <td>Fit</td>\n",
       "      <td>Composition</td>\n",
       "      <td>Art. No.</td>\n",
       "    </tr>\n",
       "    <tr>\n",
       "      <th>1</th>\n",
       "      <td>The model is 185cm/6'1\" and wears a size 31/32</td>\n",
       "      <td>Slim fit</td>\n",
       "      <td>Pocket lining: Polyester 65%, Cotton 35%</td>\n",
       "      <td>1024256001</td>\n",
       "    </tr>\n",
       "    <tr>\n",
       "      <th>2</th>\n",
       "      <td>None</td>\n",
       "      <td>None</td>\n",
       "      <td>Shell: Cotton 99%, Spandex 1%</td>\n",
       "      <td>None</td>\n",
       "    </tr>\n",
       "  </tbody>\n",
       "</table>\n",
       "</div>"
      ],
      "text/plain": [
       "0                                            Size       Fit  \\\n",
       "0                                            Size       Fit   \n",
       "1  The model is 185cm/6'1\" and wears a size 31/32  Slim fit   \n",
       "2                                            None      None   \n",
       "\n",
       "0                               Composition    Art. No.  \n",
       "0                               Composition    Art. No.  \n",
       "1  Pocket lining: Polyester 65%, Cotton 35%  1024256001  \n",
       "2             Shell: Cotton 99%, Spandex 1%        None  "
      ]
     },
     "execution_count": 48,
     "metadata": {},
     "output_type": "execute_result"
    }
   ],
   "source": [
    "# rename data frame\n",
    "df_aux.columns = df_aux.iloc[0]\n",
    "df_aux"
   ]
  },
  {
   "cell_type": "code",
   "execution_count": 49,
   "id": "62f3d65e",
   "metadata": {
    "ExecuteTime": {
     "end_time": "2022-01-29T16:15:36.780561Z",
     "start_time": "2022-01-29T16:15:36.771794Z"
    }
   },
   "outputs": [
    {
     "data": {
      "text/html": [
       "<div>\n",
       "<style scoped>\n",
       "    .dataframe tbody tr th:only-of-type {\n",
       "        vertical-align: middle;\n",
       "    }\n",
       "\n",
       "    .dataframe tbody tr th {\n",
       "        vertical-align: top;\n",
       "    }\n",
       "\n",
       "    .dataframe thead th {\n",
       "        text-align: right;\n",
       "    }\n",
       "</style>\n",
       "<table border=\"1\" class=\"dataframe\">\n",
       "  <thead>\n",
       "    <tr style=\"text-align: right;\">\n",
       "      <th></th>\n",
       "      <th>index</th>\n",
       "      <th>Size</th>\n",
       "      <th>Fit</th>\n",
       "      <th>Composition</th>\n",
       "      <th>Art. No.</th>\n",
       "    </tr>\n",
       "  </thead>\n",
       "  <tbody>\n",
       "    <tr>\n",
       "      <th>0</th>\n",
       "      <td>1</td>\n",
       "      <td>The model is 185cm/6'1\" and wears a size 31/32</td>\n",
       "      <td>Slim fit</td>\n",
       "      <td>Pocket lining: Polyester 65%, Cotton 35%</td>\n",
       "      <td>1024256001</td>\n",
       "    </tr>\n",
       "    <tr>\n",
       "      <th>1</th>\n",
       "      <td>2</td>\n",
       "      <td>None</td>\n",
       "      <td>None</td>\n",
       "      <td>Shell: Cotton 99%, Spandex 1%</td>\n",
       "      <td>None</td>\n",
       "    </tr>\n",
       "  </tbody>\n",
       "</table>\n",
       "</div>"
      ],
      "text/plain": [
       "0  index                                            Size       Fit  \\\n",
       "0      1  The model is 185cm/6'1\" and wears a size 31/32  Slim fit   \n",
       "1      2                                            None      None   \n",
       "\n",
       "0                               Composition    Art. No.  \n",
       "0  Pocket lining: Polyester 65%, Cotton 35%  1024256001  \n",
       "1             Shell: Cotton 99%, Spandex 1%        None  "
      ]
     },
     "execution_count": 49,
     "metadata": {},
     "output_type": "execute_result"
    }
   ],
   "source": [
    "# delete first row\n",
    "df_aux = df_aux.iloc[1:].copy().reset_index()\n",
    "df_aux"
   ]
  },
  {
   "cell_type": "code",
   "execution_count": 50,
   "id": "bcca59da",
   "metadata": {
    "ExecuteTime": {
     "end_time": "2022-01-29T16:15:37.157651Z",
     "start_time": "2022-01-29T16:15:37.149910Z"
    }
   },
   "outputs": [
    {
     "data": {
      "text/html": [
       "<div>\n",
       "<style scoped>\n",
       "    .dataframe tbody tr th:only-of-type {\n",
       "        vertical-align: middle;\n",
       "    }\n",
       "\n",
       "    .dataframe tbody tr th {\n",
       "        vertical-align: top;\n",
       "    }\n",
       "\n",
       "    .dataframe thead th {\n",
       "        text-align: right;\n",
       "    }\n",
       "</style>\n",
       "<table border=\"1\" class=\"dataframe\">\n",
       "  <thead>\n",
       "    <tr style=\"text-align: right;\">\n",
       "      <th></th>\n",
       "      <th>Fit</th>\n",
       "      <th>Composition</th>\n",
       "      <th>Art. No.</th>\n",
       "    </tr>\n",
       "  </thead>\n",
       "  <tbody>\n",
       "    <tr>\n",
       "      <th>0</th>\n",
       "      <td>Slim fit</td>\n",
       "      <td>Pocket lining: Polyester 65%, Cotton 35%</td>\n",
       "      <td>1024256001</td>\n",
       "    </tr>\n",
       "    <tr>\n",
       "      <th>1</th>\n",
       "      <td>None</td>\n",
       "      <td>Shell: Cotton 99%, Spandex 1%</td>\n",
       "      <td>None</td>\n",
       "    </tr>\n",
       "  </tbody>\n",
       "</table>\n",
       "</div>"
      ],
      "text/plain": [
       "0       Fit                               Composition    Art. No.\n",
       "0  Slim fit  Pocket lining: Polyester 65%, Cotton 35%  1024256001\n",
       "1      None             Shell: Cotton 99%, Spandex 1%        None"
      ]
     },
     "execution_count": 50,
     "metadata": {},
     "output_type": "execute_result"
    }
   ],
   "source": [
    "df_aux = df_aux[['Fit', 'Composition', 'Art. No.']]\n",
    "df_aux"
   ]
  },
  {
   "cell_type": "markdown",
   "id": "7c451d26",
   "metadata": {},
   "source": [
    "- **Substituindo o None:**"
   ]
  },
  {
   "cell_type": "code",
   "execution_count": 51,
   "id": "6177d42c",
   "metadata": {
    "ExecuteTime": {
     "end_time": "2022-01-29T16:15:39.503345Z",
     "start_time": "2022-01-29T16:15:39.496394Z"
    }
   },
   "outputs": [
    {
     "data": {
      "text/html": [
       "<div>\n",
       "<style scoped>\n",
       "    .dataframe tbody tr th:only-of-type {\n",
       "        vertical-align: middle;\n",
       "    }\n",
       "\n",
       "    .dataframe tbody tr th {\n",
       "        vertical-align: top;\n",
       "    }\n",
       "\n",
       "    .dataframe thead th {\n",
       "        text-align: right;\n",
       "    }\n",
       "</style>\n",
       "<table border=\"1\" class=\"dataframe\">\n",
       "  <thead>\n",
       "    <tr style=\"text-align: right;\">\n",
       "      <th></th>\n",
       "      <th>Fit</th>\n",
       "      <th>Composition</th>\n",
       "      <th>Art. No.</th>\n",
       "    </tr>\n",
       "  </thead>\n",
       "  <tbody>\n",
       "    <tr>\n",
       "      <th>0</th>\n",
       "      <td>Slim fit</td>\n",
       "      <td>Pocket lining: Polyester 65%, Cotton 35%</td>\n",
       "      <td>1024256001</td>\n",
       "    </tr>\n",
       "    <tr>\n",
       "      <th>1</th>\n",
       "      <td>None</td>\n",
       "      <td>Shell: Cotton 99%, Spandex 1%</td>\n",
       "      <td>None</td>\n",
       "    </tr>\n",
       "  </tbody>\n",
       "</table>\n",
       "</div>"
      ],
      "text/plain": [
       "0       Fit                               Composition    Art. No.\n",
       "0  Slim fit  Pocket lining: Polyester 65%, Cotton 35%  1024256001\n",
       "1      None             Shell: Cotton 99%, Spandex 1%        None"
      ]
     },
     "execution_count": 51,
     "metadata": {},
     "output_type": "execute_result"
    }
   ],
   "source": [
    "df_aux"
   ]
  },
  {
   "cell_type": "code",
   "execution_count": 52,
   "id": "d6f15bbf",
   "metadata": {
    "ExecuteTime": {
     "end_time": "2022-01-29T16:15:39.907954Z",
     "start_time": "2022-01-29T16:15:39.900037Z"
    }
   },
   "outputs": [
    {
     "data": {
      "text/html": [
       "<div>\n",
       "<style scoped>\n",
       "    .dataframe tbody tr th:only-of-type {\n",
       "        vertical-align: middle;\n",
       "    }\n",
       "\n",
       "    .dataframe tbody tr th {\n",
       "        vertical-align: top;\n",
       "    }\n",
       "\n",
       "    .dataframe thead th {\n",
       "        text-align: right;\n",
       "    }\n",
       "</style>\n",
       "<table border=\"1\" class=\"dataframe\">\n",
       "  <thead>\n",
       "    <tr style=\"text-align: right;\">\n",
       "      <th></th>\n",
       "      <th>Fit</th>\n",
       "      <th>Composition</th>\n",
       "      <th>Art. No.</th>\n",
       "    </tr>\n",
       "  </thead>\n",
       "  <tbody>\n",
       "    <tr>\n",
       "      <th>0</th>\n",
       "      <td>Slim fit</td>\n",
       "      <td>Pocket lining: Polyester 65%, Cotton 35%</td>\n",
       "      <td>1024256001</td>\n",
       "    </tr>\n",
       "    <tr>\n",
       "      <th>1</th>\n",
       "      <td>Slim fit</td>\n",
       "      <td>Shell: Cotton 99%, Spandex 1%</td>\n",
       "      <td>1024256001</td>\n",
       "    </tr>\n",
       "  </tbody>\n",
       "</table>\n",
       "</div>"
      ],
      "text/plain": [
       "0       Fit                               Composition    Art. No.\n",
       "0  Slim fit  Pocket lining: Polyester 65%, Cotton 35%  1024256001\n",
       "1  Slim fit             Shell: Cotton 99%, Spandex 1%  1024256001"
      ]
     },
     "execution_count": 52,
     "metadata": {},
     "output_type": "execute_result"
    }
   ],
   "source": [
    "df_aux = df_aux.fillna(method='ffill')\n",
    "df_aux"
   ]
  },
  {
   "cell_type": "code",
   "execution_count": 53,
   "id": "9e88df7b",
   "metadata": {
    "ExecuteTime": {
     "end_time": "2022-01-29T16:15:40.403958Z",
     "start_time": "2022-01-29T16:15:40.397249Z"
    }
   },
   "outputs": [
    {
     "data": {
      "text/html": [
       "<div>\n",
       "<style scoped>\n",
       "    .dataframe tbody tr th:only-of-type {\n",
       "        vertical-align: middle;\n",
       "    }\n",
       "\n",
       "    .dataframe tbody tr th {\n",
       "        vertical-align: top;\n",
       "    }\n",
       "\n",
       "    .dataframe thead th {\n",
       "        text-align: right;\n",
       "    }\n",
       "</style>\n",
       "<table border=\"1\" class=\"dataframe\">\n",
       "  <thead>\n",
       "    <tr style=\"text-align: right;\">\n",
       "      <th></th>\n",
       "      <th>Fit</th>\n",
       "      <th>Composition</th>\n",
       "      <th>Art. No.</th>\n",
       "    </tr>\n",
       "  </thead>\n",
       "  <tbody>\n",
       "    <tr>\n",
       "      <th>0</th>\n",
       "      <td>Slim fit</td>\n",
       "      <td>Pocket lining: Polyester 65%, Cotton 35%</td>\n",
       "      <td>1024256001</td>\n",
       "    </tr>\n",
       "    <tr>\n",
       "      <th>1</th>\n",
       "      <td>Slim fit</td>\n",
       "      <td>Shell: Cotton 99%, Spandex 1%</td>\n",
       "      <td>1024256001</td>\n",
       "    </tr>\n",
       "  </tbody>\n",
       "</table>\n",
       "</div>"
      ],
      "text/plain": [
       "0       Fit                               Composition    Art. No.\n",
       "0  Slim fit  Pocket lining: Polyester 65%, Cotton 35%  1024256001\n",
       "1  Slim fit             Shell: Cotton 99%, Spandex 1%  1024256001"
      ]
     },
     "execution_count": 53,
     "metadata": {},
     "output_type": "execute_result"
    }
   ],
   "source": [
    "df_composition = df_aux\n",
    "df_composition"
   ]
  },
  {
   "cell_type": "code",
   "execution_count": 54,
   "id": "f98651b2",
   "metadata": {
    "ExecuteTime": {
     "end_time": "2022-01-29T16:15:42.160411Z",
     "start_time": "2022-01-29T16:15:42.149832Z"
    }
   },
   "outputs": [
    {
     "data": {
      "text/html": [
       "<div>\n",
       "<style scoped>\n",
       "    .dataframe tbody tr th:only-of-type {\n",
       "        vertical-align: middle;\n",
       "    }\n",
       "\n",
       "    .dataframe tbody tr th {\n",
       "        vertical-align: top;\n",
       "    }\n",
       "\n",
       "    .dataframe thead th {\n",
       "        text-align: right;\n",
       "    }\n",
       "</style>\n",
       "<table border=\"1\" class=\"dataframe\">\n",
       "  <thead>\n",
       "    <tr style=\"text-align: right;\">\n",
       "      <th></th>\n",
       "      <th>Fit</th>\n",
       "      <th>Composition</th>\n",
       "      <th>Art. No.</th>\n",
       "      <th>style_id</th>\n",
       "      <th>color_id</th>\n",
       "    </tr>\n",
       "  </thead>\n",
       "  <tbody>\n",
       "    <tr>\n",
       "      <th>0</th>\n",
       "      <td>Slim fit</td>\n",
       "      <td>Pocket lining: Polyester 65%, Cotton 35%</td>\n",
       "      <td>1024256001</td>\n",
       "      <td>1024256</td>\n",
       "      <td>001</td>\n",
       "    </tr>\n",
       "    <tr>\n",
       "      <th>1</th>\n",
       "      <td>Slim fit</td>\n",
       "      <td>Shell: Cotton 99%, Spandex 1%</td>\n",
       "      <td>1024256001</td>\n",
       "      <td>1024256</td>\n",
       "      <td>001</td>\n",
       "    </tr>\n",
       "  </tbody>\n",
       "</table>\n",
       "</div>"
      ],
      "text/plain": [
       "0       Fit                               Composition    Art. No. style_id  \\\n",
       "0  Slim fit  Pocket lining: Polyester 65%, Cotton 35%  1024256001  1024256   \n",
       "1  Slim fit             Shell: Cotton 99%, Spandex 1%  1024256001  1024256   \n",
       "\n",
       "0 color_id  \n",
       "0      001  \n",
       "1      001  "
      ]
     },
     "execution_count": 54,
     "metadata": {},
     "output_type": "execute_result"
    }
   ],
   "source": [
    "# generate style id + color id\n",
    "df_composition['style_id'] = df_composition['Art. No.'].apply(lambda x: x[:-3])\n",
    "df_composition['color_id'] = df_composition['Art. No.'].apply(lambda x: x[-3:])\n",
    "df_composition"
   ]
  },
  {
   "cell_type": "code",
   "execution_count": 55,
   "id": "1b77c695",
   "metadata": {
    "ExecuteTime": {
     "end_time": "2022-01-29T16:15:42.678969Z",
     "start_time": "2022-01-29T16:15:42.668846Z"
    }
   },
   "outputs": [
    {
     "data": {
      "text/html": [
       "<div>\n",
       "<style scoped>\n",
       "    .dataframe tbody tr th:only-of-type {\n",
       "        vertical-align: middle;\n",
       "    }\n",
       "\n",
       "    .dataframe tbody tr th {\n",
       "        vertical-align: top;\n",
       "    }\n",
       "\n",
       "    .dataframe thead th {\n",
       "        text-align: right;\n",
       "    }\n",
       "</style>\n",
       "<table border=\"1\" class=\"dataframe\">\n",
       "  <thead>\n",
       "    <tr style=\"text-align: right;\">\n",
       "      <th></th>\n",
       "      <th>product_id</th>\n",
       "      <th>color_name</th>\n",
       "      <th>style_id</th>\n",
       "      <th>color_id</th>\n",
       "    </tr>\n",
       "  </thead>\n",
       "  <tbody>\n",
       "    <tr>\n",
       "      <th>0</th>\n",
       "      <td>1024256002</td>\n",
       "      <td>Light denim blue</td>\n",
       "      <td>1024256</td>\n",
       "      <td>002</td>\n",
       "    </tr>\n",
       "    <tr>\n",
       "      <th>1</th>\n",
       "      <td>1024256003</td>\n",
       "      <td>Light denim blue</td>\n",
       "      <td>1024256</td>\n",
       "      <td>003</td>\n",
       "    </tr>\n",
       "    <tr>\n",
       "      <th>2</th>\n",
       "      <td>1024256004</td>\n",
       "      <td>Denim blue</td>\n",
       "      <td>1024256</td>\n",
       "      <td>004</td>\n",
       "    </tr>\n",
       "    <tr>\n",
       "      <th>3</th>\n",
       "      <td>1024256005</td>\n",
       "      <td>Dark blue</td>\n",
       "      <td>1024256</td>\n",
       "      <td>005</td>\n",
       "    </tr>\n",
       "    <tr>\n",
       "      <th>4</th>\n",
       "      <td>1024256006</td>\n",
       "      <td>Dark denim blue</td>\n",
       "      <td>1024256</td>\n",
       "      <td>006</td>\n",
       "    </tr>\n",
       "    <tr>\n",
       "      <th>5</th>\n",
       "      <td>1024256007</td>\n",
       "      <td>Dark gray</td>\n",
       "      <td>1024256</td>\n",
       "      <td>007</td>\n",
       "    </tr>\n",
       "  </tbody>\n",
       "</table>\n",
       "</div>"
      ],
      "text/plain": [
       "   product_id        color_name style_id color_id\n",
       "0  1024256002  Light denim blue  1024256      002\n",
       "1  1024256003  Light denim blue  1024256      003\n",
       "2  1024256004        Denim blue  1024256      004\n",
       "3  1024256005         Dark blue  1024256      005\n",
       "4  1024256006   Dark denim blue  1024256      006\n",
       "5  1024256007         Dark gray  1024256      007"
      ]
     },
     "execution_count": 55,
     "metadata": {},
     "output_type": "execute_result"
    }
   ],
   "source": [
    "# generate style id + color id\n",
    "df_color['style_id'] = df_color['product_id'].apply(lambda x: x[:-3])\n",
    "df_color['color_id'] = df_color['product_id'].apply(lambda x: x[-3:])\n",
    "df_color"
   ]
  },
  {
   "cell_type": "code",
   "execution_count": 56,
   "id": "7c6ade74",
   "metadata": {
    "ExecuteTime": {
     "end_time": "2022-01-29T16:15:43.256469Z",
     "start_time": "2022-01-29T16:15:43.242374Z"
    }
   },
   "outputs": [
    {
     "data": {
      "text/html": [
       "<div>\n",
       "<style scoped>\n",
       "    .dataframe tbody tr th:only-of-type {\n",
       "        vertical-align: middle;\n",
       "    }\n",
       "\n",
       "    .dataframe tbody tr th {\n",
       "        vertical-align: top;\n",
       "    }\n",
       "\n",
       "    .dataframe thead th {\n",
       "        text-align: right;\n",
       "    }\n",
       "</style>\n",
       "<table border=\"1\" class=\"dataframe\">\n",
       "  <thead>\n",
       "    <tr style=\"text-align: right;\">\n",
       "      <th></th>\n",
       "      <th>product_id</th>\n",
       "      <th>color_name</th>\n",
       "      <th>style_id</th>\n",
       "      <th>color_id</th>\n",
       "      <th>Fit</th>\n",
       "      <th>Composition</th>\n",
       "    </tr>\n",
       "  </thead>\n",
       "  <tbody>\n",
       "    <tr>\n",
       "      <th>0</th>\n",
       "      <td>1024256002</td>\n",
       "      <td>Light denim blue</td>\n",
       "      <td>1024256</td>\n",
       "      <td>002</td>\n",
       "      <td>Slim fit</td>\n",
       "      <td>Pocket lining: Polyester 65%, Cotton 35%</td>\n",
       "    </tr>\n",
       "    <tr>\n",
       "      <th>1</th>\n",
       "      <td>1024256002</td>\n",
       "      <td>Light denim blue</td>\n",
       "      <td>1024256</td>\n",
       "      <td>002</td>\n",
       "      <td>Slim fit</td>\n",
       "      <td>Shell: Cotton 99%, Spandex 1%</td>\n",
       "    </tr>\n",
       "    <tr>\n",
       "      <th>2</th>\n",
       "      <td>1024256003</td>\n",
       "      <td>Light denim blue</td>\n",
       "      <td>1024256</td>\n",
       "      <td>003</td>\n",
       "      <td>Slim fit</td>\n",
       "      <td>Pocket lining: Polyester 65%, Cotton 35%</td>\n",
       "    </tr>\n",
       "    <tr>\n",
       "      <th>3</th>\n",
       "      <td>1024256003</td>\n",
       "      <td>Light denim blue</td>\n",
       "      <td>1024256</td>\n",
       "      <td>003</td>\n",
       "      <td>Slim fit</td>\n",
       "      <td>Shell: Cotton 99%, Spandex 1%</td>\n",
       "    </tr>\n",
       "    <tr>\n",
       "      <th>4</th>\n",
       "      <td>1024256004</td>\n",
       "      <td>Denim blue</td>\n",
       "      <td>1024256</td>\n",
       "      <td>004</td>\n",
       "      <td>Slim fit</td>\n",
       "      <td>Pocket lining: Polyester 65%, Cotton 35%</td>\n",
       "    </tr>\n",
       "    <tr>\n",
       "      <th>5</th>\n",
       "      <td>1024256004</td>\n",
       "      <td>Denim blue</td>\n",
       "      <td>1024256</td>\n",
       "      <td>004</td>\n",
       "      <td>Slim fit</td>\n",
       "      <td>Shell: Cotton 99%, Spandex 1%</td>\n",
       "    </tr>\n",
       "    <tr>\n",
       "      <th>6</th>\n",
       "      <td>1024256005</td>\n",
       "      <td>Dark blue</td>\n",
       "      <td>1024256</td>\n",
       "      <td>005</td>\n",
       "      <td>Slim fit</td>\n",
       "      <td>Pocket lining: Polyester 65%, Cotton 35%</td>\n",
       "    </tr>\n",
       "    <tr>\n",
       "      <th>7</th>\n",
       "      <td>1024256005</td>\n",
       "      <td>Dark blue</td>\n",
       "      <td>1024256</td>\n",
       "      <td>005</td>\n",
       "      <td>Slim fit</td>\n",
       "      <td>Shell: Cotton 99%, Spandex 1%</td>\n",
       "    </tr>\n",
       "    <tr>\n",
       "      <th>8</th>\n",
       "      <td>1024256006</td>\n",
       "      <td>Dark denim blue</td>\n",
       "      <td>1024256</td>\n",
       "      <td>006</td>\n",
       "      <td>Slim fit</td>\n",
       "      <td>Pocket lining: Polyester 65%, Cotton 35%</td>\n",
       "    </tr>\n",
       "    <tr>\n",
       "      <th>9</th>\n",
       "      <td>1024256006</td>\n",
       "      <td>Dark denim blue</td>\n",
       "      <td>1024256</td>\n",
       "      <td>006</td>\n",
       "      <td>Slim fit</td>\n",
       "      <td>Shell: Cotton 99%, Spandex 1%</td>\n",
       "    </tr>\n",
       "    <tr>\n",
       "      <th>10</th>\n",
       "      <td>1024256007</td>\n",
       "      <td>Dark gray</td>\n",
       "      <td>1024256</td>\n",
       "      <td>007</td>\n",
       "      <td>Slim fit</td>\n",
       "      <td>Pocket lining: Polyester 65%, Cotton 35%</td>\n",
       "    </tr>\n",
       "    <tr>\n",
       "      <th>11</th>\n",
       "      <td>1024256007</td>\n",
       "      <td>Dark gray</td>\n",
       "      <td>1024256</td>\n",
       "      <td>007</td>\n",
       "      <td>Slim fit</td>\n",
       "      <td>Shell: Cotton 99%, Spandex 1%</td>\n",
       "    </tr>\n",
       "  </tbody>\n",
       "</table>\n",
       "</div>"
      ],
      "text/plain": [
       "    product_id        color_name style_id color_id       Fit  \\\n",
       "0   1024256002  Light denim blue  1024256      002  Slim fit   \n",
       "1   1024256002  Light denim blue  1024256      002  Slim fit   \n",
       "2   1024256003  Light denim blue  1024256      003  Slim fit   \n",
       "3   1024256003  Light denim blue  1024256      003  Slim fit   \n",
       "4   1024256004        Denim blue  1024256      004  Slim fit   \n",
       "5   1024256004        Denim blue  1024256      004  Slim fit   \n",
       "6   1024256005         Dark blue  1024256      005  Slim fit   \n",
       "7   1024256005         Dark blue  1024256      005  Slim fit   \n",
       "8   1024256006   Dark denim blue  1024256      006  Slim fit   \n",
       "9   1024256006   Dark denim blue  1024256      006  Slim fit   \n",
       "10  1024256007         Dark gray  1024256      007  Slim fit   \n",
       "11  1024256007         Dark gray  1024256      007  Slim fit   \n",
       "\n",
       "                                 Composition  \n",
       "0   Pocket lining: Polyester 65%, Cotton 35%  \n",
       "1              Shell: Cotton 99%, Spandex 1%  \n",
       "2   Pocket lining: Polyester 65%, Cotton 35%  \n",
       "3              Shell: Cotton 99%, Spandex 1%  \n",
       "4   Pocket lining: Polyester 65%, Cotton 35%  \n",
       "5              Shell: Cotton 99%, Spandex 1%  \n",
       "6   Pocket lining: Polyester 65%, Cotton 35%  \n",
       "7              Shell: Cotton 99%, Spandex 1%  \n",
       "8   Pocket lining: Polyester 65%, Cotton 35%  \n",
       "9              Shell: Cotton 99%, Spandex 1%  \n",
       "10  Pocket lining: Polyester 65%, Cotton 35%  \n",
       "11             Shell: Cotton 99%, Spandex 1%  "
      ]
     },
     "execution_count": 56,
     "metadata": {},
     "output_type": "execute_result"
    }
   ],
   "source": [
    "# Join\n",
    "pd.merge(df_color, df_composition[['style_id', 'Fit', 'Composition']], how='left', on='style_id')"
   ]
  },
  {
   "cell_type": "markdown",
   "id": "f4abb47e",
   "metadata": {},
   "source": [
    "# <span style=\"color:#3399ff\">Juntando todos os passos anteriores </span>"
   ]
  },
  {
   "cell_type": "markdown",
   "id": "bfb2cfa3",
   "metadata": {},
   "source": [
    "## <span style=\"color:#ff8000\">0. Packages </span>"
   ]
  },
  {
   "cell_type": "code",
   "execution_count": 57,
   "id": "ce6a2169",
   "metadata": {
    "ExecuteTime": {
     "end_time": "2022-01-29T16:15:46.306423Z",
     "start_time": "2022-01-29T16:15:46.303549Z"
    }
   },
   "outputs": [],
   "source": [
    "import requests\n",
    "import pandas as pd\n",
    "from datetime import datetime\n",
    "from bs4 import BeautifulSoup"
   ]
  },
  {
   "cell_type": "markdown",
   "id": "5a85b612",
   "metadata": {},
   "source": [
    "## <span style=\"color:#ff8000\">1. One Product </span>"
   ]
  },
  {
   "cell_type": "code",
   "execution_count": 58,
   "id": "2c3c1d40",
   "metadata": {
    "ExecuteTime": {
     "end_time": "2022-01-29T16:15:48.162642Z",
     "start_time": "2022-01-29T16:15:47.293388Z"
    }
   },
   "outputs": [],
   "source": [
    "# API Requests\n",
    "url = 'https://www2.hm.com/en_us/productpage.1024256001.html'\n",
    "headers = {'User-Agent': 'Mozilla/5.0 (Macintosh; Intel Mac OS X 10_11_5)AppleWebKit/537.36 (KHTML, like Gecko) Chrome/50.0.2661.102 Safari/537.36'}\n",
    "page = requests.get( url, headers=headers )\n",
    "\n",
    "\n",
    "# Beautiful Soup object\n",
    "soup = BeautifulSoup(page.text, 'html.parser')\n",
    "\n",
    "# ================== color name =====================================\n",
    "product_list = soup.find_all('a', class_='filter-option miniature')\n",
    "color_name = [p.get('data-color') for p in product_list]\n",
    "\n",
    "# color name\n",
    "product_color_list = soup.find_all('a', class_='filter-option miniature')\n",
    "color_name = [p.get('data-color') for p in product_color_list]\n",
    "\n",
    "# product_id\n",
    "product_id = [p.get('data-articlecode') for p in product_color_list]\n",
    "\n",
    "df_color = pd.DataFrame([product_id, color_name]).T\n",
    "df_color.columns = ['product_id', 'color_name']\n",
    "\n",
    "# generate style id + color id\n",
    "df_color['style_id'] = df_color['product_id'].apply(lambda x: x[:-3])\n",
    "df_color['color_id'] = df_color['product_id'].apply(lambda x: x[-3:])\n",
    "\n",
    "# ================== composition =====================================\n",
    "product_composition_list = soup.find_all('div', class_='pdp-description-list-item')\n",
    "product_composition = [list(filter(None, p.get_text().split('\\n'))) for p in product_composition_list]\n",
    "\n",
    "\n",
    "# rename dataframe\n",
    "df_composition = pd.DataFrame(product_composition).T\n",
    "df_composition.columns = df_composition.iloc[0]\n",
    "\n",
    "\n",
    "# delete first row\n",
    "df_composition = df_composition.iloc[1:].fillna(method='ffill')\n",
    "df_composition = df_composition[['Fit', 'Composition', 'Art. No.']]\n",
    "\n",
    "# generate style id + color id\n",
    "df_composition['style_id'] = df_composition['Art. No.'].apply(lambda x: x[:-3])\n",
    "df_composition['color_id'] = df_composition['Art. No.'].apply(lambda x: x[-3:])\n",
    "\n",
    "# Merge data color + composition\n",
    "data_sku = pd.merge(df_color, df_composition[['style_id', 'Fit', 'Composition']], how='left', on='style_id')\n"
   ]
  },
  {
   "cell_type": "code",
   "execution_count": 59,
   "id": "7c75f616",
   "metadata": {
    "ExecuteTime": {
     "end_time": "2022-01-29T16:15:48.173129Z",
     "start_time": "2022-01-29T16:15:48.165160Z"
    }
   },
   "outputs": [
    {
     "data": {
      "text/html": [
       "<div>\n",
       "<style scoped>\n",
       "    .dataframe tbody tr th:only-of-type {\n",
       "        vertical-align: middle;\n",
       "    }\n",
       "\n",
       "    .dataframe tbody tr th {\n",
       "        vertical-align: top;\n",
       "    }\n",
       "\n",
       "    .dataframe thead th {\n",
       "        text-align: right;\n",
       "    }\n",
       "</style>\n",
       "<table border=\"1\" class=\"dataframe\">\n",
       "  <thead>\n",
       "    <tr style=\"text-align: right;\">\n",
       "      <th></th>\n",
       "      <th>product_id</th>\n",
       "      <th>color_name</th>\n",
       "      <th>style_id</th>\n",
       "      <th>color_id</th>\n",
       "      <th>Fit</th>\n",
       "      <th>Composition</th>\n",
       "    </tr>\n",
       "  </thead>\n",
       "  <tbody>\n",
       "    <tr>\n",
       "      <th>0</th>\n",
       "      <td>1024256002</td>\n",
       "      <td>Light denim blue</td>\n",
       "      <td>1024256</td>\n",
       "      <td>002</td>\n",
       "      <td>Slim fit</td>\n",
       "      <td>Pocket lining: Polyester 65%, Cotton 35%</td>\n",
       "    </tr>\n",
       "    <tr>\n",
       "      <th>1</th>\n",
       "      <td>1024256002</td>\n",
       "      <td>Light denim blue</td>\n",
       "      <td>1024256</td>\n",
       "      <td>002</td>\n",
       "      <td>Slim fit</td>\n",
       "      <td>Shell: Cotton 99%, Spandex 1%</td>\n",
       "    </tr>\n",
       "    <tr>\n",
       "      <th>2</th>\n",
       "      <td>1024256003</td>\n",
       "      <td>Light denim blue</td>\n",
       "      <td>1024256</td>\n",
       "      <td>003</td>\n",
       "      <td>Slim fit</td>\n",
       "      <td>Pocket lining: Polyester 65%, Cotton 35%</td>\n",
       "    </tr>\n",
       "    <tr>\n",
       "      <th>3</th>\n",
       "      <td>1024256003</td>\n",
       "      <td>Light denim blue</td>\n",
       "      <td>1024256</td>\n",
       "      <td>003</td>\n",
       "      <td>Slim fit</td>\n",
       "      <td>Shell: Cotton 99%, Spandex 1%</td>\n",
       "    </tr>\n",
       "    <tr>\n",
       "      <th>4</th>\n",
       "      <td>1024256004</td>\n",
       "      <td>Denim blue</td>\n",
       "      <td>1024256</td>\n",
       "      <td>004</td>\n",
       "      <td>Slim fit</td>\n",
       "      <td>Pocket lining: Polyester 65%, Cotton 35%</td>\n",
       "    </tr>\n",
       "    <tr>\n",
       "      <th>5</th>\n",
       "      <td>1024256004</td>\n",
       "      <td>Denim blue</td>\n",
       "      <td>1024256</td>\n",
       "      <td>004</td>\n",
       "      <td>Slim fit</td>\n",
       "      <td>Shell: Cotton 99%, Spandex 1%</td>\n",
       "    </tr>\n",
       "    <tr>\n",
       "      <th>6</th>\n",
       "      <td>1024256005</td>\n",
       "      <td>Dark blue</td>\n",
       "      <td>1024256</td>\n",
       "      <td>005</td>\n",
       "      <td>Slim fit</td>\n",
       "      <td>Pocket lining: Polyester 65%, Cotton 35%</td>\n",
       "    </tr>\n",
       "    <tr>\n",
       "      <th>7</th>\n",
       "      <td>1024256005</td>\n",
       "      <td>Dark blue</td>\n",
       "      <td>1024256</td>\n",
       "      <td>005</td>\n",
       "      <td>Slim fit</td>\n",
       "      <td>Shell: Cotton 99%, Spandex 1%</td>\n",
       "    </tr>\n",
       "    <tr>\n",
       "      <th>8</th>\n",
       "      <td>1024256006</td>\n",
       "      <td>Dark denim blue</td>\n",
       "      <td>1024256</td>\n",
       "      <td>006</td>\n",
       "      <td>Slim fit</td>\n",
       "      <td>Pocket lining: Polyester 65%, Cotton 35%</td>\n",
       "    </tr>\n",
       "    <tr>\n",
       "      <th>9</th>\n",
       "      <td>1024256006</td>\n",
       "      <td>Dark denim blue</td>\n",
       "      <td>1024256</td>\n",
       "      <td>006</td>\n",
       "      <td>Slim fit</td>\n",
       "      <td>Shell: Cotton 99%, Spandex 1%</td>\n",
       "    </tr>\n",
       "    <tr>\n",
       "      <th>10</th>\n",
       "      <td>1024256007</td>\n",
       "      <td>Dark gray</td>\n",
       "      <td>1024256</td>\n",
       "      <td>007</td>\n",
       "      <td>Slim fit</td>\n",
       "      <td>Pocket lining: Polyester 65%, Cotton 35%</td>\n",
       "    </tr>\n",
       "    <tr>\n",
       "      <th>11</th>\n",
       "      <td>1024256007</td>\n",
       "      <td>Dark gray</td>\n",
       "      <td>1024256</td>\n",
       "      <td>007</td>\n",
       "      <td>Slim fit</td>\n",
       "      <td>Shell: Cotton 99%, Spandex 1%</td>\n",
       "    </tr>\n",
       "  </tbody>\n",
       "</table>\n",
       "</div>"
      ],
      "text/plain": [
       "    product_id        color_name style_id color_id       Fit  \\\n",
       "0   1024256002  Light denim blue  1024256      002  Slim fit   \n",
       "1   1024256002  Light denim blue  1024256      002  Slim fit   \n",
       "2   1024256003  Light denim blue  1024256      003  Slim fit   \n",
       "3   1024256003  Light denim blue  1024256      003  Slim fit   \n",
       "4   1024256004        Denim blue  1024256      004  Slim fit   \n",
       "5   1024256004        Denim blue  1024256      004  Slim fit   \n",
       "6   1024256005         Dark blue  1024256      005  Slim fit   \n",
       "7   1024256005         Dark blue  1024256      005  Slim fit   \n",
       "8   1024256006   Dark denim blue  1024256      006  Slim fit   \n",
       "9   1024256006   Dark denim blue  1024256      006  Slim fit   \n",
       "10  1024256007         Dark gray  1024256      007  Slim fit   \n",
       "11  1024256007         Dark gray  1024256      007  Slim fit   \n",
       "\n",
       "                                 Composition  \n",
       "0   Pocket lining: Polyester 65%, Cotton 35%  \n",
       "1              Shell: Cotton 99%, Spandex 1%  \n",
       "2   Pocket lining: Polyester 65%, Cotton 35%  \n",
       "3              Shell: Cotton 99%, Spandex 1%  \n",
       "4   Pocket lining: Polyester 65%, Cotton 35%  \n",
       "5              Shell: Cotton 99%, Spandex 1%  \n",
       "6   Pocket lining: Polyester 65%, Cotton 35%  \n",
       "7              Shell: Cotton 99%, Spandex 1%  \n",
       "8   Pocket lining: Polyester 65%, Cotton 35%  \n",
       "9              Shell: Cotton 99%, Spandex 1%  \n",
       "10  Pocket lining: Polyester 65%, Cotton 35%  \n",
       "11             Shell: Cotton 99%, Spandex 1%  "
      ]
     },
     "execution_count": 59,
     "metadata": {},
     "output_type": "execute_result"
    }
   ],
   "source": [
    "data_sku"
   ]
  },
  {
   "cell_type": "markdown",
   "id": "16aa4a1c",
   "metadata": {},
   "source": [
    "## <span style=\"color:#ff8000\">2. Multiple Products </span>"
   ]
  },
  {
   "cell_type": "code",
   "execution_count": 60,
   "id": "f35e101b",
   "metadata": {
    "ExecuteTime": {
     "end_time": "2022-01-29T16:15:50.923915Z",
     "start_time": "2022-01-29T16:15:50.915328Z"
    }
   },
   "outputs": [
    {
     "data": {
      "text/html": [
       "<div>\n",
       "<style scoped>\n",
       "    .dataframe tbody tr th:only-of-type {\n",
       "        vertical-align: middle;\n",
       "    }\n",
       "\n",
       "    .dataframe tbody tr th {\n",
       "        vertical-align: top;\n",
       "    }\n",
       "\n",
       "    .dataframe thead th {\n",
       "        text-align: right;\n",
       "    }\n",
       "</style>\n",
       "<table border=\"1\" class=\"dataframe\">\n",
       "  <thead>\n",
       "    <tr style=\"text-align: right;\">\n",
       "      <th></th>\n",
       "      <th>product_id</th>\n",
       "      <th>product_category</th>\n",
       "      <th>product_name</th>\n",
       "      <th>product_price</th>\n",
       "      <th>scrapy_datetime</th>\n",
       "    </tr>\n",
       "  </thead>\n",
       "  <tbody>\n",
       "    <tr>\n",
       "      <th>0</th>\n",
       "      <td>1008549001</td>\n",
       "      <td>men_jeans_regular</td>\n",
       "      <td>Regular Jeans</td>\n",
       "      <td>$ 19.99</td>\n",
       "      <td>2022-01-29 13:15:13</td>\n",
       "    </tr>\n",
       "    <tr>\n",
       "      <th>1</th>\n",
       "      <td>1013317006</td>\n",
       "      <td>men_jeans_regular</td>\n",
       "      <td>Hybrid Regular Tapered Joggers</td>\n",
       "      <td>$ 39.99</td>\n",
       "      <td>2022-01-29 13:15:13</td>\n",
       "    </tr>\n",
       "    <tr>\n",
       "      <th>2</th>\n",
       "      <td>0811993040</td>\n",
       "      <td>men_jeans_regular</td>\n",
       "      <td>Regular Jeans</td>\n",
       "      <td>$ 29.99</td>\n",
       "      <td>2022-01-29 13:15:13</td>\n",
       "    </tr>\n",
       "    <tr>\n",
       "      <th>3</th>\n",
       "      <td>1025726003</td>\n",
       "      <td>men_jeans_relaxed</td>\n",
       "      <td>Relaxed Jeans</td>\n",
       "      <td>$ 39.99</td>\n",
       "      <td>2022-01-29 13:15:13</td>\n",
       "    </tr>\n",
       "    <tr>\n",
       "      <th>4</th>\n",
       "      <td>0979945001</td>\n",
       "      <td>men_jeans_loose</td>\n",
       "      <td>Loose Jeans</td>\n",
       "      <td>$ 29.99</td>\n",
       "      <td>2022-01-29 13:15:13</td>\n",
       "    </tr>\n",
       "  </tbody>\n",
       "</table>\n",
       "</div>"
      ],
      "text/plain": [
       "   product_id   product_category                    product_name  \\\n",
       "0  1008549001  men_jeans_regular                   Regular Jeans   \n",
       "1  1013317006  men_jeans_regular  Hybrid Regular Tapered Joggers   \n",
       "2  0811993040  men_jeans_regular                   Regular Jeans   \n",
       "3  1025726003  men_jeans_relaxed                   Relaxed Jeans   \n",
       "4  0979945001    men_jeans_loose                     Loose Jeans   \n",
       "\n",
       "  product_price      scrapy_datetime  \n",
       "0       $ 19.99  2022-01-29 13:15:13  \n",
       "1       $ 39.99  2022-01-29 13:15:13  \n",
       "2       $ 29.99  2022-01-29 13:15:13  \n",
       "3       $ 39.99  2022-01-29 13:15:13  \n",
       "4       $ 29.99  2022-01-29 13:15:13  "
      ]
     },
     "execution_count": 60,
     "metadata": {},
     "output_type": "execute_result"
    }
   ],
   "source": [
    "data.head()"
   ]
  },
  {
   "cell_type": "code",
   "execution_count": 61,
   "id": "e512a3d4",
   "metadata": {
    "ExecuteTime": {
     "end_time": "2022-01-29T16:15:54.407300Z",
     "start_time": "2022-01-29T16:15:54.402307Z"
    }
   },
   "outputs": [
    {
     "name": "stdout",
     "output_type": "stream",
     "text": [
      "https://www2.hm.com/en_us/productpage.1008549001.html\n",
      "https://www2.hm.com/en_us/productpage.1013317006.html\n",
      "https://www2.hm.com/en_us/productpage.0811993040.html\n",
      "https://www2.hm.com/en_us/productpage.1025726003.html\n",
      "https://www2.hm.com/en_us/productpage.0979945001.html\n",
      "https://www2.hm.com/en_us/productpage.1008549004.html\n",
      "https://www2.hm.com/en_us/productpage.0875105016.html\n",
      "https://www2.hm.com/en_us/productpage.0875105018.html\n",
      "https://www2.hm.com/en_us/productpage.1013317002.html\n",
      "https://www2.hm.com/en_us/productpage.1025726002.html\n",
      "https://www2.hm.com/en_us/productpage.0979945002.html\n",
      "https://www2.hm.com/en_us/productpage.0811993037.html\n",
      "https://www2.hm.com/en_us/productpage.1024256001.html\n",
      "https://www2.hm.com/en_us/productpage.0985159001.html\n",
      "https://www2.hm.com/en_us/productpage.0690449056.html\n",
      "https://www2.hm.com/en_us/productpage.0690449043.html\n",
      "https://www2.hm.com/en_us/productpage.1004199005.html\n",
      "https://www2.hm.com/en_us/productpage.0690449022.html\n",
      "https://www2.hm.com/en_us/productpage.1008549006.html\n",
      "https://www2.hm.com/en_us/productpage.1024256003.html\n",
      "https://www2.hm.com/en_us/productpage.0985159004.html\n",
      "https://www2.hm.com/en_us/productpage.0985159008.html\n",
      "https://www2.hm.com/en_us/productpage.1024256004.html\n",
      "https://www2.hm.com/en_us/productpage.0690449051.html\n",
      "https://www2.hm.com/en_us/productpage.0690449036.html\n",
      "https://www2.hm.com/en_us/productpage.1008110001.html\n",
      "https://www2.hm.com/en_us/productpage.0985159006.html\n",
      "https://www2.hm.com/en_us/productpage.1008110002.html\n",
      "https://www2.hm.com/en_us/productpage.0875105023.html\n",
      "https://www2.hm.com/en_us/productpage.1024256007.html\n",
      "https://www2.hm.com/en_us/productpage.0985159002.html\n",
      "https://www2.hm.com/en_us/productpage.1008549002.html\n",
      "https://www2.hm.com/en_us/productpage.0985159005.html\n",
      "https://www2.hm.com/en_us/productpage.1004199002.html\n",
      "https://www2.hm.com/en_us/productpage.1004199003.html\n",
      "https://www2.hm.com/en_us/productpage.0875105024.html\n"
     ]
    }
   ],
   "source": [
    "# ===================================== TESTES ====================================\n",
    "for i in range(len(data)):\n",
    "\n",
    "    # API Requests\n",
    "    url = 'https://www2.hm.com/en_us/productpage.' + data.loc[i, 'product_id'] + '.html'\n",
    "    print(url)"
   ]
  },
  {
   "cell_type": "code",
   "execution_count": 63,
   "id": "e12dec44",
   "metadata": {
    "ExecuteTime": {
     "end_time": "2022-01-29T16:17:36.017571Z",
     "start_time": "2022-01-29T16:16:58.002532Z"
    }
   },
   "outputs": [],
   "source": [
    "headers = {'User-Agent': 'Mozilla/5.0 (Macintosh; Intel Mac OS X 10_11_5)AppleWebKit/537.36 (KHTML, like Gecko) Chrome/50.0.2661.102 Safari/537.36'}\n",
    "\n",
    "# empty data frame to store all the needed information\n",
    "df_details = pd.DataFrame()\n",
    "\n",
    "\n",
    "for i in range(len(data)):\n",
    "\n",
    "    # API Requests\n",
    "    url = 'https://www2.hm.com/en_us/productpage.' + data.loc[i, 'product_id'] + '.html'\n",
    "    page = requests.get( url, headers=headers )\n",
    "\n",
    "\n",
    "    # Beautiful Soup object\n",
    "    soup = BeautifulSoup(page.text, 'html.parser')\n",
    "\n",
    "    # ================== color name =====================================\n",
    "    product_list = soup.find_all('a', class_='filter-option miniature')\n",
    "    color_name = [p.get('data-color') for p in product_list]\n",
    "\n",
    "    # color name\n",
    "    product_color_list = soup.find_all('a', class_='filter-option miniature')\n",
    "    color_name = [p.get('data-color') for p in product_color_list]\n",
    "\n",
    "    # product_id\n",
    "    product_id = [p.get('data-articlecode') for p in product_color_list]\n",
    "\n",
    "    df_color = pd.DataFrame([product_id, color_name]).T\n",
    "    df_color.columns = ['product_id', 'color_name']\n",
    "\n",
    "    # generate style id + color id\n",
    "    df_color['style_id'] = df_color['product_id'].apply(lambda x: x[:-3])\n",
    "    df_color['color_id'] = df_color['product_id'].apply(lambda x: x[-3:])\n",
    "\n",
    "    # ================== composition =====================================\n",
    "    product_composition_list = soup.find_all('div', class_='pdp-description-list-item')\n",
    "    product_composition = [list(filter(None, p.get_text().split('\\n'))) for p in product_composition_list]\n",
    "\n",
    "\n",
    "    # rename dataframe\n",
    "    df_composition = pd.DataFrame(product_composition).T\n",
    "    df_composition.columns = df_composition.iloc[0]\n",
    "\n",
    "\n",
    "    # delete first row\n",
    "    df_composition = df_composition.iloc[1:].fillna(method='ffill')\n",
    "    df_composition = df_composition[['Fit', 'Composition', 'Art. No.']]\n",
    "\n",
    "    # generate style id + color id\n",
    "    df_composition['style_id'] = df_composition['Art. No.'].apply(lambda x: x[:-3])\n",
    "    df_composition['color_id'] = df_composition['Art. No.'].apply(lambda x: x[-3:])\n",
    "\n",
    "    # Merge data color + composition\n",
    "    data_sku = pd.merge(df_color, df_composition[['style_id', 'Fit', 'Composition']], how='left', on='style_id')\n",
    "    \n",
    "    # Products' details\n",
    "    df_details = pd.concat([df_details, data_sku], axis=0)\n",
    "    \n",
    "# Join showroom data + details\n",
    "data['style_id'] = data['product_id'].apply(lambda x: x[:-3])\n",
    "data['color_id'] = data['product_id'].apply(lambda x: x[-3:])\n",
    "\n",
    "data_raw = pd.merge(data, df_details[['style_id', 'color_name', 'Fit', 'Composition']], how='left', on='style_id')\n"
   ]
  },
  {
   "cell_type": "code",
   "execution_count": 64,
   "id": "f7fa2d3b",
   "metadata": {
    "ExecuteTime": {
     "end_time": "2022-01-29T16:19:47.638301Z",
     "start_time": "2022-01-29T16:19:47.609347Z"
    }
   },
   "outputs": [
    {
     "data": {
      "text/html": [
       "<div>\n",
       "<style scoped>\n",
       "    .dataframe tbody tr th:only-of-type {\n",
       "        vertical-align: middle;\n",
       "    }\n",
       "\n",
       "    .dataframe tbody tr th {\n",
       "        vertical-align: top;\n",
       "    }\n",
       "\n",
       "    .dataframe thead th {\n",
       "        text-align: right;\n",
       "    }\n",
       "</style>\n",
       "<table border=\"1\" class=\"dataframe\">\n",
       "  <thead>\n",
       "    <tr style=\"text-align: right;\">\n",
       "      <th></th>\n",
       "      <th>product_id</th>\n",
       "      <th>product_category</th>\n",
       "      <th>product_name</th>\n",
       "      <th>product_price</th>\n",
       "      <th>scrapy_datetime</th>\n",
       "      <th>style_id</th>\n",
       "      <th>color_id</th>\n",
       "      <th>color_name</th>\n",
       "      <th>Fit</th>\n",
       "      <th>Composition</th>\n",
       "    </tr>\n",
       "  </thead>\n",
       "  <tbody>\n",
       "    <tr>\n",
       "      <th>0</th>\n",
       "      <td>1008549001</td>\n",
       "      <td>men_jeans_regular</td>\n",
       "      <td>Regular Jeans</td>\n",
       "      <td>$ 19.99</td>\n",
       "      <td>2022-01-29 13:15:13</td>\n",
       "      <td>1008549</td>\n",
       "      <td>001</td>\n",
       "      <td>Denim blue</td>\n",
       "      <td>Regular fit</td>\n",
       "      <td>Shell: Cotton 98%, Spandex 2%</td>\n",
       "    </tr>\n",
       "    <tr>\n",
       "      <th>1</th>\n",
       "      <td>1008549001</td>\n",
       "      <td>men_jeans_regular</td>\n",
       "      <td>Regular Jeans</td>\n",
       "      <td>$ 19.99</td>\n",
       "      <td>2022-01-29 13:15:13</td>\n",
       "      <td>1008549</td>\n",
       "      <td>001</td>\n",
       "      <td>Denim blue</td>\n",
       "      <td>Regular fit</td>\n",
       "      <td>Pocket lining: Polyester 65%, Cotton 35%</td>\n",
       "    </tr>\n",
       "    <tr>\n",
       "      <th>2</th>\n",
       "      <td>1008549001</td>\n",
       "      <td>men_jeans_regular</td>\n",
       "      <td>Regular Jeans</td>\n",
       "      <td>$ 19.99</td>\n",
       "      <td>2022-01-29 13:15:13</td>\n",
       "      <td>1008549</td>\n",
       "      <td>001</td>\n",
       "      <td>Dark blue</td>\n",
       "      <td>Regular fit</td>\n",
       "      <td>Shell: Cotton 98%, Spandex 2%</td>\n",
       "    </tr>\n",
       "    <tr>\n",
       "      <th>3</th>\n",
       "      <td>1008549001</td>\n",
       "      <td>men_jeans_regular</td>\n",
       "      <td>Regular Jeans</td>\n",
       "      <td>$ 19.99</td>\n",
       "      <td>2022-01-29 13:15:13</td>\n",
       "      <td>1008549</td>\n",
       "      <td>001</td>\n",
       "      <td>Dark blue</td>\n",
       "      <td>Regular fit</td>\n",
       "      <td>Pocket lining: Polyester 65%, Cotton 35%</td>\n",
       "    </tr>\n",
       "    <tr>\n",
       "      <th>4</th>\n",
       "      <td>1008549001</td>\n",
       "      <td>men_jeans_regular</td>\n",
       "      <td>Regular Jeans</td>\n",
       "      <td>$ 19.99</td>\n",
       "      <td>2022-01-29 13:15:13</td>\n",
       "      <td>1008549</td>\n",
       "      <td>001</td>\n",
       "      <td>Black</td>\n",
       "      <td>Regular fit</td>\n",
       "      <td>Shell: Cotton 98%, Spandex 2%</td>\n",
       "    </tr>\n",
       "  </tbody>\n",
       "</table>\n",
       "</div>"
      ],
      "text/plain": [
       "   product_id   product_category   product_name product_price  \\\n",
       "0  1008549001  men_jeans_regular  Regular Jeans       $ 19.99   \n",
       "1  1008549001  men_jeans_regular  Regular Jeans       $ 19.99   \n",
       "2  1008549001  men_jeans_regular  Regular Jeans       $ 19.99   \n",
       "3  1008549001  men_jeans_regular  Regular Jeans       $ 19.99   \n",
       "4  1008549001  men_jeans_regular  Regular Jeans       $ 19.99   \n",
       "\n",
       "       scrapy_datetime style_id color_id  color_name          Fit  \\\n",
       "0  2022-01-29 13:15:13  1008549      001  Denim blue  Regular fit   \n",
       "1  2022-01-29 13:15:13  1008549      001  Denim blue  Regular fit   \n",
       "2  2022-01-29 13:15:13  1008549      001   Dark blue  Regular fit   \n",
       "3  2022-01-29 13:15:13  1008549      001   Dark blue  Regular fit   \n",
       "4  2022-01-29 13:15:13  1008549      001       Black  Regular fit   \n",
       "\n",
       "                                Composition  \n",
       "0             Shell: Cotton 98%, Spandex 2%  \n",
       "1  Pocket lining: Polyester 65%, Cotton 35%  \n",
       "2             Shell: Cotton 98%, Spandex 2%  \n",
       "3  Pocket lining: Polyester 65%, Cotton 35%  \n",
       "4             Shell: Cotton 98%, Spandex 2%  "
      ]
     },
     "execution_count": 64,
     "metadata": {},
     "output_type": "execute_result"
    }
   ],
   "source": [
    "data_raw.head()"
   ]
  },
  {
   "cell_type": "code",
   "execution_count": 65,
   "id": "f24d04e9",
   "metadata": {
    "ExecuteTime": {
     "end_time": "2022-01-29T16:20:19.876919Z",
     "start_time": "2022-01-29T16:20:19.815873Z"
    }
   },
   "outputs": [],
   "source": [
    "# Salvando a base de dados em csv\n",
    "data_raw.to_csv('products_hm.csv')"
   ]
  },
  {
   "cell_type": "code",
   "execution_count": null,
   "id": "4e243e1a",
   "metadata": {},
   "outputs": [],
   "source": []
  }
 ],
 "metadata": {
  "kernelspec": {
   "display_name": "Python 3 (ipykernel)",
   "language": "python",
   "name": "python3"
  },
  "language_info": {
   "codemirror_mode": {
    "name": "ipython",
    "version": 3
   },
   "file_extension": ".py",
   "mimetype": "text/x-python",
   "name": "python",
   "nbconvert_exporter": "python",
   "pygments_lexer": "ipython3",
   "version": "3.9.7"
  }
 },
 "nbformat": 4,
 "nbformat_minor": 5
}
