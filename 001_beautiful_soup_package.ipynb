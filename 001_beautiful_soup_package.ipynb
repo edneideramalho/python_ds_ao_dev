{
 "cells": [
  {
   "cell_type": "markdown",
   "id": "ab445048",
   "metadata": {
    "heading_collapsed": true
   },
   "source": [
    "# <span style=\"color:#3399ff\">Beautiful Soup - Exemplos</span>"
   ]
  },
  {
   "cell_type": "code",
   "execution_count": null,
   "id": "e8aa7d87",
   "metadata": {
    "ExecuteTime": {
     "end_time": "2022-01-17T11:33:20.493880Z",
     "start_time": "2022-01-17T11:33:20.395371Z"
    },
    "hidden": true
   },
   "outputs": [],
   "source": [
    "from bs4 import BeautifulSoup\n",
    "import requests\n",
    "import pandas as pd\n",
    "from datetime import datetime \n",
    "import numpy as np"
   ]
  },
  {
   "cell_type": "code",
   "execution_count": null,
   "id": "ae1d3cae",
   "metadata": {
    "ExecuteTime": {
     "end_time": "2022-01-17T11:33:20.510111Z",
     "start_time": "2022-01-17T11:33:20.500135Z"
    },
    "hidden": true
   },
   "outputs": [],
   "source": [
    "html_doc = \"\"\"<html><head><title>The Dormouse's story</title></head>\n",
    "<body>\n",
    "<p class=\"title\"><b>The Dormouse's story</b></p>\n",
    "\n",
    "<p class=\"story\">Once upon a time there were three little sisters; and their names were\n",
    "<a href=\"http://example.com/elsie\" class=\"sister\" id=\"link1\">Elsie</a>,\n",
    "<a href=\"http://example.com/lacie\" class=\"sister\" id=\"link2\">Lacie</a> and\n",
    "<a href=\"http://example.com/tillie\" class=\"sister\" id=\"link3\">Tillie</a>;\n",
    "and they lived at the bottom of a well.</p>\n",
    "\n",
    "<p class=\"story\">...</p>\n",
    "\"\"\""
   ]
  },
  {
   "cell_type": "code",
   "execution_count": null,
   "id": "566e28d7",
   "metadata": {
    "ExecuteTime": {
     "end_time": "2022-01-17T11:33:20.646925Z",
     "start_time": "2022-01-17T11:33:20.615412Z"
    },
    "hidden": true
   },
   "outputs": [],
   "source": [
    "soup = BeautifulSoup(html_doc, 'html.parser')"
   ]
  },
  {
   "cell_type": "code",
   "execution_count": null,
   "id": "e40beb83",
   "metadata": {
    "ExecuteTime": {
     "end_time": "2022-01-17T11:33:20.858697Z",
     "start_time": "2022-01-17T11:33:20.839723Z"
    },
    "hidden": true
   },
   "outputs": [],
   "source": [
    "soup"
   ]
  },
  {
   "cell_type": "code",
   "execution_count": null,
   "id": "fb222f71",
   "metadata": {
    "ExecuteTime": {
     "end_time": "2022-01-17T11:33:21.052503Z",
     "start_time": "2022-01-17T11:33:21.044316Z"
    },
    "hidden": true
   },
   "outputs": [],
   "source": [
    "print(soup.title)"
   ]
  },
  {
   "cell_type": "code",
   "execution_count": null,
   "id": "5385b118",
   "metadata": {
    "ExecuteTime": {
     "end_time": "2022-01-17T11:33:21.271149Z",
     "start_time": "2022-01-17T11:33:21.267586Z"
    },
    "hidden": true
   },
   "outputs": [],
   "source": [
    "print(soup.head)"
   ]
  },
  {
   "cell_type": "code",
   "execution_count": null,
   "id": "3592fccf",
   "metadata": {
    "ExecuteTime": {
     "end_time": "2022-01-17T11:33:21.477765Z",
     "start_time": "2022-01-17T11:33:21.472964Z"
    },
    "hidden": true
   },
   "outputs": [],
   "source": [
    "print(soup.body.p)"
   ]
  },
  {
   "cell_type": "code",
   "execution_count": null,
   "id": "5ae7d0ac",
   "metadata": {
    "ExecuteTime": {
     "end_time": "2022-01-17T11:33:21.679204Z",
     "start_time": "2022-01-17T11:33:21.672081Z"
    },
    "hidden": true
   },
   "outputs": [],
   "source": [
    "soup.find_all('p')"
   ]
  },
  {
   "cell_type": "code",
   "execution_count": null,
   "id": "61367b18",
   "metadata": {
    "ExecuteTime": {
     "end_time": "2022-01-17T11:33:21.846762Z",
     "start_time": "2022-01-17T11:33:21.841475Z"
    },
    "hidden": true
   },
   "outputs": [],
   "source": [
    "soup.find_all('p', 'title')"
   ]
  },
  {
   "cell_type": "code",
   "execution_count": null,
   "id": "8cc5e5ef",
   "metadata": {
    "ExecuteTime": {
     "end_time": "2022-01-17T11:33:22.038523Z",
     "start_time": "2022-01-17T11:33:22.034247Z"
    },
    "hidden": true
   },
   "outputs": [],
   "source": [
    "soup.find_all('p', class_='story')"
   ]
  },
  {
   "cell_type": "code",
   "execution_count": null,
   "id": "7dcb4b6e",
   "metadata": {
    "ExecuteTime": {
     "end_time": "2022-01-17T11:33:22.229749Z",
     "start_time": "2022-01-17T11:33:22.224563Z"
    },
    "hidden": true
   },
   "outputs": [],
   "source": [
    "soup.find_all('a', class_='sister')"
   ]
  },
  {
   "cell_type": "code",
   "execution_count": null,
   "id": "033ed871",
   "metadata": {
    "ExecuteTime": {
     "end_time": "2022-01-17T11:33:22.447561Z",
     "start_time": "2022-01-17T11:33:22.440944Z"
    },
    "hidden": true
   },
   "outputs": [],
   "source": [
    "soup.find_all('a', id='link1')"
   ]
  },
  {
   "cell_type": "code",
   "execution_count": null,
   "id": "c44453f2",
   "metadata": {
    "ExecuteTime": {
     "end_time": "2022-01-17T11:33:22.712646Z",
     "start_time": "2022-01-17T11:33:22.708189Z"
    },
    "hidden": true
   },
   "outputs": [],
   "source": [
    "soup.find_all('a', id='link1')[0].string"
   ]
  },
  {
   "cell_type": "code",
   "execution_count": null,
   "id": "101c3276",
   "metadata": {
    "ExecuteTime": {
     "end_time": "2022-01-17T11:33:23.021011Z",
     "start_time": "2022-01-17T11:33:23.015617Z"
    },
    "hidden": true
   },
   "outputs": [],
   "source": [
    "soup.find_all('a', id='link1')[0].get_text()"
   ]
  },
  {
   "cell_type": "markdown",
   "id": "eaa7d94a",
   "metadata": {},
   "source": [
    "# <span style=\"color:#3399ff\">Beautiful Soup - Prática I</span>"
   ]
  },
  {
   "cell_type": "code",
   "execution_count": null,
   "id": "d0b8b9cd",
   "metadata": {
    "ExecuteTime": {
     "end_time": "2022-01-17T11:33:23.623469Z",
     "start_time": "2022-01-17T11:33:23.620955Z"
    }
   },
   "outputs": [],
   "source": [
    "# id\n",
    "# product_name\n",
    "# product_type\n",
    "# product_composition\n",
    "# preco"
   ]
  },
  {
   "cell_type": "code",
   "execution_count": null,
   "id": "5e466fe7",
   "metadata": {
    "ExecuteTime": {
     "end_time": "2022-01-17T11:33:27.119852Z",
     "start_time": "2022-01-17T11:33:24.016369Z"
    }
   },
   "outputs": [],
   "source": [
    "url = 'https://www2.hm.com/en_us/men/products/jeans.html'\n",
    "\n",
    "headers = {'User-Agent': 'Mozilla/5.0 (Macintosh; Intel Mac OS X 10_11_5) AppleWebKit/537.36 (KHTML, like Gecko) Chrome/50.0.2661.102 Safari/537.36'}\n",
    "page = requests.get(url, headers=headers)"
   ]
  },
  {
   "cell_type": "code",
   "execution_count": null,
   "id": "a92bbfe6",
   "metadata": {
    "ExecuteTime": {
     "end_time": "2022-01-17T11:33:27.399502Z",
     "start_time": "2022-01-17T11:33:27.121976Z"
    }
   },
   "outputs": [],
   "source": [
    "soup = BeautifulSoup(page.text, 'html.parser')"
   ]
  },
  {
   "cell_type": "code",
   "execution_count": null,
   "id": "6236c76c",
   "metadata": {
    "ExecuteTime": {
     "end_time": "2022-01-17T11:33:27.409577Z",
     "start_time": "2022-01-17T11:33:27.400702Z"
    }
   },
   "outputs": [],
   "source": [
    "products = soup.find('ul', class_='products-listing small')"
   ]
  },
  {
   "cell_type": "code",
   "execution_count": null,
   "id": "a89bdae3",
   "metadata": {
    "ExecuteTime": {
     "end_time": "2022-01-17T11:33:27.416531Z",
     "start_time": "2022-01-17T11:33:27.411943Z"
    }
   },
   "outputs": [],
   "source": [
    "product_list = products.find_all('article', class_='hm-product-item')"
   ]
  },
  {
   "cell_type": "code",
   "execution_count": null,
   "id": "1d3f0d41",
   "metadata": {
    "ExecuteTime": {
     "end_time": "2022-01-17T11:33:27.421431Z",
     "start_time": "2022-01-17T11:33:27.417992Z"
    }
   },
   "outputs": [],
   "source": [
    "len(product_list)"
   ]
  },
  {
   "cell_type": "code",
   "execution_count": null,
   "id": "13c07f27",
   "metadata": {
    "ExecuteTime": {
     "end_time": "2022-01-17T11:33:27.427235Z",
     "start_time": "2022-01-17T11:33:27.422935Z"
    }
   },
   "outputs": [],
   "source": [
    "# product_id\n",
    "product_id = [p.get('data-articlecode') for p in product_list]\n",
    "\n",
    "# product_category\n",
    "product_category = [p.get('data-category') for p in product_list]"
   ]
  },
  {
   "cell_type": "code",
   "execution_count": null,
   "id": "6709fa10",
   "metadata": {
    "ExecuteTime": {
     "end_time": "2022-01-17T11:33:27.434134Z",
     "start_time": "2022-01-17T11:33:27.428454Z"
    }
   },
   "outputs": [],
   "source": [
    "# product_name\n",
    "product_list = products.find_all('a', class_='link')\n",
    "product_name = [p.get_text() for p in product_list] "
   ]
  },
  {
   "cell_type": "code",
   "execution_count": null,
   "id": "d98e6bc7",
   "metadata": {
    "ExecuteTime": {
     "end_time": "2022-01-17T11:33:27.440927Z",
     "start_time": "2022-01-17T11:33:27.435621Z"
    }
   },
   "outputs": [],
   "source": [
    "# product_price\n",
    "product_list = products.find_all('span', class_='price regular')\n",
    "product_price = [p.get_text() for p in product_list]"
   ]
  },
  {
   "cell_type": "code",
   "execution_count": null,
   "id": "3c2aff7a",
   "metadata": {
    "ExecuteTime": {
     "end_time": "2022-01-17T11:33:27.501598Z",
     "start_time": "2022-01-17T11:33:27.442409Z"
    }
   },
   "outputs": [],
   "source": [
    "data = pd.DataFrame([product_id , product_category, product_name, product_price]).T\n",
    "data.columns = ['product_id' , 'product_category', 'product_name', 'product_price']\n",
    "data.head()"
   ]
  },
  {
   "cell_type": "code",
   "execution_count": null,
   "id": "8371e161",
   "metadata": {
    "ExecuteTime": {
     "end_time": "2022-01-17T11:33:27.510165Z",
     "start_time": "2022-01-17T11:33:27.504451Z"
    }
   },
   "outputs": [],
   "source": [
    "# scrapy datetime\n",
    "data['scrapy_datetime'] = datetime.now().strftime('%Y-%m-%d %H:%M:%S')"
   ]
  },
  {
   "cell_type": "code",
   "execution_count": null,
   "id": "c5ad2dcb",
   "metadata": {
    "ExecuteTime": {
     "end_time": "2022-01-17T11:33:27.847210Z",
     "start_time": "2022-01-17T11:33:27.838935Z"
    }
   },
   "outputs": [],
   "source": [
    "data.head()"
   ]
  },
  {
   "cell_type": "markdown",
   "id": "5e238dcc",
   "metadata": {},
   "source": [
    "# <span style=\"color:#3399ff\">Beautiful Soup - Prática II</span>"
   ]
  },
  {
   "cell_type": "markdown",
   "id": "2d021627",
   "metadata": {},
   "source": [
    "- Sempre olhar a paginação na vitrine de produtos."
   ]
  },
  {
   "cell_type": "code",
   "execution_count": null,
   "id": "4c67492c",
   "metadata": {
    "ExecuteTime": {
     "end_time": "2022-01-17T11:33:29.965077Z",
     "start_time": "2022-01-17T11:33:29.325974Z"
    }
   },
   "outputs": [],
   "source": [
    "url = 'https://www2.hm.com/en_us/men/products/jeans.html'\n",
    "headers = {'User-Agent': 'Mozilla/5.0 (Macintosh; Intel Mac OS X 10_11_5) AppleWebKit/537.36 (KHTML, like Gecko) Chrome/50.0.2661.102 Safari/537.36'}\n",
    "page = requests.get(url, headers=headers)"
   ]
  },
  {
   "cell_type": "code",
   "execution_count": null,
   "id": "3c97e8f6",
   "metadata": {
    "ExecuteTime": {
     "end_time": "2022-01-17T11:33:30.142923Z",
     "start_time": "2022-01-17T11:33:29.967235Z"
    }
   },
   "outputs": [],
   "source": [
    "soup = BeautifulSoup(page.text, 'html.parser')"
   ]
  },
  {
   "cell_type": "code",
   "execution_count": null,
   "id": "280b92d6",
   "metadata": {
    "ExecuteTime": {
     "end_time": "2022-01-17T11:33:30.234418Z",
     "start_time": "2022-01-17T11:33:30.222402Z"
    }
   },
   "outputs": [],
   "source": [
    "total_item = soup.find_all('h2', class_='load-more-heading')[0].get('data-total')"
   ]
  },
  {
   "cell_type": "code",
   "execution_count": null,
   "id": "4a7e270c",
   "metadata": {
    "ExecuteTime": {
     "end_time": "2022-01-17T11:33:30.634974Z",
     "start_time": "2022-01-17T11:33:30.631143Z"
    }
   },
   "outputs": [],
   "source": [
    "total_item"
   ]
  },
  {
   "cell_type": "code",
   "execution_count": null,
   "id": "f0e16839",
   "metadata": {
    "ExecuteTime": {
     "end_time": "2022-01-17T11:33:31.105811Z",
     "start_time": "2022-01-17T11:33:31.100279Z"
    }
   },
   "outputs": [],
   "source": [
    "int(total_item)"
   ]
  },
  {
   "cell_type": "markdown",
   "id": "2f2600c1",
   "metadata": {},
   "source": [
    "- De quantas páginas preciso para capturar todos os itens?"
   ]
  },
  {
   "cell_type": "code",
   "execution_count": null,
   "id": "a3a49162",
   "metadata": {
    "ExecuteTime": {
     "end_time": "2022-01-17T11:33:32.376559Z",
     "start_time": "2022-01-17T11:33:32.368407Z"
    }
   },
   "outputs": [],
   "source": [
    "page_number = np.round(int(total_item)/36)\n",
    "page_number"
   ]
  },
  {
   "cell_type": "code",
   "execution_count": null,
   "id": "75907b2b",
   "metadata": {
    "ExecuteTime": {
     "end_time": "2022-01-17T11:33:33.125299Z",
     "start_time": "2022-01-17T11:33:33.121398Z"
    }
   },
   "outputs": [],
   "source": [
    "url02 = url + '?page-size=' + str(int(page_number*36))\n",
    "url02"
   ]
  },
  {
   "cell_type": "markdown",
   "id": "35dfce0d",
   "metadata": {},
   "source": [
    "# <span style=\"color:#3399ff\">Beautiful Soup - Prática III</span>"
   ]
  },
  {
   "cell_type": "markdown",
   "id": "83201ea0",
   "metadata": {},
   "source": [
    "- Aqui, vamos coletar as informações para cada produto."
   ]
  },
  {
   "cell_type": "markdown",
   "id": "7c184d3e",
   "metadata": {},
   "source": [
    "- Fazendo para um produto para testar:"
   ]
  },
  {
   "cell_type": "code",
   "execution_count": null,
   "id": "5ad9215d",
   "metadata": {
    "ExecuteTime": {
     "end_time": "2022-01-17T14:17:12.653100Z",
     "start_time": "2022-01-17T14:17:10.618273Z"
    }
   },
   "outputs": [],
   "source": [
    "url = 'https://www2.hm.com/en_us/productpage.1024256001.html'\n",
    "    \n",
    "headers = {'User-Agent': 'Mozilla/5.0 (Macintosh; Intel Mac OS X 10_11_5) AppleWebKit/537.36 (KHTML, like Gecko) Chrome/50.0.2661.102 Safari/537.36'}\n",
    "page = requests.get(url, headers=headers)"
   ]
  },
  {
   "cell_type": "code",
   "execution_count": null,
   "id": "f8658620",
   "metadata": {
    "ExecuteTime": {
     "end_time": "2022-01-17T14:17:12.760442Z",
     "start_time": "2022-01-17T14:17:12.655031Z"
    }
   },
   "outputs": [],
   "source": [
    "soup = BeautifulSoup(page.text, 'html.parser')"
   ]
  },
  {
   "cell_type": "code",
   "execution_count": null,
   "id": "3f8039d2",
   "metadata": {
    "ExecuteTime": {
     "end_time": "2022-01-17T14:17:12.765356Z",
     "start_time": "2022-01-17T14:17:12.762006Z"
    }
   },
   "outputs": [],
   "source": [
    "type(soup)"
   ]
  },
  {
   "cell_type": "code",
   "execution_count": null,
   "id": "66592c50",
   "metadata": {
    "ExecuteTime": {
     "end_time": "2022-01-17T14:17:12.777363Z",
     "start_time": "2022-01-17T14:17:12.767488Z"
    }
   },
   "outputs": [],
   "source": [
    "# color name - primeira posição\n",
    "soup.find_all('a', class_='filter-option miniature')[0].get('data-color')"
   ]
  },
  {
   "cell_type": "code",
   "execution_count": null,
   "id": "17eba038",
   "metadata": {
    "ExecuteTime": {
     "end_time": "2022-01-17T14:17:12.795602Z",
     "start_time": "2022-01-17T14:17:12.778463Z"
    }
   },
   "outputs": [],
   "source": [
    "# color name\n",
    "product_color_list = soup.find_all('a', class_='filter-option miniature')\n",
    "color_name = [p.get('data-color') for p in product_color_list]\n",
    "\n",
    "# product_id\n",
    "product_id = [p.get('data-articlecode') for p in product_color_list]\n",
    "\n",
    "df_color = pd.DataFrame([product_id, color_name]).T\n",
    "df_color.columns = ['product_id', 'color_name']\n",
    "df_color"
   ]
  },
  {
   "cell_type": "code",
   "execution_count": null,
   "id": "4a53c5e3",
   "metadata": {
    "ExecuteTime": {
     "end_time": "2022-01-17T14:17:12.801020Z",
     "start_time": "2022-01-17T14:17:12.796953Z"
    }
   },
   "outputs": [],
   "source": [
    "product_color_list[0]"
   ]
  },
  {
   "cell_type": "code",
   "execution_count": null,
   "id": "43258381",
   "metadata": {
    "ExecuteTime": {
     "end_time": "2022-01-17T14:17:12.805516Z",
     "start_time": "2022-01-17T14:17:12.802418Z"
    }
   },
   "outputs": [],
   "source": [
    "color_name"
   ]
  },
  {
   "cell_type": "code",
   "execution_count": null,
   "id": "74b24ff4",
   "metadata": {
    "ExecuteTime": {
     "end_time": "2022-01-17T14:17:12.809778Z",
     "start_time": "2022-01-17T14:17:12.806779Z"
    }
   },
   "outputs": [],
   "source": [
    "product_id"
   ]
  },
  {
   "cell_type": "code",
   "execution_count": null,
   "id": "3f501423",
   "metadata": {
    "ExecuteTime": {
     "end_time": "2022-01-17T14:17:12.820068Z",
     "start_time": "2022-01-17T14:17:12.811160Z"
    }
   },
   "outputs": [],
   "source": [
    "# composition\n",
    "soup.find_all('div', class_='pdp-description-list-item')"
   ]
  },
  {
   "cell_type": "code",
   "execution_count": null,
   "id": "5fe500a8",
   "metadata": {
    "ExecuteTime": {
     "end_time": "2022-01-17T14:17:12.831667Z",
     "start_time": "2022-01-17T14:17:12.823325Z"
    }
   },
   "outputs": [],
   "source": [
    "type(soup.find_all('div', class_='pdp-description-list-item')[1])"
   ]
  },
  {
   "cell_type": "code",
   "execution_count": null,
   "id": "b99346b7",
   "metadata": {
    "ExecuteTime": {
     "end_time": "2022-01-17T14:17:12.903800Z",
     "start_time": "2022-01-17T14:17:12.894374Z"
    }
   },
   "outputs": [],
   "source": [
    "soup.find_all('div', class_='pdp-description-list-item')[1].get_text().split('\\n')"
   ]
  },
  {
   "cell_type": "markdown",
   "id": "796ef4af",
   "metadata": {},
   "source": [
    "- **Retirando essas posições vazias:**"
   ]
  },
  {
   "cell_type": "code",
   "execution_count": null,
   "id": "5ae5f168",
   "metadata": {
    "ExecuteTime": {
     "end_time": "2022-01-17T14:17:13.688793Z",
     "start_time": "2022-01-17T14:17:13.678500Z"
    }
   },
   "outputs": [],
   "source": [
    "list(filter(None, soup.find_all('div', class_='pdp-description-list-item')[1].get_text().split('\\n')))"
   ]
  },
  {
   "cell_type": "markdown",
   "id": "3df9ca16",
   "metadata": {},
   "source": [
    "- **Construindo linha e coluna:**"
   ]
  },
  {
   "cell_type": "code",
   "execution_count": 3,
   "id": "57094f6e",
   "metadata": {
    "ExecuteTime": {
     "end_time": "2022-01-17T14:49:47.723054Z",
     "start_time": "2022-01-17T14:49:47.699877Z"
    }
   },
   "outputs": [
    {
     "data": {
      "text/html": [
       "<div>\n",
       "<style scoped>\n",
       "    .dataframe tbody tr th:only-of-type {\n",
       "        vertical-align: middle;\n",
       "    }\n",
       "\n",
       "    .dataframe tbody tr th {\n",
       "        vertical-align: top;\n",
       "    }\n",
       "\n",
       "    .dataframe thead th {\n",
       "        text-align: right;\n",
       "    }\n",
       "</style>\n",
       "<table border=\"1\" class=\"dataframe\">\n",
       "  <thead>\n",
       "    <tr style=\"text-align: right;\">\n",
       "      <th></th>\n",
       "      <th>0</th>\n",
       "      <th>1</th>\n",
       "      <th>2</th>\n",
       "      <th>3</th>\n",
       "    </tr>\n",
       "  </thead>\n",
       "  <tbody>\n",
       "    <tr>\n",
       "      <th>0</th>\n",
       "      <td>Size</td>\n",
       "      <td>Fit</td>\n",
       "      <td>Composition</td>\n",
       "      <td>Art. No.</td>\n",
       "    </tr>\n",
       "    <tr>\n",
       "      <th>1</th>\n",
       "      <td>The model is 185cm/6'1\" and wears a size 31/32</td>\n",
       "      <td>Slim fit</td>\n",
       "      <td>Pocket lining: Polyester 65%, Cotton 35%</td>\n",
       "      <td>1024256001</td>\n",
       "    </tr>\n",
       "    <tr>\n",
       "      <th>2</th>\n",
       "      <td>None</td>\n",
       "      <td>None</td>\n",
       "      <td>Shell: Cotton 99%, Spandex 1%</td>\n",
       "      <td>None</td>\n",
       "    </tr>\n",
       "  </tbody>\n",
       "</table>\n",
       "</div>"
      ],
      "text/plain": [
       "                                                0         1  \\\n",
       "0                                            Size       Fit   \n",
       "1  The model is 185cm/6'1\" and wears a size 31/32  Slim fit   \n",
       "2                                            None      None   \n",
       "\n",
       "                                          2           3  \n",
       "0                               Composition    Art. No.  \n",
       "1  Pocket lining: Polyester 65%, Cotton 35%  1024256001  \n",
       "2             Shell: Cotton 99%, Spandex 1%        None  "
      ]
     },
     "execution_count": 3,
     "metadata": {},
     "output_type": "execute_result"
    }
   ],
   "source": [
    "product_composition_list = soup.find_all('div', class_='pdp-description-list-item')\n",
    "product_composition = [list(filter(None, p.get_text().split('\\n'))) for p in product_composition_list]\n",
    "df_aux = pd.DataFrame(product_composition).T\n",
    "df_aux"
   ]
  },
  {
   "cell_type": "code",
   "execution_count": null,
   "id": "bba89ef3",
   "metadata": {
    "ExecuteTime": {
     "end_time": "2022-01-17T14:17:14.667593Z",
     "start_time": "2022-01-17T14:17:14.662674Z"
    }
   },
   "outputs": [],
   "source": [
    "df_aux.iloc[0]"
   ]
  },
  {
   "cell_type": "code",
   "execution_count": null,
   "id": "ae5d3be5",
   "metadata": {
    "ExecuteTime": {
     "end_time": "2022-01-17T14:17:16.634534Z",
     "start_time": "2022-01-17T14:17:16.627313Z"
    }
   },
   "outputs": [],
   "source": [
    "# rename data frame\n",
    "df_aux.columns = df_aux.iloc[0]\n",
    "df_aux"
   ]
  },
  {
   "cell_type": "code",
   "execution_count": null,
   "id": "62f3d65e",
   "metadata": {
    "ExecuteTime": {
     "end_time": "2022-01-17T14:17:16.930714Z",
     "start_time": "2022-01-17T14:17:16.921628Z"
    }
   },
   "outputs": [],
   "source": [
    "# delete first row\n",
    "df_aux = df_aux.iloc[1:].copy().reset_index()\n",
    "df_aux"
   ]
  },
  {
   "cell_type": "code",
   "execution_count": null,
   "id": "bcca59da",
   "metadata": {
    "ExecuteTime": {
     "end_time": "2022-01-17T14:17:17.649940Z",
     "start_time": "2022-01-17T14:17:17.641997Z"
    }
   },
   "outputs": [],
   "source": [
    "df_aux = df_aux[['Fit', 'Composition', 'Art. No.']]\n",
    "df_aux"
   ]
  },
  {
   "cell_type": "markdown",
   "id": "7c451d26",
   "metadata": {},
   "source": [
    "- **Substituindo o None:**"
   ]
  },
  {
   "cell_type": "code",
   "execution_count": null,
   "id": "6177d42c",
   "metadata": {
    "ExecuteTime": {
     "end_time": "2022-01-17T14:17:23.807198Z",
     "start_time": "2022-01-17T14:17:23.799689Z"
    }
   },
   "outputs": [],
   "source": [
    "df_aux"
   ]
  },
  {
   "cell_type": "code",
   "execution_count": null,
   "id": "d6f15bbf",
   "metadata": {
    "ExecuteTime": {
     "end_time": "2022-01-17T14:17:42.602393Z",
     "start_time": "2022-01-17T14:17:42.594484Z"
    }
   },
   "outputs": [],
   "source": [
    "df_aux = df_aux.fillna(method='ffill')\n",
    "df_aux"
   ]
  },
  {
   "cell_type": "code",
   "execution_count": null,
   "id": "9e88df7b",
   "metadata": {
    "ExecuteTime": {
     "end_time": "2022-01-17T14:22:07.694963Z",
     "start_time": "2022-01-17T14:22:07.687669Z"
    }
   },
   "outputs": [],
   "source": [
    "df_composition = df_aux\n",
    "df_composition"
   ]
  },
  {
   "cell_type": "code",
   "execution_count": null,
   "id": "f98651b2",
   "metadata": {
    "ExecuteTime": {
     "end_time": "2022-01-17T14:26:02.376030Z",
     "start_time": "2022-01-17T14:26:02.360504Z"
    }
   },
   "outputs": [],
   "source": [
    "# generate style id + color id\n",
    "df_composition['style_id'] = df_composition['Art. No.'].apply(lambda x: x[:-3])\n",
    "df_composition['color_id'] = df_composition['Art. No.'].apply(lambda x: x[-3:])\n",
    "df_composition"
   ]
  },
  {
   "cell_type": "code",
   "execution_count": null,
   "id": "1b77c695",
   "metadata": {
    "ExecuteTime": {
     "end_time": "2022-01-17T14:28:03.590749Z",
     "start_time": "2022-01-17T14:28:03.581262Z"
    }
   },
   "outputs": [],
   "source": [
    "# generate style id + color id\n",
    "df_color['style_id'] = df_color['product_id'].apply(lambda x: x[:-3])\n",
    "df_color['color_id'] = df_color['product_id'].apply(lambda x: x[-3:])\n",
    "df_color"
   ]
  },
  {
   "cell_type": "code",
   "execution_count": null,
   "id": "7c6ade74",
   "metadata": {
    "ExecuteTime": {
     "end_time": "2022-01-17T14:30:29.458890Z",
     "start_time": "2022-01-17T14:30:29.447534Z"
    }
   },
   "outputs": [],
   "source": [
    "# Join\n",
    "pd.merge(df_color, df_composition[['style_id', 'Fit', 'Composition']], how='left', on='style_id')"
   ]
  },
  {
   "cell_type": "markdown",
   "id": "f4abb47e",
   "metadata": {},
   "source": [
    "# <span style=\"color:#3399ff\">Juntando todos os passos anteriores </span>"
   ]
  },
  {
   "cell_type": "markdown",
   "id": "bfb2cfa3",
   "metadata": {},
   "source": [
    "## <span style=\"color:#ff8000\">0. Packages </span>"
   ]
  },
  {
   "cell_type": "code",
   "execution_count": 1,
   "id": "ce6a2169",
   "metadata": {
    "ExecuteTime": {
     "end_time": "2022-01-17T14:48:57.778497Z",
     "start_time": "2022-01-17T14:48:57.136393Z"
    }
   },
   "outputs": [],
   "source": [
    "import requests\n",
    "import pandas as pd\n",
    "from datetime import datetime\n",
    "from bs4 import BeautifulSoup"
   ]
  },
  {
   "cell_type": "markdown",
   "id": "5a85b612",
   "metadata": {},
   "source": [
    "## <span style=\"color:#ff8000\">1. One Product </span>"
   ]
  },
  {
   "cell_type": "code",
   "execution_count": 25,
   "id": "2c3c1d40",
   "metadata": {
    "ExecuteTime": {
     "end_time": "2022-01-17T14:57:13.160924Z",
     "start_time": "2022-01-17T14:57:12.620254Z"
    }
   },
   "outputs": [],
   "source": [
    "# API Requests\n",
    "url = 'https://www2.hm.com/en_us/productpage.1024256001.html'\n",
    "headers = {'User-Agent': 'Mozilla/5.0 (Macintosh; Intel Mac OS X 10_11_5)AppleWebKit/537.36 (KHTML, like Gecko) Chrome/50.0.2661.102 Safari/537.36'}\n",
    "page = requests.get( url, headers=headers )\n",
    "\n",
    "\n",
    "# Beautiful Soup object\n",
    "soup = BeautifulSoup(page.text, 'html.parser')\n",
    "\n",
    "# ================== color name =====================================\n",
    "product_list = soup.find_all('a', class_='filter-option miniature')\n",
    "color_name = [p.get('data-color') for p in product_list]\n",
    "\n",
    "# color name\n",
    "product_color_list = soup.find_all('a', class_='filter-option miniature')\n",
    "color_name = [p.get('data-color') for p in product_color_list]\n",
    "\n",
    "# product_id\n",
    "product_id = [p.get('data-articlecode') for p in product_color_list]\n",
    "\n",
    "df_color = pd.DataFrame([product_id, color_name]).T\n",
    "df_color.columns = ['product_id', 'color_name']\n",
    "\n",
    "# generate style id + color id\n",
    "df_color['style_id'] = df_color['product_id'].apply(lambda x: x[:-3])\n",
    "df_color['color_id'] = df_color['product_id'].apply(lambda x: x[-3:])\n",
    "\n",
    "# ================== composition =====================================\n",
    "product_composition_list = soup.find_all('div', class_='pdp-description-list-item')\n",
    "product_composition = [list(filter(None, p.get_text().split('\\n'))) for p in product_composition_list]\n",
    "\n",
    "\n",
    "# rename dataframe\n",
    "df_composition = pd.DataFrame(product_composition).T\n",
    "df_composition.columns = df_composition.iloc[0]\n",
    "\n",
    "\n",
    "# delete first row\n",
    "df_composition = df_composition.iloc[1:].fillna(method='ffill')\n",
    "df_composition = df_composition[['Fit', 'Composition', 'Art. No.']]\n",
    "\n",
    "# generate style id + color id\n",
    "df_composition['style_id'] = df_composition['Art. No.'].apply(lambda x: x[:-3])\n",
    "df_composition['color_id'] = df_composition['Art. No.'].apply(lambda x: x[-3:])\n",
    "\n",
    "# Merge data color + composition\n",
    "data_sku = pd.merge(df_color, df_composition[['style_id', 'Fit', 'Composition']], how='left', on='style_id')\n"
   ]
  },
  {
   "cell_type": "code",
   "execution_count": 26,
   "id": "7c75f616",
   "metadata": {
    "ExecuteTime": {
     "end_time": "2022-01-17T14:57:16.038743Z",
     "start_time": "2022-01-17T14:57:16.028614Z"
    }
   },
   "outputs": [
    {
     "data": {
      "text/html": [
       "<div>\n",
       "<style scoped>\n",
       "    .dataframe tbody tr th:only-of-type {\n",
       "        vertical-align: middle;\n",
       "    }\n",
       "\n",
       "    .dataframe tbody tr th {\n",
       "        vertical-align: top;\n",
       "    }\n",
       "\n",
       "    .dataframe thead th {\n",
       "        text-align: right;\n",
       "    }\n",
       "</style>\n",
       "<table border=\"1\" class=\"dataframe\">\n",
       "  <thead>\n",
       "    <tr style=\"text-align: right;\">\n",
       "      <th></th>\n",
       "      <th>product_id</th>\n",
       "      <th>color_name</th>\n",
       "      <th>style_id</th>\n",
       "      <th>color_id</th>\n",
       "      <th>Fit</th>\n",
       "      <th>Composition</th>\n",
       "    </tr>\n",
       "  </thead>\n",
       "  <tbody>\n",
       "    <tr>\n",
       "      <th>0</th>\n",
       "      <td>1024256002</td>\n",
       "      <td>Light denim blue</td>\n",
       "      <td>1024256</td>\n",
       "      <td>002</td>\n",
       "      <td>Slim fit</td>\n",
       "      <td>Pocket lining: Polyester 65%, Cotton 35%</td>\n",
       "    </tr>\n",
       "    <tr>\n",
       "      <th>1</th>\n",
       "      <td>1024256002</td>\n",
       "      <td>Light denim blue</td>\n",
       "      <td>1024256</td>\n",
       "      <td>002</td>\n",
       "      <td>Slim fit</td>\n",
       "      <td>Shell: Cotton 99%, Spandex 1%</td>\n",
       "    </tr>\n",
       "    <tr>\n",
       "      <th>2</th>\n",
       "      <td>1024256003</td>\n",
       "      <td>Light denim blue</td>\n",
       "      <td>1024256</td>\n",
       "      <td>003</td>\n",
       "      <td>Slim fit</td>\n",
       "      <td>Pocket lining: Polyester 65%, Cotton 35%</td>\n",
       "    </tr>\n",
       "    <tr>\n",
       "      <th>3</th>\n",
       "      <td>1024256003</td>\n",
       "      <td>Light denim blue</td>\n",
       "      <td>1024256</td>\n",
       "      <td>003</td>\n",
       "      <td>Slim fit</td>\n",
       "      <td>Shell: Cotton 99%, Spandex 1%</td>\n",
       "    </tr>\n",
       "    <tr>\n",
       "      <th>4</th>\n",
       "      <td>1024256004</td>\n",
       "      <td>Denim blue</td>\n",
       "      <td>1024256</td>\n",
       "      <td>004</td>\n",
       "      <td>Slim fit</td>\n",
       "      <td>Pocket lining: Polyester 65%, Cotton 35%</td>\n",
       "    </tr>\n",
       "    <tr>\n",
       "      <th>5</th>\n",
       "      <td>1024256004</td>\n",
       "      <td>Denim blue</td>\n",
       "      <td>1024256</td>\n",
       "      <td>004</td>\n",
       "      <td>Slim fit</td>\n",
       "      <td>Shell: Cotton 99%, Spandex 1%</td>\n",
       "    </tr>\n",
       "    <tr>\n",
       "      <th>6</th>\n",
       "      <td>1024256005</td>\n",
       "      <td>Dark blue</td>\n",
       "      <td>1024256</td>\n",
       "      <td>005</td>\n",
       "      <td>Slim fit</td>\n",
       "      <td>Pocket lining: Polyester 65%, Cotton 35%</td>\n",
       "    </tr>\n",
       "    <tr>\n",
       "      <th>7</th>\n",
       "      <td>1024256005</td>\n",
       "      <td>Dark blue</td>\n",
       "      <td>1024256</td>\n",
       "      <td>005</td>\n",
       "      <td>Slim fit</td>\n",
       "      <td>Shell: Cotton 99%, Spandex 1%</td>\n",
       "    </tr>\n",
       "    <tr>\n",
       "      <th>8</th>\n",
       "      <td>1024256006</td>\n",
       "      <td>Dark denim blue</td>\n",
       "      <td>1024256</td>\n",
       "      <td>006</td>\n",
       "      <td>Slim fit</td>\n",
       "      <td>Pocket lining: Polyester 65%, Cotton 35%</td>\n",
       "    </tr>\n",
       "    <tr>\n",
       "      <th>9</th>\n",
       "      <td>1024256006</td>\n",
       "      <td>Dark denim blue</td>\n",
       "      <td>1024256</td>\n",
       "      <td>006</td>\n",
       "      <td>Slim fit</td>\n",
       "      <td>Shell: Cotton 99%, Spandex 1%</td>\n",
       "    </tr>\n",
       "    <tr>\n",
       "      <th>10</th>\n",
       "      <td>1024256007</td>\n",
       "      <td>Dark gray</td>\n",
       "      <td>1024256</td>\n",
       "      <td>007</td>\n",
       "      <td>Slim fit</td>\n",
       "      <td>Pocket lining: Polyester 65%, Cotton 35%</td>\n",
       "    </tr>\n",
       "    <tr>\n",
       "      <th>11</th>\n",
       "      <td>1024256007</td>\n",
       "      <td>Dark gray</td>\n",
       "      <td>1024256</td>\n",
       "      <td>007</td>\n",
       "      <td>Slim fit</td>\n",
       "      <td>Shell: Cotton 99%, Spandex 1%</td>\n",
       "    </tr>\n",
       "  </tbody>\n",
       "</table>\n",
       "</div>"
      ],
      "text/plain": [
       "    product_id        color_name style_id color_id       Fit  \\\n",
       "0   1024256002  Light denim blue  1024256      002  Slim fit   \n",
       "1   1024256002  Light denim blue  1024256      002  Slim fit   \n",
       "2   1024256003  Light denim blue  1024256      003  Slim fit   \n",
       "3   1024256003  Light denim blue  1024256      003  Slim fit   \n",
       "4   1024256004        Denim blue  1024256      004  Slim fit   \n",
       "5   1024256004        Denim blue  1024256      004  Slim fit   \n",
       "6   1024256005         Dark blue  1024256      005  Slim fit   \n",
       "7   1024256005         Dark blue  1024256      005  Slim fit   \n",
       "8   1024256006   Dark denim blue  1024256      006  Slim fit   \n",
       "9   1024256006   Dark denim blue  1024256      006  Slim fit   \n",
       "10  1024256007         Dark gray  1024256      007  Slim fit   \n",
       "11  1024256007         Dark gray  1024256      007  Slim fit   \n",
       "\n",
       "                                 Composition  \n",
       "0   Pocket lining: Polyester 65%, Cotton 35%  \n",
       "1              Shell: Cotton 99%, Spandex 1%  \n",
       "2   Pocket lining: Polyester 65%, Cotton 35%  \n",
       "3              Shell: Cotton 99%, Spandex 1%  \n",
       "4   Pocket lining: Polyester 65%, Cotton 35%  \n",
       "5              Shell: Cotton 99%, Spandex 1%  \n",
       "6   Pocket lining: Polyester 65%, Cotton 35%  \n",
       "7              Shell: Cotton 99%, Spandex 1%  \n",
       "8   Pocket lining: Polyester 65%, Cotton 35%  \n",
       "9              Shell: Cotton 99%, Spandex 1%  \n",
       "10  Pocket lining: Polyester 65%, Cotton 35%  \n",
       "11             Shell: Cotton 99%, Spandex 1%  "
      ]
     },
     "execution_count": 26,
     "metadata": {},
     "output_type": "execute_result"
    }
   ],
   "source": [
    "data_sku"
   ]
  },
  {
   "cell_type": "markdown",
   "id": "16aa4a1c",
   "metadata": {},
   "source": [
    "## <span style=\"color:#ff8000\">2. Multiple Products </span>"
   ]
  },
  {
   "cell_type": "code",
   "execution_count": null,
   "id": "e12dec44",
   "metadata": {},
   "outputs": [],
   "source": []
  }
 ],
 "metadata": {
  "kernelspec": {
   "display_name": "Python 3 (ipykernel)",
   "language": "python",
   "name": "python3"
  },
  "language_info": {
   "codemirror_mode": {
    "name": "ipython",
    "version": 3
   },
   "file_extension": ".py",
   "mimetype": "text/x-python",
   "name": "python",
   "nbconvert_exporter": "python",
   "pygments_lexer": "ipython3",
   "version": "3.9.7"
  }
 },
 "nbformat": 4,
 "nbformat_minor": 5
}
